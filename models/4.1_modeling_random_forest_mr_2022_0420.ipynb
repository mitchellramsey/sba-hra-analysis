{
 "cells": [
  {
   "cell_type": "markdown",
   "id": "da16c58b",
   "metadata": {},
   "source": [
    "# SBA National Loan Analysis\n",
    "\n",
    "# Modeling - Part 2 - Random Forest"
   ]
  },
  {
   "cell_type": "markdown",
   "id": "e4d32c36",
   "metadata": {},
   "source": [
    "## Table of Contents\n",
    "\n",
    "1. Imports\n",
    "2. Previewing Data\n",
    "3. Preprocessing Data\n",
    "    1. Standard Scaler\n",
    "    2. Robust Scaler\n",
    "4. Evaluation Metrics\n",
    "5. Simple Model\n",
    "    1. Standard Scaler\n",
    "    2. Robust Scaler\n",
    "6. Grid Search\n",
    "    1. Standard Scaler\n",
    "    2. Robust Scaler\n",
    "7. Bayesian Optimization\n",
    "    1. Standard Scaler\n",
    "    2. Robust Scaler\n",
    "8. Save Results\n",
    "    \n",
    "    "
   ]
  },
  {
   "cell_type": "markdown",
   "id": "8438c61d",
   "metadata": {},
   "source": [
    "## 1. Imports"
   ]
  },
  {
   "cell_type": "code",
   "execution_count": 1,
   "id": "e9a8c241",
   "metadata": {},
   "outputs": [],
   "source": [
    "import numpy as np\n",
    "import pandas as pd\n",
    "import matplotlib.pyplot as plt\n",
    "import seaborn as sns\n",
    "import json\n",
    "\n",
    "from sklearn.ensemble import RandomForestClassifier\n",
    "\n",
    "from library.preprocessing import processing_pipeline\n",
    "from library.modeling import (createModel, createClassificationMetrics, \n",
    "                             runGridSearchAnalysis, createConfusionMatrix, createFeatureImportanceChart,\n",
    "                             appendModelingResults, drawRocCurve, obtain_best_bayes_model)"
   ]
  },
  {
   "cell_type": "code",
   "execution_count": 2,
   "id": "c1cbbaa7",
   "metadata": {},
   "outputs": [],
   "source": [
    "import warnings\n",
    "warnings.filterwarnings('ignore')\n",
    "\n",
    "pd.set_option('display.max_columns', None)"
   ]
  },
  {
   "cell_type": "code",
   "execution_count": 3,
   "id": "fe195eaa",
   "metadata": {},
   "outputs": [],
   "source": [
    "f = open('./results/best_params.json')\n",
    "data = json.load(f)\n",
    "best_model_params = dict(data)\n",
    "\n",
    "model_results_df = pd.read_csv('./results/model_results.csv')\n",
    "new_model_results = []"
   ]
  },
  {
   "cell_type": "markdown",
   "id": "b9a3cb4e",
   "metadata": {},
   "source": [
    "## 2. Previewing Data"
   ]
  },
  {
   "cell_type": "code",
   "execution_count": 4,
   "id": "9c487137",
   "metadata": {},
   "outputs": [],
   "source": [
    "sba_loans = pd.read_csv('./../data/processed/sba_national_processed_final.csv')"
   ]
  },
  {
   "cell_type": "code",
   "execution_count": 5,
   "id": "40eaa8b2",
   "metadata": {},
   "outputs": [
    {
     "data": {
      "text/html": [
       "<div>\n",
       "<style scoped>\n",
       "    .dataframe tbody tr th:only-of-type {\n",
       "        vertical-align: middle;\n",
       "    }\n",
       "\n",
       "    .dataframe tbody tr th {\n",
       "        vertical-align: top;\n",
       "    }\n",
       "\n",
       "    .dataframe thead th {\n",
       "        text-align: right;\n",
       "    }\n",
       "</style>\n",
       "<table border=\"1\" class=\"dataframe\">\n",
       "  <thead>\n",
       "    <tr style=\"text-align: right;\">\n",
       "      <th></th>\n",
       "      <th>Term</th>\n",
       "      <th>NoEmp</th>\n",
       "      <th>CreateJob</th>\n",
       "      <th>RetainedJob</th>\n",
       "      <th>DisbursementGross</th>\n",
       "      <th>GrAppv</th>\n",
       "      <th>SBA_Appv</th>\n",
       "      <th>NAICS_sectors</th>\n",
       "      <th>unemployment_rate</th>\n",
       "      <th>gdp_growth</th>\n",
       "      <th>gdp_annual_change</th>\n",
       "      <th>inflation_rate</th>\n",
       "      <th>inf_rate_annual_chg</th>\n",
       "      <th>NewExist_existing_business</th>\n",
       "      <th>NewExist_new_business</th>\n",
       "      <th>UrbanRural_rural</th>\n",
       "      <th>UrbanRural_urban</th>\n",
       "      <th>isFranchise_not_franchise</th>\n",
       "      <th>RevLineCr_v2_N</th>\n",
       "      <th>RevLineCr_v2_Y</th>\n",
       "      <th>LowDoc_v2_N</th>\n",
       "      <th>LowDoc_v2_Y</th>\n",
       "      <th>MIS_Status_v2_default</th>\n",
       "      <th>state_top10</th>\n",
       "    </tr>\n",
       "  </thead>\n",
       "  <tbody>\n",
       "    <tr>\n",
       "      <th>0</th>\n",
       "      <td>84</td>\n",
       "      <td>4</td>\n",
       "      <td>0</td>\n",
       "      <td>0</td>\n",
       "      <td>60000.0</td>\n",
       "      <td>60000.0</td>\n",
       "      <td>48000.0</td>\n",
       "      <td>45</td>\n",
       "      <td>3.5</td>\n",
       "      <td>4.4472</td>\n",
       "      <td>0.67</td>\n",
       "      <td>2.3377</td>\n",
       "      <td>-0.59</td>\n",
       "      <td>0</td>\n",
       "      <td>1</td>\n",
       "      <td>0</td>\n",
       "      <td>0</td>\n",
       "      <td>1</td>\n",
       "      <td>1</td>\n",
       "      <td>0</td>\n",
       "      <td>0</td>\n",
       "      <td>1</td>\n",
       "      <td>0</td>\n",
       "      <td>0</td>\n",
       "    </tr>\n",
       "    <tr>\n",
       "      <th>1</th>\n",
       "      <td>60</td>\n",
       "      <td>2</td>\n",
       "      <td>0</td>\n",
       "      <td>0</td>\n",
       "      <td>40000.0</td>\n",
       "      <td>40000.0</td>\n",
       "      <td>32000.0</td>\n",
       "      <td>72</td>\n",
       "      <td>3.5</td>\n",
       "      <td>4.4472</td>\n",
       "      <td>0.67</td>\n",
       "      <td>2.3377</td>\n",
       "      <td>-0.59</td>\n",
       "      <td>0</td>\n",
       "      <td>1</td>\n",
       "      <td>0</td>\n",
       "      <td>0</td>\n",
       "      <td>1</td>\n",
       "      <td>1</td>\n",
       "      <td>0</td>\n",
       "      <td>0</td>\n",
       "      <td>1</td>\n",
       "      <td>0</td>\n",
       "      <td>0</td>\n",
       "    </tr>\n",
       "    <tr>\n",
       "      <th>2</th>\n",
       "      <td>180</td>\n",
       "      <td>7</td>\n",
       "      <td>0</td>\n",
       "      <td>0</td>\n",
       "      <td>287000.0</td>\n",
       "      <td>287000.0</td>\n",
       "      <td>215250.0</td>\n",
       "      <td>62</td>\n",
       "      <td>3.5</td>\n",
       "      <td>4.4472</td>\n",
       "      <td>0.67</td>\n",
       "      <td>2.3377</td>\n",
       "      <td>-0.59</td>\n",
       "      <td>1</td>\n",
       "      <td>0</td>\n",
       "      <td>0</td>\n",
       "      <td>0</td>\n",
       "      <td>1</td>\n",
       "      <td>1</td>\n",
       "      <td>0</td>\n",
       "      <td>1</td>\n",
       "      <td>0</td>\n",
       "      <td>0</td>\n",
       "      <td>0</td>\n",
       "    </tr>\n",
       "    <tr>\n",
       "      <th>3</th>\n",
       "      <td>60</td>\n",
       "      <td>2</td>\n",
       "      <td>0</td>\n",
       "      <td>0</td>\n",
       "      <td>35000.0</td>\n",
       "      <td>35000.0</td>\n",
       "      <td>28000.0</td>\n",
       "      <td>0</td>\n",
       "      <td>4.1</td>\n",
       "      <td>4.4472</td>\n",
       "      <td>0.67</td>\n",
       "      <td>2.3377</td>\n",
       "      <td>-0.59</td>\n",
       "      <td>1</td>\n",
       "      <td>0</td>\n",
       "      <td>0</td>\n",
       "      <td>0</td>\n",
       "      <td>1</td>\n",
       "      <td>1</td>\n",
       "      <td>0</td>\n",
       "      <td>0</td>\n",
       "      <td>1</td>\n",
       "      <td>0</td>\n",
       "      <td>0</td>\n",
       "    </tr>\n",
       "    <tr>\n",
       "      <th>4</th>\n",
       "      <td>240</td>\n",
       "      <td>14</td>\n",
       "      <td>7</td>\n",
       "      <td>7</td>\n",
       "      <td>229000.0</td>\n",
       "      <td>229000.0</td>\n",
       "      <td>229000.0</td>\n",
       "      <td>0</td>\n",
       "      <td>4.8</td>\n",
       "      <td>4.4472</td>\n",
       "      <td>0.67</td>\n",
       "      <td>2.3377</td>\n",
       "      <td>-0.59</td>\n",
       "      <td>1</td>\n",
       "      <td>0</td>\n",
       "      <td>0</td>\n",
       "      <td>0</td>\n",
       "      <td>1</td>\n",
       "      <td>1</td>\n",
       "      <td>0</td>\n",
       "      <td>1</td>\n",
       "      <td>0</td>\n",
       "      <td>0</td>\n",
       "      <td>1</td>\n",
       "    </tr>\n",
       "  </tbody>\n",
       "</table>\n",
       "</div>"
      ],
      "text/plain": [
       "   Term  NoEmp  CreateJob  RetainedJob  DisbursementGross    GrAppv  SBA_Appv  \\\n",
       "0    84      4          0            0            60000.0   60000.0   48000.0   \n",
       "1    60      2          0            0            40000.0   40000.0   32000.0   \n",
       "2   180      7          0            0           287000.0  287000.0  215250.0   \n",
       "3    60      2          0            0            35000.0   35000.0   28000.0   \n",
       "4   240     14          7            7           229000.0  229000.0  229000.0   \n",
       "\n",
       "   NAICS_sectors  unemployment_rate  gdp_growth  gdp_annual_change  \\\n",
       "0             45                3.5      4.4472               0.67   \n",
       "1             72                3.5      4.4472               0.67   \n",
       "2             62                3.5      4.4472               0.67   \n",
       "3              0                4.1      4.4472               0.67   \n",
       "4              0                4.8      4.4472               0.67   \n",
       "\n",
       "   inflation_rate  inf_rate_annual_chg  NewExist_existing_business  \\\n",
       "0          2.3377                -0.59                           0   \n",
       "1          2.3377                -0.59                           0   \n",
       "2          2.3377                -0.59                           1   \n",
       "3          2.3377                -0.59                           1   \n",
       "4          2.3377                -0.59                           1   \n",
       "\n",
       "   NewExist_new_business  UrbanRural_rural  UrbanRural_urban  \\\n",
       "0                      1                 0                 0   \n",
       "1                      1                 0                 0   \n",
       "2                      0                 0                 0   \n",
       "3                      0                 0                 0   \n",
       "4                      0                 0                 0   \n",
       "\n",
       "   isFranchise_not_franchise  RevLineCr_v2_N  RevLineCr_v2_Y  LowDoc_v2_N  \\\n",
       "0                          1               1               0            0   \n",
       "1                          1               1               0            0   \n",
       "2                          1               1               0            1   \n",
       "3                          1               1               0            0   \n",
       "4                          1               1               0            1   \n",
       "\n",
       "   LowDoc_v2_Y  MIS_Status_v2_default  state_top10  \n",
       "0            1                      0            0  \n",
       "1            1                      0            0  \n",
       "2            0                      0            0  \n",
       "3            1                      0            0  \n",
       "4            0                      0            1  "
      ]
     },
     "execution_count": 5,
     "metadata": {},
     "output_type": "execute_result"
    }
   ],
   "source": [
    "sba_loans.head()"
   ]
  },
  {
   "cell_type": "markdown",
   "id": "1c0e0032",
   "metadata": {},
   "source": [
    "## 3. Preprocessing Data"
   ]
  },
  {
   "cell_type": "code",
   "execution_count": 6,
   "id": "bc0520a7",
   "metadata": {},
   "outputs": [],
   "source": [
    "target = 'MIS_Status_v2_default'\n",
    "features = sba_loans.drop(columns='MIS_Status_v2_default', axis=1).columns"
   ]
  },
  {
   "cell_type": "markdown",
   "id": "2abac50d",
   "metadata": {},
   "source": [
    "### A. Standard Scaler"
   ]
  },
  {
   "cell_type": "code",
   "execution_count": 7,
   "id": "430668c2",
   "metadata": {},
   "outputs": [],
   "source": [
    "X_train_ss, X_test_ss, y_train_ss, y_test_ss = processing_pipeline(sba_loans, target)"
   ]
  },
  {
   "cell_type": "markdown",
   "id": "b0394f55",
   "metadata": {},
   "source": [
    "### B. Robust Scaler"
   ]
  },
  {
   "cell_type": "code",
   "execution_count": 8,
   "id": "b8a19fe0",
   "metadata": {},
   "outputs": [],
   "source": [
    "X_train_rs, X_test_rs, y_train_rs, y_test_rs = processing_pipeline(sba_loans, target, scaler='Robust')"
   ]
  },
  {
   "cell_type": "markdown",
   "id": "7cf69fe7",
   "metadata": {},
   "source": [
    "## 4. Evaluation Metrics\n",
    "\n",
    "The following evlaution metrics will be used to evaluate the effectiveness of the logistic models.\n",
    "\n",
    "**Accuracy Score**\n",
    "\n",
    "Blurb about accuracy score.\n",
    "\n",
    "**Classifiation Report**\n",
    "\n",
    "Blurb about Classification Report\n",
    "\n",
    "**Matthew's Correlation Coefficient**\n",
    "\n",
    "Blurb about MCC\n",
    "\n",
    "**F1 Score**\n",
    "\n",
    "Blurb about F1 Score and why it will be the main metric for evaluation"
   ]
  },
  {
   "cell_type": "markdown",
   "id": "6bd5e43f",
   "metadata": {},
   "source": [
    "## 5. Simple Model"
   ]
  },
  {
   "cell_type": "markdown",
   "id": "0ee4e30d",
   "metadata": {},
   "source": [
    "### A. Standard Scaler"
   ]
  },
  {
   "cell_type": "code",
   "execution_count": 9,
   "id": "fed4df9a",
   "metadata": {},
   "outputs": [],
   "source": [
    "rfc_ss_mod1 = RandomForestClassifier(random_state=42)\n",
    "y_pred = createModel(rfc_ss_mod1, X_train_ss, y_train_ss, X_test_ss)"
   ]
  },
  {
   "cell_type": "code",
   "execution_count": 10,
   "id": "240f0371",
   "metadata": {},
   "outputs": [],
   "source": [
    "metrics = createClassificationMetrics(y_pred, y_test_ss)"
   ]
  },
  {
   "cell_type": "code",
   "execution_count": 11,
   "id": "90dcf329",
   "metadata": {},
   "outputs": [
    {
     "name": "stdout",
     "output_type": "stream",
     "text": [
      "Accuracy Score: 0.9384\n"
     ]
    }
   ],
   "source": [
    "print('Accuracy Score: ' + str(round(metrics['acc'], 4)))"
   ]
  },
  {
   "cell_type": "code",
   "execution_count": 12,
   "id": "66d8da65",
   "metadata": {},
   "outputs": [
    {
     "name": "stdout",
     "output_type": "stream",
     "text": [
      "Classification Report: \n",
      "              precision    recall  f1-score   support\n",
      "\n",
      "        paid       0.98      0.95      0.96    227409\n",
      "     default       0.76      0.87      0.81     41445\n",
      "\n",
      "    accuracy                           0.94    268854\n",
      "   macro avg       0.87      0.91      0.89    268854\n",
      "weighted avg       0.94      0.94      0.94    268854\n",
      "\n"
     ]
    }
   ],
   "source": [
    "print('Classification Report: \\n' + metrics['cr'])"
   ]
  },
  {
   "cell_type": "code",
   "execution_count": 13,
   "id": "2d396fb5",
   "metadata": {},
   "outputs": [
    {
     "name": "stdout",
     "output_type": "stream",
     "text": [
      "Matthew's Correlation Coefficient: 0.7783\n"
     ]
    }
   ],
   "source": [
    "print('Matthew\\'s Correlation Coefficient: ' + str(round(metrics['mcc'],4)))"
   ]
  },
  {
   "cell_type": "code",
   "execution_count": 14,
   "id": "431a8746",
   "metadata": {},
   "outputs": [
    {
     "name": "stdout",
     "output_type": "stream",
     "text": [
      "F1 Score: 0.8127\n"
     ]
    }
   ],
   "source": [
    "print('F1 Score: ' + str(round(metrics['f1'], 4)))"
   ]
  },
  {
   "cell_type": "markdown",
   "id": "583eb6dd",
   "metadata": {},
   "source": [
    "### B. Robust Scaler"
   ]
  },
  {
   "cell_type": "code",
   "execution_count": 15,
   "id": "4b0ca31f",
   "metadata": {},
   "outputs": [],
   "source": [
    "rfc_rs_mod1 = RandomForestClassifier(random_state=42)\n",
    "y_pred = createModel(rfc_rs_mod1, X_train_rs, y_train_rs, X_test_rs)"
   ]
  },
  {
   "cell_type": "code",
   "execution_count": 16,
   "id": "b8e0b372",
   "metadata": {},
   "outputs": [],
   "source": [
    "metrics = createClassificationMetrics(y_pred, y_test_rs)"
   ]
  },
  {
   "cell_type": "code",
   "execution_count": 17,
   "id": "e3cf6a0c",
   "metadata": {},
   "outputs": [
    {
     "name": "stdout",
     "output_type": "stream",
     "text": [
      "Accuracy Score: 0.9385\n"
     ]
    }
   ],
   "source": [
    "print('Accuracy Score: ' + str(round(metrics['acc'], 4)))"
   ]
  },
  {
   "cell_type": "code",
   "execution_count": 18,
   "id": "f3981964",
   "metadata": {},
   "outputs": [
    {
     "name": "stdout",
     "output_type": "stream",
     "text": [
      "Classification Report: \n",
      "              precision    recall  f1-score   support\n",
      "\n",
      "        paid       0.98      0.95      0.96    227390\n",
      "     default       0.77      0.87      0.81     41464\n",
      "\n",
      "    accuracy                           0.94    268854\n",
      "   macro avg       0.87      0.91      0.89    268854\n",
      "weighted avg       0.94      0.94      0.94    268854\n",
      "\n"
     ]
    }
   ],
   "source": [
    "print('Classification Report: \\n' + metrics['cr'])"
   ]
  },
  {
   "cell_type": "code",
   "execution_count": 19,
   "id": "c1fbef9f",
   "metadata": {},
   "outputs": [
    {
     "name": "stdout",
     "output_type": "stream",
     "text": [
      "Matthew's Correlation Coefficient: 0.7785\n"
     ]
    }
   ],
   "source": [
    "print('Matthew\\'s Correlation Coefficient: ' + str(round(metrics['mcc'],4)))"
   ]
  },
  {
   "cell_type": "code",
   "execution_count": 20,
   "id": "cdce52a0",
   "metadata": {},
   "outputs": [
    {
     "name": "stdout",
     "output_type": "stream",
     "text": [
      "F1 Score: 0.813\n"
     ]
    }
   ],
   "source": [
    "print('F1 Score: ' + str(round(metrics['f1'], 4)))"
   ]
  },
  {
   "cell_type": "markdown",
   "id": "1b7021ca",
   "metadata": {},
   "source": [
    "## 6. Grid Search Cross Validation"
   ]
  },
  {
   "cell_type": "code",
   "execution_count": 21,
   "id": "7750ec90",
   "metadata": {},
   "outputs": [],
   "source": [
    "param_grid = {\n",
    "    'criterion': ['gini', 'entropy'],\n",
    "    'max_depth': [20, None],\n",
    "    'max_features': ['auto', 'log2']\n",
    "}"
   ]
  },
  {
   "cell_type": "markdown",
   "id": "1d209785",
   "metadata": {},
   "source": [
    "### A. Standard Scaler"
   ]
  },
  {
   "cell_type": "code",
   "execution_count": 22,
   "id": "f7dc1c4f",
   "metadata": {},
   "outputs": [],
   "source": [
    "mod_info = {\n",
    "    'model': 'Random Forest',\n",
    "    'method': 'Grid Search',\n",
    "    'scaler': 'Standard'\n",
    "}"
   ]
  },
  {
   "cell_type": "code",
   "execution_count": 23,
   "id": "44468f6f",
   "metadata": {},
   "outputs": [],
   "source": [
    "rfc = RandomForestClassifier(random_state=42)\n",
    "rfc_ss_best_params, y_pred = runGridSearchAnalysis(rfc, param_grid, X_train_ss, y_train_ss, X_test_ss)"
   ]
  },
  {
   "cell_type": "markdown",
   "id": "3d696580",
   "metadata": {},
   "source": [
    "**Evaluation Metrics**"
   ]
  },
  {
   "cell_type": "code",
   "execution_count": 24,
   "id": "bf1c3675",
   "metadata": {},
   "outputs": [
    {
     "name": "stdout",
     "output_type": "stream",
     "text": [
      "Accuracy Score: 0.9378584659331831\n",
      "Classification Report: \n",
      "              precision    recall  f1-score   support\n",
      "\n",
      "        paid       0.97      0.95      0.96    227398\n",
      "     default       0.76      0.87      0.81     41456\n",
      "\n",
      "    accuracy                           0.94    268854\n",
      "   macro avg       0.87      0.91      0.89    268854\n",
      "weighted avg       0.94      0.94      0.94    268854\n",
      "\n",
      "Matthew's Correlation Coefficient: 0.7763052183674407\n",
      "F1 Score: 0.8111328412032693\n"
     ]
    }
   ],
   "source": [
    "metrics = createClassificationMetrics(y_pred, y_test_ss)\n",
    "print('Accuracy Score: {}'.format(metrics['acc']))\n",
    "print('Classification Report: \\n{}'.format(metrics['cr']))\n",
    "print('Matthew\\'s Correlation Coefficient: {}'.format(metrics['mcc']))\n",
    "print('F1 Score: {}'.format(metrics['f1']))"
   ]
  },
  {
   "cell_type": "markdown",
   "id": "4ea151cd",
   "metadata": {},
   "source": [
    "**Confusion Matrix**"
   ]
  },
  {
   "cell_type": "code",
   "execution_count": 25,
   "id": "198a607a",
   "metadata": {},
   "outputs": [
    {
     "data": {
      "image/png": "[encoded data removed]",
      "text/plain": [
       "<Figure size 432x288 with 2 Axes>"
      ]
     },
     "metadata": {
      "needs_background": "light"
     },
     "output_type": "display_data"
    }
   ],
   "source": [
    "matrix = createConfusionMatrix(y_test_ss, y_pred, mod_info)"
   ]
  },
  {
   "cell_type": "markdown",
   "id": "141727c1",
   "metadata": {},
   "source": [
    "**ROC Curve**"
   ]
  },
  {
   "cell_type": "code",
   "execution_count": 26,
   "id": "d7cb2102",
   "metadata": {},
   "outputs": [
    {
     "data": {
      "image/png": "[encoded data removed]",
      "text/plain": [
       "<Figure size 432x288 with 1 Axes>"
      ]
     },
     "metadata": {
      "needs_background": "light"
     },
     "output_type": "display_data"
    }
   ],
   "source": [
    "rfc_mod = RandomForestClassifier(**rfc_ss_best_params, random_state=42)\n",
    "metrics['auc'] = drawRocCurve(rfc_mod, X_train_ss, X_test_ss, y_train_ss, y_test_ss, mod_info)"
   ]
  },
  {
   "cell_type": "markdown",
   "id": "9fc03965",
   "metadata": {},
   "source": [
    "**Feature Importance with Best Params**"
   ]
  },
  {
   "cell_type": "code",
   "execution_count": 27,
   "id": "f8a16cc2",
   "metadata": {},
   "outputs": [
    {
     "data": {
      "image/png": "[encoded data removed]",
      "text/plain": [
       "<Figure size 720x720 with 1 Axes>"
      ]
     },
     "metadata": {
      "needs_background": "light"
     },
     "output_type": "display_data"
    }
   ],
   "source": [
    "createFeatureImportanceChart(rfc_mod, features, X_train_ss, y_train_ss)"
   ]
  },
  {
   "cell_type": "markdown",
   "id": "f1d037ed",
   "metadata": {},
   "source": [
    "**Append Results**"
   ]
  },
  {
   "cell_type": "code",
   "execution_count": 28,
   "id": "c0e30ed6",
   "metadata": {},
   "outputs": [],
   "source": [
    "new_model_results, best_model_params = appendModelingResults(new_model_results, best_model_params, mod_info,\n",
    "                                                          rfc_ss_best_params, matrix, metrics)"
   ]
  },
  {
   "cell_type": "markdown",
   "id": "04b5c018",
   "metadata": {},
   "source": [
    "### B. Robust Scaler"
   ]
  },
  {
   "cell_type": "code",
   "execution_count": 29,
   "id": "65bd5852",
   "metadata": {},
   "outputs": [],
   "source": [
    "mod_info = {\n",
    "    'model': 'Random Forest',\n",
    "    'method': 'Grid Search',\n",
    "    'scaler': 'Robust'\n",
    "}"
   ]
  },
  {
   "cell_type": "code",
   "execution_count": 30,
   "id": "5898d45f",
   "metadata": {},
   "outputs": [],
   "source": [
    "rfc = RandomForestClassifier(random_state=42)\n",
    "rfc_rs_best_params, y_pred = runGridSearchAnalysis(rfc, param_grid, X_train_rs, y_train_rs, X_test_rs)"
   ]
  },
  {
   "cell_type": "markdown",
   "id": "3b36de97",
   "metadata": {},
   "source": [
    "**Evaluation Metrics**"
   ]
  },
  {
   "cell_type": "code",
   "execution_count": 31,
   "id": "01b7a73b",
   "metadata": {},
   "outputs": [
    {
     "name": "stdout",
     "output_type": "stream",
     "text": [
      "Accuracy Score: 0.9379179777872005\n",
      "Classification Report: \n",
      "              precision    recall  f1-score   support\n",
      "\n",
      "        paid       0.97      0.95      0.96    227370\n",
      "     default       0.76      0.87      0.81     41484\n",
      "\n",
      "    accuracy                           0.94    268854\n",
      "   macro avg       0.87      0.91      0.89    268854\n",
      "weighted avg       0.94      0.94      0.94    268854\n",
      "\n",
      "Matthew's Correlation Coefficient: 0.776554667224084\n",
      "F1 Score: 0.8113734220846\n"
     ]
    }
   ],
   "source": [
    "metrics = createClassificationMetrics(y_pred, y_test_rs)\n",
    "print('Accuracy Score: {}'.format(metrics['acc']))\n",
    "print('Classification Report: \\n{}'.format(metrics['cr']))\n",
    "print('Matthew\\'s Correlation Coefficient: {}'.format(metrics['mcc']))\n",
    "print('F1 Score: {}'.format(metrics['f1']))"
   ]
  },
  {
   "cell_type": "markdown",
   "id": "ec273cd1",
   "metadata": {},
   "source": [
    "**Confusion Matrix**"
   ]
  },
  {
   "cell_type": "code",
   "execution_count": 32,
   "id": "206a188e",
   "metadata": {},
   "outputs": [
    {
     "data": {
      "image/png": "[encoded data removed]",
      "text/plain": [
       "<Figure size 432x288 with 2 Axes>"
      ]
     },
     "metadata": {
      "needs_background": "light"
     },
     "output_type": "display_data"
    }
   ],
   "source": [
    "matrix = createConfusionMatrix(y_test_rs, y_pred, mod_info)"
   ]
  },
  {
   "cell_type": "markdown",
   "id": "32714259",
   "metadata": {},
   "source": [
    "**ROC Curve**"
   ]
  },
  {
   "cell_type": "code",
   "execution_count": 33,
   "id": "21f030f1",
   "metadata": {},
   "outputs": [
    {
     "data": {
      "image/png": "[encoded data removed]",
      "text/plain": [
       "<Figure size 432x288 with 1 Axes>"
      ]
     },
     "metadata": {
      "needs_background": "light"
     },
     "output_type": "display_data"
    }
   ],
   "source": [
    "rfc_mod = RandomForestClassifier(**rfc_rs_best_params, random_state=42)\n",
    "metrics['auc'] = drawRocCurve(rfc_mod, X_train_rs, X_test_rs, y_train_rs, y_test_rs, mod_info)"
   ]
  },
  {
   "cell_type": "markdown",
   "id": "1869f338",
   "metadata": {},
   "source": [
    "**Feature Importance with Best Params**"
   ]
  },
  {
   "cell_type": "code",
   "execution_count": 34,
   "id": "020dd05e",
   "metadata": {},
   "outputs": [
    {
     "data": {
      "image/png": "[encoded data removed]",
      "text/plain": [
       "<Figure size 720x720 with 1 Axes>"
      ]
     },
     "metadata": {
      "needs_background": "light"
     },
     "output_type": "display_data"
    }
   ],
   "source": [
    "createFeatureImportanceChart(rfc_mod, features, X_train_rs, y_train_rs)"
   ]
  },
  {
   "cell_type": "markdown",
   "id": "2eca23e1",
   "metadata": {},
   "source": [
    "**Append Results**"
   ]
  },
  {
   "cell_type": "code",
   "execution_count": 35,
   "id": "b54a6036",
   "metadata": {},
   "outputs": [],
   "source": [
    "new_model_results, best_model_params = appendModelingResults(new_model_results, best_model_params, mod_info,\n",
    "                                                          rfc_rs_best_params, matrix, metrics)"
   ]
  },
  {
   "cell_type": "markdown",
   "id": "dd8753c6",
   "metadata": {},
   "source": [
    "## 7. Bayesian Optimization"
   ]
  },
  {
   "cell_type": "code",
   "execution_count": 36,
   "id": "4c3bc01c",
   "metadata": {},
   "outputs": [],
   "source": [
    "dg = {\n",
    "    'criterion': ['gini', 'entropy'],\n",
    "    'max_depth': [20, None],\n",
    "    'max_features': ['auto', 'log2']\n",
    "}\n",
    "ss = {\n",
    "    'criterion': (0,1),\n",
    "    'max_depth': (0,1),\n",
    "    'max_features': (0,1)\n",
    "}"
   ]
  },
  {
   "cell_type": "markdown",
   "id": "318d8c44",
   "metadata": {},
   "source": [
    "### A. Standard Scaler"
   ]
  },
  {
   "cell_type": "code",
   "execution_count": 37,
   "id": "8dc7991b",
   "metadata": {},
   "outputs": [],
   "source": [
    "mod_info = {\n",
    "    'model': 'Random Forest',\n",
    "    'method': 'Bayesian Optimization',\n",
    "    'scaler': 'Standard'\n",
    "}"
   ]
  },
  {
   "cell_type": "code",
   "execution_count": 38,
   "id": "b36e552f",
   "metadata": {},
   "outputs": [
    {
     "name": "stdout",
     "output_type": "stream",
     "text": [
      "|   iter    |  target   | criterion | max_depth | max_fe... |\n",
      "-------------------------------------------------------------\n",
      "| \u001b[0m 1       \u001b[0m | \u001b[0m 0.8074  \u001b[0m | \u001b[0m 0.3745  \u001b[0m | \u001b[0m 0.9507  \u001b[0m | \u001b[0m 0.732   \u001b[0m |\n",
      "| \u001b[0m 2       \u001b[0m | \u001b[0m 0.803   \u001b[0m | \u001b[0m 0.5987  \u001b[0m | \u001b[0m 0.156   \u001b[0m | \u001b[0m 0.156   \u001b[0m |\n",
      "| \u001b[0m 3       \u001b[0m | \u001b[0m 0.8074  \u001b[0m | \u001b[0m 0.05808 \u001b[0m | \u001b[0m 0.8662  \u001b[0m | \u001b[0m 0.6011  \u001b[0m |\n",
      "| \u001b[0m 4       \u001b[0m | \u001b[0m 0.803   \u001b[0m | \u001b[0m 0.7081  \u001b[0m | \u001b[0m 0.02058 \u001b[0m | \u001b[0m 0.9699  \u001b[0m |\n",
      "| \u001b[0m 5       \u001b[0m | \u001b[0m 0.803   \u001b[0m | \u001b[0m 0.8324  \u001b[0m | \u001b[0m 0.2123  \u001b[0m | \u001b[0m 0.1818  \u001b[0m |\n",
      "| \u001b[0m 6       \u001b[0m | \u001b[0m 0.8074  \u001b[0m | \u001b[0m 0.005633\u001b[0m | \u001b[0m 0.9857  \u001b[0m | \u001b[0m 0.9805  \u001b[0m |\n",
      "| \u001b[0m 7       \u001b[0m | \u001b[0m 0.8074  \u001b[0m | \u001b[0m 0.0     \u001b[0m | \u001b[0m 1.0     \u001b[0m | \u001b[0m 0.0     \u001b[0m |\n",
      "| \u001b[95m 8       \u001b[0m | \u001b[95m 0.8085  \u001b[0m | \u001b[95m 1.0     \u001b[0m | \u001b[95m 1.0     \u001b[0m | \u001b[95m 1.0     \u001b[0m |\n",
      "| \u001b[0m 9       \u001b[0m | \u001b[0m 0.8085  \u001b[0m | \u001b[0m 1.0     \u001b[0m | \u001b[0m 1.0     \u001b[0m | \u001b[0m 0.4074  \u001b[0m |\n",
      "| \u001b[0m 10      \u001b[0m | \u001b[0m 0.8085  \u001b[0m | \u001b[0m 1.0     \u001b[0m | \u001b[0m 1.0     \u001b[0m | \u001b[0m 0.0     \u001b[0m |\n",
      "| \u001b[0m 11      \u001b[0m | \u001b[0m 0.8085  \u001b[0m | \u001b[0m 0.6285  \u001b[0m | \u001b[0m 1.0     \u001b[0m | \u001b[0m 0.0     \u001b[0m |\n",
      "| \u001b[0m 12      \u001b[0m | \u001b[0m 0.8085  \u001b[0m | \u001b[0m 0.7411  \u001b[0m | \u001b[0m 1.0     \u001b[0m | \u001b[0m 0.2442  \u001b[0m |\n",
      "| \u001b[0m 13      \u001b[0m | \u001b[0m 0.8085  \u001b[0m | \u001b[0m 1.0     \u001b[0m | \u001b[0m 1.0     \u001b[0m | \u001b[0m 0.7402  \u001b[0m |\n",
      "| \u001b[0m 14      \u001b[0m | \u001b[0m 0.8085  \u001b[0m | \u001b[0m 0.8173  \u001b[0m | \u001b[0m 1.0     \u001b[0m | \u001b[0m 0.0     \u001b[0m |\n",
      "| \u001b[0m 15      \u001b[0m | \u001b[0m 0.8074  \u001b[0m | \u001b[0m 0.4221  \u001b[0m | \u001b[0m 1.0     \u001b[0m | \u001b[0m 0.2254  \u001b[0m |\n",
      "=============================================================\n"
     ]
    }
   ],
   "source": [
    "rfc_bo_ss_params = obtain_best_bayes_model(RandomForestClassifier, X_train_ss, y_train_ss, dg, ss)"
   ]
  },
  {
   "cell_type": "code",
   "execution_count": 39,
   "id": "c2ddde25",
   "metadata": {},
   "outputs": [],
   "source": [
    "rfc_bo_ss_mod1 = RandomForestClassifier(**rfc_bo_ss_params, random_state=42)\n",
    "y_pred = createModel(rfc_bo_ss_mod1, X_train_ss, y_train_ss, X_test_ss)"
   ]
  },
  {
   "cell_type": "markdown",
   "id": "465fccca",
   "metadata": {},
   "source": [
    "**Evaluation Metrics**"
   ]
  },
  {
   "cell_type": "code",
   "execution_count": 40,
   "id": "8624a5e6",
   "metadata": {},
   "outputs": [
    {
     "name": "stdout",
     "output_type": "stream",
     "text": [
      "Accuracy Score: 0.9378584659331831\n",
      "Classification Report: \n",
      "              precision    recall  f1-score   support\n",
      "\n",
      "        paid       0.97      0.95      0.96    227398\n",
      "     default       0.76      0.87      0.81     41456\n",
      "\n",
      "    accuracy                           0.94    268854\n",
      "   macro avg       0.87      0.91      0.89    268854\n",
      "weighted avg       0.94      0.94      0.94    268854\n",
      "\n",
      "Matthew's Correlation Coefficient: 0.7763052183674407\n",
      "F1 Score: 0.8111328412032693\n"
     ]
    }
   ],
   "source": [
    "metrics = createClassificationMetrics(y_pred, y_test_ss)\n",
    "print('Accuracy Score: {}'.format(metrics['acc']))\n",
    "print('Classification Report: \\n{}'.format(metrics['cr']))\n",
    "print('Matthew\\'s Correlation Coefficient: {}'.format(metrics['mcc']))\n",
    "print('F1 Score: {}'.format(metrics['f1']))"
   ]
  },
  {
   "cell_type": "markdown",
   "id": "431505da",
   "metadata": {},
   "source": [
    "**Confusion Matrix**"
   ]
  },
  {
   "cell_type": "code",
   "execution_count": 41,
   "id": "da9aa3e5",
   "metadata": {},
   "outputs": [
    {
     "data": {
      "image/png": "[encoded data removed]",
      "text/plain": [
       "<Figure size 432x288 with 2 Axes>"
      ]
     },
     "metadata": {
      "needs_background": "light"
     },
     "output_type": "display_data"
    }
   ],
   "source": [
    "matrix = createConfusionMatrix(y_test_ss, y_pred, mod_info)"
   ]
  },
  {
   "cell_type": "markdown",
   "id": "80019380",
   "metadata": {},
   "source": [
    "**ROC Curve**"
   ]
  },
  {
   "cell_type": "code",
   "execution_count": 42,
   "id": "332f48a2",
   "metadata": {},
   "outputs": [
    {
     "data": {
      "image/png": "[encoded data removed]",
      "text/plain": [
       "<Figure size 432x288 with 1 Axes>"
      ]
     },
     "metadata": {
      "needs_background": "light"
     },
     "output_type": "display_data"
    }
   ],
   "source": [
    "metrics['auc'] = drawRocCurve(rfc_bo_ss_mod1, X_train_ss, X_test_ss, y_train_ss, y_test_ss, mod_info)"
   ]
  },
  {
   "cell_type": "markdown",
   "id": "a696de10",
   "metadata": {},
   "source": [
    "**Feature Importance with Best Params**"
   ]
  },
  {
   "cell_type": "code",
   "execution_count": 43,
   "id": "b66606e1",
   "metadata": {},
   "outputs": [
    {
     "data": {
      "image/png": "[encoded data removed]",
      "text/plain": [
       "<Figure size 720x720 with 1 Axes>"
      ]
     },
     "metadata": {
      "needs_background": "light"
     },
     "output_type": "display_data"
    }
   ],
   "source": [
    "createFeatureImportanceChart(rfc_bo_ss_mod1, features, X_train_ss, y_train_ss)"
   ]
  },
  {
   "cell_type": "markdown",
   "id": "b1841bb2",
   "metadata": {},
   "source": [
    "**Append Results**"
   ]
  },
  {
   "cell_type": "code",
   "execution_count": 44,
   "id": "82ebad82",
   "metadata": {},
   "outputs": [],
   "source": [
    "new_model_results, best_model_params = appendModelingResults(new_model_results, best_model_params, mod_info,\n",
    "                                                          rfc_bo_ss_params, matrix, metrics)"
   ]
  },
  {
   "cell_type": "markdown",
   "id": "0900b10f",
   "metadata": {},
   "source": [
    "### B. Robust Scaler"
   ]
  },
  {
   "cell_type": "code",
   "execution_count": 45,
   "id": "1fb3589b",
   "metadata": {},
   "outputs": [],
   "source": [
    "mod_info = {\n",
    "    'model': 'Random Forest',\n",
    "    'method': 'Bayesian Optimization',\n",
    "    'scaler': 'Robust'\n",
    "}"
   ]
  },
  {
   "cell_type": "code",
   "execution_count": null,
   "id": "c3bbac91",
   "metadata": {},
   "outputs": [
    {
     "name": "stdout",
     "output_type": "stream",
     "text": [
      "|   iter    |  target   | criterion | max_depth | max_fe... |\n",
      "-------------------------------------------------------------\n",
      "| \u001b[0m 1       \u001b[0m | \u001b[0m 0.8077  \u001b[0m | \u001b[0m 0.3745  \u001b[0m | \u001b[0m 0.9507  \u001b[0m | \u001b[0m 0.732   \u001b[0m |\n",
      "| \u001b[0m 2       \u001b[0m | \u001b[0m 0.8031  \u001b[0m | \u001b[0m 0.5987  \u001b[0m | \u001b[0m 0.156   \u001b[0m | \u001b[0m 0.156   \u001b[0m |\n",
      "| \u001b[0m 3       \u001b[0m | \u001b[0m 0.8077  \u001b[0m | \u001b[0m 0.05808 \u001b[0m | \u001b[0m 0.8662  \u001b[0m | \u001b[0m 0.6011  \u001b[0m |\n",
      "| \u001b[0m 4       \u001b[0m | \u001b[0m 0.8031  \u001b[0m | \u001b[0m 0.7081  \u001b[0m | \u001b[0m 0.02058 \u001b[0m | \u001b[0m 0.9699  \u001b[0m |\n",
      "| \u001b[0m 5       \u001b[0m | \u001b[0m 0.8031  \u001b[0m | \u001b[0m 0.8324  \u001b[0m | \u001b[0m 0.2123  \u001b[0m | \u001b[0m 0.1818  \u001b[0m |\n",
      "| \u001b[0m 6       \u001b[0m | \u001b[0m 0.8077  \u001b[0m | \u001b[0m 0.005633\u001b[0m | \u001b[0m 0.9857  \u001b[0m | \u001b[0m 0.9805  \u001b[0m |\n",
      "| \u001b[0m 7       \u001b[0m | \u001b[0m 0.8077  \u001b[0m | \u001b[0m 0.0     \u001b[0m | \u001b[0m 1.0     \u001b[0m | \u001b[0m 0.0     \u001b[0m |\n",
      "| \u001b[95m 8       \u001b[0m | \u001b[95m 0.8086  \u001b[0m | \u001b[95m 1.0     \u001b[0m | \u001b[95m 1.0     \u001b[0m | \u001b[95m 1.0     \u001b[0m |\n",
      "| \u001b[0m 9       \u001b[0m | \u001b[0m 0.8086  \u001b[0m | \u001b[0m 1.0     \u001b[0m | \u001b[0m 1.0     \u001b[0m | \u001b[0m 0.3529  \u001b[0m |\n",
      "| \u001b[0m 10      \u001b[0m | \u001b[0m 0.8086  \u001b[0m | \u001b[0m 1.0     \u001b[0m | \u001b[0m 1.0     \u001b[0m | \u001b[0m 0.0     \u001b[0m |\n"
     ]
    }
   ],
   "source": [
    "rfc_bo_rs_params = obtain_best_bayes_model(RandomForestClassifier, X_train_rs, y_train_rs, dg, ss)"
   ]
  },
  {
   "cell_type": "code",
   "execution_count": null,
   "id": "bd3b4078",
   "metadata": {},
   "outputs": [],
   "source": [
    "rfc_bo_rs_mod1 = RandomForestClassifier(**rfc_bo_rs_params, random_state=42)\n",
    "y_pred = createModel(rfc_bo_rs_mod1, X_train_rs, y_train_rs, X_test_rs)"
   ]
  },
  {
   "cell_type": "markdown",
   "id": "8a3843f3",
   "metadata": {},
   "source": [
    "**Evaulation Metrics**"
   ]
  },
  {
   "cell_type": "code",
   "execution_count": null,
   "id": "c1f0b02b",
   "metadata": {},
   "outputs": [],
   "source": [
    "metrics = createClassificationMetrics(y_pred, y_test_ss)\n",
    "print('Accuracy Score: {}'.format(metrics['acc']))\n",
    "print('Classification Report: \\n{}'.format(metrics['cr']))\n",
    "print('Matthew\\'s Correlation Coefficient: {}'.format(metrics['mcc']))\n",
    "print('F1 Score: {}'.format(metrics['f1']))"
   ]
  },
  {
   "cell_type": "markdown",
   "id": "d30008a6",
   "metadata": {},
   "source": [
    "**Confusion Matrix**"
   ]
  },
  {
   "cell_type": "code",
   "execution_count": null,
   "id": "97be0bd0",
   "metadata": {},
   "outputs": [],
   "source": [
    "matrix = createConfusionMatrix(y_test_rs, y_pred, mod_info)"
   ]
  },
  {
   "cell_type": "markdown",
   "id": "fc84995a",
   "metadata": {},
   "source": [
    "**ROC Curve**"
   ]
  },
  {
   "cell_type": "code",
   "execution_count": null,
   "id": "e10e2265",
   "metadata": {},
   "outputs": [],
   "source": [
    "metrics['auc'] = drawRocCurve(rfc_bo_rs_mod1, X_train_rs, X_test_rs, y_train_rs, y_test_rs, mod_info)"
   ]
  },
  {
   "cell_type": "markdown",
   "id": "5b8aa74a",
   "metadata": {},
   "source": [
    "**Feature Importance with Best Params**"
   ]
  },
  {
   "cell_type": "code",
   "execution_count": null,
   "id": "79271fad",
   "metadata": {},
   "outputs": [],
   "source": [
    "createFeatureImportanceChart(rfc_bo_rs_mod1, features, X_train_rs, y_train_rs)"
   ]
  },
  {
   "cell_type": "markdown",
   "id": "ffdf3367",
   "metadata": {},
   "source": [
    "**Append Results**"
   ]
  },
  {
   "cell_type": "code",
   "execution_count": null,
   "id": "4fee7daa",
   "metadata": {},
   "outputs": [],
   "source": [
    "new_model_results, best_model_params = appendModelingResults(new_model_results, best_model_params, mod_info,\n",
    "                                                          rfc_bo_rs_params, matrix, metrics)"
   ]
  },
  {
   "cell_type": "markdown",
   "id": "cda9d95f",
   "metadata": {},
   "source": [
    "## 5. Best Random Forest Model"
   ]
  },
  {
   "cell_type": "code",
   "execution_count": null,
   "id": "ff08013c",
   "metadata": {},
   "outputs": [],
   "source": []
  },
  {
   "cell_type": "code",
   "execution_count": null,
   "id": "31d35ee5",
   "metadata": {},
   "outputs": [],
   "source": []
  }
 ],
 "metadata": {
  "kernelspec": {
   "display_name": "Python 3 (ipykernel)",
   "language": "python",
   "name": "python3"
  },
  "language_info": {
   "codemirror_mode": {
    "name": "ipython",
    "version": 3
   },
   "file_extension": ".py",
   "mimetype": "text/x-python",
   "name": "python",
   "nbconvert_exporter": "python",
   "pygments_lexer": "ipython3",
   "version": "3.9.10"
  }
 },
 "nbformat": 4,
 "nbformat_minor": 5
}
