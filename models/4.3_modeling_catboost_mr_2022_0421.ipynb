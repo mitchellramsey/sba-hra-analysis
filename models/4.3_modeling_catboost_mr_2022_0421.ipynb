{
 "cells": [
  {
   "cell_type": "markdown",
   "id": "90201203",
   "metadata": {},
   "source": [
    "# SBA Loan Analysis\n",
    "\n",
    "# Modeling - Part 4 - CatBoost"
   ]
  },
  {
   "cell_type": "markdown",
   "id": "50d2e9f5",
   "metadata": {},
   "source": [
    "## Table of Contents\n",
    "\n",
    "1. Imports\n",
    "2. Previewing Data\n",
    "3. Preprocessing Data\n",
    "    1. Standard Scaler\n",
    "    2. Robust Scaler\n",
    "4. Evaluation Metrics\n",
    "5. Simple Model\n",
    "    1. Standard Scaler\n",
    "    2. Robust Scaler\n",
    "6. Grid Search\n",
    "    1. Standard Scaler\n",
    "    2. Robust Scaler\n",
    "7. Bayesian Optimization\n",
    "    1. Standard Scaler\n",
    "    2. Robust Scaler\n",
    "8. Save Results\n",
    "    "
   ]
  },
  {
   "cell_type": "markdown",
   "id": "50d9c62a",
   "metadata": {},
   "source": [
    "## 1. Imports"
   ]
  },
  {
   "cell_type": "code",
   "execution_count": 1,
   "id": "23b52d37",
   "metadata": {},
   "outputs": [],
   "source": [
    "import warnings\n",
    "warnings.filterwarnings('ignore')\n",
    "\n",
    "import numpy as np\n",
    "import pandas as pd\n",
    "import matplotlib.pyplot as plt\n",
    "import seaborn as sns\n",
    "import json\n",
    "\n",
    "from catboost import CatBoostClassifier\n",
    "\n",
    "from library.preprocessing import processing_pipeline\n",
    "from library.modeling import (createModel, createClassificationMetrics,\n",
    "                             runGridSearchAnalysis, createConfusionMatrix, createFeatureImportanceChart,\n",
    "                             appendModelingResults, drawRocCurve, obtain_best_bayes_model)"
   ]
  },
  {
   "cell_type": "code",
   "execution_count": 2,
   "id": "2ecb8100",
   "metadata": {},
   "outputs": [],
   "source": [
    "f = open('./results/best_params.json')\n",
    "data = json.load(f)\n",
    "best_model_params = dict(data)"
   ]
  },
  {
   "cell_type": "code",
   "execution_count": null,
   "id": "00a3eb8c",
   "metadata": {},
   "outputs": [],
   "source": [
    "model_results = []"
   ]
  },
  {
   "cell_type": "markdown",
   "id": "82e50916",
   "metadata": {},
   "source": [
    "## 2. Previewing Data"
   ]
  },
  {
   "cell_type": "code",
   "execution_count": 3,
   "id": "5fea1dde",
   "metadata": {},
   "outputs": [],
   "source": [
    "sba_loans = pd.read_csv('./../data/processed/sba_national_processed_final.csv')\n",
    "\n",
    "pd.set_option('display.max_columns', None)"
   ]
  },
  {
   "cell_type": "code",
   "execution_count": 4,
   "id": "429db9a0",
   "metadata": {},
   "outputs": [
    {
     "data": {
      "text/html": [
       "<div>\n",
       "<style scoped>\n",
       "    .dataframe tbody tr th:only-of-type {\n",
       "        vertical-align: middle;\n",
       "    }\n",
       "\n",
       "    .dataframe tbody tr th {\n",
       "        vertical-align: top;\n",
       "    }\n",
       "\n",
       "    .dataframe thead th {\n",
       "        text-align: right;\n",
       "    }\n",
       "</style>\n",
       "<table border=\"1\" class=\"dataframe\">\n",
       "  <thead>\n",
       "    <tr style=\"text-align: right;\">\n",
       "      <th></th>\n",
       "      <th>Term</th>\n",
       "      <th>NoEmp</th>\n",
       "      <th>CreateJob</th>\n",
       "      <th>RetainedJob</th>\n",
       "      <th>DisbursementGross</th>\n",
       "      <th>GrAppv</th>\n",
       "      <th>SBA_Appv</th>\n",
       "      <th>NAICS_sectors</th>\n",
       "      <th>unemployment_rate</th>\n",
       "      <th>gdp_growth</th>\n",
       "      <th>gdp_annual_change</th>\n",
       "      <th>inflation_rate</th>\n",
       "      <th>inf_rate_annual_chg</th>\n",
       "      <th>NewExist_existing_business</th>\n",
       "      <th>NewExist_new_business</th>\n",
       "      <th>UrbanRural_rural</th>\n",
       "      <th>UrbanRural_urban</th>\n",
       "      <th>isFranchise_not_franchise</th>\n",
       "      <th>RevLineCr_v2_N</th>\n",
       "      <th>RevLineCr_v2_Y</th>\n",
       "      <th>LowDoc_v2_N</th>\n",
       "      <th>LowDoc_v2_Y</th>\n",
       "      <th>MIS_Status_v2_default</th>\n",
       "      <th>state_top10</th>\n",
       "    </tr>\n",
       "  </thead>\n",
       "  <tbody>\n",
       "    <tr>\n",
       "      <th>0</th>\n",
       "      <td>84</td>\n",
       "      <td>4</td>\n",
       "      <td>0</td>\n",
       "      <td>0</td>\n",
       "      <td>60000.0</td>\n",
       "      <td>60000.0</td>\n",
       "      <td>48000.0</td>\n",
       "      <td>45</td>\n",
       "      <td>3.5</td>\n",
       "      <td>4.4472</td>\n",
       "      <td>0.67</td>\n",
       "      <td>2.3377</td>\n",
       "      <td>-0.59</td>\n",
       "      <td>0</td>\n",
       "      <td>1</td>\n",
       "      <td>0</td>\n",
       "      <td>0</td>\n",
       "      <td>1</td>\n",
       "      <td>1</td>\n",
       "      <td>0</td>\n",
       "      <td>0</td>\n",
       "      <td>1</td>\n",
       "      <td>0</td>\n",
       "      <td>0</td>\n",
       "    </tr>\n",
       "    <tr>\n",
       "      <th>1</th>\n",
       "      <td>60</td>\n",
       "      <td>2</td>\n",
       "      <td>0</td>\n",
       "      <td>0</td>\n",
       "      <td>40000.0</td>\n",
       "      <td>40000.0</td>\n",
       "      <td>32000.0</td>\n",
       "      <td>72</td>\n",
       "      <td>3.5</td>\n",
       "      <td>4.4472</td>\n",
       "      <td>0.67</td>\n",
       "      <td>2.3377</td>\n",
       "      <td>-0.59</td>\n",
       "      <td>0</td>\n",
       "      <td>1</td>\n",
       "      <td>0</td>\n",
       "      <td>0</td>\n",
       "      <td>1</td>\n",
       "      <td>1</td>\n",
       "      <td>0</td>\n",
       "      <td>0</td>\n",
       "      <td>1</td>\n",
       "      <td>0</td>\n",
       "      <td>0</td>\n",
       "    </tr>\n",
       "    <tr>\n",
       "      <th>2</th>\n",
       "      <td>180</td>\n",
       "      <td>7</td>\n",
       "      <td>0</td>\n",
       "      <td>0</td>\n",
       "      <td>287000.0</td>\n",
       "      <td>287000.0</td>\n",
       "      <td>215250.0</td>\n",
       "      <td>62</td>\n",
       "      <td>3.5</td>\n",
       "      <td>4.4472</td>\n",
       "      <td>0.67</td>\n",
       "      <td>2.3377</td>\n",
       "      <td>-0.59</td>\n",
       "      <td>1</td>\n",
       "      <td>0</td>\n",
       "      <td>0</td>\n",
       "      <td>0</td>\n",
       "      <td>1</td>\n",
       "      <td>1</td>\n",
       "      <td>0</td>\n",
       "      <td>1</td>\n",
       "      <td>0</td>\n",
       "      <td>0</td>\n",
       "      <td>0</td>\n",
       "    </tr>\n",
       "    <tr>\n",
       "      <th>3</th>\n",
       "      <td>60</td>\n",
       "      <td>2</td>\n",
       "      <td>0</td>\n",
       "      <td>0</td>\n",
       "      <td>35000.0</td>\n",
       "      <td>35000.0</td>\n",
       "      <td>28000.0</td>\n",
       "      <td>0</td>\n",
       "      <td>4.1</td>\n",
       "      <td>4.4472</td>\n",
       "      <td>0.67</td>\n",
       "      <td>2.3377</td>\n",
       "      <td>-0.59</td>\n",
       "      <td>1</td>\n",
       "      <td>0</td>\n",
       "      <td>0</td>\n",
       "      <td>0</td>\n",
       "      <td>1</td>\n",
       "      <td>1</td>\n",
       "      <td>0</td>\n",
       "      <td>0</td>\n",
       "      <td>1</td>\n",
       "      <td>0</td>\n",
       "      <td>0</td>\n",
       "    </tr>\n",
       "    <tr>\n",
       "      <th>4</th>\n",
       "      <td>240</td>\n",
       "      <td>14</td>\n",
       "      <td>7</td>\n",
       "      <td>7</td>\n",
       "      <td>229000.0</td>\n",
       "      <td>229000.0</td>\n",
       "      <td>229000.0</td>\n",
       "      <td>0</td>\n",
       "      <td>4.8</td>\n",
       "      <td>4.4472</td>\n",
       "      <td>0.67</td>\n",
       "      <td>2.3377</td>\n",
       "      <td>-0.59</td>\n",
       "      <td>1</td>\n",
       "      <td>0</td>\n",
       "      <td>0</td>\n",
       "      <td>0</td>\n",
       "      <td>1</td>\n",
       "      <td>1</td>\n",
       "      <td>0</td>\n",
       "      <td>1</td>\n",
       "      <td>0</td>\n",
       "      <td>0</td>\n",
       "      <td>1</td>\n",
       "    </tr>\n",
       "  </tbody>\n",
       "</table>\n",
       "</div>"
      ],
      "text/plain": [
       "   Term  NoEmp  CreateJob  RetainedJob  DisbursementGross    GrAppv  SBA_Appv  \\\n",
       "0    84      4          0            0            60000.0   60000.0   48000.0   \n",
       "1    60      2          0            0            40000.0   40000.0   32000.0   \n",
       "2   180      7          0            0           287000.0  287000.0  215250.0   \n",
       "3    60      2          0            0            35000.0   35000.0   28000.0   \n",
       "4   240     14          7            7           229000.0  229000.0  229000.0   \n",
       "\n",
       "   NAICS_sectors  unemployment_rate  gdp_growth  gdp_annual_change  \\\n",
       "0             45                3.5      4.4472               0.67   \n",
       "1             72                3.5      4.4472               0.67   \n",
       "2             62                3.5      4.4472               0.67   \n",
       "3              0                4.1      4.4472               0.67   \n",
       "4              0                4.8      4.4472               0.67   \n",
       "\n",
       "   inflation_rate  inf_rate_annual_chg  NewExist_existing_business  \\\n",
       "0          2.3377                -0.59                           0   \n",
       "1          2.3377                -0.59                           0   \n",
       "2          2.3377                -0.59                           1   \n",
       "3          2.3377                -0.59                           1   \n",
       "4          2.3377                -0.59                           1   \n",
       "\n",
       "   NewExist_new_business  UrbanRural_rural  UrbanRural_urban  \\\n",
       "0                      1                 0                 0   \n",
       "1                      1                 0                 0   \n",
       "2                      0                 0                 0   \n",
       "3                      0                 0                 0   \n",
       "4                      0                 0                 0   \n",
       "\n",
       "   isFranchise_not_franchise  RevLineCr_v2_N  RevLineCr_v2_Y  LowDoc_v2_N  \\\n",
       "0                          1               1               0            0   \n",
       "1                          1               1               0            0   \n",
       "2                          1               1               0            1   \n",
       "3                          1               1               0            0   \n",
       "4                          1               1               0            1   \n",
       "\n",
       "   LowDoc_v2_Y  MIS_Status_v2_default  state_top10  \n",
       "0            1                      0            0  \n",
       "1            1                      0            0  \n",
       "2            0                      0            0  \n",
       "3            1                      0            0  \n",
       "4            0                      0            1  "
      ]
     },
     "execution_count": 4,
     "metadata": {},
     "output_type": "execute_result"
    }
   ],
   "source": [
    "sba_loans.head()"
   ]
  },
  {
   "cell_type": "markdown",
   "id": "bcf02a5d",
   "metadata": {},
   "source": [
    "## 3. Preprocessing Data"
   ]
  },
  {
   "cell_type": "code",
   "execution_count": 5,
   "id": "0502be09",
   "metadata": {},
   "outputs": [],
   "source": [
    "target = 'MIS_Status_v2_default'\n",
    "features = sba_loans.drop(columns='MIS_Status_v2_default', axis=1).columns"
   ]
  },
  {
   "cell_type": "markdown",
   "id": "ba182b3e",
   "metadata": {},
   "source": [
    "### A. Standard Scaler"
   ]
  },
  {
   "cell_type": "code",
   "execution_count": 6,
   "id": "92f554a3",
   "metadata": {},
   "outputs": [],
   "source": [
    "X_train_ss, X_test_ss, y_train_ss, y_test_ss = processing_pipeline(sba_loans, target)"
   ]
  },
  {
   "cell_type": "markdown",
   "id": "85960df6",
   "metadata": {},
   "source": [
    "### B. Robust Scaler"
   ]
  },
  {
   "cell_type": "code",
   "execution_count": 7,
   "id": "966ff7db",
   "metadata": {},
   "outputs": [],
   "source": [
    "X_train_rs, X_test_rs, y_train_rs, y_test_rs = processing_pipeline(sba_loans, target, scaler='Robust')"
   ]
  },
  {
   "cell_type": "markdown",
   "id": "0163535b",
   "metadata": {},
   "source": [
    "## 4. Evaluation Metrics\n",
    "\n",
    "The following evlaution metrics will be used to evaluate the effectiveness of the logistic models.\n",
    "\n",
    "**Accuracy Score**\n",
    "\n",
    "Blurb about accuracy score.\n",
    "\n",
    "**Classifiation Report**\n",
    "\n",
    "Blurb about Classification Report\n",
    "\n",
    "**Matthew's Correlation Coefficient**\n",
    "\n",
    "Blurb about MCC\n",
    "\n",
    "**F1 Score**\n",
    "\n",
    "Blurb about F1 Score and why it will be the main metric for evaluation"
   ]
  },
  {
   "cell_type": "markdown",
   "id": "15c3c2a0",
   "metadata": {},
   "source": [
    "## 5. Simple Model"
   ]
  },
  {
   "cell_type": "markdown",
   "id": "b8e09b6b",
   "metadata": {},
   "source": [
    "### A. Standard Scaler"
   ]
  },
  {
   "cell_type": "code",
   "execution_count": 8,
   "id": "fa96c058",
   "metadata": {},
   "outputs": [],
   "source": [
    "cat_ss_mod1 = CatBoostClassifier(random_state=42, verbose=0)\n",
    "y_pred = createModel(cat_ss_mod1, X_train_ss, y_train_ss, X_test_ss)"
   ]
  },
  {
   "cell_type": "code",
   "execution_count": 9,
   "id": "d40568ae",
   "metadata": {},
   "outputs": [],
   "source": [
    "metrics = createClassificationMetrics(y_pred, y_test_ss)"
   ]
  },
  {
   "cell_type": "code",
   "execution_count": 10,
   "id": "2b052b6f",
   "metadata": {},
   "outputs": [
    {
     "name": "stdout",
     "output_type": "stream",
     "text": [
      "Accuracy Score: 0.9499\n"
     ]
    }
   ],
   "source": [
    "print('Accuracy Score: ' + str(round(metrics['acc'], 4)))"
   ]
  },
  {
   "cell_type": "code",
   "execution_count": 11,
   "id": "104a5a39",
   "metadata": {},
   "outputs": [
    {
     "name": "stdout",
     "output_type": "stream",
     "text": [
      "Classification Report: \n",
      "              precision    recall  f1-score   support\n",
      "\n",
      "        paid       0.97      0.97      0.97    223642\n",
      "     default       0.84      0.87      0.85     45212\n",
      "\n",
      "    accuracy                           0.95    268854\n",
      "   macro avg       0.91      0.92      0.91    268854\n",
      "weighted avg       0.95      0.95      0.95    268854\n",
      "\n"
     ]
    }
   ],
   "source": [
    "print('Classification Report: \\n' + metrics['cr'])"
   ]
  },
  {
   "cell_type": "code",
   "execution_count": 12,
   "id": "c10e50cc",
   "metadata": {},
   "outputs": [
    {
     "name": "stdout",
     "output_type": "stream",
     "text": [
      "Matthew's Correlation Coefficient: 0.8239\n"
     ]
    }
   ],
   "source": [
    "print('Matthew\\'s Correlation Coefficient: ' + str(round(metrics['mcc'],4)))"
   ]
  },
  {
   "cell_type": "code",
   "execution_count": 13,
   "id": "d75cd402",
   "metadata": {},
   "outputs": [
    {
     "name": "stdout",
     "output_type": "stream",
     "text": [
      "F1 Score: 0.8539\n"
     ]
    }
   ],
   "source": [
    "print('F1 Score: ' + str(round(metrics['f1'], 4)))"
   ]
  },
  {
   "cell_type": "markdown",
   "id": "a00e335d",
   "metadata": {},
   "source": [
    "### B. Robust Scaler"
   ]
  },
  {
   "cell_type": "code",
   "execution_count": 14,
   "id": "0d1dead5",
   "metadata": {},
   "outputs": [],
   "source": [
    "cbc_rs_mod1 = CatBoostClassifier(random_state=42, verbose=0)\n",
    "y_pred = createModel(cbc_rs_mod1, X_train_rs, y_train_rs, X_test_rs)"
   ]
  },
  {
   "cell_type": "code",
   "execution_count": 15,
   "id": "dc9b1e75",
   "metadata": {},
   "outputs": [],
   "source": [
    "metrics = createClassificationMetrics(y_pred, y_test_rs)"
   ]
  },
  {
   "cell_type": "code",
   "execution_count": 16,
   "id": "c89986a3",
   "metadata": {},
   "outputs": [
    {
     "name": "stdout",
     "output_type": "stream",
     "text": [
      "Accuracy Score: 0.9499\n"
     ]
    }
   ],
   "source": [
    "print('Accuracy Score: ' + str(round(metrics['acc'], 4)))"
   ]
  },
  {
   "cell_type": "code",
   "execution_count": 17,
   "id": "4235baed",
   "metadata": {},
   "outputs": [
    {
     "name": "stdout",
     "output_type": "stream",
     "text": [
      "Classification Report: \n",
      "              precision    recall  f1-score   support\n",
      "\n",
      "        paid       0.97      0.97      0.97    223763\n",
      "     default       0.84      0.87      0.85     45091\n",
      "\n",
      "    accuracy                           0.95    268854\n",
      "   macro avg       0.91      0.92      0.91    268854\n",
      "weighted avg       0.95      0.95      0.95    268854\n",
      "\n"
     ]
    }
   ],
   "source": [
    "print('Classification Report: \\n' + metrics['cr'])"
   ]
  },
  {
   "cell_type": "code",
   "execution_count": 18,
   "id": "0968e8fa",
   "metadata": {},
   "outputs": [
    {
     "name": "stdout",
     "output_type": "stream",
     "text": [
      "Matthew's Correlation Coefficient: 0.8237\n"
     ]
    }
   ],
   "source": [
    "print('Matthew\\'s Correlation Coefficient: ' + str(round(metrics['mcc'],4)))"
   ]
  },
  {
   "cell_type": "code",
   "execution_count": 19,
   "id": "35a26b2d",
   "metadata": {},
   "outputs": [
    {
     "name": "stdout",
     "output_type": "stream",
     "text": [
      "F1 Score: 0.8536\n"
     ]
    }
   ],
   "source": [
    "print('F1 Score: ' + str(round(metrics['f1'], 4)))"
   ]
  },
  {
   "cell_type": "markdown",
   "id": "9c4f8af2",
   "metadata": {},
   "source": [
    "## 6. Grid Search Cross Validation"
   ]
  },
  {
   "cell_type": "code",
   "execution_count": 20,
   "id": "ef281d11",
   "metadata": {},
   "outputs": [],
   "source": [
    "param_grid = {\n",
    "    'learning_rate': [0.03, 0.1],\n",
    "    'iterations': [500, 1000],\n",
    "    'l2_leaf_reg': [1.0, 3.0],\n",
    "    'depth': [3,6]   \n",
    "}"
   ]
  },
  {
   "cell_type": "markdown",
   "id": "fd175685",
   "metadata": {},
   "source": [
    "### A. Standard Scaler"
   ]
  },
  {
   "cell_type": "code",
   "execution_count": 21,
   "id": "457370d3",
   "metadata": {},
   "outputs": [],
   "source": [
    "mod_info = {\n",
    "    'model': 'CatBoost',\n",
    "    'method': 'Grid Search',\n",
    "    'scaler': 'Standard'\n",
    "}"
   ]
  },
  {
   "cell_type": "code",
   "execution_count": null,
   "id": "d95d0600",
   "metadata": {},
   "outputs": [],
   "source": [
    "cbc = CatBoostClassifier(random_state=42, verbose=0)\n",
    "cbc_ss_best_params, y_pred = runGridSearchAnalysis(cbc, param_grid, X_train_ss, y_train_ss, X_test_ss)"
   ]
  },
  {
   "cell_type": "markdown",
   "id": "6656a089",
   "metadata": {},
   "source": [
    "**Evaluation Metrics**"
   ]
  },
  {
   "cell_type": "code",
   "execution_count": null,
   "id": "3ac848e8",
   "metadata": {},
   "outputs": [],
   "source": [
    "metrics = createClassificationMetrics(y_pred, y_test_ss)\n",
    "print('Accuracy Score: {}'.format(metrics['acc']))\n",
    "print('Classification Report: \\n{}'.format(metrics['cr']))\n",
    "print('Matthew\\'s Correlation Coefficient: {}'.format(metrics['mcc']))\n",
    "print('F1 Score: {}'.format(metrics['f1']))"
   ]
  },
  {
   "cell_type": "markdown",
   "id": "5ad6181c",
   "metadata": {},
   "source": [
    "**Confusion Matrix**"
   ]
  },
  {
   "cell_type": "code",
   "execution_count": null,
   "id": "ebec5d05",
   "metadata": {},
   "outputs": [],
   "source": [
    "matrix = createConfusionMatrix(y_test_ss, y_pred, mod_info)"
   ]
  },
  {
   "cell_type": "markdown",
   "id": "12a1b362",
   "metadata": {},
   "source": [
    "**ROC Curve**"
   ]
  },
  {
   "cell_type": "code",
   "execution_count": null,
   "id": "3ef84f9d",
   "metadata": {},
   "outputs": [],
   "source": [
    "cbc_mod = CatBoostClassifier(**cbc_ss_best_params, random_state=42, verbose=0)\n",
    "metrics['auc'] = drawRocCurve(cbc_mod, X_train_ss, X_test_ss, y_train_ss, y_test_ss, mod_info)"
   ]
  },
  {
   "cell_type": "markdown",
   "id": "79af3892",
   "metadata": {},
   "source": [
    "**Feature Importance with Best Params**"
   ]
  },
  {
   "cell_type": "code",
   "execution_count": null,
   "id": "79222b55",
   "metadata": {},
   "outputs": [],
   "source": [
    "createFeatureImportanceChart(cbc_mod, features, X_train_ss, y_train_ss)"
   ]
  },
  {
   "cell_type": "markdown",
   "id": "fe9aaba2",
   "metadata": {},
   "source": [
    "**Append Results**"
   ]
  },
  {
   "cell_type": "code",
   "execution_count": null,
   "id": "a54654e9",
   "metadata": {},
   "outputs": [],
   "source": [
    "model_results, best_model_params = appendModelingResults(model_results, best_model_params, mod_info, \n",
    "                                                         cbc_ss_best_params, matrix, metrics)"
   ]
  },
  {
   "cell_type": "markdown",
   "id": "9cb37692",
   "metadata": {},
   "source": [
    "### B. Robust Scaler"
   ]
  },
  {
   "cell_type": "code",
   "execution_count": null,
   "id": "e8feda95",
   "metadata": {},
   "outputs": [],
   "source": [
    "mod_info = {\n",
    "    'model': 'CatBoost',\n",
    "    'method': 'Grid Search',\n",
    "    'scaler': 'Robust'\n",
    "}"
   ]
  },
  {
   "cell_type": "code",
   "execution_count": null,
   "id": "4fae7cd4",
   "metadata": {},
   "outputs": [],
   "source": [
    "cbc = CatBoostClassifier(random_state=42, verbose=0)\n",
    "cbc_rs_best_params, y_pred = runGridSearchAnalysis(cbc, param_grid, X_train_rs, y_train_rs, X_test_rs)"
   ]
  },
  {
   "cell_type": "markdown",
   "id": "ed4cf1cd",
   "metadata": {},
   "source": [
    "**Evaluation Metrics**"
   ]
  },
  {
   "cell_type": "code",
   "execution_count": null,
   "id": "b9e68f2b",
   "metadata": {},
   "outputs": [],
   "source": [
    "metrics = createClassificationMetrics(y_pred, y_test_ss)\n",
    "print('Accuracy Score: {}'.format(metrics['acc']))\n",
    "print('Classification Report: \\n{}'.format(metrics['cr']))\n",
    "print('Matthew\\'s Correlation Coefficient: {}'.format(metrics['mcc']))\n",
    "print('F1 Score: {}'.format(metrics['f1']))"
   ]
  },
  {
   "cell_type": "markdown",
   "id": "73963372",
   "metadata": {},
   "source": [
    "**Confusion Matrix**"
   ]
  },
  {
   "cell_type": "code",
   "execution_count": null,
   "id": "d70c14b1",
   "metadata": {},
   "outputs": [],
   "source": [
    "matrix = createConfusionMatrix(y_test_rs, y_pred, mod_info)"
   ]
  },
  {
   "cell_type": "markdown",
   "id": "22d3da91",
   "metadata": {},
   "source": [
    "**ROC Curve**"
   ]
  },
  {
   "cell_type": "code",
   "execution_count": null,
   "id": "8ed622d4",
   "metadata": {},
   "outputs": [],
   "source": [
    "cbc_mod = CatBoostClassifier(**cbc_rs_best_params, random_state=42, verbose=0)\n",
    "metrics['auc'] = drawRocCurve(cbc_mod, X_train_rs, X_test_rs, y_train_rs, y_test_rs, mod_info)"
   ]
  },
  {
   "cell_type": "markdown",
   "id": "d6f34bab",
   "metadata": {},
   "source": [
    "**Feature Importance with Best Params**"
   ]
  },
  {
   "cell_type": "code",
   "execution_count": null,
   "id": "dc4fa439",
   "metadata": {},
   "outputs": [],
   "source": [
    "createFeatureImportanceChart(cbc_mod, features, X_train_rs, y_train_rs)"
   ]
  },
  {
   "cell_type": "markdown",
   "id": "eef9c14d",
   "metadata": {},
   "source": [
    "**Append Results**"
   ]
  },
  {
   "cell_type": "code",
   "execution_count": null,
   "id": "e8c8354c",
   "metadata": {},
   "outputs": [],
   "source": [
    "model_results, best_model_params = appendModelingResults(model_results, best_model_params, mod_info, \n",
    "                                                         cbc_rs_best_params, matrix, metrics)"
   ]
  },
  {
   "cell_type": "markdown",
   "id": "ccb2d103",
   "metadata": {},
   "source": [
    "## 7. Bayesian Optimization"
   ]
  },
  {
   "cell_type": "code",
   "execution_count": null,
   "id": "148fddfb",
   "metadata": {},
   "outputs": [],
   "source": []
  }
 ],
 "metadata": {
  "kernelspec": {
   "display_name": "Python 3 (ipykernel)",
   "language": "python",
   "name": "python3"
  },
  "language_info": {
   "codemirror_mode": {
    "name": "ipython",
    "version": 3
   },
   "file_extension": ".py",
   "mimetype": "text/x-python",
   "name": "python",
   "nbconvert_exporter": "python",
   "pygments_lexer": "ipython3",
   "version": "3.9.10"
  }
 },
 "nbformat": 4,
 "nbformat_minor": 5
}
