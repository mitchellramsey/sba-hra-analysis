{
 "cells": [
  {
   "cell_type": "markdown",
   "id": "f5a4dac1",
   "metadata": {},
   "source": [
    "# SBA National Loan Analysis\n",
    "\n",
    "# Modeling - Part 1 - Logistic Regression"
   ]
  },
  {
   "cell_type": "markdown",
   "id": "0e93cb31",
   "metadata": {},
   "source": [
    "## Table of Contents\n",
    "\n",
    "1. Imports\n",
    "2. Previewing Data\n",
    "3. Preprocessing Data\n",
    "    1. Standard Scaler\n",
    "    2. Robust Scaler\n",
    "4. Evaluation Metrics\n",
    "5. Simple Model\n",
    "    1. Standard Scaler\n",
    "    2. Robust Scaler\n",
    "6. Grid Search\n",
    "    1. Standard Scaler\n",
    "    2. Robust Scaler\n",
    "7. Bayesian Optimization\n",
    "    1. Standard Scaler\n",
    "    2. Robust Scaler\n",
    "8. Save Results\n",
    "    \n",
    "    "
   ]
  },
  {
   "cell_type": "markdown",
   "id": "28a46b4f",
   "metadata": {},
   "source": [
    "## 1. Imports"
   ]
  },
  {
   "cell_type": "code",
   "execution_count": 1,
   "id": "0c8bf4c8",
   "metadata": {},
   "outputs": [],
   "source": [
    "import numpy as np\n",
    "import pandas as pd\n",
    "import matplotlib.pyplot as plt\n",
    "import seaborn as sns\n",
    "import json\n",
    "\n",
    "from sklearn.linear_model import LogisticRegression\n",
    "\n",
    "from library.preprocessing import processing_pipeline\n",
    "from library.modeling import (createModel, createClassificationMetrics, runGridSearchAnalysis, \n",
    "                              createConfusionMatrix, appendModelingResults, drawRocCurve, obtain_best_bayes_model)"
   ]
  },
  {
   "cell_type": "code",
   "execution_count": 2,
   "id": "88f483d2",
   "metadata": {},
   "outputs": [],
   "source": [
    "import warnings\n",
    "warnings.filterwarnings('ignore')\n",
    "\n",
    "pd.set_option('display.max_columns', None)"
   ]
  },
  {
   "cell_type": "code",
   "execution_count": 3,
   "id": "b314be54",
   "metadata": {},
   "outputs": [],
   "source": [
    "f = open('./results/best_params.json')\n",
    "data = json.load(f)\n",
    "best_model_params = dict(data)"
   ]
  },
  {
   "cell_type": "markdown",
   "id": "540a6b7a",
   "metadata": {},
   "source": [
    "## 2. Previewing Data"
   ]
  },
  {
   "cell_type": "code",
   "execution_count": 4,
   "id": "a5eebf71",
   "metadata": {},
   "outputs": [],
   "source": [
    "sba_loans = pd.read_csv('./../data/processed/sba_national_processed_final.csv')"
   ]
  },
  {
   "cell_type": "code",
   "execution_count": 5,
   "id": "2e8f3ae6",
   "metadata": {},
   "outputs": [
    {
     "data": {
      "text/html": [
       "<div>\n",
       "<style scoped>\n",
       "    .dataframe tbody tr th:only-of-type {\n",
       "        vertical-align: middle;\n",
       "    }\n",
       "\n",
       "    .dataframe tbody tr th {\n",
       "        vertical-align: top;\n",
       "    }\n",
       "\n",
       "    .dataframe thead th {\n",
       "        text-align: right;\n",
       "    }\n",
       "</style>\n",
       "<table border=\"1\" class=\"dataframe\">\n",
       "  <thead>\n",
       "    <tr style=\"text-align: right;\">\n",
       "      <th></th>\n",
       "      <th>Term</th>\n",
       "      <th>NoEmp</th>\n",
       "      <th>CreateJob</th>\n",
       "      <th>RetainedJob</th>\n",
       "      <th>DisbursementGross</th>\n",
       "      <th>GrAppv</th>\n",
       "      <th>SBA_Appv</th>\n",
       "      <th>NAICS_sectors</th>\n",
       "      <th>unemployment_rate</th>\n",
       "      <th>gdp_growth</th>\n",
       "      <th>gdp_annual_change</th>\n",
       "      <th>inflation_rate</th>\n",
       "      <th>inf_rate_annual_chg</th>\n",
       "      <th>NewExist_existing_business</th>\n",
       "      <th>NewExist_new_business</th>\n",
       "      <th>UrbanRural_rural</th>\n",
       "      <th>UrbanRural_urban</th>\n",
       "      <th>isFranchise_not_franchise</th>\n",
       "      <th>RevLineCr_v2_N</th>\n",
       "      <th>RevLineCr_v2_Y</th>\n",
       "      <th>LowDoc_v2_N</th>\n",
       "      <th>LowDoc_v2_Y</th>\n",
       "      <th>MIS_Status_v2_default</th>\n",
       "      <th>state_top10</th>\n",
       "    </tr>\n",
       "  </thead>\n",
       "  <tbody>\n",
       "    <tr>\n",
       "      <th>0</th>\n",
       "      <td>84</td>\n",
       "      <td>4</td>\n",
       "      <td>0</td>\n",
       "      <td>0</td>\n",
       "      <td>60000.0</td>\n",
       "      <td>60000.0</td>\n",
       "      <td>48000.0</td>\n",
       "      <td>45</td>\n",
       "      <td>3.5</td>\n",
       "      <td>4.4472</td>\n",
       "      <td>0.67</td>\n",
       "      <td>2.3377</td>\n",
       "      <td>-0.59</td>\n",
       "      <td>0</td>\n",
       "      <td>1</td>\n",
       "      <td>0</td>\n",
       "      <td>0</td>\n",
       "      <td>1</td>\n",
       "      <td>1</td>\n",
       "      <td>0</td>\n",
       "      <td>0</td>\n",
       "      <td>1</td>\n",
       "      <td>0</td>\n",
       "      <td>0</td>\n",
       "    </tr>\n",
       "    <tr>\n",
       "      <th>1</th>\n",
       "      <td>60</td>\n",
       "      <td>2</td>\n",
       "      <td>0</td>\n",
       "      <td>0</td>\n",
       "      <td>40000.0</td>\n",
       "      <td>40000.0</td>\n",
       "      <td>32000.0</td>\n",
       "      <td>72</td>\n",
       "      <td>3.5</td>\n",
       "      <td>4.4472</td>\n",
       "      <td>0.67</td>\n",
       "      <td>2.3377</td>\n",
       "      <td>-0.59</td>\n",
       "      <td>0</td>\n",
       "      <td>1</td>\n",
       "      <td>0</td>\n",
       "      <td>0</td>\n",
       "      <td>1</td>\n",
       "      <td>1</td>\n",
       "      <td>0</td>\n",
       "      <td>0</td>\n",
       "      <td>1</td>\n",
       "      <td>0</td>\n",
       "      <td>0</td>\n",
       "    </tr>\n",
       "    <tr>\n",
       "      <th>2</th>\n",
       "      <td>180</td>\n",
       "      <td>7</td>\n",
       "      <td>0</td>\n",
       "      <td>0</td>\n",
       "      <td>287000.0</td>\n",
       "      <td>287000.0</td>\n",
       "      <td>215250.0</td>\n",
       "      <td>62</td>\n",
       "      <td>3.5</td>\n",
       "      <td>4.4472</td>\n",
       "      <td>0.67</td>\n",
       "      <td>2.3377</td>\n",
       "      <td>-0.59</td>\n",
       "      <td>1</td>\n",
       "      <td>0</td>\n",
       "      <td>0</td>\n",
       "      <td>0</td>\n",
       "      <td>1</td>\n",
       "      <td>1</td>\n",
       "      <td>0</td>\n",
       "      <td>1</td>\n",
       "      <td>0</td>\n",
       "      <td>0</td>\n",
       "      <td>0</td>\n",
       "    </tr>\n",
       "    <tr>\n",
       "      <th>3</th>\n",
       "      <td>60</td>\n",
       "      <td>2</td>\n",
       "      <td>0</td>\n",
       "      <td>0</td>\n",
       "      <td>35000.0</td>\n",
       "      <td>35000.0</td>\n",
       "      <td>28000.0</td>\n",
       "      <td>0</td>\n",
       "      <td>4.1</td>\n",
       "      <td>4.4472</td>\n",
       "      <td>0.67</td>\n",
       "      <td>2.3377</td>\n",
       "      <td>-0.59</td>\n",
       "      <td>1</td>\n",
       "      <td>0</td>\n",
       "      <td>0</td>\n",
       "      <td>0</td>\n",
       "      <td>1</td>\n",
       "      <td>1</td>\n",
       "      <td>0</td>\n",
       "      <td>0</td>\n",
       "      <td>1</td>\n",
       "      <td>0</td>\n",
       "      <td>0</td>\n",
       "    </tr>\n",
       "    <tr>\n",
       "      <th>4</th>\n",
       "      <td>240</td>\n",
       "      <td>14</td>\n",
       "      <td>7</td>\n",
       "      <td>7</td>\n",
       "      <td>229000.0</td>\n",
       "      <td>229000.0</td>\n",
       "      <td>229000.0</td>\n",
       "      <td>0</td>\n",
       "      <td>4.8</td>\n",
       "      <td>4.4472</td>\n",
       "      <td>0.67</td>\n",
       "      <td>2.3377</td>\n",
       "      <td>-0.59</td>\n",
       "      <td>1</td>\n",
       "      <td>0</td>\n",
       "      <td>0</td>\n",
       "      <td>0</td>\n",
       "      <td>1</td>\n",
       "      <td>1</td>\n",
       "      <td>0</td>\n",
       "      <td>1</td>\n",
       "      <td>0</td>\n",
       "      <td>0</td>\n",
       "      <td>1</td>\n",
       "    </tr>\n",
       "  </tbody>\n",
       "</table>\n",
       "</div>"
      ],
      "text/plain": [
       "   Term  NoEmp  CreateJob  RetainedJob  DisbursementGross    GrAppv  SBA_Appv  \\\n",
       "0    84      4          0            0            60000.0   60000.0   48000.0   \n",
       "1    60      2          0            0            40000.0   40000.0   32000.0   \n",
       "2   180      7          0            0           287000.0  287000.0  215250.0   \n",
       "3    60      2          0            0            35000.0   35000.0   28000.0   \n",
       "4   240     14          7            7           229000.0  229000.0  229000.0   \n",
       "\n",
       "   NAICS_sectors  unemployment_rate  gdp_growth  gdp_annual_change  \\\n",
       "0             45                3.5      4.4472               0.67   \n",
       "1             72                3.5      4.4472               0.67   \n",
       "2             62                3.5      4.4472               0.67   \n",
       "3              0                4.1      4.4472               0.67   \n",
       "4              0                4.8      4.4472               0.67   \n",
       "\n",
       "   inflation_rate  inf_rate_annual_chg  NewExist_existing_business  \\\n",
       "0          2.3377                -0.59                           0   \n",
       "1          2.3377                -0.59                           0   \n",
       "2          2.3377                -0.59                           1   \n",
       "3          2.3377                -0.59                           1   \n",
       "4          2.3377                -0.59                           1   \n",
       "\n",
       "   NewExist_new_business  UrbanRural_rural  UrbanRural_urban  \\\n",
       "0                      1                 0                 0   \n",
       "1                      1                 0                 0   \n",
       "2                      0                 0                 0   \n",
       "3                      0                 0                 0   \n",
       "4                      0                 0                 0   \n",
       "\n",
       "   isFranchise_not_franchise  RevLineCr_v2_N  RevLineCr_v2_Y  LowDoc_v2_N  \\\n",
       "0                          1               1               0            0   \n",
       "1                          1               1               0            0   \n",
       "2                          1               1               0            1   \n",
       "3                          1               1               0            0   \n",
       "4                          1               1               0            1   \n",
       "\n",
       "   LowDoc_v2_Y  MIS_Status_v2_default  state_top10  \n",
       "0            1                      0            0  \n",
       "1            1                      0            0  \n",
       "2            0                      0            0  \n",
       "3            1                      0            0  \n",
       "4            0                      0            1  "
      ]
     },
     "execution_count": 5,
     "metadata": {},
     "output_type": "execute_result"
    }
   ],
   "source": [
    "sba_loans.head()"
   ]
  },
  {
   "cell_type": "markdown",
   "id": "dcdb8b6e",
   "metadata": {},
   "source": [
    "## 3. Preprocessing Data"
   ]
  },
  {
   "cell_type": "code",
   "execution_count": 6,
   "id": "7c42b694",
   "metadata": {},
   "outputs": [],
   "source": [
    "target = 'MIS_Status_v2_default'"
   ]
  },
  {
   "cell_type": "markdown",
   "id": "b6d53291",
   "metadata": {},
   "source": [
    "### A. Standard Scaler"
   ]
  },
  {
   "cell_type": "code",
   "execution_count": 7,
   "id": "fcc080d5",
   "metadata": {},
   "outputs": [],
   "source": [
    "X_train_ss, X_test_ss, y_train_ss, y_test_ss = processing_pipeline(sba_loans, target)"
   ]
  },
  {
   "cell_type": "markdown",
   "id": "2469b5dd",
   "metadata": {},
   "source": [
    "### B. Robust Scaler"
   ]
  },
  {
   "cell_type": "code",
   "execution_count": 8,
   "id": "6d5ecf29",
   "metadata": {},
   "outputs": [],
   "source": [
    "X_train_rs, X_test_rs, y_train_rs, y_test_rs = processing_pipeline(sba_loans, target, scaler='Robust')"
   ]
  },
  {
   "cell_type": "markdown",
   "id": "8c4b0f21",
   "metadata": {},
   "source": [
    "## 4. Evaluation Metrics\n",
    "\n",
    "The following evlaution metrics will be used to evaluate the effectiveness of the logistic models.\n",
    "\n",
    "**Accuracy Score**\n",
    "\n",
    "Blurb about accuracy score.\n",
    "\n",
    "**Classifiation Report**\n",
    "\n",
    "Blurb about Classification Report\n",
    "\n",
    "**Matthew's Correlation Coefficient**\n",
    "\n",
    "Blurb about MCC\n",
    "\n",
    "**F1 Score**\n",
    "\n",
    "Blurb about F1 Score and why it will be the main metric for evaluation"
   ]
  },
  {
   "cell_type": "markdown",
   "id": "12d56135",
   "metadata": {},
   "source": [
    "## 5. Simple Model"
   ]
  },
  {
   "cell_type": "markdown",
   "id": "ee7270d5",
   "metadata": {},
   "source": [
    "### A. Standard Scaler"
   ]
  },
  {
   "cell_type": "code",
   "execution_count": 9,
   "id": "7c9876c7",
   "metadata": {},
   "outputs": [],
   "source": [
    "logreg_mod1 = LogisticRegression(random_state = 42)\n",
    "y_pred = createModel(logreg_mod1, X_train_ss, y_train_ss, X_test_ss)"
   ]
  },
  {
   "cell_type": "code",
   "execution_count": 10,
   "id": "12699390",
   "metadata": {},
   "outputs": [],
   "source": [
    "metrics = createClassificationMetrics(y_pred, y_test_ss)"
   ]
  },
  {
   "cell_type": "code",
   "execution_count": 11,
   "id": "25725faa",
   "metadata": {},
   "outputs": [
    {
     "name": "stdout",
     "output_type": "stream",
     "text": [
      "Accuracy Score: 0.8488\n"
     ]
    }
   ],
   "source": [
    "print('Accuracy Score: ' + str(round(metrics['acc'], 4)))"
   ]
  },
  {
   "cell_type": "code",
   "execution_count": 12,
   "id": "11b7e106",
   "metadata": {},
   "outputs": [
    {
     "name": "stdout",
     "output_type": "stream",
     "text": [
      "Classification Report: \n",
      "              precision    recall  f1-score   support\n",
      "\n",
      "        paid       0.97      0.86      0.91    251315\n",
      "     default       0.25      0.68      0.37     17539\n",
      "\n",
      "    accuracy                           0.85    268854\n",
      "   macro avg       0.61      0.77      0.64    268854\n",
      "weighted avg       0.93      0.85      0.88    268854\n",
      "\n"
     ]
    }
   ],
   "source": [
    "print('Classification Report: \\n' + metrics['cr'])"
   ]
  },
  {
   "cell_type": "code",
   "execution_count": 13,
   "id": "6bb71ead",
   "metadata": {},
   "outputs": [
    {
     "name": "stdout",
     "output_type": "stream",
     "text": [
      "Matthew's Correlation Coefficient: 0.3524\n"
     ]
    }
   ],
   "source": [
    "print('Matthew\\'s Correlation Coefficient: ' + str(round(metrics['mcc'],4)))"
   ]
  },
  {
   "cell_type": "code",
   "execution_count": 14,
   "id": "e20a5442",
   "metadata": {},
   "outputs": [
    {
     "name": "stdout",
     "output_type": "stream",
     "text": [
      "F1 Score: 0.3704\n"
     ]
    }
   ],
   "source": [
    "print('F1 Score: ' + str(round(metrics['f1'], 4)))"
   ]
  },
  {
   "cell_type": "markdown",
   "id": "4b766dc4",
   "metadata": {},
   "source": [
    "### B. Robust Scaler"
   ]
  },
  {
   "cell_type": "code",
   "execution_count": 15,
   "id": "c0b1eb71",
   "metadata": {},
   "outputs": [],
   "source": [
    "logreg_rs_mod1 = LogisticRegression(random_state = 42)\n",
    "y_pred = createModel(logreg_rs_mod1, X_train_rs, y_train_rs, X_test_rs)"
   ]
  },
  {
   "cell_type": "code",
   "execution_count": 16,
   "id": "7f0f4456",
   "metadata": {},
   "outputs": [],
   "source": [
    "metrics = createClassificationMetrics(y_pred, y_test_rs)"
   ]
  },
  {
   "cell_type": "code",
   "execution_count": 17,
   "id": "f554a5ff",
   "metadata": {},
   "outputs": [
    {
     "name": "stdout",
     "output_type": "stream",
     "text": [
      "Accuracy Score: 0.8457\n"
     ]
    }
   ],
   "source": [
    "print('Accuracy Score: ' + str(round(metrics['acc'], 4)))"
   ]
  },
  {
   "cell_type": "code",
   "execution_count": 18,
   "id": "a796e24d",
   "metadata": {},
   "outputs": [
    {
     "name": "stdout",
     "output_type": "stream",
     "text": [
      "Classification Report: \n",
      "              precision    recall  f1-score   support\n",
      "\n",
      "        paid       0.98      0.86      0.91    252905\n",
      "     default       0.23      0.67      0.34     15949\n",
      "\n",
      "    accuracy                           0.85    268854\n",
      "   macro avg       0.60      0.76      0.63    268854\n",
      "weighted avg       0.93      0.85      0.88    268854\n",
      "\n"
     ]
    }
   ],
   "source": [
    "print('Classification Report: \\n' + metrics['cr'])"
   ]
  },
  {
   "cell_type": "code",
   "execution_count": 19,
   "id": "73176c75",
   "metadata": {},
   "outputs": [
    {
     "name": "stdout",
     "output_type": "stream",
     "text": [
      "Matthew's Correlation Coefficient: 0.3295\n"
     ]
    }
   ],
   "source": [
    "print('Matthew\\'s Correlation Coefficient: ' + str(round(metrics['mcc'],4)))"
   ]
  },
  {
   "cell_type": "code",
   "execution_count": 20,
   "id": "ab96577b",
   "metadata": {},
   "outputs": [
    {
     "name": "stdout",
     "output_type": "stream",
     "text": [
      "F1 Score: 0.3411\n"
     ]
    }
   ],
   "source": [
    "print('F1 Score: ' + str(round(metrics['f1'], 4)))"
   ]
  },
  {
   "cell_type": "markdown",
   "id": "377a0956",
   "metadata": {},
   "source": [
    "## 6. Grid Search Cross Validation"
   ]
  },
  {
   "cell_type": "code",
   "execution_count": 21,
   "id": "ef37f9cb",
   "metadata": {},
   "outputs": [],
   "source": [
    "model_results = []"
   ]
  },
  {
   "cell_type": "code",
   "execution_count": 22,
   "id": "2b21bbcf",
   "metadata": {},
   "outputs": [],
   "source": [
    "param_grid = {\n",
    "    'C': [0.001, 0.1, 1, 10, 100],\n",
    "    'penalty': ['none', 'l1', 'l2', 'elasticnet'],\n",
    "    'fit_intercept': [True, False],\n",
    "    'solver': ['saga']\n",
    "}"
   ]
  },
  {
   "cell_type": "markdown",
   "id": "998624e8",
   "metadata": {},
   "source": [
    "### A. Standard Scaler"
   ]
  },
  {
   "cell_type": "code",
   "execution_count": 23,
   "id": "85dde601",
   "metadata": {},
   "outputs": [],
   "source": [
    "mod_info = {\n",
    "    'model': 'Logistic Regression',\n",
    "    'method': 'Grid Search',\n",
    "    'scaler': 'Standard'\n",
    "}"
   ]
  },
  {
   "cell_type": "code",
   "execution_count": 24,
   "id": "0ff90e5c",
   "metadata": {},
   "outputs": [],
   "source": [
    "lgr = LogisticRegression(random_state=42)\n",
    "lgr_ss_best_params, y_pred = runGridSearchAnalysis(lgr, param_grid, X_train_ss, y_train_ss, X_test_ss)"
   ]
  },
  {
   "cell_type": "markdown",
   "id": "273e93ae",
   "metadata": {},
   "source": [
    "**Evaluation Metrics**"
   ]
  },
  {
   "cell_type": "code",
   "execution_count": 25,
   "id": "4871a22b",
   "metadata": {},
   "outputs": [
    {
     "name": "stdout",
     "output_type": "stream",
     "text": [
      "Accuracy Score: 0.5609810529134772\n",
      "Classification Report: \n",
      "              precision    recall  f1-score   support\n",
      "\n",
      "        paid       0.49      0.95      0.65    114369\n",
      "     default       0.89      0.27      0.41    154485\n",
      "\n",
      "    accuracy                           0.56    268854\n",
      "   macro avg       0.69      0.61      0.53    268854\n",
      "weighted avg       0.72      0.56      0.51    268854\n",
      "\n",
      "Matthew's Correlation Coefficient: 0.2915600807633472\n",
      "F1 Score: 0.41419836417057104\n"
     ]
    }
   ],
   "source": [
    "metrics = createClassificationMetrics(y_pred, y_test_ss)\n",
    "print('Accuracy Score: {}'.format(metrics['acc']))\n",
    "print('Classification Report: \\n{}'.format(metrics['cr']))\n",
    "print('Matthew\\'s Correlation Coefficient: {}'.format(metrics['mcc']))\n",
    "print('F1 Score: {}'.format(metrics['f1']))"
   ]
  },
  {
   "cell_type": "markdown",
   "id": "444cdb89",
   "metadata": {},
   "source": [
    "**Confusion Matrix**"
   ]
  },
  {
   "cell_type": "code",
   "execution_count": 26,
   "id": "56214d21",
   "metadata": {},
   "outputs": [
    {
     "data": {
      "image/png": "[encoded data removed]",
      "text/plain": [
       "<Figure size 432x288 with 2 Axes>"
      ]
     },
     "metadata": {
      "needs_background": "light"
     },
     "output_type": "display_data"
    }
   ],
   "source": [
    "matrix = createConfusionMatrix(y_test_ss, y_pred, mod_info)"
   ]
  },
  {
   "cell_type": "markdown",
   "id": "65506738",
   "metadata": {},
   "source": [
    "**ROC Curve**"
   ]
  },
  {
   "cell_type": "code",
   "execution_count": 27,
   "id": "37207e7b",
   "metadata": {},
   "outputs": [
    {
     "data": {
      "image/png": "[encoded data removed]",
      "text/plain": [
       "<Figure size 432x288 with 1 Axes>"
      ]
     },
     "metadata": {
      "needs_background": "light"
     },
     "output_type": "display_data"
    }
   ],
   "source": [
    "roc_mod = LogisticRegression(**lgr_ss_best_params, random_state=42)\n",
    "metrics['auc'] = drawRocCurve(roc_mod, X_train_ss, X_test_ss, y_train_ss, y_test_ss, mod_info)"
   ]
  },
  {
   "cell_type": "code",
   "execution_count": 28,
   "id": "228f0ad8",
   "metadata": {},
   "outputs": [
    {
     "name": "stdout",
     "output_type": "stream",
     "text": [
      "0.8210549627477958\n"
     ]
    }
   ],
   "source": [
    "print(metrics['auc'])"
   ]
  },
  {
   "cell_type": "markdown",
   "id": "f4865a55",
   "metadata": {},
   "source": [
    "**Append Results**"
   ]
  },
  {
   "cell_type": "code",
   "execution_count": 29,
   "id": "2e17f0ee",
   "metadata": {},
   "outputs": [],
   "source": [
    "model_results, best_model_params = appendModelingResults(model_results, best_model_params, mod_info,\n",
    "                                                         lgr_ss_best_params, matrix, metrics)"
   ]
  },
  {
   "cell_type": "markdown",
   "id": "4b8d612d",
   "metadata": {},
   "source": [
    "### B. Robust Scaler"
   ]
  },
  {
   "cell_type": "code",
   "execution_count": 30,
   "id": "fdae3962",
   "metadata": {},
   "outputs": [],
   "source": [
    "mod_info = {\n",
    "    'model': 'Logistic Regression',\n",
    "    'method': 'Grid Search',\n",
    "    'scaler': 'Robust'\n",
    "}"
   ]
  },
  {
   "cell_type": "code",
   "execution_count": 31,
   "id": "eeba0f03",
   "metadata": {},
   "outputs": [],
   "source": [
    "lgr = LogisticRegression(random_state=42)\n",
    "lgr_gs_rs_params, y_pred = runGridSearchAnalysis(lgr, param_grid, X_train_rs, y_train_rs, X_test_rs)"
   ]
  },
  {
   "cell_type": "markdown",
   "id": "ca8235dd",
   "metadata": {},
   "source": [
    "**Evaluation Metrics**"
   ]
  },
  {
   "cell_type": "code",
   "execution_count": 32,
   "id": "a10bb2f2",
   "metadata": {},
   "outputs": [
    {
     "name": "stdout",
     "output_type": "stream",
     "text": [
      "Accuracy Score: 0.8147061230258802\n",
      "Classification Report: \n",
      "              precision    recall  f1-score   support\n",
      "\n",
      "        paid       0.90      0.88      0.89    225842\n",
      "     default       0.43      0.47      0.45     43012\n",
      "\n",
      "    accuracy                           0.81    268854\n",
      "   macro avg       0.66      0.67      0.67    268854\n",
      "weighted avg       0.82      0.81      0.82    268854\n",
      "\n",
      "Matthew's Correlation Coefficient: 0.33603413455619535\n",
      "F1 Score: 0.4465700161084264\n"
     ]
    }
   ],
   "source": [
    "metrics = createClassificationMetrics(y_pred, y_test_rs)\n",
    "print('Accuracy Score: {}'.format(metrics['acc']))\n",
    "print('Classification Report: \\n{}'.format(metrics['cr']))\n",
    "print('Matthew\\'s Correlation Coefficient: {}'.format(metrics['mcc']))\n",
    "print('F1 Score: {}'.format(metrics['f1']))\n"
   ]
  },
  {
   "cell_type": "markdown",
   "id": "5311a54d",
   "metadata": {},
   "source": [
    "**Confusion Matrix**"
   ]
  },
  {
   "cell_type": "code",
   "execution_count": 33,
   "id": "964b13d2",
   "metadata": {},
   "outputs": [
    {
     "data": {
      "image/png": "[encoded data removed]",
      "text/plain": [
       "<Figure size 432x288 with 2 Axes>"
      ]
     },
     "metadata": {
      "needs_background": "light"
     },
     "output_type": "display_data"
    }
   ],
   "source": [
    "matrix = createConfusionMatrix(y_test_rs, y_pred, mod_info)"
   ]
  },
  {
   "cell_type": "markdown",
   "id": "85168b97",
   "metadata": {},
   "source": [
    "**ROC Curve**"
   ]
  },
  {
   "cell_type": "code",
   "execution_count": 34,
   "id": "6baa838a",
   "metadata": {},
   "outputs": [
    {
     "data": {
      "image/png": "[encoded data removed]",
      "text/plain": [
       "<Figure size 432x288 with 1 Axes>"
      ]
     },
     "metadata": {
      "needs_background": "light"
     },
     "output_type": "display_data"
    }
   ],
   "source": [
    "roc_mod = LogisticRegression(**lgr_gs_rs_params, random_state=42)\n",
    "metrics['auc'] = drawRocCurve(roc_mod, X_train_rs, X_test_rs, y_train_rs, y_test_rs, mod_info)"
   ]
  },
  {
   "cell_type": "code",
   "execution_count": 35,
   "id": "3f76ac79",
   "metadata": {},
   "outputs": [
    {
     "name": "stdout",
     "output_type": "stream",
     "text": [
      "0.7582424485653568\n"
     ]
    }
   ],
   "source": [
    "print(metrics['auc'])"
   ]
  },
  {
   "cell_type": "markdown",
   "id": "1a0c7934",
   "metadata": {},
   "source": [
    "**Append Results**"
   ]
  },
  {
   "cell_type": "code",
   "execution_count": 36,
   "id": "5053c1d4",
   "metadata": {},
   "outputs": [],
   "source": [
    "model_results, best_model_params = appendModelingResults(model_results, best_model_params, mod_info,\n",
    "                                                          lgr_gs_rs_params, matrix, metrics)"
   ]
  },
  {
   "cell_type": "markdown",
   "id": "2deef12e",
   "metadata": {},
   "source": [
    "## 7. Bayesian Optimization"
   ]
  },
  {
   "cell_type": "markdown",
   "id": "0e46dd2c",
   "metadata": {},
   "source": [
    "**Constants**"
   ]
  },
  {
   "cell_type": "code",
   "execution_count": 37,
   "id": "1540f1c5",
   "metadata": {},
   "outputs": [],
   "source": [
    "dg = {\n",
    "    'penalty': ['none', 'l1', 'l2'],\n",
    "    'fit_intercept': [True, False],\n",
    "}\n",
    "c = {\n",
    "    'solver': 'saga'\n",
    "}\n",
    "ss = {\n",
    "    \"C\": (0.001, 100),\n",
    "    \"fit_intercept\": (0, 1),\n",
    "    \"penalty\": (0, 2)\n",
    "}"
   ]
  },
  {
   "cell_type": "markdown",
   "id": "4070ad09",
   "metadata": {},
   "source": [
    "### Standard Scaler"
   ]
  },
  {
   "cell_type": "code",
   "execution_count": 38,
   "id": "ac354b8e",
   "metadata": {},
   "outputs": [],
   "source": [
    "mod_info = {\n",
    "    'model': 'Logistic Regression',\n",
    "    'method': 'Bayesian Optimization',\n",
    "    'scaler': 'Standard'\n",
    "}"
   ]
  },
  {
   "cell_type": "code",
   "execution_count": 39,
   "id": "68becc2b",
   "metadata": {},
   "outputs": [
    {
     "name": "stdout",
     "output_type": "stream",
     "text": [
      "|   iter    |  target   |     C     | fit_in... |  penalty  |\n",
      "-------------------------------------------------------------\n",
      "| \u001b[0m 1       \u001b[0m | \u001b[0m 0.4135  \u001b[0m | \u001b[0m 37.45   \u001b[0m | \u001b[0m 0.9507  \u001b[0m | \u001b[0m 1.464   \u001b[0m |\n",
      "| \u001b[0m 2       \u001b[0m | \u001b[0m 0.368   \u001b[0m | \u001b[0m 59.87   \u001b[0m | \u001b[0m 0.156   \u001b[0m | \u001b[0m 0.312   \u001b[0m |\n",
      "| \u001b[0m 3       \u001b[0m | \u001b[0m 0.4135  \u001b[0m | \u001b[0m 5.809   \u001b[0m | \u001b[0m 0.8662  \u001b[0m | \u001b[0m 1.202   \u001b[0m |\n",
      "| \u001b[0m 4       \u001b[0m | \u001b[0m 0.368   \u001b[0m | \u001b[0m 70.81   \u001b[0m | \u001b[0m 0.02058 \u001b[0m | \u001b[0m 1.94    \u001b[0m |\n",
      "| \u001b[0m 5       \u001b[0m | \u001b[0m 0.368   \u001b[0m | \u001b[0m 83.24   \u001b[0m | \u001b[0m 0.2123  \u001b[0m | \u001b[0m 0.3636  \u001b[0m |\n",
      "| \u001b[0m 6       \u001b[0m | \u001b[0m 0.368   \u001b[0m | \u001b[0m 22.12   \u001b[0m | \u001b[0m 0.0     \u001b[0m | \u001b[0m 0.0     \u001b[0m |\n",
      "| \u001b[0m 7       \u001b[0m | \u001b[0m 0.4135  \u001b[0m | \u001b[0m 36.42   \u001b[0m | \u001b[0m 0.7833  \u001b[0m | \u001b[0m 1.209   \u001b[0m |\n",
      "| \u001b[0m 8       \u001b[0m | \u001b[0m 0.3251  \u001b[0m | \u001b[0m 0.001   \u001b[0m | \u001b[0m 0.0     \u001b[0m | \u001b[0m 2.0     \u001b[0m |\n",
      "| \u001b[95m 9       \u001b[0m | \u001b[95m 0.4135  \u001b[0m | \u001b[95m 8.919   \u001b[0m | \u001b[95m 1.0     \u001b[0m | \u001b[95m 0.7504  \u001b[0m |\n",
      "| \u001b[0m 10      \u001b[0m | \u001b[0m 0.368   \u001b[0m | \u001b[0m 42.84   \u001b[0m | \u001b[0m 0.0     \u001b[0m | \u001b[0m 0.0     \u001b[0m |\n",
      "| \u001b[95m 11      \u001b[0m | \u001b[95m 0.4135  \u001b[0m | \u001b[95m 31.57   \u001b[0m | \u001b[95m 1.0     \u001b[0m | \u001b[95m 2.0     \u001b[0m |\n",
      "| \u001b[0m 12      \u001b[0m | \u001b[0m 0.368   \u001b[0m | \u001b[0m 13.6    \u001b[0m | \u001b[0m 0.0     \u001b[0m | \u001b[0m 2.0     \u001b[0m |\n",
      "| \u001b[0m 13      \u001b[0m | \u001b[0m 0.368   \u001b[0m | \u001b[0m 28.76   \u001b[0m | \u001b[0m 0.006158\u001b[0m | \u001b[0m 0.02643 \u001b[0m |\n",
      "| \u001b[0m 14      \u001b[0m | \u001b[0m 0.4135  \u001b[0m | \u001b[0m 33.43   \u001b[0m | \u001b[0m 0.5242  \u001b[0m | \u001b[0m 0.01332 \u001b[0m |\n",
      "| \u001b[0m 15      \u001b[0m | \u001b[0m 0.4135  \u001b[0m | \u001b[0m 100.0   \u001b[0m | \u001b[0m 1.0     \u001b[0m | \u001b[0m 2.0     \u001b[0m |\n",
      "=============================================================\n"
     ]
    }
   ],
   "source": [
    "lgr_bo_ss_params = obtain_best_bayes_model(LogisticRegression, X_train_ss, y_train_ss, dg, ss, c)"
   ]
  },
  {
   "cell_type": "code",
   "execution_count": 40,
   "id": "ba53eb2c",
   "metadata": {},
   "outputs": [],
   "source": [
    "lgr_bo_ss_mod1 = LogisticRegression(**lgr_bo_ss_params, random_state=42)\n",
    "y_pred = createModel(lgr_bo_ss_mod1, X_train_ss, y_train_ss, X_test_ss)"
   ]
  },
  {
   "cell_type": "markdown",
   "id": "247cd3d3",
   "metadata": {},
   "source": [
    "**Evaluation Metrics**"
   ]
  },
  {
   "cell_type": "code",
   "execution_count": 41,
   "id": "063249c1",
   "metadata": {},
   "outputs": [
    {
     "name": "stdout",
     "output_type": "stream",
     "text": [
      "Accuracy Score: 0.5609810529134772\n",
      "Classification Report: \n",
      "              precision    recall  f1-score   support\n",
      "\n",
      "        paid       0.49      0.95      0.65    114369\n",
      "     default       0.89      0.27      0.41    154485\n",
      "\n",
      "    accuracy                           0.56    268854\n",
      "   macro avg       0.69      0.61      0.53    268854\n",
      "weighted avg       0.72      0.56      0.51    268854\n",
      "\n",
      "Matthew's Correlation Coefficient: 0.2915600807633472\n",
      "F1 Score: 0.41419836417057104\n"
     ]
    }
   ],
   "source": [
    "metrics = createClassificationMetrics(y_pred, y_test_ss)\n",
    "print('Accuracy Score: {}'.format(metrics['acc']))\n",
    "print('Classification Report: \\n{}'.format(metrics['cr']))\n",
    "print('Matthew\\'s Correlation Coefficient: {}'.format(metrics['mcc']))\n",
    "print('F1 Score: {}'.format(metrics['f1']))"
   ]
  },
  {
   "cell_type": "markdown",
   "id": "a0dea059",
   "metadata": {},
   "source": [
    "**Confusion Matrix**"
   ]
  },
  {
   "cell_type": "code",
   "execution_count": 42,
   "id": "7d58edb9",
   "metadata": {},
   "outputs": [
    {
     "data": {
      "image/png": "[encoded data removed]",
      "text/plain": [
       "<Figure size 432x288 with 2 Axes>"
      ]
     },
     "metadata": {
      "needs_background": "light"
     },
     "output_type": "display_data"
    }
   ],
   "source": [
    "matrix = createConfusionMatrix(y_test_ss, y_pred, mod_info)"
   ]
  },
  {
   "cell_type": "markdown",
   "id": "1036a34a",
   "metadata": {},
   "source": [
    "**ROC Curve**"
   ]
  },
  {
   "cell_type": "code",
   "execution_count": 43,
   "id": "43515ea9",
   "metadata": {},
   "outputs": [
    {
     "data": {
      "image/png": "[encoded data removed]",
      "text/plain": [
       "<Figure size 432x288 with 1 Axes>"
      ]
     },
     "metadata": {
      "needs_background": "light"
     },
     "output_type": "display_data"
    }
   ],
   "source": [
    "metrics['auc'] = drawRocCurve(lgr_bo_ss_mod1, X_train_ss, X_test_ss, y_train_ss, y_test_ss, mod_info)"
   ]
  },
  {
   "cell_type": "markdown",
   "id": "844bf90f",
   "metadata": {},
   "source": [
    "**Append Results**"
   ]
  },
  {
   "cell_type": "code",
   "execution_count": 44,
   "id": "244a480a",
   "metadata": {},
   "outputs": [],
   "source": [
    "model_results, best_model_params = appendModelingResults(model_results, best_model_params, mod_info,\n",
    "                                                          lgr_bo_ss_params, matrix, metrics)"
   ]
  },
  {
   "cell_type": "markdown",
   "id": "749a5ecf",
   "metadata": {},
   "source": [
    "### B. Robust Scaler"
   ]
  },
  {
   "cell_type": "code",
   "execution_count": 45,
   "id": "ea5fca68",
   "metadata": {},
   "outputs": [],
   "source": [
    "mod_info = {\n",
    "    'model': 'Logistic Regression',\n",
    "    'method': 'Bayesian Optimization',\n",
    "    'scaler': 'Robust'\n",
    "}"
   ]
  },
  {
   "cell_type": "code",
   "execution_count": 46,
   "id": "2d7b2b4a",
   "metadata": {},
   "outputs": [
    {
     "name": "stdout",
     "output_type": "stream",
     "text": [
      "|   iter    |  target   |     C     | fit_in... |  penalty  |\n",
      "-------------------------------------------------------------\n",
      "| \u001b[0m 1       \u001b[0m | \u001b[0m 0.448   \u001b[0m | \u001b[0m 37.45   \u001b[0m | \u001b[0m 0.9507  \u001b[0m | \u001b[0m 1.464   \u001b[0m |\n",
      "| \u001b[0m 2       \u001b[0m | \u001b[0m 0.1386  \u001b[0m | \u001b[0m 59.87   \u001b[0m | \u001b[0m 0.156   \u001b[0m | \u001b[0m 0.312   \u001b[0m |\n",
      "| \u001b[0m 3       \u001b[0m | \u001b[0m 0.448   \u001b[0m | \u001b[0m 5.809   \u001b[0m | \u001b[0m 0.8662  \u001b[0m | \u001b[0m 1.202   \u001b[0m |\n",
      "| \u001b[0m 4       \u001b[0m | \u001b[0m 0.1386  \u001b[0m | \u001b[0m 70.81   \u001b[0m | \u001b[0m 0.02058 \u001b[0m | \u001b[0m 1.94    \u001b[0m |\n",
      "| \u001b[0m 5       \u001b[0m | \u001b[0m 0.1386  \u001b[0m | \u001b[0m 83.24   \u001b[0m | \u001b[0m 0.2123  \u001b[0m | \u001b[0m 0.3636  \u001b[0m |\n",
      "| \u001b[0m 6       \u001b[0m | \u001b[0m 0.1386  \u001b[0m | \u001b[0m 22.12   \u001b[0m | \u001b[0m 0.0     \u001b[0m | \u001b[0m 0.0     \u001b[0m |\n",
      "| \u001b[0m 7       \u001b[0m | \u001b[0m 0.448   \u001b[0m | \u001b[0m 38.51   \u001b[0m | \u001b[0m 0.7486  \u001b[0m | \u001b[0m 1.444   \u001b[0m |\n",
      "| \u001b[0m 8       \u001b[0m | \u001b[0m 0.1381  \u001b[0m | \u001b[0m 0.001   \u001b[0m | \u001b[0m 0.0     \u001b[0m | \u001b[0m 2.0     \u001b[0m |\n",
      "| \u001b[0m 9       \u001b[0m | \u001b[0m 0.448   \u001b[0m | \u001b[0m 9.915   \u001b[0m | \u001b[0m 1.0     \u001b[0m | \u001b[0m 0.0     \u001b[0m |\n",
      "| \u001b[0m 10      \u001b[0m | \u001b[0m 0.448   \u001b[0m | \u001b[0m 46.34   \u001b[0m | \u001b[0m 1.0     \u001b[0m | \u001b[0m 0.0     \u001b[0m |\n",
      "| \u001b[0m 11      \u001b[0m | \u001b[0m 0.448   \u001b[0m | \u001b[0m 99.99   \u001b[0m | \u001b[0m 0.9861  \u001b[0m | \u001b[0m 1.704   \u001b[0m |\n",
      "| \u001b[0m 12      \u001b[0m | \u001b[0m 0.1386  \u001b[0m | \u001b[0m 94.45   \u001b[0m | \u001b[0m 0.0     \u001b[0m | \u001b[0m 0.0     \u001b[0m |\n",
      "| \u001b[0m 13      \u001b[0m | \u001b[0m 0.1386  \u001b[0m | \u001b[0m 50.61   \u001b[0m | \u001b[0m 0.0     \u001b[0m | \u001b[0m 2.0     \u001b[0m |\n",
      "| \u001b[0m 14      \u001b[0m | \u001b[0m 0.1386  \u001b[0m | \u001b[0m 43.06   \u001b[0m | \u001b[0m 0.03043 \u001b[0m | \u001b[0m 0.02322 \u001b[0m |\n",
      "| \u001b[0m 15      \u001b[0m | \u001b[0m 0.448   \u001b[0m | \u001b[0m 7.678   \u001b[0m | \u001b[0m 1.0     \u001b[0m | \u001b[0m 0.0     \u001b[0m |\n",
      "=============================================================\n"
     ]
    }
   ],
   "source": [
    "lgr_bo_rs_params = obtain_best_bayes_model(LogisticRegression, X_train_rs, y_train_rs, dg, ss, c)"
   ]
  },
  {
   "cell_type": "code",
   "execution_count": 47,
   "id": "b632fb83",
   "metadata": {},
   "outputs": [],
   "source": [
    "lgr_bo_rs_mod1 = LogisticRegression(**lgr_bo_rs_params, random_state=42)\n",
    "y_pred = createModel(lgr_bo_rs_mod1, X_train_rs, y_train_rs, X_test_rs)"
   ]
  },
  {
   "cell_type": "markdown",
   "id": "ff1e12c2",
   "metadata": {},
   "source": [
    "**Evaluation Metrics**"
   ]
  },
  {
   "cell_type": "code",
   "execution_count": 48,
   "id": "f3a1ccc0",
   "metadata": {},
   "outputs": [
    {
     "name": "stdout",
     "output_type": "stream",
     "text": [
      "Accuracy Score: 0.8150594746591087\n",
      "Classification Report: \n",
      "              precision    recall  f1-score   support\n",
      "\n",
      "        paid       0.90      0.88      0.89    226059\n",
      "     default       0.43      0.47      0.45     42795\n",
      "\n",
      "    accuracy                           0.82    268854\n",
      "   macro avg       0.66      0.67      0.67    268854\n",
      "weighted avg       0.82      0.82      0.82    268854\n",
      "\n",
      "Matthew's Correlation Coefficient: 0.3361059515021983\n",
      "F1 Score: 0.4462905632642153\n"
     ]
    }
   ],
   "source": [
    "metrics = createClassificationMetrics(y_pred, y_test_rs)\n",
    "print('Accuracy Score: {}'.format(metrics['acc']))\n",
    "print('Classification Report: \\n{}'.format(metrics['cr']))\n",
    "print('Matthew\\'s Correlation Coefficient: {}'.format(metrics['mcc']))\n",
    "print('F1 Score: {}'.format(metrics['f1']))"
   ]
  },
  {
   "cell_type": "markdown",
   "id": "f8ef802f",
   "metadata": {},
   "source": [
    "**Confusion Matrix**"
   ]
  },
  {
   "cell_type": "code",
   "execution_count": 49,
   "id": "c76e5e7a",
   "metadata": {},
   "outputs": [
    {
     "data": {
      "image/png": "[encoded data removed]",
      "text/plain": [
       "<Figure size 432x288 with 2 Axes>"
      ]
     },
     "metadata": {
      "needs_background": "light"
     },
     "output_type": "display_data"
    }
   ],
   "source": [
    "matrix = createConfusionMatrix(y_test_rs, y_pred, mod_info)"
   ]
  },
  {
   "cell_type": "markdown",
   "id": "74cb039f",
   "metadata": {},
   "source": [
    "**ROC Curve**"
   ]
  },
  {
   "cell_type": "code",
   "execution_count": 50,
   "id": "804ad14d",
   "metadata": {},
   "outputs": [
    {
     "data": {
      "image/png": "[encoded data removed]",
      "text/plain": [
       "<Figure size 432x288 with 1 Axes>"
      ]
     },
     "metadata": {
      "needs_background": "light"
     },
     "output_type": "display_data"
    }
   ],
   "source": [
    "metrics['auc'] = drawRocCurve(lgr_bo_rs_mod1, X_train_rs, X_test_rs, y_train_rs, y_test_rs, mod_info)"
   ]
  },
  {
   "cell_type": "code",
   "execution_count": 51,
   "id": "848cfcc9",
   "metadata": {},
   "outputs": [
    {
     "name": "stdout",
     "output_type": "stream",
     "text": [
      "0.7580226395728477\n"
     ]
    }
   ],
   "source": [
    "print(metrics['auc'])"
   ]
  },
  {
   "cell_type": "markdown",
   "id": "08b375a8",
   "metadata": {},
   "source": [
    "**Append Results**"
   ]
  },
  {
   "cell_type": "code",
   "execution_count": 52,
   "id": "65e3fca8",
   "metadata": {},
   "outputs": [],
   "source": [
    "model_results, best_model_params = appendModelingResults(model_results, best_model_params, mod_info,\n",
    "                                                          lgr_bo_rs_params, matrix, metrics)"
   ]
  },
  {
   "cell_type": "markdown",
   "id": "5bb4ab15",
   "metadata": {},
   "source": [
    "## 8. Save Model Results"
   ]
  },
  {
   "cell_type": "code",
   "execution_count": 53,
   "id": "e37e8c4b",
   "metadata": {},
   "outputs": [],
   "source": [
    "mr_df = pd.DataFrame(model_results)\n",
    "mr_df.head()\n",
    "mr_df.to_csv('./results/model_results.csv', index=False, encoding='utf-8');"
   ]
  },
  {
   "cell_type": "code",
   "execution_count": 54,
   "id": "0c7b9600",
   "metadata": {},
   "outputs": [],
   "source": [
    "with open('./results/best_params.json', 'w') as outfile:\n",
    "    json.dump(best_model_params, outfile, indent=4)"
   ]
  }
 ],
 "metadata": {
  "kernelspec": {
   "display_name": "Python 3 (ipykernel)",
   "language": "python",
   "name": "python3"
  },
  "language_info": {
   "codemirror_mode": {
    "name": "ipython",
    "version": 3
   },
   "file_extension": ".py",
   "mimetype": "text/x-python",
   "name": "python",
   "nbconvert_exporter": "python",
   "pygments_lexer": "ipython3",
   "version": "3.9.10"
  }
 },
 "nbformat": 4,
 "nbformat_minor": 5
}
