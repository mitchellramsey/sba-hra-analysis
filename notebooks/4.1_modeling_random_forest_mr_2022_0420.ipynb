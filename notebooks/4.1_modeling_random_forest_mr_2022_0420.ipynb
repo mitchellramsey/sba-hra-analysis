{
 "cells": [
  {
   "cell_type": "markdown",
   "id": "da16c58b",
   "metadata": {},
   "source": [
    "# SBA National Loan Analysis\n",
    "\n",
    "# Modeling - Part 2 - Random Forest"
   ]
  },
  {
   "cell_type": "markdown",
   "id": "8438c61d",
   "metadata": {},
   "source": [
    "## 1. Imports"
   ]
  },
  {
   "cell_type": "code",
   "execution_count": 1,
   "id": "e9a8c241",
   "metadata": {},
   "outputs": [],
   "source": [
    "import numpy as np\n",
    "import pandas as pd\n",
    "import matplotlib.pyplot as plt\n",
    "import seaborn as sns\n",
    "\n",
    "from sklearn.ensemble import RandomForestClassifier\n",
    "from sklearn.model_selection import GridSearchCV\n",
    "from sklearn.metrics import classification_report, accuracy_score, f1_score, matthews_corrcoef, confusion_matrix\n",
    "\n",
    "from library.preprocessing import processing_pipeline\n",
    "from library.modeling import (createModel, createClassificationMetrics, \n",
    "                             runGridSearchAnalysis, createConfusionMatrix, createFeatureImportanceChart)"
   ]
  },
  {
   "cell_type": "code",
   "execution_count": 2,
   "id": "c1cbbaa7",
   "metadata": {},
   "outputs": [],
   "source": [
    "import warnings\n",
    "warnings.filterwarnings('ignore')\n",
    "\n",
    "pd.set_option('display.max_columns', None)"
   ]
  },
  {
   "cell_type": "markdown",
   "id": "b9a3cb4e",
   "metadata": {},
   "source": [
    "## 2. Previewing Data"
   ]
  },
  {
   "cell_type": "code",
   "execution_count": 3,
   "id": "9c487137",
   "metadata": {},
   "outputs": [],
   "source": [
    "sba_loans = pd.read_csv('./../data/processed/sba_national_processed_final.csv')"
   ]
  },
  {
   "cell_type": "code",
   "execution_count": 4,
   "id": "40eaa8b2",
   "metadata": {},
   "outputs": [
    {
     "data": {
      "text/html": [
       "<div>\n",
       "<style scoped>\n",
       "    .dataframe tbody tr th:only-of-type {\n",
       "        vertical-align: middle;\n",
       "    }\n",
       "\n",
       "    .dataframe tbody tr th {\n",
       "        vertical-align: top;\n",
       "    }\n",
       "\n",
       "    .dataframe thead th {\n",
       "        text-align: right;\n",
       "    }\n",
       "</style>\n",
       "<table border=\"1\" class=\"dataframe\">\n",
       "  <thead>\n",
       "    <tr style=\"text-align: right;\">\n",
       "      <th></th>\n",
       "      <th>Term</th>\n",
       "      <th>NoEmp</th>\n",
       "      <th>CreateJob</th>\n",
       "      <th>RetainedJob</th>\n",
       "      <th>DisbursementGross</th>\n",
       "      <th>GrAppv</th>\n",
       "      <th>SBA_Appv</th>\n",
       "      <th>NAICS_sectors</th>\n",
       "      <th>unemployment_rate</th>\n",
       "      <th>gdp_growth</th>\n",
       "      <th>gdp_annual_change</th>\n",
       "      <th>inflation_rate</th>\n",
       "      <th>inf_rate_annual_chg</th>\n",
       "      <th>NewExist_existing_business</th>\n",
       "      <th>NewExist_new_business</th>\n",
       "      <th>UrbanRural_rural</th>\n",
       "      <th>UrbanRural_urban</th>\n",
       "      <th>isFranchise_not_franchise</th>\n",
       "      <th>RevLineCr_v2_N</th>\n",
       "      <th>RevLineCr_v2_Y</th>\n",
       "      <th>LowDoc_v2_N</th>\n",
       "      <th>LowDoc_v2_Y</th>\n",
       "      <th>MIS_Status_v2_default</th>\n",
       "      <th>state_top10</th>\n",
       "    </tr>\n",
       "  </thead>\n",
       "  <tbody>\n",
       "    <tr>\n",
       "      <th>0</th>\n",
       "      <td>84</td>\n",
       "      <td>4</td>\n",
       "      <td>0</td>\n",
       "      <td>0</td>\n",
       "      <td>60000.0</td>\n",
       "      <td>60000.0</td>\n",
       "      <td>48000.0</td>\n",
       "      <td>45</td>\n",
       "      <td>3.5</td>\n",
       "      <td>4.4472</td>\n",
       "      <td>0.67</td>\n",
       "      <td>2.3377</td>\n",
       "      <td>-0.59</td>\n",
       "      <td>0</td>\n",
       "      <td>1</td>\n",
       "      <td>0</td>\n",
       "      <td>0</td>\n",
       "      <td>1</td>\n",
       "      <td>1</td>\n",
       "      <td>0</td>\n",
       "      <td>0</td>\n",
       "      <td>1</td>\n",
       "      <td>0</td>\n",
       "      <td>0</td>\n",
       "    </tr>\n",
       "    <tr>\n",
       "      <th>1</th>\n",
       "      <td>60</td>\n",
       "      <td>2</td>\n",
       "      <td>0</td>\n",
       "      <td>0</td>\n",
       "      <td>40000.0</td>\n",
       "      <td>40000.0</td>\n",
       "      <td>32000.0</td>\n",
       "      <td>72</td>\n",
       "      <td>3.5</td>\n",
       "      <td>4.4472</td>\n",
       "      <td>0.67</td>\n",
       "      <td>2.3377</td>\n",
       "      <td>-0.59</td>\n",
       "      <td>0</td>\n",
       "      <td>1</td>\n",
       "      <td>0</td>\n",
       "      <td>0</td>\n",
       "      <td>1</td>\n",
       "      <td>1</td>\n",
       "      <td>0</td>\n",
       "      <td>0</td>\n",
       "      <td>1</td>\n",
       "      <td>0</td>\n",
       "      <td>0</td>\n",
       "    </tr>\n",
       "    <tr>\n",
       "      <th>2</th>\n",
       "      <td>180</td>\n",
       "      <td>7</td>\n",
       "      <td>0</td>\n",
       "      <td>0</td>\n",
       "      <td>287000.0</td>\n",
       "      <td>287000.0</td>\n",
       "      <td>215250.0</td>\n",
       "      <td>62</td>\n",
       "      <td>3.5</td>\n",
       "      <td>4.4472</td>\n",
       "      <td>0.67</td>\n",
       "      <td>2.3377</td>\n",
       "      <td>-0.59</td>\n",
       "      <td>1</td>\n",
       "      <td>0</td>\n",
       "      <td>0</td>\n",
       "      <td>0</td>\n",
       "      <td>1</td>\n",
       "      <td>1</td>\n",
       "      <td>0</td>\n",
       "      <td>1</td>\n",
       "      <td>0</td>\n",
       "      <td>0</td>\n",
       "      <td>0</td>\n",
       "    </tr>\n",
       "    <tr>\n",
       "      <th>3</th>\n",
       "      <td>60</td>\n",
       "      <td>2</td>\n",
       "      <td>0</td>\n",
       "      <td>0</td>\n",
       "      <td>35000.0</td>\n",
       "      <td>35000.0</td>\n",
       "      <td>28000.0</td>\n",
       "      <td>0</td>\n",
       "      <td>4.1</td>\n",
       "      <td>4.4472</td>\n",
       "      <td>0.67</td>\n",
       "      <td>2.3377</td>\n",
       "      <td>-0.59</td>\n",
       "      <td>1</td>\n",
       "      <td>0</td>\n",
       "      <td>0</td>\n",
       "      <td>0</td>\n",
       "      <td>1</td>\n",
       "      <td>1</td>\n",
       "      <td>0</td>\n",
       "      <td>0</td>\n",
       "      <td>1</td>\n",
       "      <td>0</td>\n",
       "      <td>0</td>\n",
       "    </tr>\n",
       "    <tr>\n",
       "      <th>4</th>\n",
       "      <td>240</td>\n",
       "      <td>14</td>\n",
       "      <td>7</td>\n",
       "      <td>7</td>\n",
       "      <td>229000.0</td>\n",
       "      <td>229000.0</td>\n",
       "      <td>229000.0</td>\n",
       "      <td>0</td>\n",
       "      <td>4.8</td>\n",
       "      <td>4.4472</td>\n",
       "      <td>0.67</td>\n",
       "      <td>2.3377</td>\n",
       "      <td>-0.59</td>\n",
       "      <td>1</td>\n",
       "      <td>0</td>\n",
       "      <td>0</td>\n",
       "      <td>0</td>\n",
       "      <td>1</td>\n",
       "      <td>1</td>\n",
       "      <td>0</td>\n",
       "      <td>1</td>\n",
       "      <td>0</td>\n",
       "      <td>0</td>\n",
       "      <td>1</td>\n",
       "    </tr>\n",
       "  </tbody>\n",
       "</table>\n",
       "</div>"
      ],
      "text/plain": [
       "   Term  NoEmp  CreateJob  RetainedJob  DisbursementGross    GrAppv  SBA_Appv  \\\n",
       "0    84      4          0            0            60000.0   60000.0   48000.0   \n",
       "1    60      2          0            0            40000.0   40000.0   32000.0   \n",
       "2   180      7          0            0           287000.0  287000.0  215250.0   \n",
       "3    60      2          0            0            35000.0   35000.0   28000.0   \n",
       "4   240     14          7            7           229000.0  229000.0  229000.0   \n",
       "\n",
       "   NAICS_sectors  unemployment_rate  gdp_growth  gdp_annual_change  \\\n",
       "0             45                3.5      4.4472               0.67   \n",
       "1             72                3.5      4.4472               0.67   \n",
       "2             62                3.5      4.4472               0.67   \n",
       "3              0                4.1      4.4472               0.67   \n",
       "4              0                4.8      4.4472               0.67   \n",
       "\n",
       "   inflation_rate  inf_rate_annual_chg  NewExist_existing_business  \\\n",
       "0          2.3377                -0.59                           0   \n",
       "1          2.3377                -0.59                           0   \n",
       "2          2.3377                -0.59                           1   \n",
       "3          2.3377                -0.59                           1   \n",
       "4          2.3377                -0.59                           1   \n",
       "\n",
       "   NewExist_new_business  UrbanRural_rural  UrbanRural_urban  \\\n",
       "0                      1                 0                 0   \n",
       "1                      1                 0                 0   \n",
       "2                      0                 0                 0   \n",
       "3                      0                 0                 0   \n",
       "4                      0                 0                 0   \n",
       "\n",
       "   isFranchise_not_franchise  RevLineCr_v2_N  RevLineCr_v2_Y  LowDoc_v2_N  \\\n",
       "0                          1               1               0            0   \n",
       "1                          1               1               0            0   \n",
       "2                          1               1               0            1   \n",
       "3                          1               1               0            0   \n",
       "4                          1               1               0            1   \n",
       "\n",
       "   LowDoc_v2_Y  MIS_Status_v2_default  state_top10  \n",
       "0            1                      0            0  \n",
       "1            1                      0            0  \n",
       "2            0                      0            0  \n",
       "3            1                      0            0  \n",
       "4            0                      0            1  "
      ]
     },
     "execution_count": 4,
     "metadata": {},
     "output_type": "execute_result"
    }
   ],
   "source": [
    "sba_loans.head()"
   ]
  },
  {
   "cell_type": "code",
   "execution_count": 5,
   "id": "bc0520a7",
   "metadata": {},
   "outputs": [],
   "source": [
    "target = 'MIS_Status_v2_default'\n",
    "features = sba_loans.drop(columns='MIS_Status_v2_default', axis=1).columns"
   ]
  },
  {
   "cell_type": "markdown",
   "id": "6bd5e43f",
   "metadata": {},
   "source": [
    "## 3. Random Forest with Standard Scalar"
   ]
  },
  {
   "cell_type": "code",
   "execution_count": 6,
   "id": "430668c2",
   "metadata": {},
   "outputs": [],
   "source": [
    "X_train_ss, X_test_ss, y_train_ss, y_test_ss = processing_pipeline(sba_loans, target)"
   ]
  },
  {
   "cell_type": "markdown",
   "id": "1c910ebd",
   "metadata": {},
   "source": [
    "### A. Simple Random Forest Model"
   ]
  },
  {
   "cell_type": "code",
   "execution_count": 7,
   "id": "fed4df9a",
   "metadata": {},
   "outputs": [],
   "source": [
    "rfc_ss_mod1 = RandomForestClassifier(random_state=42)\n",
    "y_pred = createModel(rfc_ss_mod1, X_train_ss, y_train_ss, X_test_ss)"
   ]
  },
  {
   "cell_type": "markdown",
   "id": "2f74e520",
   "metadata": {},
   "source": [
    "### B. Evaluation Metrics"
   ]
  },
  {
   "cell_type": "code",
   "execution_count": 8,
   "id": "240f0371",
   "metadata": {},
   "outputs": [],
   "source": [
    "acc_score, cr, f1, mcc = createClassificationMetrics(y_pred, y_test_ss)"
   ]
  },
  {
   "cell_type": "markdown",
   "id": "cef51ad7",
   "metadata": {},
   "source": [
    "**Accuracy Score**"
   ]
  },
  {
   "cell_type": "code",
   "execution_count": 9,
   "id": "90dcf329",
   "metadata": {},
   "outputs": [
    {
     "name": "stdout",
     "output_type": "stream",
     "text": [
      "0.9383977921102159\n"
     ]
    }
   ],
   "source": [
    "print(acc_score)"
   ]
  },
  {
   "cell_type": "markdown",
   "id": "244a4d8b",
   "metadata": {},
   "source": [
    "**Classification Report**"
   ]
  },
  {
   "cell_type": "code",
   "execution_count": 10,
   "id": "66d8da65",
   "metadata": {},
   "outputs": [
    {
     "name": "stdout",
     "output_type": "stream",
     "text": [
      "              precision    recall  f1-score   support\n",
      "\n",
      "        paid       0.98      0.95      0.96    227409\n",
      "     default       0.76      0.87      0.81     41445\n",
      "\n",
      "    accuracy                           0.94    268854\n",
      "   macro avg       0.87      0.91      0.89    268854\n",
      "weighted avg       0.94      0.94      0.94    268854\n",
      "\n"
     ]
    }
   ],
   "source": [
    "print(cr)"
   ]
  },
  {
   "cell_type": "markdown",
   "id": "6c6df323",
   "metadata": {},
   "source": [
    "**F1 Score**"
   ]
  },
  {
   "cell_type": "code",
   "execution_count": 11,
   "id": "431a8746",
   "metadata": {},
   "outputs": [
    {
     "name": "stdout",
     "output_type": "stream",
     "text": [
      "0.8127487337192474\n"
     ]
    }
   ],
   "source": [
    "print(f1)"
   ]
  },
  {
   "cell_type": "markdown",
   "id": "09ebbc1a",
   "metadata": {},
   "source": [
    "**Matthew's Correlation Coefficient**"
   ]
  },
  {
   "cell_type": "code",
   "execution_count": 12,
   "id": "2d396fb5",
   "metadata": {},
   "outputs": [
    {
     "name": "stdout",
     "output_type": "stream",
     "text": [
      "0.7782586200531028\n"
     ]
    }
   ],
   "source": [
    "print(mcc)"
   ]
  },
  {
   "cell_type": "markdown",
   "id": "583eb6dd",
   "metadata": {},
   "source": [
    "### C. Finding Best Random Forest Model with Standard Scaler"
   ]
  },
  {
   "cell_type": "code",
   "execution_count": 13,
   "id": "7750ec90",
   "metadata": {},
   "outputs": [],
   "source": [
    "param_grid = {\n",
    "    'criterion': ['gini', 'entropy'],\n",
    "    'max_depth': [20, None],\n",
    "    'max_features': ['auto', 'log2']\n",
    "}"
   ]
  },
  {
   "cell_type": "code",
   "execution_count": 14,
   "id": "44468f6f",
   "metadata": {},
   "outputs": [],
   "source": [
    "rfc = RandomForestClassifier(random_state=42)\n",
    "rfc_ss_best_params, y_pred = runGridSearchAnalysis(rfc, param_grid, X_train_ss, y_train_ss, X_test_ss)"
   ]
  },
  {
   "cell_type": "code",
   "execution_count": 15,
   "id": "a5103e26",
   "metadata": {},
   "outputs": [
    {
     "name": "stdout",
     "output_type": "stream",
     "text": [
      "{'criterion': 'entropy', 'max_depth': None, 'max_features': 'auto'}\n"
     ]
    }
   ],
   "source": [
    "print(rfc_ss_best_params)"
   ]
  },
  {
   "cell_type": "code",
   "execution_count": 16,
   "id": "bf1c3675",
   "metadata": {},
   "outputs": [
    {
     "name": "stdout",
     "output_type": "stream",
     "text": [
      "Accuracy Score: 0.9378584659331831\n",
      "Matthew's Correlation Coefficient: 0.7763052183674407\n",
      "F1 Score: 0.8111328412032693\n",
      "Classification Report: \n",
      "              precision    recall  f1-score   support\n",
      "\n",
      "        paid       0.97      0.95      0.96    227398\n",
      "     default       0.76      0.87      0.81     41456\n",
      "\n",
      "    accuracy                           0.94    268854\n",
      "   macro avg       0.87      0.91      0.89    268854\n",
      "weighted avg       0.94      0.94      0.94    268854\n",
      "\n"
     ]
    }
   ],
   "source": [
    "acc_score, cr, f1, mcc = createClassificationMetrics(y_pred, y_test_ss)\n",
    "print('Accuracy Score: {}'.format(acc_score))\n",
    "print('Matthew\\'s Correlation Coefficient: {}'.format(mcc))\n",
    "print('F1 Score: {}'.format(f1))\n",
    "print('Classification Report: \\n{}'.format(cr))"
   ]
  },
  {
   "cell_type": "markdown",
   "id": "4ea151cd",
   "metadata": {},
   "source": [
    "### D. Confusion Matrix"
   ]
  },
  {
   "cell_type": "code",
   "execution_count": 17,
   "id": "198a607a",
   "metadata": {},
   "outputs": [
    {
     "data": {
      "image/png": "[encoded data removed]",
      "text/plain": [
       "<Figure size 432x288 with 2 Axes>"
      ]
     },
     "metadata": {
      "needs_background": "light"
     },
     "output_type": "display_data"
    }
   ],
   "source": [
    "rfc_ss_fp = createConfusionMatrix(y_test_ss, y_pred)"
   ]
  },
  {
   "cell_type": "markdown",
   "id": "9fc03965",
   "metadata": {},
   "source": [
    "### E. Feature Importance with Best Params"
   ]
  },
  {
   "cell_type": "code",
   "execution_count": 30,
   "id": "f2572802",
   "metadata": {},
   "outputs": [
    {
     "data": {
      "image/png": "[encoded data removed]",
      "text/plain": [
       "<Figure size 720x720 with 1 Axes>"
      ]
     },
     "metadata": {
      "needs_background": "light"
     },
     "output_type": "display_data"
    }
   ],
   "source": [
    "createFeatureImportanceChart(RandomForestClassifier, rfc_ss_best_params, features,\n",
    "                             X_train_ss, y_train_ss)"
   ]
  },
  {
   "cell_type": "markdown",
   "id": "dd8753c6",
   "metadata": {},
   "source": [
    "## 4. Random Forest Classification with Robust Scaler"
   ]
  },
  {
   "cell_type": "code",
   "execution_count": 20,
   "id": "b9057ab7",
   "metadata": {},
   "outputs": [],
   "source": [
    "X_train_rs, X_test_rs, y_train_rs, y_test_rs = processing_pipeline(sba_loans, target, scaler='Robust')"
   ]
  },
  {
   "cell_type": "markdown",
   "id": "f7fd652b",
   "metadata": {},
   "source": [
    "### A. Simple Random Forest Model"
   ]
  },
  {
   "cell_type": "code",
   "execution_count": 21,
   "id": "205efb30",
   "metadata": {},
   "outputs": [],
   "source": [
    "rfc_rs_mod1 = RandomForestClassifier(random_state=42)\n",
    "y_pred = createModel(rfc_rs_mod1, X_train_rs, y_train_rs, X_test_rs)"
   ]
  },
  {
   "cell_type": "markdown",
   "id": "8ded3716",
   "metadata": {},
   "source": [
    "### B. Evaluation Metrics"
   ]
  },
  {
   "cell_type": "code",
   "execution_count": 22,
   "id": "e19ce0b4",
   "metadata": {},
   "outputs": [],
   "source": [
    "acc_score, cr, f1, mcc = createClassificationMetrics(y_pred, y_test_rs)"
   ]
  },
  {
   "cell_type": "markdown",
   "id": "0537e8fb",
   "metadata": {},
   "source": [
    "**Accuracy Score**"
   ]
  },
  {
   "cell_type": "code",
   "execution_count": 23,
   "id": "db1f99e4",
   "metadata": {},
   "outputs": [
    {
     "name": "stdout",
     "output_type": "stream",
     "text": [
      "0.9384684624368617\n"
     ]
    }
   ],
   "source": [
    "print(acc_score)"
   ]
  },
  {
   "cell_type": "markdown",
   "id": "89bec0f5",
   "metadata": {},
   "source": [
    "**Classification Report**"
   ]
  },
  {
   "cell_type": "code",
   "execution_count": 24,
   "id": "8469cd98",
   "metadata": {},
   "outputs": [
    {
     "name": "stdout",
     "output_type": "stream",
     "text": [
      "              precision    recall  f1-score   support\n",
      "\n",
      "        paid       0.98      0.95      0.96    227390\n",
      "     default       0.77      0.87      0.81     41464\n",
      "\n",
      "    accuracy                           0.94    268854\n",
      "   macro avg       0.87      0.91      0.89    268854\n",
      "weighted avg       0.94      0.94      0.94    268854\n",
      "\n"
     ]
    }
   ],
   "source": [
    "print(cr)"
   ]
  },
  {
   "cell_type": "markdown",
   "id": "25daaedc",
   "metadata": {},
   "source": [
    "**F1 Score**"
   ]
  },
  {
   "cell_type": "code",
   "execution_count": 25,
   "id": "f52db3ec",
   "metadata": {},
   "outputs": [
    {
     "name": "stdout",
     "output_type": "stream",
     "text": [
      "0.813003718900833\n"
     ]
    }
   ],
   "source": [
    "print(f1)"
   ]
  },
  {
   "cell_type": "markdown",
   "id": "8d4a960d",
   "metadata": {},
   "source": [
    "**Matthew's Correlation Coefficient**"
   ]
  },
  {
   "cell_type": "code",
   "execution_count": 26,
   "id": "85ad0569",
   "metadata": {},
   "outputs": [
    {
     "name": "stdout",
     "output_type": "stream",
     "text": [
      "0.7785379045891734\n"
     ]
    }
   ],
   "source": [
    "print(mcc)"
   ]
  },
  {
   "cell_type": "markdown",
   "id": "46e85dd6",
   "metadata": {},
   "source": [
    "### C. Finding Best Random Forest Model with Robust Scaler"
   ]
  },
  {
   "cell_type": "code",
   "execution_count": 27,
   "id": "bf271584",
   "metadata": {},
   "outputs": [],
   "source": [
    "param_grid = {\n",
    "    'criterion': ['gini', 'entropy'],\n",
    "    'max_depth': [20, None],\n",
    "    'max_features': ['auto', 'log2']\n",
    "}"
   ]
  },
  {
   "cell_type": "code",
   "execution_count": 31,
   "id": "a6afc7e6",
   "metadata": {},
   "outputs": [],
   "source": [
    "rfc = RandomForestClassifier(random_state=42)\n",
    "rfc_rs_best_params, y_pred = runGridSearchAnalysis(rfc, param_grid, X_train_rs, y_train_rs, X_test_rs)"
   ]
  },
  {
   "cell_type": "code",
   "execution_count": 32,
   "id": "c999a40c",
   "metadata": {},
   "outputs": [
    {
     "name": "stdout",
     "output_type": "stream",
     "text": [
      "{'criterion': 'entropy', 'max_depth': None, 'max_features': 'auto'}\n"
     ]
    }
   ],
   "source": [
    "print(rfc_rs_best_params)"
   ]
  },
  {
   "cell_type": "code",
   "execution_count": 33,
   "id": "b7f6ee1d",
   "metadata": {},
   "outputs": [
    {
     "name": "stdout",
     "output_type": "stream",
     "text": [
      "Accuracy Score: 0.9379179777872005\n",
      "Matthew's Correlation Coefficient: 0.776554667224084\n",
      "F1 Score: 0.8113734220846\n",
      "Classification Report: \n",
      "              precision    recall  f1-score   support\n",
      "\n",
      "        paid       0.97      0.95      0.96    227370\n",
      "     default       0.76      0.87      0.81     41484\n",
      "\n",
      "    accuracy                           0.94    268854\n",
      "   macro avg       0.87      0.91      0.89    268854\n",
      "weighted avg       0.94      0.94      0.94    268854\n",
      "\n"
     ]
    }
   ],
   "source": [
    "acc_score, cr, f1, mcc = createClassificationMetrics(y_pred, y_test_rs)\n",
    "print('Accuracy Score: {}'.format(acc_score))\n",
    "print('Matthew\\'s Correlation Coefficient: {}'.format(mcc))\n",
    "print('F1 Score: {}'.format(f1))\n",
    "print('Classification Report: \\n{}'.format(cr))"
   ]
  },
  {
   "cell_type": "markdown",
   "id": "65fdd6e1",
   "metadata": {},
   "source": [
    "### D. Confusion Matrix"
   ]
  },
  {
   "cell_type": "code",
   "execution_count": 34,
   "id": "d231cd07",
   "metadata": {},
   "outputs": [
    {
     "data": {
      "image/png": "[encoded data removed]",
      "text/plain": [
       "<Figure size 432x288 with 2 Axes>"
      ]
     },
     "metadata": {
      "needs_background": "light"
     },
     "output_type": "display_data"
    }
   ],
   "source": [
    "rfc_rs_fp = createConfusionMatrix(y_test_rs, y_pred)"
   ]
  },
  {
   "cell_type": "markdown",
   "id": "fce3a8b3",
   "metadata": {},
   "source": [
    "### E. Feature Importance"
   ]
  },
  {
   "cell_type": "code",
   "execution_count": 35,
   "id": "4c94b859",
   "metadata": {},
   "outputs": [
    {
     "data": {
      "image/png": "[encoded data removed]",
      "text/plain": [
       "<Figure size 720x720 with 1 Axes>"
      ]
     },
     "metadata": {
      "needs_background": "light"
     },
     "output_type": "display_data"
    }
   ],
   "source": [
    "createFeatureImportanceChart(RandomForestClassifier, rfc_rs_best_params, features,\n",
    "                             X_train_rs, y_train_rs)"
   ]
  },
  {
   "cell_type": "markdown",
   "id": "cda9d95f",
   "metadata": {},
   "source": [
    "## 5. Best Random Forest Model"
   ]
  },
  {
   "cell_type": "code",
   "execution_count": 36,
   "id": "ff08013c",
   "metadata": {},
   "outputs": [
    {
     "name": "stdout",
     "output_type": "stream",
     "text": [
      "Best Logistic Regression Model Params: {'criterion': 'entropy', 'max_depth': None, 'max_features': 'auto'}\n",
      "Best Scaler: Robust Scaler\n"
     ]
    }
   ],
   "source": [
    "if rfc_ss_fp > rfc_rs_fp:\n",
    "    print('Best Logistic Regression Model Params: {}'.format(rfc_rs_best_params))\n",
    "    print('Best Scaler: Robust Scaler')\n",
    "else:\n",
    "    print('Best Logistic Regression Model Params: {}'.format(rfc_ss_best_params))\n",
    "    print('Best Scaler: Standard Scaler') "
   ]
  }
 ],
 "metadata": {
  "kernelspec": {
   "display_name": "Python 3 (ipykernel)",
   "language": "python",
   "name": "python3"
  },
  "language_info": {
   "codemirror_mode": {
    "name": "ipython",
    "version": 3
   },
   "file_extension": ".py",
   "mimetype": "text/x-python",
   "name": "python",
   "nbconvert_exporter": "python",
   "pygments_lexer": "ipython3",
   "version": "3.9.10"
  }
 },
 "nbformat": 4,
 "nbformat_minor": 5
}
