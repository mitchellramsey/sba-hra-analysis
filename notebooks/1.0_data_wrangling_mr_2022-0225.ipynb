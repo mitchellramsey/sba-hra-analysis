{
 "cells": [
  {
   "cell_type": "markdown",
   "id": "abc9d807",
   "metadata": {},
   "source": [
    "# U.S. Small Business Administration High Risk Loan Applicant Analysis\n",
    "\n",
    "## Data Wrangling & Cleaning - Part 1"
   ]
  },
  {
   "cell_type": "markdown",
   "id": "14bba644",
   "metadata": {},
   "source": [
    "### Loading assets and data set"
   ]
  },
  {
   "cell_type": "code",
   "execution_count": 1,
   "id": "40ddbf19",
   "metadata": {},
   "outputs": [
    {
     "name": "stderr",
     "output_type": "stream",
     "text": [
      "/Users/mramsey/opt/anaconda3/lib/python3.9/site-packages/fuzzywuzzy/fuzz.py:11: UserWarning: Using slow pure-python SequenceMatcher. Install python-Levenshtein to remove this warning\n",
      "  warnings.warn('Using slow pure-python SequenceMatcher. Install python-Levenshtein to remove this warning')\n"
     ]
    }
   ],
   "source": [
    "import numpy as np\n",
    "import pandas as pd\n",
    "\n",
    "from uszipcode import SearchEngine\n",
    "from library.utils import save_file"
   ]
  },
  {
   "cell_type": "code",
   "execution_count": 2,
   "id": "c19f0be7",
   "metadata": {},
   "outputs": [],
   "source": [
    "apps_ver1 = pd.read_csv('../data/raw/SBAnational.csv', low_memory=False)"
   ]
  },
  {
   "cell_type": "markdown",
   "id": "ff4d33e5",
   "metadata": {},
   "source": [
    "### Initial explorations of the data set\n",
    "The next few cells will get an idea of the shape of the data set, the data types for each of the features, which features are missing data. These initial observations will also be used to identify the critical response feature, features that won't be needed, and which features that will require some modification."
   ]
  },
  {
   "cell_type": "code",
   "execution_count": 3,
   "id": "f688a2f4",
   "metadata": {},
   "outputs": [
    {
     "data": {
      "text/plain": [
       "(899164, 27)"
      ]
     },
     "execution_count": 3,
     "metadata": {},
     "output_type": "execute_result"
    }
   ],
   "source": [
    "apps_ver1.shape"
   ]
  },
  {
   "cell_type": "markdown",
   "id": "4bf89376",
   "metadata": {},
   "source": [
    "This dataset contains 899,164 observations and 27 unique features."
   ]
  },
  {
   "cell_type": "code",
   "execution_count": 4,
   "id": "553b5b9c",
   "metadata": {},
   "outputs": [
    {
     "name": "stdout",
     "output_type": "stream",
     "text": [
      "<class 'pandas.core.frame.DataFrame'>\n",
      "RangeIndex: 899164 entries, 0 to 899163\n",
      "Data columns (total 27 columns):\n",
      " #   Column             Non-Null Count   Dtype  \n",
      "---  ------             --------------   -----  \n",
      " 0   LoanNr_ChkDgt      899164 non-null  int64  \n",
      " 1   Name               899150 non-null  object \n",
      " 2   City               899134 non-null  object \n",
      " 3   State              899150 non-null  object \n",
      " 4   Zip                899164 non-null  int64  \n",
      " 5   Bank               897605 non-null  object \n",
      " 6   BankState          897598 non-null  object \n",
      " 7   NAICS              899164 non-null  int64  \n",
      " 8   ApprovalDate       899164 non-null  object \n",
      " 9   ApprovalFY         899164 non-null  object \n",
      " 10  Term               899164 non-null  int64  \n",
      " 11  NoEmp              899164 non-null  int64  \n",
      " 12  NewExist           899028 non-null  float64\n",
      " 13  CreateJob          899164 non-null  int64  \n",
      " 14  RetainedJob        899164 non-null  int64  \n",
      " 15  FranchiseCode      899164 non-null  int64  \n",
      " 16  UrbanRural         899164 non-null  int64  \n",
      " 17  RevLineCr          894636 non-null  object \n",
      " 18  LowDoc             896582 non-null  object \n",
      " 19  ChgOffDate         162699 non-null  object \n",
      " 20  DisbursementDate   896796 non-null  object \n",
      " 21  DisbursementGross  899164 non-null  object \n",
      " 22  BalanceGross       899164 non-null  object \n",
      " 23  MIS_Status         897167 non-null  object \n",
      " 24  ChgOffPrinGr       899164 non-null  object \n",
      " 25  GrAppv             899164 non-null  object \n",
      " 26  SBA_Appv           899164 non-null  object \n",
      "dtypes: float64(1), int64(9), object(17)\n",
      "memory usage: 185.2+ MB\n"
     ]
    }
   ],
   "source": [
    "apps_ver1.info()"
   ]
  },
  {
   "cell_type": "code",
   "execution_count": 5,
   "id": "d2ee7176",
   "metadata": {},
   "outputs": [
    {
     "data": {
      "text/html": [
       "<div>\n",
       "<style scoped>\n",
       "    .dataframe tbody tr th:only-of-type {\n",
       "        vertical-align: middle;\n",
       "    }\n",
       "\n",
       "    .dataframe tbody tr th {\n",
       "        vertical-align: top;\n",
       "    }\n",
       "\n",
       "    .dataframe thead th {\n",
       "        text-align: right;\n",
       "    }\n",
       "</style>\n",
       "<table border=\"1\" class=\"dataframe\">\n",
       "  <thead>\n",
       "    <tr style=\"text-align: right;\">\n",
       "      <th></th>\n",
       "      <th>LoanNr_ChkDgt</th>\n",
       "      <th>Name</th>\n",
       "      <th>City</th>\n",
       "      <th>State</th>\n",
       "      <th>Zip</th>\n",
       "      <th>Bank</th>\n",
       "      <th>BankState</th>\n",
       "      <th>NAICS</th>\n",
       "      <th>ApprovalDate</th>\n",
       "      <th>ApprovalFY</th>\n",
       "      <th>Term</th>\n",
       "      <th>NoEmp</th>\n",
       "      <th>NewExist</th>\n",
       "      <th>CreateJob</th>\n",
       "      <th>RetainedJob</th>\n",
       "      <th>FranchiseCode</th>\n",
       "      <th>UrbanRural</th>\n",
       "      <th>RevLineCr</th>\n",
       "      <th>LowDoc</th>\n",
       "      <th>ChgOffDate</th>\n",
       "      <th>DisbursementDate</th>\n",
       "      <th>DisbursementGross</th>\n",
       "      <th>BalanceGross</th>\n",
       "      <th>MIS_Status</th>\n",
       "      <th>ChgOffPrinGr</th>\n",
       "      <th>GrAppv</th>\n",
       "      <th>SBA_Appv</th>\n",
       "    </tr>\n",
       "  </thead>\n",
       "  <tbody>\n",
       "    <tr>\n",
       "      <th>0</th>\n",
       "      <td>1000014003</td>\n",
       "      <td>ABC HOBBYCRAFT</td>\n",
       "      <td>EVANSVILLE</td>\n",
       "      <td>IN</td>\n",
       "      <td>47711</td>\n",
       "      <td>FIFTH THIRD BANK</td>\n",
       "      <td>OH</td>\n",
       "      <td>451120</td>\n",
       "      <td>28-Feb-97</td>\n",
       "      <td>1997</td>\n",
       "      <td>84</td>\n",
       "      <td>4</td>\n",
       "      <td>2.0</td>\n",
       "      <td>0</td>\n",
       "      <td>0</td>\n",
       "      <td>1</td>\n",
       "      <td>0</td>\n",
       "      <td>N</td>\n",
       "      <td>Y</td>\n",
       "      <td>NaN</td>\n",
       "      <td>28-Feb-99</td>\n",
       "      <td>$60,000.00</td>\n",
       "      <td>$0.00</td>\n",
       "      <td>P I F</td>\n",
       "      <td>$0.00</td>\n",
       "      <td>$60,000.00</td>\n",
       "      <td>$48,000.00</td>\n",
       "    </tr>\n",
       "    <tr>\n",
       "      <th>1</th>\n",
       "      <td>1000024006</td>\n",
       "      <td>LANDMARK BAR &amp; GRILLE (THE)</td>\n",
       "      <td>NEW PARIS</td>\n",
       "      <td>IN</td>\n",
       "      <td>46526</td>\n",
       "      <td>1ST SOURCE BANK</td>\n",
       "      <td>IN</td>\n",
       "      <td>722410</td>\n",
       "      <td>28-Feb-97</td>\n",
       "      <td>1997</td>\n",
       "      <td>60</td>\n",
       "      <td>2</td>\n",
       "      <td>2.0</td>\n",
       "      <td>0</td>\n",
       "      <td>0</td>\n",
       "      <td>1</td>\n",
       "      <td>0</td>\n",
       "      <td>N</td>\n",
       "      <td>Y</td>\n",
       "      <td>NaN</td>\n",
       "      <td>31-May-97</td>\n",
       "      <td>$40,000.00</td>\n",
       "      <td>$0.00</td>\n",
       "      <td>P I F</td>\n",
       "      <td>$0.00</td>\n",
       "      <td>$40,000.00</td>\n",
       "      <td>$32,000.00</td>\n",
       "    </tr>\n",
       "    <tr>\n",
       "      <th>2</th>\n",
       "      <td>1000034009</td>\n",
       "      <td>WHITLOCK DDS, TODD M.</td>\n",
       "      <td>BLOOMINGTON</td>\n",
       "      <td>IN</td>\n",
       "      <td>47401</td>\n",
       "      <td>GRANT COUNTY STATE BANK</td>\n",
       "      <td>IN</td>\n",
       "      <td>621210</td>\n",
       "      <td>28-Feb-97</td>\n",
       "      <td>1997</td>\n",
       "      <td>180</td>\n",
       "      <td>7</td>\n",
       "      <td>1.0</td>\n",
       "      <td>0</td>\n",
       "      <td>0</td>\n",
       "      <td>1</td>\n",
       "      <td>0</td>\n",
       "      <td>N</td>\n",
       "      <td>N</td>\n",
       "      <td>NaN</td>\n",
       "      <td>31-Dec-97</td>\n",
       "      <td>$287,000.00</td>\n",
       "      <td>$0.00</td>\n",
       "      <td>P I F</td>\n",
       "      <td>$0.00</td>\n",
       "      <td>$287,000.00</td>\n",
       "      <td>$215,250.00</td>\n",
       "    </tr>\n",
       "    <tr>\n",
       "      <th>3</th>\n",
       "      <td>1000044001</td>\n",
       "      <td>BIG BUCKS PAWN &amp; JEWELRY, LLC</td>\n",
       "      <td>BROKEN ARROW</td>\n",
       "      <td>OK</td>\n",
       "      <td>74012</td>\n",
       "      <td>1ST NATL BK &amp; TR CO OF BROKEN</td>\n",
       "      <td>OK</td>\n",
       "      <td>0</td>\n",
       "      <td>28-Feb-97</td>\n",
       "      <td>1997</td>\n",
       "      <td>60</td>\n",
       "      <td>2</td>\n",
       "      <td>1.0</td>\n",
       "      <td>0</td>\n",
       "      <td>0</td>\n",
       "      <td>1</td>\n",
       "      <td>0</td>\n",
       "      <td>N</td>\n",
       "      <td>Y</td>\n",
       "      <td>NaN</td>\n",
       "      <td>30-Jun-97</td>\n",
       "      <td>$35,000.00</td>\n",
       "      <td>$0.00</td>\n",
       "      <td>P I F</td>\n",
       "      <td>$0.00</td>\n",
       "      <td>$35,000.00</td>\n",
       "      <td>$28,000.00</td>\n",
       "    </tr>\n",
       "    <tr>\n",
       "      <th>4</th>\n",
       "      <td>1000054004</td>\n",
       "      <td>ANASTASIA CONFECTIONS, INC.</td>\n",
       "      <td>ORLANDO</td>\n",
       "      <td>FL</td>\n",
       "      <td>32801</td>\n",
       "      <td>FLORIDA BUS. DEVEL CORP</td>\n",
       "      <td>FL</td>\n",
       "      <td>0</td>\n",
       "      <td>28-Feb-97</td>\n",
       "      <td>1997</td>\n",
       "      <td>240</td>\n",
       "      <td>14</td>\n",
       "      <td>1.0</td>\n",
       "      <td>7</td>\n",
       "      <td>7</td>\n",
       "      <td>1</td>\n",
       "      <td>0</td>\n",
       "      <td>N</td>\n",
       "      <td>N</td>\n",
       "      <td>NaN</td>\n",
       "      <td>14-May-97</td>\n",
       "      <td>$229,000.00</td>\n",
       "      <td>$0.00</td>\n",
       "      <td>P I F</td>\n",
       "      <td>$0.00</td>\n",
       "      <td>$229,000.00</td>\n",
       "      <td>$229,000.00</td>\n",
       "    </tr>\n",
       "  </tbody>\n",
       "</table>\n",
       "</div>"
      ],
      "text/plain": [
       "   LoanNr_ChkDgt                           Name          City State    Zip  \\\n",
       "0     1000014003                 ABC HOBBYCRAFT    EVANSVILLE    IN  47711   \n",
       "1     1000024006    LANDMARK BAR & GRILLE (THE)     NEW PARIS    IN  46526   \n",
       "2     1000034009          WHITLOCK DDS, TODD M.   BLOOMINGTON    IN  47401   \n",
       "3     1000044001  BIG BUCKS PAWN & JEWELRY, LLC  BROKEN ARROW    OK  74012   \n",
       "4     1000054004    ANASTASIA CONFECTIONS, INC.       ORLANDO    FL  32801   \n",
       "\n",
       "                            Bank BankState   NAICS ApprovalDate ApprovalFY  \\\n",
       "0               FIFTH THIRD BANK        OH  451120    28-Feb-97       1997   \n",
       "1                1ST SOURCE BANK        IN  722410    28-Feb-97       1997   \n",
       "2        GRANT COUNTY STATE BANK        IN  621210    28-Feb-97       1997   \n",
       "3  1ST NATL BK & TR CO OF BROKEN        OK       0    28-Feb-97       1997   \n",
       "4        FLORIDA BUS. DEVEL CORP        FL       0    28-Feb-97       1997   \n",
       "\n",
       "   Term  NoEmp  NewExist  CreateJob  RetainedJob  FranchiseCode  UrbanRural  \\\n",
       "0    84      4       2.0          0            0              1           0   \n",
       "1    60      2       2.0          0            0              1           0   \n",
       "2   180      7       1.0          0            0              1           0   \n",
       "3    60      2       1.0          0            0              1           0   \n",
       "4   240     14       1.0          7            7              1           0   \n",
       "\n",
       "  RevLineCr LowDoc ChgOffDate DisbursementDate DisbursementGross BalanceGross  \\\n",
       "0         N      Y        NaN        28-Feb-99       $60,000.00        $0.00    \n",
       "1         N      Y        NaN        31-May-97       $40,000.00        $0.00    \n",
       "2         N      N        NaN        31-Dec-97      $287,000.00        $0.00    \n",
       "3         N      Y        NaN        30-Jun-97       $35,000.00        $0.00    \n",
       "4         N      N        NaN        14-May-97      $229,000.00        $0.00    \n",
       "\n",
       "  MIS_Status ChgOffPrinGr        GrAppv      SBA_Appv  \n",
       "0      P I F       $0.00    $60,000.00    $48,000.00   \n",
       "1      P I F       $0.00    $40,000.00    $32,000.00   \n",
       "2      P I F       $0.00   $287,000.00   $215,250.00   \n",
       "3      P I F       $0.00    $35,000.00    $28,000.00   \n",
       "4      P I F       $0.00   $229,000.00   $229,000.00   "
      ]
     },
     "execution_count": 5,
     "metadata": {},
     "output_type": "execute_result"
    }
   ],
   "source": [
    "pd.set_option('display.max_columns', None) #Allows us to view every feature when the head function is ran.\n",
    "apps_ver1.head()"
   ]
  },
  {
   "cell_type": "markdown",
   "id": "941d990c",
   "metadata": {},
   "source": [
    "The provided data dictionary found on this [page](https://www.kaggle.com/mirbektoktogaraev/should-this-loan-be-approved-or-denied?select=Should+This+Loan+be+Approved+or+Denied+A+Large+Dataset+with+Class+Assignment+Guidelines.pdf) identifies that the **MIS_Status** feature is the critical response feature for this dataset. *PIF* indicates paid in full (didn't default) and *CHGOFF* indicates charged off (did default). This data dictionary is also recreated and stored as [reference](../references/data_dictionary.md) This study will be aiming to build a model that identifies which features would suggest a candidate would be at higher risks for potentially defaulting on their loan.\n",
    "\n",
    "Features like *LoanNr_ChkDgt* and *Name* are unique to the individual and won't be useful for this study. The *Bank* and *BankState* features don't pertain to the individual so those will also not be useful for this study. Those will be dropped later after investigating all the columns. \n",
    "\n",
    "Next is to drop any duplicate observations and identify the number of missing values in each cell."
   ]
  },
  {
   "cell_type": "code",
   "execution_count": 6,
   "id": "80d97cba",
   "metadata": {},
   "outputs": [
    {
     "data": {
      "text/plain": [
       "LoanNr_ChkDgt             0\n",
       "Name                     14\n",
       "City                     30\n",
       "State                    14\n",
       "Zip                       0\n",
       "Bank                   1559\n",
       "BankState              1566\n",
       "NAICS                     0\n",
       "ApprovalDate              0\n",
       "ApprovalFY                0\n",
       "Term                      0\n",
       "NoEmp                     0\n",
       "NewExist                136\n",
       "CreateJob                 0\n",
       "RetainedJob               0\n",
       "FranchiseCode             0\n",
       "UrbanRural                0\n",
       "RevLineCr              4528\n",
       "LowDoc                 2582\n",
       "ChgOffDate           736465\n",
       "DisbursementDate       2368\n",
       "DisbursementGross         0\n",
       "BalanceGross              0\n",
       "MIS_Status             1997\n",
       "ChgOffPrinGr              0\n",
       "GrAppv                    0\n",
       "SBA_Appv                  0\n",
       "dtype: int64"
      ]
     },
     "execution_count": 6,
     "metadata": {},
     "output_type": "execute_result"
    }
   ],
   "source": [
    "apps_ver2 = apps_ver1.drop_duplicates(keep = 'first')\n",
    "apps_ver2.isnull().sum()"
   ]
  },
  {
   "cell_type": "markdown",
   "id": "10de80e8",
   "metadata": {},
   "source": [
    "The *Name*, *Bank*, and *BankState* missing values won't be an issue as those columns will be dropped. The *City* and *State* missing values can likely be imputed since the *Zip* is not missing on any observation. The **uszipcode** library inside the following function will help with filling in these missing values."
   ]
  },
  {
   "cell_type": "markdown",
   "id": "fa7b066a",
   "metadata": {},
   "source": [
    "### Data Cleaning"
   ]
  },
  {
   "cell_type": "code",
   "execution_count": 7,
   "id": "a2ea2bc5",
   "metadata": {},
   "outputs": [],
   "source": [
    "def fill_missing_city_state_values(df, missing_vals_subset):\n",
    "    \"\"\"This function takes the present dataframe along with the missing city and state values dataframe and looks up\n",
    "       the missing information with the uszipcode.SearchEngine library. The function creates a temp dataframe so the\n",
    "       original dataframe is unaltered, and returns the temp dataframe.\"\"\"\n",
    "    search = SearchEngine()\n",
    "    df_temp = df # mutate and return the temp\n",
    "    for index, row in missing_vals_subset.iterrows():\n",
    "        zipInfo = search.by_zipcode(row['Zip'])\n",
    "        if(zipInfo is not None):\n",
    "            if pd.isnull(df_temp.iloc[index,2]): # 2 is the city columin index in the dataframe\n",
    "                df_temp.iloc[index,2] = zipInfo.major_city\n",
    "            if pd.isnull(df_temp.iloc[index,3]): # 3 is the state colunn index in the dataframe\n",
    "                df_temp.iloc[index,3] = zipInfo.state\n",
    "    return df_temp"
   ]
  },
  {
   "cell_type": "code",
   "execution_count": 8,
   "id": "a6c6c0fe",
   "metadata": {},
   "outputs": [],
   "source": [
    "missing_city_state_rows = apps_ver2[(apps_ver2['City'].isnull()) | (apps_ver2['State'].isnull())]\n",
    "apps_ver3 = fill_missing_city_state_values(apps_ver2, missing_city_state_rows)"
   ]
  },
  {
   "cell_type": "code",
   "execution_count": 9,
   "id": "ef5aaf35",
   "metadata": {},
   "outputs": [
    {
     "data": {
      "text/plain": [
       "LoanNr_ChkDgt             0\n",
       "Name                     14\n",
       "City                      2\n",
       "State                     1\n",
       "Zip                       0\n",
       "Bank                   1559\n",
       "BankState              1566\n",
       "NAICS                     0\n",
       "ApprovalDate              0\n",
       "ApprovalFY                0\n",
       "Term                      0\n",
       "NoEmp                     0\n",
       "NewExist                136\n",
       "CreateJob                 0\n",
       "RetainedJob               0\n",
       "FranchiseCode             0\n",
       "UrbanRural                0\n",
       "RevLineCr              4528\n",
       "LowDoc                 2582\n",
       "ChgOffDate           736465\n",
       "DisbursementDate       2368\n",
       "DisbursementGross         0\n",
       "BalanceGross              0\n",
       "MIS_Status             1997\n",
       "ChgOffPrinGr              0\n",
       "GrAppv                    0\n",
       "SBA_Appv                  0\n",
       "dtype: int64"
      ]
     },
     "execution_count": 9,
     "metadata": {},
     "output_type": "execute_result"
    }
   ],
   "source": [
    "apps_ver3.isnull().sum()"
   ]
  },
  {
   "cell_type": "markdown",
   "id": "c6363b68",
   "metadata": {},
   "source": [
    "There are still 2 missing city values and 1 missing state value. Those rows are shown below."
   ]
  },
  {
   "cell_type": "code",
   "execution_count": 10,
   "id": "5226b156",
   "metadata": {},
   "outputs": [
    {
     "data": {
      "text/html": [
       "<div>\n",
       "<style scoped>\n",
       "    .dataframe tbody tr th:only-of-type {\n",
       "        vertical-align: middle;\n",
       "    }\n",
       "\n",
       "    .dataframe tbody tr th {\n",
       "        vertical-align: top;\n",
       "    }\n",
       "\n",
       "    .dataframe thead th {\n",
       "        text-align: right;\n",
       "    }\n",
       "</style>\n",
       "<table border=\"1\" class=\"dataframe\">\n",
       "  <thead>\n",
       "    <tr style=\"text-align: right;\">\n",
       "      <th></th>\n",
       "      <th>LoanNr_ChkDgt</th>\n",
       "      <th>Name</th>\n",
       "      <th>City</th>\n",
       "      <th>State</th>\n",
       "      <th>Zip</th>\n",
       "      <th>Bank</th>\n",
       "      <th>BankState</th>\n",
       "      <th>NAICS</th>\n",
       "      <th>ApprovalDate</th>\n",
       "      <th>ApprovalFY</th>\n",
       "      <th>Term</th>\n",
       "      <th>NoEmp</th>\n",
       "      <th>NewExist</th>\n",
       "      <th>CreateJob</th>\n",
       "      <th>RetainedJob</th>\n",
       "      <th>FranchiseCode</th>\n",
       "      <th>UrbanRural</th>\n",
       "      <th>RevLineCr</th>\n",
       "      <th>LowDoc</th>\n",
       "      <th>ChgOffDate</th>\n",
       "      <th>DisbursementDate</th>\n",
       "      <th>DisbursementGross</th>\n",
       "      <th>BalanceGross</th>\n",
       "      <th>MIS_Status</th>\n",
       "      <th>ChgOffPrinGr</th>\n",
       "      <th>GrAppv</th>\n",
       "      <th>SBA_Appv</th>\n",
       "    </tr>\n",
       "  </thead>\n",
       "  <tbody>\n",
       "    <tr>\n",
       "      <th>49244</th>\n",
       "      <td>1380800010</td>\n",
       "      <td>TRYON COATS &amp; LEATHER</td>\n",
       "      <td>JOHNSTOWN       NY</td>\n",
       "      <td>NaN</td>\n",
       "      <td>0</td>\n",
       "      <td>KEYBANK NATIONAL ASSOCIATION</td>\n",
       "      <td>NY</td>\n",
       "      <td>0</td>\n",
       "      <td>18-May-66</td>\n",
       "      <td>1966</td>\n",
       "      <td>282</td>\n",
       "      <td>0</td>\n",
       "      <td>0.0</td>\n",
       "      <td>0</td>\n",
       "      <td>0</td>\n",
       "      <td>0</td>\n",
       "      <td>0</td>\n",
       "      <td>N</td>\n",
       "      <td>N</td>\n",
       "      <td>29-Mar-90</td>\n",
       "      <td>16-Aug-66</td>\n",
       "      <td>$60,000.00</td>\n",
       "      <td>$0.00</td>\n",
       "      <td>CHGOFF</td>\n",
       "      <td>$6,084.00</td>\n",
       "      <td>$60,000.00</td>\n",
       "      <td>$54,000.00</td>\n",
       "    </tr>\n",
       "    <tr>\n",
       "      <th>437804</th>\n",
       "      <td>4247612009</td>\n",
       "      <td>DOUBLE W MOLD INC</td>\n",
       "      <td>NaN</td>\n",
       "      <td>MA</td>\n",
       "      <td>2401</td>\n",
       "      <td>NaN</td>\n",
       "      <td>NaN</td>\n",
       "      <td>0</td>\n",
       "      <td>3-Aug-81</td>\n",
       "      <td>1981</td>\n",
       "      <td>180</td>\n",
       "      <td>21</td>\n",
       "      <td>1.0</td>\n",
       "      <td>0</td>\n",
       "      <td>0</td>\n",
       "      <td>0</td>\n",
       "      <td>0</td>\n",
       "      <td>N</td>\n",
       "      <td>N</td>\n",
       "      <td>NaN</td>\n",
       "      <td>4-Nov-81</td>\n",
       "      <td>$38,000.00</td>\n",
       "      <td>$0.00</td>\n",
       "      <td>P I F</td>\n",
       "      <td>$0.00</td>\n",
       "      <td>$38,000.00</td>\n",
       "      <td>$38,000.00</td>\n",
       "    </tr>\n",
       "    <tr>\n",
       "      <th>437818</th>\n",
       "      <td>4247702001</td>\n",
       "      <td>GEMCO NARROW FABRICS INC</td>\n",
       "      <td>NaN</td>\n",
       "      <td>MA</td>\n",
       "      <td>2165</td>\n",
       "      <td>BAY COLONY DEVEL CORP</td>\n",
       "      <td>MA</td>\n",
       "      <td>0</td>\n",
       "      <td>18-Sep-81</td>\n",
       "      <td>1981</td>\n",
       "      <td>180</td>\n",
       "      <td>50</td>\n",
       "      <td>1.0</td>\n",
       "      <td>0</td>\n",
       "      <td>0</td>\n",
       "      <td>0</td>\n",
       "      <td>0</td>\n",
       "      <td>N</td>\n",
       "      <td>N</td>\n",
       "      <td>NaN</td>\n",
       "      <td>10-Feb-82</td>\n",
       "      <td>$95,000.00</td>\n",
       "      <td>$0.00</td>\n",
       "      <td>P I F</td>\n",
       "      <td>$0.00</td>\n",
       "      <td>$95,000.00</td>\n",
       "      <td>$95,000.00</td>\n",
       "    </tr>\n",
       "  </tbody>\n",
       "</table>\n",
       "</div>"
      ],
      "text/plain": [
       "        LoanNr_ChkDgt                      Name                City State  \\\n",
       "49244      1380800010     TRYON COATS & LEATHER  JOHNSTOWN       NY   NaN   \n",
       "437804     4247612009         DOUBLE W MOLD INC                 NaN    MA   \n",
       "437818     4247702001  GEMCO NARROW FABRICS INC                 NaN    MA   \n",
       "\n",
       "         Zip                          Bank BankState  NAICS ApprovalDate  \\\n",
       "49244      0  KEYBANK NATIONAL ASSOCIATION        NY      0    18-May-66   \n",
       "437804  2401                           NaN       NaN      0     3-Aug-81   \n",
       "437818  2165         BAY COLONY DEVEL CORP        MA      0    18-Sep-81   \n",
       "\n",
       "       ApprovalFY  Term  NoEmp  NewExist  CreateJob  RetainedJob  \\\n",
       "49244        1966   282      0       0.0          0            0   \n",
       "437804       1981   180     21       1.0          0            0   \n",
       "437818       1981   180     50       1.0          0            0   \n",
       "\n",
       "        FranchiseCode  UrbanRural RevLineCr LowDoc ChgOffDate  \\\n",
       "49244               0           0         N      N  29-Mar-90   \n",
       "437804              0           0         N      N        NaN   \n",
       "437818              0           0         N      N        NaN   \n",
       "\n",
       "       DisbursementDate DisbursementGross BalanceGross MIS_Status  \\\n",
       "49244         16-Aug-66       $60,000.00        $0.00      CHGOFF   \n",
       "437804         4-Nov-81       $38,000.00        $0.00       P I F   \n",
       "437818        10-Feb-82       $95,000.00        $0.00       P I F   \n",
       "\n",
       "       ChgOffPrinGr       GrAppv     SBA_Appv  \n",
       "49244    $6,084.00   $60,000.00   $54,000.00   \n",
       "437804       $0.00   $38,000.00   $38,000.00   \n",
       "437818       $0.00   $95,000.00   $95,000.00   "
      ]
     },
     "execution_count": 10,
     "metadata": {},
     "output_type": "execute_result"
    }
   ],
   "source": [
    "apps_ver3[(apps_ver3['City'].isnull()) | (apps_ver3['State'].isnull())]"
   ]
  },
  {
   "cell_type": "markdown",
   "id": "f36a24dc",
   "metadata": {},
   "source": [
    "These 3 observations are likely key entry errors. These are also very old applications. These rows will be dropped."
   ]
  },
  {
   "cell_type": "code",
   "execution_count": 11,
   "id": "ed9a15be",
   "metadata": {},
   "outputs": [],
   "source": [
    "apps_ver4 = apps_ver3.dropna(axis = 0, subset=['City', 'State'])"
   ]
  },
  {
   "cell_type": "code",
   "execution_count": 12,
   "id": "db46a897",
   "metadata": {},
   "outputs": [
    {
     "data": {
      "text/plain": [
       "LoanNr_ChkDgt             0\n",
       "Name                     14\n",
       "City                      0\n",
       "State                     0\n",
       "Zip                       0\n",
       "Bank                   1558\n",
       "BankState              1565\n",
       "NAICS                     0\n",
       "ApprovalDate              0\n",
       "ApprovalFY                0\n",
       "Term                      0\n",
       "NoEmp                     0\n",
       "NewExist                136\n",
       "CreateJob                 0\n",
       "RetainedJob               0\n",
       "FranchiseCode             0\n",
       "UrbanRural                0\n",
       "RevLineCr              4528\n",
       "LowDoc                 2582\n",
       "ChgOffDate           736463\n",
       "DisbursementDate       2368\n",
       "DisbursementGross         0\n",
       "BalanceGross              0\n",
       "MIS_Status             1997\n",
       "ChgOffPrinGr              0\n",
       "GrAppv                    0\n",
       "SBA_Appv                  0\n",
       "dtype: int64"
      ]
     },
     "execution_count": 12,
     "metadata": {},
     "output_type": "execute_result"
    }
   ],
   "source": [
    "apps_ver4.isnull().sum()"
   ]
  },
  {
   "cell_type": "markdown",
   "id": "99ed1b71",
   "metadata": {},
   "source": [
    "Next, is to drop the four columns (*LoanNr_ChkDgt*, *Name*, *Bank*, *BankState*) that won't provide any sufficient value to this analysis. \n",
    "\n",
    "*ApprovalDate*, *DisbursementDate*, and *ApprovalFY* are all relatively redundant columns; for simplicity, *ApprovalFY* will be retained and the other two columns will be dropped. *ApprovalFY* will also be converted to a datetime datatype."
   ]
  },
  {
   "cell_type": "code",
   "execution_count": 13,
   "id": "ed0af71d",
   "metadata": {},
   "outputs": [],
   "source": [
    "apps_ver5 = apps_ver4.drop(axis=1, columns=['LoanNr_ChkDgt', 'Name', 'Bank', 'BankState', 'ApprovalDate', 'DisbursementDate'])"
   ]
  },
  {
   "cell_type": "code",
   "execution_count": 14,
   "id": "3d87b059",
   "metadata": {},
   "outputs": [
    {
     "name": "stdout",
     "output_type": "stream",
     "text": [
      "<class 'pandas.core.frame.DataFrame'>\n",
      "Int64Index: 899161 entries, 0 to 899163\n",
      "Data columns (total 21 columns):\n",
      " #   Column             Non-Null Count   Dtype  \n",
      "---  ------             --------------   -----  \n",
      " 0   City               899161 non-null  object \n",
      " 1   State              899161 non-null  object \n",
      " 2   Zip                899161 non-null  int64  \n",
      " 3   NAICS              899161 non-null  int64  \n",
      " 4   ApprovalFY         899161 non-null  object \n",
      " 5   Term               899161 non-null  int64  \n",
      " 6   NoEmp              899161 non-null  int64  \n",
      " 7   NewExist           899025 non-null  float64\n",
      " 8   CreateJob          899161 non-null  int64  \n",
      " 9   RetainedJob        899161 non-null  int64  \n",
      " 10  FranchiseCode      899161 non-null  int64  \n",
      " 11  UrbanRural         899161 non-null  int64  \n",
      " 12  RevLineCr          894633 non-null  object \n",
      " 13  LowDoc             896579 non-null  object \n",
      " 14  ChgOffDate         162698 non-null  object \n",
      " 15  DisbursementGross  899161 non-null  object \n",
      " 16  BalanceGross       899161 non-null  object \n",
      " 17  MIS_Status         897164 non-null  object \n",
      " 18  ChgOffPrinGr       899161 non-null  object \n",
      " 19  GrAppv             899161 non-null  object \n",
      " 20  SBA_Appv           899161 non-null  object \n",
      "dtypes: float64(1), int64(8), object(12)\n",
      "memory usage: 150.9+ MB\n"
     ]
    }
   ],
   "source": [
    "# Verifying columns have been removed\n",
    "\n",
    "apps_ver5.info()"
   ]
  },
  {
   "cell_type": "code",
   "execution_count": 15,
   "id": "1aec2c0f",
   "metadata": {},
   "outputs": [
    {
     "data": {
      "text/plain": [
       "2005     77525\n",
       "2006     76040\n",
       "2007     71876\n",
       "2004     68290\n",
       "2003     58193\n",
       "1995     45758\n",
       "2002     44391\n",
       "1996     40112\n",
       "2008     39540\n",
       "1997     37748\n",
       "2000     37381\n",
       "1999     37363\n",
       "2001     37350\n",
       "1998     36016\n",
       "1994     31598\n",
       "1993     23305\n",
       "1992     20885\n",
       "2009     19126\n",
       "2010     16848\n",
       "1991     15666\n",
       "1990     14859\n",
       "1989     13248\n",
       "2011     12608\n",
       "2012      5997\n",
       "2013      2458\n",
       "1987      2218\n",
       "1986      2118\n",
       "1984      2022\n",
       "1985      1944\n",
       "1988      1898\n",
       "1983      1684\n",
       "1982       719\n",
       "1981       628\n",
       "1980       477\n",
       "1979       352\n",
       "2014       268\n",
       "1978       242\n",
       "1977       137\n",
       "1976        66\n",
       "1973        52\n",
       "1974        42\n",
       "1975        30\n",
       "1972        27\n",
       "1971        20\n",
       "1976A       18\n",
       "1970         8\n",
       "1969         4\n",
       "1968         2\n",
       "1967         2\n",
       "1962         1\n",
       "1965         1\n",
       "Name: ApprovalFY, dtype: int64"
      ]
     },
     "execution_count": 15,
     "metadata": {},
     "output_type": "execute_result"
    }
   ],
   "source": [
    "# Converting ApprovalFY from object to Datetime\n",
    "apps_ver5['ApprovalFY'].value_counts()\n"
   ]
  },
  {
   "cell_type": "markdown",
   "id": "492e2583",
   "metadata": {},
   "source": [
    "The *ApprovalFY* feature has an entry that won't convert to datetime: 1976A. This is likely a key entry error, and in this situation, '1976A' will be imputed to '1976'."
   ]
  },
  {
   "cell_type": "code",
   "execution_count": 16,
   "id": "1e1bfbdc",
   "metadata": {},
   "outputs": [],
   "source": [
    "apps_ver5['ApprovalFY'] = apps_ver5['ApprovalFY'].replace(['1976A'], '1976')\n",
    "apps_ver5['ApprovalFY'] = pd.to_datetime(apps_ver5['ApprovalFY']).dt.year"
   ]
  },
  {
   "cell_type": "code",
   "execution_count": 17,
   "id": "2c703646",
   "metadata": {},
   "outputs": [
    {
     "data": {
      "text/plain": [
       "2005    77525\n",
       "2006    76040\n",
       "2007    71876\n",
       "2004    68290\n",
       "2003    58193\n",
       "1995    45758\n",
       "2002    44391\n",
       "1996    40112\n",
       "2008    39540\n",
       "1997    37748\n",
       "2000    37381\n",
       "1999    37363\n",
       "2001    37350\n",
       "1998    36016\n",
       "1994    31598\n",
       "1993    23305\n",
       "1992    20885\n",
       "2009    19126\n",
       "2010    16848\n",
       "1991    15666\n",
       "1990    14859\n",
       "1989    13248\n",
       "2011    12608\n",
       "2012     5997\n",
       "2013     2458\n",
       "1987     2218\n",
       "1986     2118\n",
       "1984     2022\n",
       "1985     1944\n",
       "1988     1898\n",
       "1983     1684\n",
       "1982      719\n",
       "1981      628\n",
       "1980      477\n",
       "1979      352\n",
       "2014      268\n",
       "1978      242\n",
       "1977      137\n",
       "1976       84\n",
       "1973       52\n",
       "1974       42\n",
       "1975       30\n",
       "1972       27\n",
       "1971       20\n",
       "1970        8\n",
       "1969        4\n",
       "1968        2\n",
       "1967        2\n",
       "1962        1\n",
       "1965        1\n",
       "Name: ApprovalFY, dtype: int64"
      ]
     },
     "execution_count": 17,
     "metadata": {},
     "output_type": "execute_result"
    }
   ],
   "source": [
    "# Verifying changes\n",
    "apps_ver5['ApprovalFY'].value_counts()"
   ]
  },
  {
   "cell_type": "code",
   "execution_count": 18,
   "id": "aa1e2f20",
   "metadata": {},
   "outputs": [
    {
     "name": "stdout",
     "output_type": "stream",
     "text": [
      "<class 'pandas.core.frame.DataFrame'>\n",
      "Int64Index: 899161 entries, 0 to 899163\n",
      "Data columns (total 21 columns):\n",
      " #   Column             Non-Null Count   Dtype  \n",
      "---  ------             --------------   -----  \n",
      " 0   City               899161 non-null  object \n",
      " 1   State              899161 non-null  object \n",
      " 2   Zip                899161 non-null  int64  \n",
      " 3   NAICS              899161 non-null  int64  \n",
      " 4   ApprovalFY         899161 non-null  int64  \n",
      " 5   Term               899161 non-null  int64  \n",
      " 6   NoEmp              899161 non-null  int64  \n",
      " 7   NewExist           899025 non-null  float64\n",
      " 8   CreateJob          899161 non-null  int64  \n",
      " 9   RetainedJob        899161 non-null  int64  \n",
      " 10  FranchiseCode      899161 non-null  int64  \n",
      " 11  UrbanRural         899161 non-null  int64  \n",
      " 12  RevLineCr          894633 non-null  object \n",
      " 13  LowDoc             896579 non-null  object \n",
      " 14  ChgOffDate         162698 non-null  object \n",
      " 15  DisbursementGross  899161 non-null  object \n",
      " 16  BalanceGross       899161 non-null  object \n",
      " 17  MIS_Status         897164 non-null  object \n",
      " 18  ChgOffPrinGr       899161 non-null  object \n",
      " 19  GrAppv             899161 non-null  object \n",
      " 20  SBA_Appv           899161 non-null  object \n",
      "dtypes: float64(1), int64(9), object(11)\n",
      "memory usage: 150.9+ MB\n"
     ]
    }
   ],
   "source": [
    "apps_ver5.info()"
   ]
  },
  {
   "cell_type": "markdown",
   "id": "69acc838",
   "metadata": {},
   "source": [
    "The next feature is NAICS. In the [data dictionary](../references/data_dictionary.md), there is a table that describes what these values mean. Companies will have their own unique NAICS ID, but they will share the first two digits with other companies that are in a similar industry. Every company having their own unique ID isn't very useful, but grouping them by their sectors could be very useful. So a new column will be created *NAICS_sectors* which will be all these values dropped down to their first two digits and the NAICS column will be dropped. \n",
    "\n",
    "It should be noted that not all companies are required to have a NAICS code. So there will be plenty of 0 values for companies that do not have one."
   ]
  },
  {
   "cell_type": "code",
   "execution_count": 19,
   "id": "69c6ef86",
   "metadata": {},
   "outputs": [
    {
     "data": {
      "text/plain": [
       "0     201945\n",
       "44     84737\n",
       "81     72618\n",
       "54     68170\n",
       "72     67600\n",
       "23     66646\n",
       "62     55366\n",
       "42     48743\n",
       "45     42514\n",
       "33     38284\n",
       "56     32685\n",
       "48     20310\n",
       "32     17936\n",
       "71     14640\n",
       "53     13632\n",
       "31     11809\n",
       "51     11379\n",
       "52      9496\n",
       "11      9005\n",
       "61      6425\n",
       "49      2221\n",
       "21      1851\n",
       "22       663\n",
       "55       257\n",
       "92       229\n",
       "Name: NAICS_sectors, dtype: int64"
      ]
     },
     "execution_count": 19,
     "metadata": {},
     "output_type": "execute_result"
    }
   ],
   "source": [
    "apps_ver5['NAICS_sectors'] = apps_ver5['NAICS'].astype(str).str[:2].astype(int)\n",
    "apps_ver5['NAICS_sectors'].value_counts()"
   ]
  },
  {
   "cell_type": "markdown",
   "id": "fcf77621",
   "metadata": {},
   "source": [
    "The next features *Term*, *NoEmp*, *CreateJob*, and *RetainedJob* all have no missing values and are integer based entries. These features are good to go until later on when it is time to investigate outliers. \n",
    "\n",
    "The next feature to investigate with missing data is *NewExist*"
   ]
  },
  {
   "cell_type": "code",
   "execution_count": 20,
   "id": "1bcfe4e6",
   "metadata": {},
   "outputs": [
    {
     "name": "stdout",
     "output_type": "stream",
     "text": [
      "Missing Values:  136\n"
     ]
    },
    {
     "data": {
      "text/plain": [
       "1.0    644867\n",
       "2.0    253125\n",
       "0.0      1033\n",
       "Name: NewExist, dtype: int64"
      ]
     },
     "execution_count": 20,
     "metadata": {},
     "output_type": "execute_result"
    }
   ],
   "source": [
    "print('Missing Values: ', apps_ver5['NewExist'].isnull().sum())\n",
    "apps_ver5['NewExist'].value_counts()"
   ]
  },
  {
   "cell_type": "markdown",
   "id": "d6988bfb",
   "metadata": {},
   "source": [
    "The [data dictionary](../references/data_dictionary) states that entries labeled with a 1 are an existing business and those labeled 2 are a new business. An assumption can be made that those labeled 0 are undefined; therefore, the 136 missing values can be relabeled 0 for this study."
   ]
  },
  {
   "cell_type": "code",
   "execution_count": 21,
   "id": "9a92efe7",
   "metadata": {},
   "outputs": [
    {
     "data": {
      "text/plain": [
       "City                      0\n",
       "State                     0\n",
       "Zip                       0\n",
       "NAICS                     0\n",
       "ApprovalFY                0\n",
       "Term                      0\n",
       "NoEmp                     0\n",
       "NewExist                  0\n",
       "CreateJob                 0\n",
       "RetainedJob               0\n",
       "FranchiseCode             0\n",
       "UrbanRural                0\n",
       "RevLineCr              4528\n",
       "LowDoc                 2582\n",
       "ChgOffDate           736463\n",
       "DisbursementGross         0\n",
       "BalanceGross              0\n",
       "MIS_Status             1997\n",
       "ChgOffPrinGr              0\n",
       "GrAppv                    0\n",
       "SBA_Appv                  0\n",
       "NAICS_sectors             0\n",
       "dtype: int64"
      ]
     },
     "execution_count": 21,
     "metadata": {},
     "output_type": "execute_result"
    }
   ],
   "source": [
    "apps_ver5['NewExist'] = apps_ver5['NewExist'].fillna(0)\n",
    "apps_ver5.isnull().sum()"
   ]
  },
  {
   "cell_type": "markdown",
   "id": "d77c9fdd",
   "metadata": {},
   "source": [
    "Next, relabeling the values 0, 1, 2 to unknown, existing_business, new_business; respectively."
   ]
  },
  {
   "cell_type": "code",
   "execution_count": 22,
   "id": "0e1c6141",
   "metadata": {},
   "outputs": [],
   "source": [
    "def replace_values(df, col, valueList):\n",
    "    \"\"\"\n",
    "    Function that replaces values in a dataframe column and returns the Series. The valueList needs to be a list\n",
    "    of tuples as follows (oldVals, newVal). \n",
    "    \"\"\"\n",
    "    temp = df\n",
    "    for oldVals, newVal in valueList:\n",
    "        temp[col] = temp[col].replace(oldVals, newVal)\n",
    "    return temp[col]"
   ]
  },
  {
   "cell_type": "code",
   "execution_count": 23,
   "id": "98c656cd",
   "metadata": {},
   "outputs": [
    {
     "data": {
      "text/plain": [
       "existing_business    644867\n",
       "new_business         253125\n",
       "unknown                1169\n",
       "Name: NewExist, dtype: int64"
      ]
     },
     "execution_count": 23,
     "metadata": {},
     "output_type": "execute_result"
    }
   ],
   "source": [
    "newExistVals = [(0, 'unknown'), (1, 'existing_business'), (2, 'new_business')]\n",
    "apps_ver5['NewExist'] = replace_values(apps_ver5, 'NewExist', newExistVals)\n",
    "\n",
    "    \n",
    "apps_ver5['NewExist'].value_counts()"
   ]
  },
  {
   "cell_type": "code",
   "execution_count": 24,
   "id": "33604a97",
   "metadata": {},
   "outputs": [
    {
     "data": {
      "text/plain": [
       "1        638554\n",
       "0        208832\n",
       "78760      3373\n",
       "68020      1921\n",
       "50564      1034\n",
       "          ...  \n",
       "24421         1\n",
       "61615         1\n",
       "81580         1\n",
       "83876         1\n",
       "15930         1\n",
       "Name: FranchiseCode, Length: 2768, dtype: int64"
      ]
     },
     "execution_count": 24,
     "metadata": {},
     "output_type": "execute_result"
    }
   ],
   "source": [
    "apps_ver5['FranchiseCode'].value_counts()"
   ]
  },
  {
   "cell_type": "markdown",
   "id": "3d83f977",
   "metadata": {},
   "source": [
    "All companies labeled with a FranchiseCode of 1 or 0 are a non franchise company. The remainder are all franchises. Considering every franchise will have its own unique value, it will be better to label all those to the same value. Non franchise companies should also be grouped under one value, as well. A new column will be created called *isFranchise* where the new values will be *not_franchise* and *franchise*. The *FranchiseCode* column will no longer be needed after this."
   ]
  },
  {
   "cell_type": "code",
   "execution_count": 25,
   "id": "8cb5efd9",
   "metadata": {},
   "outputs": [
    {
     "data": {
      "text/plain": [
       "not_franchise    847386\n",
       "franchise         51775\n",
       "Name: isFranchise, dtype: int64"
      ]
     },
     "execution_count": 25,
     "metadata": {},
     "output_type": "execute_result"
    }
   ],
   "source": [
    "apps_ver5['isFranchise'] = apps_ver5['FranchiseCode'].apply(lambda x: 'not_franchise' if x == 0 or x == 1 \n",
    "                                                            else 'franchise')\n",
    "apps_ver5['isFranchise'].value_counts()"
   ]
  },
  {
   "cell_type": "code",
   "execution_count": 26,
   "id": "c692de05",
   "metadata": {},
   "outputs": [
    {
     "data": {
      "text/plain": [
       "array([0, 1, 2])"
      ]
     },
     "execution_count": 26,
     "metadata": {},
     "output_type": "execute_result"
    }
   ],
   "source": [
    "## No additional work needed here for UrbanRural, 1 = Urban, 2 = Rural, 0 = Undefined\n",
    "\n",
    "apps_ver5['UrbanRural'].unique()"
   ]
  },
  {
   "cell_type": "markdown",
   "id": "04457cd8",
   "metadata": {},
   "source": [
    "*UrbanRural* will be updated in a similar manner as *NewExist* utilizing the same replace_values function. The values 0, 1, 2 will become 'unknown', 'urban', 'rural'; respectively. "
   ]
  },
  {
   "cell_type": "code",
   "execution_count": 27,
   "id": "85aab051",
   "metadata": {},
   "outputs": [
    {
     "data": {
      "text/plain": [
       "urban      470654\n",
       "unknown    323164\n",
       "rural      105343\n",
       "Name: UrbanRural, dtype: int64"
      ]
     },
     "execution_count": 27,
     "metadata": {},
     "output_type": "execute_result"
    }
   ],
   "source": [
    "urbanRuralVals = [(0, 'unknown'), (1, 'urban'), (2, 'rural')]\n",
    "apps_ver5['UrbanRural'] = replace_values(apps_ver5, 'UrbanRural', urbanRuralVals)\n",
    "\n",
    "apps_ver5['UrbanRural'].value_counts()    "
   ]
  },
  {
   "cell_type": "code",
   "execution_count": 28,
   "id": "401a6814",
   "metadata": {},
   "outputs": [
    {
     "data": {
      "text/plain": [
       "N    420285\n",
       "0    257602\n",
       "Y    201397\n",
       "T     15284\n",
       "1        23\n",
       "R        14\n",
       "`        11\n",
       "2         6\n",
       "C         2\n",
       "3         1\n",
       ",         1\n",
       "7         1\n",
       "A         1\n",
       "5         1\n",
       ".         1\n",
       "4         1\n",
       "-         1\n",
       "Q         1\n",
       "Name: RevLineCr, dtype: int64"
      ]
     },
     "execution_count": 28,
     "metadata": {},
     "output_type": "execute_result"
    }
   ],
   "source": [
    "apps_ver5['RevLineCr'].value_counts()"
   ]
  },
  {
   "cell_type": "code",
   "execution_count": 29,
   "id": "1c816eaa",
   "metadata": {},
   "outputs": [
    {
     "data": {
      "text/plain": [
       "N    782819\n",
       "Y    110335\n",
       "0      1491\n",
       "C       758\n",
       "S       603\n",
       "A       497\n",
       "R        75\n",
       "1         1\n",
       "Name: LowDoc, dtype: int64"
      ]
     },
     "execution_count": 29,
     "metadata": {},
     "output_type": "execute_result"
    }
   ],
   "source": [
    "apps_ver5['LowDoc'].value_counts()"
   ]
  },
  {
   "cell_type": "markdown",
   "id": "7f6eb2fc",
   "metadata": {},
   "source": [
    "For both *RevLineCr* and *LowDoc*, the accepted values are Y for yes and N for no. Therefore, there are many data entry errors including missing values in both of these. To solve for this, these values will all be reassigned back to 0, just like in *UrbanRural* and *NewExist*. The 0 value will simply be looked at as undefined."
   ]
  },
  {
   "cell_type": "code",
   "execution_count": 30,
   "id": "c7232869",
   "metadata": {},
   "outputs": [
    {
     "data": {
      "text/plain": [
       "City                      0\n",
       "State                     0\n",
       "Zip                       0\n",
       "NAICS                     0\n",
       "ApprovalFY                0\n",
       "Term                      0\n",
       "NoEmp                     0\n",
       "NewExist                  0\n",
       "CreateJob                 0\n",
       "RetainedJob               0\n",
       "FranchiseCode             0\n",
       "UrbanRural                0\n",
       "RevLineCr              4528\n",
       "LowDoc                 2582\n",
       "ChgOffDate           736463\n",
       "DisbursementGross         0\n",
       "BalanceGross              0\n",
       "MIS_Status             1997\n",
       "ChgOffPrinGr              0\n",
       "GrAppv                    0\n",
       "SBA_Appv                  0\n",
       "NAICS_sectors             0\n",
       "isFranchise               0\n",
       "RevLineCr_v2              0\n",
       "LowDoc_v2                 0\n",
       "dtype: int64"
      ]
     },
     "execution_count": 30,
     "metadata": {},
     "output_type": "execute_result"
    }
   ],
   "source": [
    "apps_ver5['RevLineCr_v2'] = apps_ver5['RevLineCr'].apply(lambda x: 0 if x != 'Y' and x != 'N' else x)\n",
    "apps_ver5['LowDoc_v2'] = apps_ver5['LowDoc'].apply(lambda x: 0 if x != 'Y' and x != 'N' else x)\n",
    "apps_ver5.isnull().sum()"
   ]
  },
  {
   "cell_type": "markdown",
   "id": "beb98731",
   "metadata": {},
   "source": [
    "Time to do some cleanup. The following columns will no longer be needed: *NAICS*, *FranchiseCode*, *RevLineCr*, and *LowDoc*. The *ChgOffDate* will also likely not be needed in future analysis as these would be values that will be populated **after** the applicant has defaulted. Therefore, those columns will be removed as well."
   ]
  },
  {
   "cell_type": "code",
   "execution_count": 31,
   "id": "c034ebfe",
   "metadata": {},
   "outputs": [
    {
     "data": {
      "text/html": [
       "<div>\n",
       "<style scoped>\n",
       "    .dataframe tbody tr th:only-of-type {\n",
       "        vertical-align: middle;\n",
       "    }\n",
       "\n",
       "    .dataframe tbody tr th {\n",
       "        vertical-align: top;\n",
       "    }\n",
       "\n",
       "    .dataframe thead th {\n",
       "        text-align: right;\n",
       "    }\n",
       "</style>\n",
       "<table border=\"1\" class=\"dataframe\">\n",
       "  <thead>\n",
       "    <tr style=\"text-align: right;\">\n",
       "      <th></th>\n",
       "      <th>City</th>\n",
       "      <th>State</th>\n",
       "      <th>Zip</th>\n",
       "      <th>ApprovalFY</th>\n",
       "      <th>Term</th>\n",
       "      <th>NoEmp</th>\n",
       "      <th>NewExist</th>\n",
       "      <th>CreateJob</th>\n",
       "      <th>RetainedJob</th>\n",
       "      <th>UrbanRural</th>\n",
       "      <th>DisbursementGross</th>\n",
       "      <th>BalanceGross</th>\n",
       "      <th>MIS_Status</th>\n",
       "      <th>ChgOffPrinGr</th>\n",
       "      <th>GrAppv</th>\n",
       "      <th>SBA_Appv</th>\n",
       "      <th>NAICS_sectors</th>\n",
       "      <th>isFranchise</th>\n",
       "      <th>RevLineCr_v2</th>\n",
       "      <th>LowDoc_v2</th>\n",
       "    </tr>\n",
       "  </thead>\n",
       "  <tbody>\n",
       "    <tr>\n",
       "      <th>0</th>\n",
       "      <td>EVANSVILLE</td>\n",
       "      <td>IN</td>\n",
       "      <td>47711</td>\n",
       "      <td>1997</td>\n",
       "      <td>84</td>\n",
       "      <td>4</td>\n",
       "      <td>new_business</td>\n",
       "      <td>0</td>\n",
       "      <td>0</td>\n",
       "      <td>unknown</td>\n",
       "      <td>$60,000.00</td>\n",
       "      <td>$0.00</td>\n",
       "      <td>P I F</td>\n",
       "      <td>$0.00</td>\n",
       "      <td>$60,000.00</td>\n",
       "      <td>$48,000.00</td>\n",
       "      <td>45</td>\n",
       "      <td>not_franchise</td>\n",
       "      <td>N</td>\n",
       "      <td>Y</td>\n",
       "    </tr>\n",
       "    <tr>\n",
       "      <th>1</th>\n",
       "      <td>NEW PARIS</td>\n",
       "      <td>IN</td>\n",
       "      <td>46526</td>\n",
       "      <td>1997</td>\n",
       "      <td>60</td>\n",
       "      <td>2</td>\n",
       "      <td>new_business</td>\n",
       "      <td>0</td>\n",
       "      <td>0</td>\n",
       "      <td>unknown</td>\n",
       "      <td>$40,000.00</td>\n",
       "      <td>$0.00</td>\n",
       "      <td>P I F</td>\n",
       "      <td>$0.00</td>\n",
       "      <td>$40,000.00</td>\n",
       "      <td>$32,000.00</td>\n",
       "      <td>72</td>\n",
       "      <td>not_franchise</td>\n",
       "      <td>N</td>\n",
       "      <td>Y</td>\n",
       "    </tr>\n",
       "    <tr>\n",
       "      <th>2</th>\n",
       "      <td>BLOOMINGTON</td>\n",
       "      <td>IN</td>\n",
       "      <td>47401</td>\n",
       "      <td>1997</td>\n",
       "      <td>180</td>\n",
       "      <td>7</td>\n",
       "      <td>existing_business</td>\n",
       "      <td>0</td>\n",
       "      <td>0</td>\n",
       "      <td>unknown</td>\n",
       "      <td>$287,000.00</td>\n",
       "      <td>$0.00</td>\n",
       "      <td>P I F</td>\n",
       "      <td>$0.00</td>\n",
       "      <td>$287,000.00</td>\n",
       "      <td>$215,250.00</td>\n",
       "      <td>62</td>\n",
       "      <td>not_franchise</td>\n",
       "      <td>N</td>\n",
       "      <td>N</td>\n",
       "    </tr>\n",
       "    <tr>\n",
       "      <th>3</th>\n",
       "      <td>BROKEN ARROW</td>\n",
       "      <td>OK</td>\n",
       "      <td>74012</td>\n",
       "      <td>1997</td>\n",
       "      <td>60</td>\n",
       "      <td>2</td>\n",
       "      <td>existing_business</td>\n",
       "      <td>0</td>\n",
       "      <td>0</td>\n",
       "      <td>unknown</td>\n",
       "      <td>$35,000.00</td>\n",
       "      <td>$0.00</td>\n",
       "      <td>P I F</td>\n",
       "      <td>$0.00</td>\n",
       "      <td>$35,000.00</td>\n",
       "      <td>$28,000.00</td>\n",
       "      <td>0</td>\n",
       "      <td>not_franchise</td>\n",
       "      <td>N</td>\n",
       "      <td>Y</td>\n",
       "    </tr>\n",
       "    <tr>\n",
       "      <th>4</th>\n",
       "      <td>ORLANDO</td>\n",
       "      <td>FL</td>\n",
       "      <td>32801</td>\n",
       "      <td>1997</td>\n",
       "      <td>240</td>\n",
       "      <td>14</td>\n",
       "      <td>existing_business</td>\n",
       "      <td>7</td>\n",
       "      <td>7</td>\n",
       "      <td>unknown</td>\n",
       "      <td>$229,000.00</td>\n",
       "      <td>$0.00</td>\n",
       "      <td>P I F</td>\n",
       "      <td>$0.00</td>\n",
       "      <td>$229,000.00</td>\n",
       "      <td>$229,000.00</td>\n",
       "      <td>0</td>\n",
       "      <td>not_franchise</td>\n",
       "      <td>N</td>\n",
       "      <td>N</td>\n",
       "    </tr>\n",
       "  </tbody>\n",
       "</table>\n",
       "</div>"
      ],
      "text/plain": [
       "           City State    Zip  ApprovalFY  Term  NoEmp           NewExist  \\\n",
       "0    EVANSVILLE    IN  47711        1997    84      4       new_business   \n",
       "1     NEW PARIS    IN  46526        1997    60      2       new_business   \n",
       "2   BLOOMINGTON    IN  47401        1997   180      7  existing_business   \n",
       "3  BROKEN ARROW    OK  74012        1997    60      2  existing_business   \n",
       "4       ORLANDO    FL  32801        1997   240     14  existing_business   \n",
       "\n",
       "   CreateJob  RetainedJob UrbanRural DisbursementGross BalanceGross  \\\n",
       "0          0            0    unknown       $60,000.00        $0.00    \n",
       "1          0            0    unknown       $40,000.00        $0.00    \n",
       "2          0            0    unknown      $287,000.00        $0.00    \n",
       "3          0            0    unknown       $35,000.00        $0.00    \n",
       "4          7            7    unknown      $229,000.00        $0.00    \n",
       "\n",
       "  MIS_Status ChgOffPrinGr        GrAppv      SBA_Appv  NAICS_sectors  \\\n",
       "0      P I F       $0.00    $60,000.00    $48,000.00              45   \n",
       "1      P I F       $0.00    $40,000.00    $32,000.00              72   \n",
       "2      P I F       $0.00   $287,000.00   $215,250.00              62   \n",
       "3      P I F       $0.00    $35,000.00    $28,000.00               0   \n",
       "4      P I F       $0.00   $229,000.00   $229,000.00               0   \n",
       "\n",
       "     isFranchise RevLineCr_v2 LowDoc_v2  \n",
       "0  not_franchise            N         Y  \n",
       "1  not_franchise            N         Y  \n",
       "2  not_franchise            N         N  \n",
       "3  not_franchise            N         Y  \n",
       "4  not_franchise            N         N  "
      ]
     },
     "execution_count": 31,
     "metadata": {},
     "output_type": "execute_result"
    }
   ],
   "source": [
    "apps_ver6 = apps_ver5.drop(axis=1, columns=['NAICS', 'FranchiseCode', 'RevLineCr', 'LowDoc', 'ChgOffDate'])\n",
    "apps_ver6.head()"
   ]
  },
  {
   "cell_type": "markdown",
   "id": "0ce177d0",
   "metadata": {},
   "source": [
    "Two more things to clear up: switching the currency to useable floats, and determining what to do with the null values in MIS_Status. The following function below will be used to convert the currency to floats."
   ]
  },
  {
   "cell_type": "code",
   "execution_count": 32,
   "id": "508d347a",
   "metadata": {},
   "outputs": [],
   "source": [
    "def convertCurrencyToFloat(df, columns):\n",
    "    \"\"\"Takes in a dataframe and copies it to a temporary data frame. The temp data frame converts all currency\n",
    "    columns to float columns and returns the temp data frame as the new data frame to be used.\"\"\"\n",
    "    temp_df = df\n",
    "    for column in columns:\n",
    "        temp_df[column] = temp_df[column].replace('[\\$,]', '', regex=True).astype(float)\n",
    "    return temp_df"
   ]
  },
  {
   "cell_type": "code",
   "execution_count": 33,
   "id": "ec0c2b56",
   "metadata": {},
   "outputs": [
    {
     "name": "stdout",
     "output_type": "stream",
     "text": [
      "<class 'pandas.core.frame.DataFrame'>\n",
      "Int64Index: 899161 entries, 0 to 899163\n",
      "Data columns (total 20 columns):\n",
      " #   Column             Non-Null Count   Dtype  \n",
      "---  ------             --------------   -----  \n",
      " 0   City               899161 non-null  object \n",
      " 1   State              899161 non-null  object \n",
      " 2   Zip                899161 non-null  int64  \n",
      " 3   ApprovalFY         899161 non-null  int64  \n",
      " 4   Term               899161 non-null  int64  \n",
      " 5   NoEmp              899161 non-null  int64  \n",
      " 6   NewExist           899161 non-null  object \n",
      " 7   CreateJob          899161 non-null  int64  \n",
      " 8   RetainedJob        899161 non-null  int64  \n",
      " 9   UrbanRural         899161 non-null  object \n",
      " 10  DisbursementGross  899161 non-null  float64\n",
      " 11  BalanceGross       899161 non-null  float64\n",
      " 12  MIS_Status         897164 non-null  object \n",
      " 13  ChgOffPrinGr       899161 non-null  float64\n",
      " 14  GrAppv             899161 non-null  float64\n",
      " 15  SBA_Appv           899161 non-null  float64\n",
      " 16  NAICS_sectors      899161 non-null  int64  \n",
      " 17  isFranchise        899161 non-null  object \n",
      " 18  RevLineCr_v2       899161 non-null  object \n",
      " 19  LowDoc_v2          899161 non-null  object \n",
      "dtypes: float64(5), int64(7), object(8)\n",
      "memory usage: 144.1+ MB\n"
     ]
    }
   ],
   "source": [
    "currencyColumns = ['DisbursementGross', 'BalanceGross', 'GrAppv', 'SBA_Appv', 'ChgOffPrinGr']\n",
    "apps_ver7 = convertCurrencyToFloat(apps_ver6, currencyColumns)\n",
    "apps_ver7.info()"
   ]
  },
  {
   "cell_type": "code",
   "execution_count": 34,
   "id": "38d86c16",
   "metadata": {},
   "outputs": [
    {
     "data": {
      "text/html": [
       "<div>\n",
       "<style scoped>\n",
       "    .dataframe tbody tr th:only-of-type {\n",
       "        vertical-align: middle;\n",
       "    }\n",
       "\n",
       "    .dataframe tbody tr th {\n",
       "        vertical-align: top;\n",
       "    }\n",
       "\n",
       "    .dataframe thead th {\n",
       "        text-align: right;\n",
       "    }\n",
       "</style>\n",
       "<table border=\"1\" class=\"dataframe\">\n",
       "  <thead>\n",
       "    <tr style=\"text-align: right;\">\n",
       "      <th></th>\n",
       "      <th>City</th>\n",
       "      <th>State</th>\n",
       "      <th>Zip</th>\n",
       "      <th>ApprovalFY</th>\n",
       "      <th>Term</th>\n",
       "      <th>NoEmp</th>\n",
       "      <th>NewExist</th>\n",
       "      <th>CreateJob</th>\n",
       "      <th>RetainedJob</th>\n",
       "      <th>UrbanRural</th>\n",
       "      <th>DisbursementGross</th>\n",
       "      <th>BalanceGross</th>\n",
       "      <th>MIS_Status</th>\n",
       "      <th>ChgOffPrinGr</th>\n",
       "      <th>GrAppv</th>\n",
       "      <th>SBA_Appv</th>\n",
       "      <th>NAICS_sectors</th>\n",
       "      <th>isFranchise</th>\n",
       "      <th>RevLineCr_v2</th>\n",
       "      <th>LowDoc_v2</th>\n",
       "    </tr>\n",
       "  </thead>\n",
       "  <tbody>\n",
       "    <tr>\n",
       "      <th>343</th>\n",
       "      <td>Saratoga Springs</td>\n",
       "      <td>NY</td>\n",
       "      <td>12866</td>\n",
       "      <td>1998</td>\n",
       "      <td>60</td>\n",
       "      <td>3</td>\n",
       "      <td>existing_business</td>\n",
       "      <td>0</td>\n",
       "      <td>0</td>\n",
       "      <td>unknown</td>\n",
       "      <td>474.0</td>\n",
       "      <td>0.0</td>\n",
       "      <td>NaN</td>\n",
       "      <td>0.0</td>\n",
       "      <td>30000.0</td>\n",
       "      <td>15000.0</td>\n",
       "      <td>0</td>\n",
       "      <td>not_franchise</td>\n",
       "      <td>0</td>\n",
       "      <td>N</td>\n",
       "    </tr>\n",
       "    <tr>\n",
       "      <th>611</th>\n",
       "      <td>DANIELSON</td>\n",
       "      <td>CT</td>\n",
       "      <td>6239</td>\n",
       "      <td>1980</td>\n",
       "      <td>180</td>\n",
       "      <td>30</td>\n",
       "      <td>new_business</td>\n",
       "      <td>0</td>\n",
       "      <td>0</td>\n",
       "      <td>unknown</td>\n",
       "      <td>0.0</td>\n",
       "      <td>0.0</td>\n",
       "      <td>NaN</td>\n",
       "      <td>144461.0</td>\n",
       "      <td>300000.0</td>\n",
       "      <td>300000.0</td>\n",
       "      <td>0</td>\n",
       "      <td>not_franchise</td>\n",
       "      <td>N</td>\n",
       "      <td>N</td>\n",
       "    </tr>\n",
       "    <tr>\n",
       "      <th>738</th>\n",
       "      <td>BOISE</td>\n",
       "      <td>ID</td>\n",
       "      <td>83703</td>\n",
       "      <td>1997</td>\n",
       "      <td>60</td>\n",
       "      <td>1</td>\n",
       "      <td>existing_business</td>\n",
       "      <td>0</td>\n",
       "      <td>0</td>\n",
       "      <td>unknown</td>\n",
       "      <td>2585.0</td>\n",
       "      <td>0.0</td>\n",
       "      <td>NaN</td>\n",
       "      <td>0.0</td>\n",
       "      <td>10000.0</td>\n",
       "      <td>5000.0</td>\n",
       "      <td>0</td>\n",
       "      <td>not_franchise</td>\n",
       "      <td>0</td>\n",
       "      <td>N</td>\n",
       "    </tr>\n",
       "    <tr>\n",
       "      <th>740</th>\n",
       "      <td>SIOUX CITY</td>\n",
       "      <td>IA</td>\n",
       "      <td>51111</td>\n",
       "      <td>1980</td>\n",
       "      <td>120</td>\n",
       "      <td>3</td>\n",
       "      <td>existing_business</td>\n",
       "      <td>0</td>\n",
       "      <td>0</td>\n",
       "      <td>unknown</td>\n",
       "      <td>0.0</td>\n",
       "      <td>0.0</td>\n",
       "      <td>NaN</td>\n",
       "      <td>142666.0</td>\n",
       "      <td>350000.0</td>\n",
       "      <td>350000.0</td>\n",
       "      <td>0</td>\n",
       "      <td>not_franchise</td>\n",
       "      <td>N</td>\n",
       "      <td>N</td>\n",
       "    </tr>\n",
       "    <tr>\n",
       "      <th>833</th>\n",
       "      <td>HUNTINGTON</td>\n",
       "      <td>NY</td>\n",
       "      <td>11743</td>\n",
       "      <td>2003</td>\n",
       "      <td>84</td>\n",
       "      <td>1</td>\n",
       "      <td>new_business</td>\n",
       "      <td>0</td>\n",
       "      <td>0</td>\n",
       "      <td>unknown</td>\n",
       "      <td>1276.0</td>\n",
       "      <td>0.0</td>\n",
       "      <td>NaN</td>\n",
       "      <td>0.0</td>\n",
       "      <td>25000.0</td>\n",
       "      <td>12500.0</td>\n",
       "      <td>42</td>\n",
       "      <td>not_franchise</td>\n",
       "      <td>N</td>\n",
       "      <td>N</td>\n",
       "    </tr>\n",
       "    <tr>\n",
       "      <th>...</th>\n",
       "      <td>...</td>\n",
       "      <td>...</td>\n",
       "      <td>...</td>\n",
       "      <td>...</td>\n",
       "      <td>...</td>\n",
       "      <td>...</td>\n",
       "      <td>...</td>\n",
       "      <td>...</td>\n",
       "      <td>...</td>\n",
       "      <td>...</td>\n",
       "      <td>...</td>\n",
       "      <td>...</td>\n",
       "      <td>...</td>\n",
       "      <td>...</td>\n",
       "      <td>...</td>\n",
       "      <td>...</td>\n",
       "      <td>...</td>\n",
       "      <td>...</td>\n",
       "      <td>...</td>\n",
       "      <td>...</td>\n",
       "    </tr>\n",
       "    <tr>\n",
       "      <th>892340</th>\n",
       "      <td>ALAMEDA</td>\n",
       "      <td>CA</td>\n",
       "      <td>94605</td>\n",
       "      <td>1997</td>\n",
       "      <td>84</td>\n",
       "      <td>1</td>\n",
       "      <td>existing_business</td>\n",
       "      <td>0</td>\n",
       "      <td>0</td>\n",
       "      <td>unknown</td>\n",
       "      <td>0.0</td>\n",
       "      <td>0.0</td>\n",
       "      <td>NaN</td>\n",
       "      <td>0.0</td>\n",
       "      <td>50000.0</td>\n",
       "      <td>25000.0</td>\n",
       "      <td>0</td>\n",
       "      <td>not_franchise</td>\n",
       "      <td>0</td>\n",
       "      <td>N</td>\n",
       "    </tr>\n",
       "    <tr>\n",
       "      <th>893791</th>\n",
       "      <td>SAN GABRIEL</td>\n",
       "      <td>CA</td>\n",
       "      <td>91776</td>\n",
       "      <td>1997</td>\n",
       "      <td>84</td>\n",
       "      <td>4</td>\n",
       "      <td>existing_business</td>\n",
       "      <td>0</td>\n",
       "      <td>0</td>\n",
       "      <td>unknown</td>\n",
       "      <td>373.0</td>\n",
       "      <td>0.0</td>\n",
       "      <td>NaN</td>\n",
       "      <td>0.0</td>\n",
       "      <td>25000.0</td>\n",
       "      <td>12500.0</td>\n",
       "      <td>0</td>\n",
       "      <td>not_franchise</td>\n",
       "      <td>0</td>\n",
       "      <td>N</td>\n",
       "    </tr>\n",
       "    <tr>\n",
       "      <th>894290</th>\n",
       "      <td>PORTLAND</td>\n",
       "      <td>OR</td>\n",
       "      <td>97206</td>\n",
       "      <td>1997</td>\n",
       "      <td>84</td>\n",
       "      <td>1</td>\n",
       "      <td>existing_business</td>\n",
       "      <td>0</td>\n",
       "      <td>0</td>\n",
       "      <td>unknown</td>\n",
       "      <td>20.0</td>\n",
       "      <td>0.0</td>\n",
       "      <td>NaN</td>\n",
       "      <td>0.0</td>\n",
       "      <td>10000.0</td>\n",
       "      <td>5000.0</td>\n",
       "      <td>0</td>\n",
       "      <td>not_franchise</td>\n",
       "      <td>0</td>\n",
       "      <td>N</td>\n",
       "    </tr>\n",
       "    <tr>\n",
       "      <th>896318</th>\n",
       "      <td>RICHMOND</td>\n",
       "      <td>VA</td>\n",
       "      <td>23225</td>\n",
       "      <td>1997</td>\n",
       "      <td>36</td>\n",
       "      <td>1</td>\n",
       "      <td>new_business</td>\n",
       "      <td>0</td>\n",
       "      <td>0</td>\n",
       "      <td>unknown</td>\n",
       "      <td>3500.0</td>\n",
       "      <td>0.0</td>\n",
       "      <td>NaN</td>\n",
       "      <td>0.0</td>\n",
       "      <td>3500.0</td>\n",
       "      <td>2800.0</td>\n",
       "      <td>0</td>\n",
       "      <td>not_franchise</td>\n",
       "      <td>N</td>\n",
       "      <td>Y</td>\n",
       "    </tr>\n",
       "    <tr>\n",
       "      <th>898182</th>\n",
       "      <td>ROUND ROCK</td>\n",
       "      <td>TX</td>\n",
       "      <td>78681</td>\n",
       "      <td>1997</td>\n",
       "      <td>84</td>\n",
       "      <td>2</td>\n",
       "      <td>existing_business</td>\n",
       "      <td>0</td>\n",
       "      <td>0</td>\n",
       "      <td>unknown</td>\n",
       "      <td>0.0</td>\n",
       "      <td>0.0</td>\n",
       "      <td>NaN</td>\n",
       "      <td>0.0</td>\n",
       "      <td>105000.0</td>\n",
       "      <td>78750.0</td>\n",
       "      <td>62</td>\n",
       "      <td>not_franchise</td>\n",
       "      <td>0</td>\n",
       "      <td>N</td>\n",
       "    </tr>\n",
       "  </tbody>\n",
       "</table>\n",
       "<p>1997 rows × 20 columns</p>\n",
       "</div>"
      ],
      "text/plain": [
       "                    City State    Zip  ApprovalFY  Term  NoEmp  \\\n",
       "343     Saratoga Springs    NY  12866        1998    60      3   \n",
       "611            DANIELSON    CT   6239        1980   180     30   \n",
       "738                BOISE    ID  83703        1997    60      1   \n",
       "740           SIOUX CITY    IA  51111        1980   120      3   \n",
       "833           HUNTINGTON    NY  11743        2003    84      1   \n",
       "...                  ...   ...    ...         ...   ...    ...   \n",
       "892340           ALAMEDA    CA  94605        1997    84      1   \n",
       "893791       SAN GABRIEL    CA  91776        1997    84      4   \n",
       "894290          PORTLAND    OR  97206        1997    84      1   \n",
       "896318          RICHMOND    VA  23225        1997    36      1   \n",
       "898182        ROUND ROCK    TX  78681        1997    84      2   \n",
       "\n",
       "                 NewExist  CreateJob  RetainedJob UrbanRural  \\\n",
       "343     existing_business          0            0    unknown   \n",
       "611          new_business          0            0    unknown   \n",
       "738     existing_business          0            0    unknown   \n",
       "740     existing_business          0            0    unknown   \n",
       "833          new_business          0            0    unknown   \n",
       "...                   ...        ...          ...        ...   \n",
       "892340  existing_business          0            0    unknown   \n",
       "893791  existing_business          0            0    unknown   \n",
       "894290  existing_business          0            0    unknown   \n",
       "896318       new_business          0            0    unknown   \n",
       "898182  existing_business          0            0    unknown   \n",
       "\n",
       "        DisbursementGross  BalanceGross MIS_Status  ChgOffPrinGr    GrAppv  \\\n",
       "343                 474.0           0.0        NaN           0.0   30000.0   \n",
       "611                   0.0           0.0        NaN      144461.0  300000.0   \n",
       "738                2585.0           0.0        NaN           0.0   10000.0   \n",
       "740                   0.0           0.0        NaN      142666.0  350000.0   \n",
       "833                1276.0           0.0        NaN           0.0   25000.0   \n",
       "...                   ...           ...        ...           ...       ...   \n",
       "892340                0.0           0.0        NaN           0.0   50000.0   \n",
       "893791              373.0           0.0        NaN           0.0   25000.0   \n",
       "894290               20.0           0.0        NaN           0.0   10000.0   \n",
       "896318             3500.0           0.0        NaN           0.0    3500.0   \n",
       "898182                0.0           0.0        NaN           0.0  105000.0   \n",
       "\n",
       "        SBA_Appv  NAICS_sectors    isFranchise RevLineCr_v2 LowDoc_v2  \n",
       "343      15000.0              0  not_franchise            0         N  \n",
       "611     300000.0              0  not_franchise            N         N  \n",
       "738       5000.0              0  not_franchise            0         N  \n",
       "740     350000.0              0  not_franchise            N         N  \n",
       "833      12500.0             42  not_franchise            N         N  \n",
       "...          ...            ...            ...          ...       ...  \n",
       "892340   25000.0              0  not_franchise            0         N  \n",
       "893791   12500.0              0  not_franchise            0         N  \n",
       "894290    5000.0              0  not_franchise            0         N  \n",
       "896318    2800.0              0  not_franchise            N         Y  \n",
       "898182   78750.0             62  not_franchise            0         N  \n",
       "\n",
       "[1997 rows x 20 columns]"
      ]
     },
     "execution_count": 34,
     "metadata": {},
     "output_type": "execute_result"
    }
   ],
   "source": [
    "apps_ver7[apps_ver7['MIS_Status'].isnull()]"
   ]
  },
  {
   "cell_type": "code",
   "execution_count": 35,
   "id": "00d2a73b",
   "metadata": {},
   "outputs": [
    {
     "data": {
      "text/plain": [
       "(899161, 20)"
      ]
     },
     "execution_count": 35,
     "metadata": {},
     "output_type": "execute_result"
    }
   ],
   "source": [
    "apps_ver7.shape"
   ]
  },
  {
   "cell_type": "code",
   "execution_count": 36,
   "id": "f37670dd",
   "metadata": {},
   "outputs": [
    {
     "data": {
      "text/plain": [
       "0.22209593165183988"
      ]
     },
     "execution_count": 36,
     "metadata": {},
     "output_type": "execute_result"
    }
   ],
   "source": [
    "1997 / 899161 * 100"
   ]
  },
  {
   "cell_type": "markdown",
   "id": "40fd2819",
   "metadata": {},
   "source": [
    "There are 1997 (0.22%) observations that do not have their MIS_Status filled out. With this being such a small representation of the current dataset, these observations will be dropped, and the values will be changed from 'PIF' and 'CHGOFF' to 'paid' and 'default', respectively. "
   ]
  },
  {
   "cell_type": "code",
   "execution_count": 37,
   "id": "5d526b3e",
   "metadata": {},
   "outputs": [],
   "source": [
    "apps_ver7['MIS_Status_v2'] = apps_ver7['MIS_Status'].dropna().apply(lambda x: 'paid' if x == 'P I F' else 'default')\n",
    "apps_ver8 = apps_ver7.dropna(axis=0, subset=['MIS_Status_v2'])"
   ]
  },
  {
   "cell_type": "code",
   "execution_count": 38,
   "id": "790d5e97",
   "metadata": {},
   "outputs": [
    {
     "data": {
      "text/plain": [
       "paid       739607\n",
       "default    157557\n",
       "Name: MIS_Status_v2, dtype: int64"
      ]
     },
     "execution_count": 38,
     "metadata": {},
     "output_type": "execute_result"
    }
   ],
   "source": [
    "apps_ver8['MIS_Status_v2'].value_counts()"
   ]
  },
  {
   "cell_type": "code",
   "execution_count": 39,
   "id": "d238fd17",
   "metadata": {},
   "outputs": [
    {
     "name": "stdout",
     "output_type": "stream",
     "text": [
      "<class 'pandas.core.frame.DataFrame'>\n",
      "Int64Index: 897164 entries, 0 to 899163\n",
      "Data columns (total 21 columns):\n",
      " #   Column             Non-Null Count   Dtype  \n",
      "---  ------             --------------   -----  \n",
      " 0   City               897164 non-null  object \n",
      " 1   State              897164 non-null  object \n",
      " 2   Zip                897164 non-null  int64  \n",
      " 3   ApprovalFY         897164 non-null  int64  \n",
      " 4   Term               897164 non-null  int64  \n",
      " 5   NoEmp              897164 non-null  int64  \n",
      " 6   NewExist           897164 non-null  object \n",
      " 7   CreateJob          897164 non-null  int64  \n",
      " 8   RetainedJob        897164 non-null  int64  \n",
      " 9   UrbanRural         897164 non-null  object \n",
      " 10  DisbursementGross  897164 non-null  float64\n",
      " 11  BalanceGross       897164 non-null  float64\n",
      " 12  MIS_Status         897164 non-null  object \n",
      " 13  ChgOffPrinGr       897164 non-null  float64\n",
      " 14  GrAppv             897164 non-null  float64\n",
      " 15  SBA_Appv           897164 non-null  float64\n",
      " 16  NAICS_sectors      897164 non-null  int64  \n",
      " 17  isFranchise        897164 non-null  object \n",
      " 18  RevLineCr_v2       897164 non-null  object \n",
      " 19  LowDoc_v2          897164 non-null  object \n",
      " 20  MIS_Status_v2      897164 non-null  object \n",
      "dtypes: float64(5), int64(7), object(9)\n",
      "memory usage: 150.6+ MB\n"
     ]
    }
   ],
   "source": [
    "apps_ver8.info()"
   ]
  },
  {
   "cell_type": "markdown",
   "id": "d695adf6",
   "metadata": {},
   "source": [
    "The **MIS_Status** column is no longer needed and can be dropped."
   ]
  },
  {
   "cell_type": "code",
   "execution_count": 40,
   "id": "a5da88ca",
   "metadata": {},
   "outputs": [],
   "source": [
    "apps_ver9 = apps_ver8.drop(axis=1, columns=['MIS_Status'])"
   ]
  },
  {
   "cell_type": "code",
   "execution_count": 41,
   "id": "39ebc869",
   "metadata": {},
   "outputs": [
    {
     "data": {
      "text/plain": [
       "City                 0\n",
       "State                0\n",
       "Zip                  0\n",
       "ApprovalFY           0\n",
       "Term                 0\n",
       "NoEmp                0\n",
       "NewExist             0\n",
       "CreateJob            0\n",
       "RetainedJob          0\n",
       "UrbanRural           0\n",
       "DisbursementGross    0\n",
       "BalanceGross         0\n",
       "ChgOffPrinGr         0\n",
       "GrAppv               0\n",
       "SBA_Appv             0\n",
       "NAICS_sectors        0\n",
       "isFranchise          0\n",
       "RevLineCr_v2         0\n",
       "LowDoc_v2            0\n",
       "MIS_Status_v2        0\n",
       "dtype: int64"
      ]
     },
     "execution_count": 41,
     "metadata": {},
     "output_type": "execute_result"
    }
   ],
   "source": [
    "apps_ver9.isnull().sum()"
   ]
  },
  {
   "cell_type": "markdown",
   "id": "b63a3856",
   "metadata": {},
   "source": [
    "The dataset is finally clean and is ready for some exploration. In the EDA phase, relationships between the features will be explored to determine which features appear to have the strongest influence on the **MIS_Status_v2** feature. "
   ]
  },
  {
   "cell_type": "code",
   "execution_count": 42,
   "id": "0b6c7b00",
   "metadata": {},
   "outputs": [
    {
     "name": "stdout",
     "output_type": "stream",
     "text": [
      "A file already exists with this name.\n",
      "\n",
      "Do you want to overwrite? (Y/N)Y\n",
      "Writing file.  \"../data/interim/sba_national_summary.csv\"\n"
     ]
    }
   ],
   "source": [
    "datapath = '../data/interim'\n",
    "save_file(apps_ver9, 'sba_national_summary.csv', datapath)"
   ]
  }
 ],
 "metadata": {
  "kernelspec": {
   "display_name": "Python 3 (ipykernel)",
   "language": "python",
   "name": "python3"
  },
  "language_info": {
   "codemirror_mode": {
    "name": "ipython",
    "version": 3
   },
   "file_extension": ".py",
   "mimetype": "text/x-python",
   "name": "python",
   "nbconvert_exporter": "python",
   "pygments_lexer": "ipython3",
   "version": "3.9.10"
  }
 },
 "nbformat": 4,
 "nbformat_minor": 5
}
