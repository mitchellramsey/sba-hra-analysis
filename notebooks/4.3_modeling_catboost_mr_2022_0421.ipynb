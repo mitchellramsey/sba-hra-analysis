{
 "cells": [
  {
   "cell_type": "markdown",
   "id": "041b86ae",
   "metadata": {},
   "source": [
    "# SBA Loan Analysis\n",
    "\n",
    "# Modeling - Part 4 - CatBoost"
   ]
  },
  {
   "cell_type": "markdown",
   "id": "6d5b41cd",
   "metadata": {},
   "source": [
    "## 1. Imports"
   ]
  },
  {
   "cell_type": "code",
   "execution_count": 2,
   "id": "b5de69e8",
   "metadata": {},
   "outputs": [],
   "source": [
    "import warnings\n",
    "warnings.filterwarnings('ignore')\n",
    "\n",
    "import numpy as np\n",
    "import pandas as pd\n",
    "import matplotlib.pyplot as plt\n",
    "import seaborn as sns\n",
    "\n",
    "\n",
    "from catboost import CatBoostClassifier\n",
    "from sklearn.model_selection import GridSearchCV\n",
    "from sklearn.metrics import classification_report, accuracy_score, f1_score, matthews_corrcoef, confusion_matrix\n",
    "\n",
    "from library.preprocessing import processing_pipeline\n",
    "from library.modeling import (createModel, createClassificationMetrics,\n",
    "                             runGridSearchAnalysis, createConfusionMatrix, createFeatureImportanceChart)"
   ]
  },
  {
   "cell_type": "markdown",
   "id": "a24e5c9e",
   "metadata": {},
   "source": [
    "## 2. Previewing Data"
   ]
  },
  {
   "cell_type": "code",
   "execution_count": 3,
   "id": "c3a18a58",
   "metadata": {},
   "outputs": [],
   "source": [
    "sba_loans = pd.read_csv('./../data/processed/sba_national_processed_final.csv')\n",
    "\n",
    "pd.set_option('display.max_columns', None)"
   ]
  },
  {
   "cell_type": "code",
   "execution_count": 4,
   "id": "8973813c",
   "metadata": {},
   "outputs": [
    {
     "data": {
      "text/html": [
       "<div>\n",
       "<style scoped>\n",
       "    .dataframe tbody tr th:only-of-type {\n",
       "        vertical-align: middle;\n",
       "    }\n",
       "\n",
       "    .dataframe tbody tr th {\n",
       "        vertical-align: top;\n",
       "    }\n",
       "\n",
       "    .dataframe thead th {\n",
       "        text-align: right;\n",
       "    }\n",
       "</style>\n",
       "<table border=\"1\" class=\"dataframe\">\n",
       "  <thead>\n",
       "    <tr style=\"text-align: right;\">\n",
       "      <th></th>\n",
       "      <th>Term</th>\n",
       "      <th>NoEmp</th>\n",
       "      <th>CreateJob</th>\n",
       "      <th>RetainedJob</th>\n",
       "      <th>DisbursementGross</th>\n",
       "      <th>GrAppv</th>\n",
       "      <th>SBA_Appv</th>\n",
       "      <th>NAICS_sectors</th>\n",
       "      <th>unemployment_rate</th>\n",
       "      <th>gdp_growth</th>\n",
       "      <th>gdp_annual_change</th>\n",
       "      <th>inflation_rate</th>\n",
       "      <th>inf_rate_annual_chg</th>\n",
       "      <th>NewExist_existing_business</th>\n",
       "      <th>NewExist_new_business</th>\n",
       "      <th>UrbanRural_rural</th>\n",
       "      <th>UrbanRural_urban</th>\n",
       "      <th>isFranchise_not_franchise</th>\n",
       "      <th>RevLineCr_v2_N</th>\n",
       "      <th>RevLineCr_v2_Y</th>\n",
       "      <th>LowDoc_v2_N</th>\n",
       "      <th>LowDoc_v2_Y</th>\n",
       "      <th>MIS_Status_v2_default</th>\n",
       "      <th>state_top10</th>\n",
       "    </tr>\n",
       "  </thead>\n",
       "  <tbody>\n",
       "    <tr>\n",
       "      <th>0</th>\n",
       "      <td>84</td>\n",
       "      <td>4</td>\n",
       "      <td>0</td>\n",
       "      <td>0</td>\n",
       "      <td>60000.0</td>\n",
       "      <td>60000.0</td>\n",
       "      <td>48000.0</td>\n",
       "      <td>45</td>\n",
       "      <td>3.5</td>\n",
       "      <td>4.4472</td>\n",
       "      <td>0.67</td>\n",
       "      <td>2.3377</td>\n",
       "      <td>-0.59</td>\n",
       "      <td>0</td>\n",
       "      <td>1</td>\n",
       "      <td>0</td>\n",
       "      <td>0</td>\n",
       "      <td>1</td>\n",
       "      <td>1</td>\n",
       "      <td>0</td>\n",
       "      <td>0</td>\n",
       "      <td>1</td>\n",
       "      <td>0</td>\n",
       "      <td>0</td>\n",
       "    </tr>\n",
       "    <tr>\n",
       "      <th>1</th>\n",
       "      <td>60</td>\n",
       "      <td>2</td>\n",
       "      <td>0</td>\n",
       "      <td>0</td>\n",
       "      <td>40000.0</td>\n",
       "      <td>40000.0</td>\n",
       "      <td>32000.0</td>\n",
       "      <td>72</td>\n",
       "      <td>3.5</td>\n",
       "      <td>4.4472</td>\n",
       "      <td>0.67</td>\n",
       "      <td>2.3377</td>\n",
       "      <td>-0.59</td>\n",
       "      <td>0</td>\n",
       "      <td>1</td>\n",
       "      <td>0</td>\n",
       "      <td>0</td>\n",
       "      <td>1</td>\n",
       "      <td>1</td>\n",
       "      <td>0</td>\n",
       "      <td>0</td>\n",
       "      <td>1</td>\n",
       "      <td>0</td>\n",
       "      <td>0</td>\n",
       "    </tr>\n",
       "    <tr>\n",
       "      <th>2</th>\n",
       "      <td>180</td>\n",
       "      <td>7</td>\n",
       "      <td>0</td>\n",
       "      <td>0</td>\n",
       "      <td>287000.0</td>\n",
       "      <td>287000.0</td>\n",
       "      <td>215250.0</td>\n",
       "      <td>62</td>\n",
       "      <td>3.5</td>\n",
       "      <td>4.4472</td>\n",
       "      <td>0.67</td>\n",
       "      <td>2.3377</td>\n",
       "      <td>-0.59</td>\n",
       "      <td>1</td>\n",
       "      <td>0</td>\n",
       "      <td>0</td>\n",
       "      <td>0</td>\n",
       "      <td>1</td>\n",
       "      <td>1</td>\n",
       "      <td>0</td>\n",
       "      <td>1</td>\n",
       "      <td>0</td>\n",
       "      <td>0</td>\n",
       "      <td>0</td>\n",
       "    </tr>\n",
       "    <tr>\n",
       "      <th>3</th>\n",
       "      <td>60</td>\n",
       "      <td>2</td>\n",
       "      <td>0</td>\n",
       "      <td>0</td>\n",
       "      <td>35000.0</td>\n",
       "      <td>35000.0</td>\n",
       "      <td>28000.0</td>\n",
       "      <td>0</td>\n",
       "      <td>4.1</td>\n",
       "      <td>4.4472</td>\n",
       "      <td>0.67</td>\n",
       "      <td>2.3377</td>\n",
       "      <td>-0.59</td>\n",
       "      <td>1</td>\n",
       "      <td>0</td>\n",
       "      <td>0</td>\n",
       "      <td>0</td>\n",
       "      <td>1</td>\n",
       "      <td>1</td>\n",
       "      <td>0</td>\n",
       "      <td>0</td>\n",
       "      <td>1</td>\n",
       "      <td>0</td>\n",
       "      <td>0</td>\n",
       "    </tr>\n",
       "    <tr>\n",
       "      <th>4</th>\n",
       "      <td>240</td>\n",
       "      <td>14</td>\n",
       "      <td>7</td>\n",
       "      <td>7</td>\n",
       "      <td>229000.0</td>\n",
       "      <td>229000.0</td>\n",
       "      <td>229000.0</td>\n",
       "      <td>0</td>\n",
       "      <td>4.8</td>\n",
       "      <td>4.4472</td>\n",
       "      <td>0.67</td>\n",
       "      <td>2.3377</td>\n",
       "      <td>-0.59</td>\n",
       "      <td>1</td>\n",
       "      <td>0</td>\n",
       "      <td>0</td>\n",
       "      <td>0</td>\n",
       "      <td>1</td>\n",
       "      <td>1</td>\n",
       "      <td>0</td>\n",
       "      <td>1</td>\n",
       "      <td>0</td>\n",
       "      <td>0</td>\n",
       "      <td>1</td>\n",
       "    </tr>\n",
       "  </tbody>\n",
       "</table>\n",
       "</div>"
      ],
      "text/plain": [
       "   Term  NoEmp  CreateJob  RetainedJob  DisbursementGross    GrAppv  SBA_Appv  \\\n",
       "0    84      4          0            0            60000.0   60000.0   48000.0   \n",
       "1    60      2          0            0            40000.0   40000.0   32000.0   \n",
       "2   180      7          0            0           287000.0  287000.0  215250.0   \n",
       "3    60      2          0            0            35000.0   35000.0   28000.0   \n",
       "4   240     14          7            7           229000.0  229000.0  229000.0   \n",
       "\n",
       "   NAICS_sectors  unemployment_rate  gdp_growth  gdp_annual_change  \\\n",
       "0             45                3.5      4.4472               0.67   \n",
       "1             72                3.5      4.4472               0.67   \n",
       "2             62                3.5      4.4472               0.67   \n",
       "3              0                4.1      4.4472               0.67   \n",
       "4              0                4.8      4.4472               0.67   \n",
       "\n",
       "   inflation_rate  inf_rate_annual_chg  NewExist_existing_business  \\\n",
       "0          2.3377                -0.59                           0   \n",
       "1          2.3377                -0.59                           0   \n",
       "2          2.3377                -0.59                           1   \n",
       "3          2.3377                -0.59                           1   \n",
       "4          2.3377                -0.59                           1   \n",
       "\n",
       "   NewExist_new_business  UrbanRural_rural  UrbanRural_urban  \\\n",
       "0                      1                 0                 0   \n",
       "1                      1                 0                 0   \n",
       "2                      0                 0                 0   \n",
       "3                      0                 0                 0   \n",
       "4                      0                 0                 0   \n",
       "\n",
       "   isFranchise_not_franchise  RevLineCr_v2_N  RevLineCr_v2_Y  LowDoc_v2_N  \\\n",
       "0                          1               1               0            0   \n",
       "1                          1               1               0            0   \n",
       "2                          1               1               0            1   \n",
       "3                          1               1               0            0   \n",
       "4                          1               1               0            1   \n",
       "\n",
       "   LowDoc_v2_Y  MIS_Status_v2_default  state_top10  \n",
       "0            1                      0            0  \n",
       "1            1                      0            0  \n",
       "2            0                      0            0  \n",
       "3            1                      0            0  \n",
       "4            0                      0            1  "
      ]
     },
     "execution_count": 4,
     "metadata": {},
     "output_type": "execute_result"
    }
   ],
   "source": [
    "sba_loans.head()"
   ]
  },
  {
   "cell_type": "code",
   "execution_count": 5,
   "id": "a01843ed",
   "metadata": {},
   "outputs": [],
   "source": [
    "target = 'MIS_Status_v2_default'\n",
    "features = sba_loans.drop(columns='MIS_Status_v2_default', axis=1).columns"
   ]
  },
  {
   "cell_type": "markdown",
   "id": "6432f2ec",
   "metadata": {},
   "source": [
    "## 3. CatBoost Classifier with Standard Scaler"
   ]
  },
  {
   "cell_type": "code",
   "execution_count": 6,
   "id": "ee7edbe9",
   "metadata": {},
   "outputs": [],
   "source": [
    "X_train_ss, X_test_ss, y_train_ss, y_test_ss = processing_pipeline(sba_loans, target)"
   ]
  },
  {
   "cell_type": "markdown",
   "id": "2166f96c",
   "metadata": {},
   "source": [
    "### A. Simple CatBoost Model"
   ]
  },
  {
   "cell_type": "code",
   "execution_count": 14,
   "id": "6901d93e",
   "metadata": {},
   "outputs": [],
   "source": [
    "cat_ss_mod1 = CatBoostClassifier(random_state=42, verbose=0)\n",
    "y_pred = createModel(cat_ss_mod1, X_train_ss, y_train_ss, X_test_ss)"
   ]
  },
  {
   "cell_type": "markdown",
   "id": "95637381",
   "metadata": {},
   "source": [
    "### B. Evaluation Metrics"
   ]
  },
  {
   "cell_type": "code",
   "execution_count": 15,
   "id": "e42a9510",
   "metadata": {},
   "outputs": [],
   "source": [
    "acc_score, cr, f1, mcc = createClassificationMetrics(y_pred, y_test_ss)"
   ]
  },
  {
   "cell_type": "markdown",
   "id": "6e380cc7",
   "metadata": {},
   "source": [
    "**Accuracy Score**"
   ]
  },
  {
   "cell_type": "code",
   "execution_count": 16,
   "id": "13956802",
   "metadata": {},
   "outputs": [
    {
     "name": "stdout",
     "output_type": "stream",
     "text": [
      "0.9498872994264546\n"
     ]
    }
   ],
   "source": [
    "print(acc_score)"
   ]
  },
  {
   "cell_type": "markdown",
   "id": "9f52fdf2",
   "metadata": {},
   "source": [
    "**Classification Report**"
   ]
  },
  {
   "cell_type": "code",
   "execution_count": 17,
   "id": "87412862",
   "metadata": {},
   "outputs": [
    {
     "name": "stdout",
     "output_type": "stream",
     "text": [
      "              precision    recall  f1-score   support\n",
      "\n",
      "        paid       0.97      0.97      0.97    223642\n",
      "     default       0.84      0.87      0.85     45212\n",
      "\n",
      "    accuracy                           0.95    268854\n",
      "   macro avg       0.91      0.92      0.91    268854\n",
      "weighted avg       0.95      0.95      0.95    268854\n",
      "\n"
     ]
    }
   ],
   "source": [
    "print(cr)"
   ]
  },
  {
   "cell_type": "markdown",
   "id": "879460e4",
   "metadata": {},
   "source": [
    "**F1 Score**"
   ]
  },
  {
   "cell_type": "code",
   "execution_count": 18,
   "id": "501ef3bf",
   "metadata": {},
   "outputs": [
    {
     "name": "stdout",
     "output_type": "stream",
     "text": [
      "0.8538957870194653\n"
     ]
    }
   ],
   "source": [
    "print(f1)"
   ]
  },
  {
   "cell_type": "markdown",
   "id": "790cb3d2",
   "metadata": {},
   "source": [
    "**Matthew's Correlation Coefficient**"
   ]
  },
  {
   "cell_type": "code",
   "execution_count": 19,
   "id": "1ce3efda",
   "metadata": {},
   "outputs": [
    {
     "name": "stdout",
     "output_type": "stream",
     "text": [
      "0.8238930327835728\n"
     ]
    }
   ],
   "source": [
    "print(mcc)"
   ]
  },
  {
   "cell_type": "markdown",
   "id": "784f097f",
   "metadata": {},
   "source": [
    "### Finding Best CatBoost Model with Standard Scaler"
   ]
  },
  {
   "cell_type": "code",
   "execution_count": 24,
   "id": "befcd764",
   "metadata": {},
   "outputs": [],
   "source": [
    "param_grid = {\n",
    "    'learning_rate': [0.03, 0.1],\n",
    "    'iterations': [500, 1000],\n",
    "    'l2_leaf_reg': [1.0, 3.0],\n",
    "    'depth': [3,6]   \n",
    "}"
   ]
  },
  {
   "cell_type": "code",
   "execution_count": null,
   "id": "147dcdcf",
   "metadata": {},
   "outputs": [],
   "source": [
    "cbc = CatBoostClassifier(random_state=42, verbose=0)\n",
    "cbc_ss_best_params, y_pred = runGridSearchAnalysis(cbc, param_grid, X_train_ss, y_train_ss, X_test_ss)"
   ]
  },
  {
   "cell_type": "code",
   "execution_count": null,
   "id": "4381a857",
   "metadata": {},
   "outputs": [],
   "source": [
    "print(cbc_ss_best_params)"
   ]
  },
  {
   "cell_type": "code",
   "execution_count": null,
   "id": "e3213773",
   "metadata": {},
   "outputs": [],
   "source": [
    "acc_score, cr, f1, mcc = createClassificationMetrics(y_pred, y_test_ss)\n",
    "print('Accuracy Score: {}'.format(acc_score))\n",
    "print('Matthew\\'s Correlation Coefficient: {}'.format(mcc))\n",
    "print('F1 Score: {}'.format(f1))\n",
    "print('Classification Report: \\n{}'.format(cr))"
   ]
  },
  {
   "cell_type": "markdown",
   "id": "7975ed37",
   "metadata": {},
   "source": [
    "### D. Confusion Matrix"
   ]
  },
  {
   "cell_type": "code",
   "execution_count": null,
   "id": "a29d92d7",
   "metadata": {},
   "outputs": [],
   "source": [
    "cbc_ss_fp = createConfusionMatrix(y_test_ss, y_pred)"
   ]
  },
  {
   "cell_type": "markdown",
   "id": "40d71a3a",
   "metadata": {},
   "source": [
    "### E. Feature Importance with Best Params"
   ]
  },
  {
   "cell_type": "code",
   "execution_count": null,
   "id": "a1bb7d5d",
   "metadata": {},
   "outputs": [],
   "source": [
    "createFeatureImportanceChart(CatBoostClassifier, cbc_ss_best_params, features, X_train_ss, y_train_ss)"
   ]
  },
  {
   "cell_type": "markdown",
   "id": "1b3938a1",
   "metadata": {},
   "source": [
    "## 4. CatBoost Classifier with Robust Scaler"
   ]
  },
  {
   "cell_type": "code",
   "execution_count": null,
   "id": "b6fd6dda",
   "metadata": {},
   "outputs": [],
   "source": [
    "X_train_rs, X_test_rs, y_train_rs, y_test_rs = processing_pipeline(sba_loans, target, scaler='Robust')"
   ]
  },
  {
   "cell_type": "markdown",
   "id": "ea9472d0",
   "metadata": {},
   "source": [
    "### A. Simple CatBoost Model"
   ]
  },
  {
   "cell_type": "code",
   "execution_count": null,
   "id": "025ce970",
   "metadata": {},
   "outputs": [],
   "source": [
    "cbc_rs_mod1 = CatBoostClassifier(random_state=42, verbose=0)\n",
    "y_pred = createModel(cat_rs_mod1, X_train_rs, y_train_rs, X_test_rs)"
   ]
  },
  {
   "cell_type": "markdown",
   "id": "60cd0bc6",
   "metadata": {},
   "source": [
    "### B. Evaluation Metrics"
   ]
  },
  {
   "cell_type": "code",
   "execution_count": null,
   "id": "0acc42c7",
   "metadata": {},
   "outputs": [],
   "source": [
    "acc_score, cr, f1, mcc = createClassificationMetrics(y_pred, y_test_ss)"
   ]
  },
  {
   "cell_type": "markdown",
   "id": "48fda792",
   "metadata": {},
   "source": [
    "**Accuracy Score**"
   ]
  },
  {
   "cell_type": "code",
   "execution_count": null,
   "id": "73bbc101",
   "metadata": {},
   "outputs": [],
   "source": [
    "print(acc_score)"
   ]
  },
  {
   "cell_type": "markdown",
   "id": "29ef5203",
   "metadata": {},
   "source": [
    "**Classification Report**"
   ]
  },
  {
   "cell_type": "code",
   "execution_count": null,
   "id": "faa2763b",
   "metadata": {},
   "outputs": [],
   "source": [
    "print(cr)"
   ]
  },
  {
   "cell_type": "markdown",
   "id": "98980d13",
   "metadata": {},
   "source": [
    "**F1 Score**"
   ]
  },
  {
   "cell_type": "code",
   "execution_count": null,
   "id": "32890180",
   "metadata": {},
   "outputs": [],
   "source": [
    "print(f1)"
   ]
  },
  {
   "cell_type": "markdown",
   "id": "e03f2491",
   "metadata": {},
   "source": [
    "**Matthew's Correlation Coefficient**"
   ]
  },
  {
   "cell_type": "code",
   "execution_count": null,
   "id": "544cc7f8",
   "metadata": {},
   "outputs": [],
   "source": [
    "print(mcc)"
   ]
  },
  {
   "cell_type": "markdown",
   "id": "bb0076c5",
   "metadata": {},
   "source": [
    "### C. Finding Best CatBoost Model with Robust Scaler"
   ]
  },
  {
   "cell_type": "code",
   "execution_count": null,
   "id": "1c47d2da",
   "metadata": {},
   "outputs": [],
   "source": [
    "param_grid = {\n",
    "    'learning_rate': [0.03, 0.1],\n",
    "    'iterations': [500, 1000],\n",
    "    'l2_leaf_reg': [1.0, 3.0],\n",
    "    'depth': [3,6]   \n",
    "}"
   ]
  },
  {
   "cell_type": "code",
   "execution_count": null,
   "id": "81e2706f",
   "metadata": {},
   "outputs": [],
   "source": [
    "cbc = CatBoostClassifier(random_state=42, verbose=0)\n",
    "cbc_rs_best_params, y_pred = runGridSearchAnalysis(cbc, param_grid, X_train_rs, y_train_rs, X_test_rs)"
   ]
  },
  {
   "cell_type": "code",
   "execution_count": null,
   "id": "92579c07",
   "metadata": {},
   "outputs": [],
   "source": [
    "print(cbc_rs_best_params)"
   ]
  },
  {
   "cell_type": "code",
   "execution_count": null,
   "id": "7b9822fc",
   "metadata": {},
   "outputs": [],
   "source": [
    "acc_score, cr, f1, mcc = createClassificationMetrics(y_pred, y_test_rs)\n",
    "print('Accuracy Score: {}'.format(acc_score))\n",
    "print('Matthew\\'s Correlation Coefficient: {}'.format(mcc))\n",
    "print('F1 Score: {}'.format(f1))\n",
    "print('Classification Report: \\n{}'.format(cr))"
   ]
  },
  {
   "cell_type": "markdown",
   "id": "89bcf7d3",
   "metadata": {},
   "source": [
    "### D. Confusion Matrix"
   ]
  },
  {
   "cell_type": "code",
   "execution_count": null,
   "id": "b9fec7a0",
   "metadata": {},
   "outputs": [],
   "source": [
    "cbc_rs_fp = createConfusionMatrix(y_test_rs, y_pred)"
   ]
  },
  {
   "cell_type": "markdown",
   "id": "5cfb3abe",
   "metadata": {},
   "source": [
    "### E. Feature Importance with Best Params"
   ]
  },
  {
   "cell_type": "code",
   "execution_count": null,
   "id": "24b23622",
   "metadata": {},
   "outputs": [],
   "source": [
    "createFeatureImportanceChart(CatBoostClassifier, cbc_rs_best_params, features, X_train_rs, y_train_rs)"
   ]
  },
  {
   "cell_type": "markdown",
   "id": "8ca44d4c",
   "metadata": {},
   "source": [
    "## 5. Best CatBoost Classifier Model"
   ]
  },
  {
   "cell_type": "code",
   "execution_count": null,
   "id": "ee80846e",
   "metadata": {},
   "outputs": [],
   "source": [
    "if cbc_ss_fp > cbc_rs_fp:\n",
    "    print('Best Logistic Regression Model Params: {}'.format(cbc_rs_best_params))\n",
    "    print('Best Scaler: Robust Scaler')\n",
    "else:\n",
    "    print('Best Logistic Regression Model Params: {}'.format(cbc_ss_best_params))\n",
    "    print('Best Scaler: Standard Scaler')"
   ]
  }
 ],
 "metadata": {
  "kernelspec": {
   "display_name": "Python 3 (ipykernel)",
   "language": "python",
   "name": "python3"
  },
  "language_info": {
   "codemirror_mode": {
    "name": "ipython",
    "version": 3
   },
   "file_extension": ".py",
   "mimetype": "text/x-python",
   "name": "python",
   "nbconvert_exporter": "python",
   "pygments_lexer": "ipython3",
   "version": "3.9.10"
  }
 },
 "nbformat": 4,
 "nbformat_minor": 5
}
