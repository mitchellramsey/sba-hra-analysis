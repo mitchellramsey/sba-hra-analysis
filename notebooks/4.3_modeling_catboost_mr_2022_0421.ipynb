{
 "cells": [
  {
   "cell_type": "markdown",
   "id": "8333be66",
   "metadata": {},
   "source": [
    "# SBA Loan Analysis\n",
    "\n",
    "# Modeling - Part 4 - CatBoost"
   ]
  },
  {
   "cell_type": "markdown",
   "id": "bd2b4081",
   "metadata": {},
   "source": [
    "## 1. Imports"
   ]
  },
  {
   "cell_type": "code",
   "execution_count": 1,
   "id": "b255f795",
   "metadata": {},
   "outputs": [],
   "source": [
    "import warnings\n",
    "warnings.filterwarnings('ignore')\n",
    "\n",
    "import numpy as np\n",
    "import pandas as pd\n",
    "import matplotlib.pyplot as plt\n",
    "import seaborn as sns\n",
    "\n",
    "\n",
    "from catboost import CatBoostClassifier\n",
    "from sklearn.model_selection import GridSearchCV\n",
    "from sklearn.metrics import classification_report, accuracy_score, f1_score, matthews_corrcoef, confusion_matrix\n",
    "\n",
    "from library.preprocessing import processing_pipeline\n",
    "from library.modeling import (createModel, createClassificationMetrics,\n",
    "                             runGridSearchAnalysis, createConfusionMatrix, createFeatureImportanceChart)"
   ]
  },
  {
   "cell_type": "markdown",
   "id": "8316721a",
   "metadata": {},
   "source": [
    "## 2. Previewing Data"
   ]
  },
  {
   "cell_type": "code",
   "execution_count": 2,
   "id": "c823710f",
   "metadata": {},
   "outputs": [],
   "source": [
    "sba_loans = pd.read_csv('./../data/processed/sba_national_processed_final.csv')\n",
    "\n",
    "pd.set_option('display.max_columns', None)"
   ]
  },
  {
   "cell_type": "code",
   "execution_count": 3,
   "id": "2e9e7c23",
   "metadata": {},
   "outputs": [
    {
     "data": {
      "text/html": [
       "<div>\n",
       "<style scoped>\n",
       "    .dataframe tbody tr th:only-of-type {\n",
       "        vertical-align: middle;\n",
       "    }\n",
       "\n",
       "    .dataframe tbody tr th {\n",
       "        vertical-align: top;\n",
       "    }\n",
       "\n",
       "    .dataframe thead th {\n",
       "        text-align: right;\n",
       "    }\n",
       "</style>\n",
       "<table border=\"1\" class=\"dataframe\">\n",
       "  <thead>\n",
       "    <tr style=\"text-align: right;\">\n",
       "      <th></th>\n",
       "      <th>Term</th>\n",
       "      <th>NoEmp</th>\n",
       "      <th>CreateJob</th>\n",
       "      <th>RetainedJob</th>\n",
       "      <th>DisbursementGross</th>\n",
       "      <th>GrAppv</th>\n",
       "      <th>SBA_Appv</th>\n",
       "      <th>NAICS_sectors</th>\n",
       "      <th>unemployment_rate</th>\n",
       "      <th>gdp_growth</th>\n",
       "      <th>gdp_annual_change</th>\n",
       "      <th>inflation_rate</th>\n",
       "      <th>inf_rate_annual_chg</th>\n",
       "      <th>NewExist_existing_business</th>\n",
       "      <th>NewExist_new_business</th>\n",
       "      <th>UrbanRural_rural</th>\n",
       "      <th>UrbanRural_urban</th>\n",
       "      <th>isFranchise_not_franchise</th>\n",
       "      <th>RevLineCr_v2_N</th>\n",
       "      <th>RevLineCr_v2_Y</th>\n",
       "      <th>LowDoc_v2_N</th>\n",
       "      <th>LowDoc_v2_Y</th>\n",
       "      <th>MIS_Status_v2_default</th>\n",
       "      <th>state_top10</th>\n",
       "    </tr>\n",
       "  </thead>\n",
       "  <tbody>\n",
       "    <tr>\n",
       "      <th>0</th>\n",
       "      <td>84</td>\n",
       "      <td>4</td>\n",
       "      <td>0</td>\n",
       "      <td>0</td>\n",
       "      <td>60000.0</td>\n",
       "      <td>60000.0</td>\n",
       "      <td>48000.0</td>\n",
       "      <td>45</td>\n",
       "      <td>3.5</td>\n",
       "      <td>4.4472</td>\n",
       "      <td>0.67</td>\n",
       "      <td>2.3377</td>\n",
       "      <td>-0.59</td>\n",
       "      <td>0</td>\n",
       "      <td>1</td>\n",
       "      <td>0</td>\n",
       "      <td>0</td>\n",
       "      <td>1</td>\n",
       "      <td>1</td>\n",
       "      <td>0</td>\n",
       "      <td>0</td>\n",
       "      <td>1</td>\n",
       "      <td>0</td>\n",
       "      <td>0</td>\n",
       "    </tr>\n",
       "    <tr>\n",
       "      <th>1</th>\n",
       "      <td>60</td>\n",
       "      <td>2</td>\n",
       "      <td>0</td>\n",
       "      <td>0</td>\n",
       "      <td>40000.0</td>\n",
       "      <td>40000.0</td>\n",
       "      <td>32000.0</td>\n",
       "      <td>72</td>\n",
       "      <td>3.5</td>\n",
       "      <td>4.4472</td>\n",
       "      <td>0.67</td>\n",
       "      <td>2.3377</td>\n",
       "      <td>-0.59</td>\n",
       "      <td>0</td>\n",
       "      <td>1</td>\n",
       "      <td>0</td>\n",
       "      <td>0</td>\n",
       "      <td>1</td>\n",
       "      <td>1</td>\n",
       "      <td>0</td>\n",
       "      <td>0</td>\n",
       "      <td>1</td>\n",
       "      <td>0</td>\n",
       "      <td>0</td>\n",
       "    </tr>\n",
       "    <tr>\n",
       "      <th>2</th>\n",
       "      <td>180</td>\n",
       "      <td>7</td>\n",
       "      <td>0</td>\n",
       "      <td>0</td>\n",
       "      <td>287000.0</td>\n",
       "      <td>287000.0</td>\n",
       "      <td>215250.0</td>\n",
       "      <td>62</td>\n",
       "      <td>3.5</td>\n",
       "      <td>4.4472</td>\n",
       "      <td>0.67</td>\n",
       "      <td>2.3377</td>\n",
       "      <td>-0.59</td>\n",
       "      <td>1</td>\n",
       "      <td>0</td>\n",
       "      <td>0</td>\n",
       "      <td>0</td>\n",
       "      <td>1</td>\n",
       "      <td>1</td>\n",
       "      <td>0</td>\n",
       "      <td>1</td>\n",
       "      <td>0</td>\n",
       "      <td>0</td>\n",
       "      <td>0</td>\n",
       "    </tr>\n",
       "    <tr>\n",
       "      <th>3</th>\n",
       "      <td>60</td>\n",
       "      <td>2</td>\n",
       "      <td>0</td>\n",
       "      <td>0</td>\n",
       "      <td>35000.0</td>\n",
       "      <td>35000.0</td>\n",
       "      <td>28000.0</td>\n",
       "      <td>0</td>\n",
       "      <td>4.1</td>\n",
       "      <td>4.4472</td>\n",
       "      <td>0.67</td>\n",
       "      <td>2.3377</td>\n",
       "      <td>-0.59</td>\n",
       "      <td>1</td>\n",
       "      <td>0</td>\n",
       "      <td>0</td>\n",
       "      <td>0</td>\n",
       "      <td>1</td>\n",
       "      <td>1</td>\n",
       "      <td>0</td>\n",
       "      <td>0</td>\n",
       "      <td>1</td>\n",
       "      <td>0</td>\n",
       "      <td>0</td>\n",
       "    </tr>\n",
       "    <tr>\n",
       "      <th>4</th>\n",
       "      <td>240</td>\n",
       "      <td>14</td>\n",
       "      <td>7</td>\n",
       "      <td>7</td>\n",
       "      <td>229000.0</td>\n",
       "      <td>229000.0</td>\n",
       "      <td>229000.0</td>\n",
       "      <td>0</td>\n",
       "      <td>4.8</td>\n",
       "      <td>4.4472</td>\n",
       "      <td>0.67</td>\n",
       "      <td>2.3377</td>\n",
       "      <td>-0.59</td>\n",
       "      <td>1</td>\n",
       "      <td>0</td>\n",
       "      <td>0</td>\n",
       "      <td>0</td>\n",
       "      <td>1</td>\n",
       "      <td>1</td>\n",
       "      <td>0</td>\n",
       "      <td>1</td>\n",
       "      <td>0</td>\n",
       "      <td>0</td>\n",
       "      <td>1</td>\n",
       "    </tr>\n",
       "  </tbody>\n",
       "</table>\n",
       "</div>"
      ],
      "text/plain": [
       "   Term  NoEmp  CreateJob  RetainedJob  DisbursementGross    GrAppv  SBA_Appv  \\\n",
       "0    84      4          0            0            60000.0   60000.0   48000.0   \n",
       "1    60      2          0            0            40000.0   40000.0   32000.0   \n",
       "2   180      7          0            0           287000.0  287000.0  215250.0   \n",
       "3    60      2          0            0            35000.0   35000.0   28000.0   \n",
       "4   240     14          7            7           229000.0  229000.0  229000.0   \n",
       "\n",
       "   NAICS_sectors  unemployment_rate  gdp_growth  gdp_annual_change  \\\n",
       "0             45                3.5      4.4472               0.67   \n",
       "1             72                3.5      4.4472               0.67   \n",
       "2             62                3.5      4.4472               0.67   \n",
       "3              0                4.1      4.4472               0.67   \n",
       "4              0                4.8      4.4472               0.67   \n",
       "\n",
       "   inflation_rate  inf_rate_annual_chg  NewExist_existing_business  \\\n",
       "0          2.3377                -0.59                           0   \n",
       "1          2.3377                -0.59                           0   \n",
       "2          2.3377                -0.59                           1   \n",
       "3          2.3377                -0.59                           1   \n",
       "4          2.3377                -0.59                           1   \n",
       "\n",
       "   NewExist_new_business  UrbanRural_rural  UrbanRural_urban  \\\n",
       "0                      1                 0                 0   \n",
       "1                      1                 0                 0   \n",
       "2                      0                 0                 0   \n",
       "3                      0                 0                 0   \n",
       "4                      0                 0                 0   \n",
       "\n",
       "   isFranchise_not_franchise  RevLineCr_v2_N  RevLineCr_v2_Y  LowDoc_v2_N  \\\n",
       "0                          1               1               0            0   \n",
       "1                          1               1               0            0   \n",
       "2                          1               1               0            1   \n",
       "3                          1               1               0            0   \n",
       "4                          1               1               0            1   \n",
       "\n",
       "   LowDoc_v2_Y  MIS_Status_v2_default  state_top10  \n",
       "0            1                      0            0  \n",
       "1            1                      0            0  \n",
       "2            0                      0            0  \n",
       "3            1                      0            0  \n",
       "4            0                      0            1  "
      ]
     },
     "execution_count": 3,
     "metadata": {},
     "output_type": "execute_result"
    }
   ],
   "source": [
    "sba_loans.head()"
   ]
  },
  {
   "cell_type": "code",
   "execution_count": 4,
   "id": "7e21c153",
   "metadata": {},
   "outputs": [],
   "source": [
    "target = 'MIS_Status_v2_default'\n",
    "features = sba_loans.drop(columns='MIS_Status_v2_default', axis=1).columns"
   ]
  },
  {
   "cell_type": "markdown",
   "id": "dbc61cf7",
   "metadata": {},
   "source": [
    "## 3. CatBoost Classifier with Standard Scaler"
   ]
  },
  {
   "cell_type": "code",
   "execution_count": 5,
   "id": "82a1737c",
   "metadata": {},
   "outputs": [],
   "source": [
    "X_train_ss, X_test_ss, y_train_ss, y_test_ss = processing_pipeline(sba_loans, target)"
   ]
  },
  {
   "cell_type": "markdown",
   "id": "d76d5286",
   "metadata": {},
   "source": [
    "### A. Simple CatBoost Model"
   ]
  },
  {
   "cell_type": "code",
   "execution_count": 6,
   "id": "961461dd",
   "metadata": {},
   "outputs": [],
   "source": [
    "cat_ss_mod1 = CatBoostClassifier(random_state=42, verbose=0)\n",
    "y_pred = createModel(cat_ss_mod1, X_train_ss, y_train_ss, X_test_ss)"
   ]
  },
  {
   "cell_type": "markdown",
   "id": "55cd6374",
   "metadata": {},
   "source": [
    "### B. Evaluation Metrics"
   ]
  },
  {
   "cell_type": "code",
   "execution_count": 7,
   "id": "8c15a9cf",
   "metadata": {},
   "outputs": [],
   "source": [
    "acc_score, cr, f1, mcc = createClassificationMetrics(y_pred, y_test_ss)"
   ]
  },
  {
   "cell_type": "markdown",
   "id": "46946254",
   "metadata": {},
   "source": [
    "**Accuracy Score**"
   ]
  },
  {
   "cell_type": "code",
   "execution_count": 8,
   "id": "f1d46a55",
   "metadata": {},
   "outputs": [
    {
     "name": "stdout",
     "output_type": "stream",
     "text": [
      "0.9498872994264546\n"
     ]
    }
   ],
   "source": [
    "print(acc_score)"
   ]
  },
  {
   "cell_type": "markdown",
   "id": "404d1ffc",
   "metadata": {},
   "source": [
    "**Classification Report**"
   ]
  },
  {
   "cell_type": "code",
   "execution_count": 9,
   "id": "8fb55076",
   "metadata": {},
   "outputs": [
    {
     "name": "stdout",
     "output_type": "stream",
     "text": [
      "              precision    recall  f1-score   support\n",
      "\n",
      "        paid       0.97      0.97      0.97    223642\n",
      "     default       0.84      0.87      0.85     45212\n",
      "\n",
      "    accuracy                           0.95    268854\n",
      "   macro avg       0.91      0.92      0.91    268854\n",
      "weighted avg       0.95      0.95      0.95    268854\n",
      "\n"
     ]
    }
   ],
   "source": [
    "print(cr)"
   ]
  },
  {
   "cell_type": "markdown",
   "id": "4fc3c4aa",
   "metadata": {},
   "source": [
    "**F1 Score**"
   ]
  },
  {
   "cell_type": "code",
   "execution_count": 10,
   "id": "58c85be5",
   "metadata": {},
   "outputs": [
    {
     "name": "stdout",
     "output_type": "stream",
     "text": [
      "0.8538957870194653\n"
     ]
    }
   ],
   "source": [
    "print(f1)"
   ]
  },
  {
   "cell_type": "markdown",
   "id": "849cfbe1",
   "metadata": {},
   "source": [
    "**Matthew's Correlation Coefficient**"
   ]
  },
  {
   "cell_type": "code",
   "execution_count": 11,
   "id": "46fc1eec",
   "metadata": {},
   "outputs": [
    {
     "name": "stdout",
     "output_type": "stream",
     "text": [
      "0.8238930327835728\n"
     ]
    }
   ],
   "source": [
    "print(mcc)"
   ]
  },
  {
   "cell_type": "markdown",
   "id": "538d01d8",
   "metadata": {},
   "source": [
    "### Finding Best CatBoost Model with Standard Scaler"
   ]
  },
  {
   "cell_type": "code",
   "execution_count": 12,
   "id": "099269f4",
   "metadata": {},
   "outputs": [],
   "source": [
    "param_grid = {\n",
    "    'learning_rate': [0.03, 0.1],\n",
    "    'iterations': [500, 1000],\n",
    "    'l2_leaf_reg': [1.0, 3.0],\n",
    "    'depth': [3,6]   \n",
    "}"
   ]
  },
  {
   "cell_type": "code",
   "execution_count": null,
   "id": "922c6b97",
   "metadata": {},
   "outputs": [],
   "source": [
    "cbc = CatBoostClassifier(random_state=42, verbose=0)\n",
    "cbc_ss_best_params, y_pred = runGridSearchAnalysis(cbc, param_grid, X_train_ss, y_train_ss, X_test_ss)"
   ]
  },
  {
   "cell_type": "code",
   "execution_count": null,
   "id": "7b93cffb",
   "metadata": {},
   "outputs": [],
   "source": [
    "print(cbc_ss_best_params)"
   ]
  },
  {
   "cell_type": "code",
   "execution_count": null,
   "id": "54e0b15d",
   "metadata": {},
   "outputs": [],
   "source": [
    "acc_score, cr, f1, mcc = createClassificationMetrics(y_pred, y_test_ss)\n",
    "print('Accuracy Score: {}'.format(acc_score))\n",
    "print('Matthew\\'s Correlation Coefficient: {}'.format(mcc))\n",
    "print('F1 Score: {}'.format(f1))\n",
    "print('Classification Report: \\n{}'.format(cr))"
   ]
  },
  {
   "cell_type": "markdown",
   "id": "36f0e7fe",
   "metadata": {},
   "source": [
    "### D. Confusion Matrix"
   ]
  },
  {
   "cell_type": "code",
   "execution_count": null,
   "id": "635c83f4",
   "metadata": {},
   "outputs": [],
   "source": [
    "cbc_ss_fp = createConfusionMatrix(y_test_ss, y_pred)"
   ]
  },
  {
   "cell_type": "markdown",
   "id": "72df00cf",
   "metadata": {},
   "source": [
    "### E. Feature Importance with Best Params"
   ]
  },
  {
   "cell_type": "code",
   "execution_count": null,
   "id": "050be19a",
   "metadata": {},
   "outputs": [],
   "source": [
    "createFeatureImportanceChart(CatBoostClassifier, cbc_ss_best_params, features, X_train_ss, y_train_ss)"
   ]
  },
  {
   "cell_type": "markdown",
   "id": "b8ec409d",
   "metadata": {},
   "source": [
    "## 4. CatBoost Classifier with Robust Scaler"
   ]
  },
  {
   "cell_type": "code",
   "execution_count": null,
   "id": "e78df56e",
   "metadata": {},
   "outputs": [],
   "source": [
    "X_train_rs, X_test_rs, y_train_rs, y_test_rs = processing_pipeline(sba_loans, target, scaler='Robust')"
   ]
  },
  {
   "cell_type": "markdown",
   "id": "c2cda4b2",
   "metadata": {},
   "source": [
    "### A. Simple CatBoost Model"
   ]
  },
  {
   "cell_type": "code",
   "execution_count": null,
   "id": "0436d34c",
   "metadata": {},
   "outputs": [],
   "source": [
    "cbc_rs_mod1 = CatBoostClassifier(random_state=42, verbose=0)\n",
    "y_pred = createModel(cat_rs_mod1, X_train_rs, y_train_rs, X_test_rs)"
   ]
  },
  {
   "cell_type": "markdown",
   "id": "4ef71fa5",
   "metadata": {},
   "source": [
    "### B. Evaluation Metrics"
   ]
  },
  {
   "cell_type": "code",
   "execution_count": null,
   "id": "881923d3",
   "metadata": {},
   "outputs": [],
   "source": [
    "acc_score, cr, f1, mcc = createClassificationMetrics(y_pred, y_test_ss)"
   ]
  },
  {
   "cell_type": "markdown",
   "id": "d00879eb",
   "metadata": {},
   "source": [
    "**Accuracy Score**"
   ]
  },
  {
   "cell_type": "code",
   "execution_count": null,
   "id": "ec39ad27",
   "metadata": {},
   "outputs": [],
   "source": [
    "print(acc_score)"
   ]
  },
  {
   "cell_type": "markdown",
   "id": "e744ebd3",
   "metadata": {},
   "source": [
    "**Classification Report**"
   ]
  },
  {
   "cell_type": "code",
   "execution_count": null,
   "id": "13455200",
   "metadata": {},
   "outputs": [],
   "source": [
    "print(cr)"
   ]
  },
  {
   "cell_type": "markdown",
   "id": "d26189f8",
   "metadata": {},
   "source": [
    "**F1 Score**"
   ]
  },
  {
   "cell_type": "code",
   "execution_count": null,
   "id": "50172b72",
   "metadata": {},
   "outputs": [],
   "source": [
    "print(f1)"
   ]
  },
  {
   "cell_type": "markdown",
   "id": "fe092ccf",
   "metadata": {},
   "source": [
    "**Matthew's Correlation Coefficient**"
   ]
  },
  {
   "cell_type": "code",
   "execution_count": null,
   "id": "c5ac30c1",
   "metadata": {},
   "outputs": [],
   "source": [
    "print(mcc)"
   ]
  },
  {
   "cell_type": "markdown",
   "id": "15c6b9bc",
   "metadata": {},
   "source": [
    "### C. Finding Best CatBoost Model with Robust Scaler"
   ]
  },
  {
   "cell_type": "code",
   "execution_count": null,
   "id": "e1deb3a1",
   "metadata": {},
   "outputs": [],
   "source": [
    "param_grid = {\n",
    "    'learning_rate': [0.03, 0.1],\n",
    "    'iterations': [500, 1000],\n",
    "    'l2_leaf_reg': [1.0, 3.0],\n",
    "    'depth': [3,6]   \n",
    "}"
   ]
  },
  {
   "cell_type": "code",
   "execution_count": null,
   "id": "17e3e3c1",
   "metadata": {},
   "outputs": [],
   "source": [
    "cbc = CatBoostClassifier(random_state=42, verbose=0)\n",
    "cbc_rs_best_params, y_pred = runGridSearchAnalysis(cbc, param_grid, X_train_rs, y_train_rs, X_test_rs)"
   ]
  },
  {
   "cell_type": "code",
   "execution_count": null,
   "id": "c7551b7d",
   "metadata": {},
   "outputs": [],
   "source": [
    "print(cbc_rs_best_params)"
   ]
  },
  {
   "cell_type": "code",
   "execution_count": null,
   "id": "2f26f84f",
   "metadata": {},
   "outputs": [],
   "source": [
    "acc_score, cr, f1, mcc = createClassificationMetrics(y_pred, y_test_rs)\n",
    "print('Accuracy Score: {}'.format(acc_score))\n",
    "print('Matthew\\'s Correlation Coefficient: {}'.format(mcc))\n",
    "print('F1 Score: {}'.format(f1))\n",
    "print('Classification Report: \\n{}'.format(cr))"
   ]
  },
  {
   "cell_type": "markdown",
   "id": "c510e6ab",
   "metadata": {},
   "source": [
    "### D. Confusion Matrix"
   ]
  },
  {
   "cell_type": "code",
   "execution_count": null,
   "id": "88cd8413",
   "metadata": {},
   "outputs": [],
   "source": [
    "cbc_rs_fp = createConfusionMatrix(y_test_rs, y_pred)"
   ]
  },
  {
   "cell_type": "markdown",
   "id": "876b7e68",
   "metadata": {},
   "source": [
    "### E. Feature Importance with Best Params"
   ]
  },
  {
   "cell_type": "code",
   "execution_count": null,
   "id": "c25a7504",
   "metadata": {},
   "outputs": [],
   "source": [
    "createFeatureImportanceChart(CatBoostClassifier, cbc_rs_best_params, features, X_train_rs, y_train_rs)"
   ]
  },
  {
   "cell_type": "markdown",
   "id": "5db6fa42",
   "metadata": {},
   "source": [
    "## 5. Best CatBoost Classifier Model"
   ]
  },
  {
   "cell_type": "code",
   "execution_count": null,
   "id": "854ed791",
   "metadata": {},
   "outputs": [],
   "source": [
    "if cbc_ss_fp > cbc_rs_fp:\n",
    "    print('Best Logistic Regression Model Params: {}'.format(cbc_rs_best_params))\n",
    "    print('Best Scaler: Robust Scaler')\n",
    "else:\n",
    "    print('Best Logistic Regression Model Params: {}'.format(cbc_ss_best_params))\n",
    "    print('Best Scaler: Standard Scaler')"
   ]
  }
 ],
 "metadata": {
  "kernelspec": {
   "display_name": "Python 3 (ipykernel)",
   "language": "python",
   "name": "python3"
  },
  "language_info": {
   "codemirror_mode": {
    "name": "ipython",
    "version": 3
   },
   "file_extension": ".py",
   "mimetype": "text/x-python",
   "name": "python",
   "nbconvert_exporter": "python",
   "pygments_lexer": "ipython3",
   "version": "3.9.10"
  }
 },
 "nbformat": 4,
 "nbformat_minor": 5
}
