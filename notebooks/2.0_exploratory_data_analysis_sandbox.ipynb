{
 "cells": [
  {
   "cell_type": "code",
   "execution_count": 1,
   "id": "12ba242a",
   "metadata": {},
   "outputs": [],
   "source": [
    "import numpy as np\n",
    "import pandas as pd\n",
    "import matplotlib.pyplot as plt\n",
    "import seaborn as sns\n",
    "\n",
    "from scipy.stats import chi2_contingency, chi2, pointbiserialr \n",
    "from library.utils import save_file\n",
    "from library.functions import (groupbySummary, groupbyCounts, \n",
    "                              buildContingencyTable, computeChiSquareStatistics, computePointBiserialR)"
   ]
  },
  {
   "cell_type": "code",
   "execution_count": 2,
   "id": "bd9a15cd",
   "metadata": {},
   "outputs": [],
   "source": [
    "loan_eda_v1 = pd.read_csv('../data/interim/sba_national_final_ver1.csv')"
   ]
  },
  {
   "cell_type": "code",
   "execution_count": 97,
   "id": "3b8ee3dc",
   "metadata": {},
   "outputs": [
    {
     "data": {
      "text/html": [
       "<div>\n",
       "<style scoped>\n",
       "    .dataframe tbody tr th:only-of-type {\n",
       "        vertical-align: middle;\n",
       "    }\n",
       "\n",
       "    .dataframe tbody tr th {\n",
       "        vertical-align: top;\n",
       "    }\n",
       "\n",
       "    .dataframe thead th {\n",
       "        text-align: right;\n",
       "    }\n",
       "</style>\n",
       "<table border=\"1\" class=\"dataframe\">\n",
       "  <thead>\n",
       "    <tr style=\"text-align: right;\">\n",
       "      <th></th>\n",
       "      <th>City</th>\n",
       "      <th>State</th>\n",
       "      <th>Zip</th>\n",
       "      <th>ApprovalFY</th>\n",
       "      <th>Term</th>\n",
       "      <th>NoEmp</th>\n",
       "      <th>NewExist</th>\n",
       "      <th>CreateJob</th>\n",
       "      <th>RetainedJob</th>\n",
       "      <th>UrbanRural</th>\n",
       "      <th>...</th>\n",
       "      <th>NAICS_sectors</th>\n",
       "      <th>isFranchise</th>\n",
       "      <th>RevLineCr_v2</th>\n",
       "      <th>LowDoc_v2</th>\n",
       "      <th>MIS_Status_v2</th>\n",
       "      <th>unemployment_rate</th>\n",
       "      <th>gdp_growth</th>\n",
       "      <th>gdp_annual_change</th>\n",
       "      <th>inflation_rate</th>\n",
       "      <th>inf_rate_annual_chg</th>\n",
       "    </tr>\n",
       "  </thead>\n",
       "  <tbody>\n",
       "    <tr>\n",
       "      <th>0</th>\n",
       "      <td>EVANSVILLE</td>\n",
       "      <td>IN</td>\n",
       "      <td>47711</td>\n",
       "      <td>1997</td>\n",
       "      <td>84</td>\n",
       "      <td>4</td>\n",
       "      <td>2</td>\n",
       "      <td>0</td>\n",
       "      <td>0</td>\n",
       "      <td>0</td>\n",
       "      <td>...</td>\n",
       "      <td>45</td>\n",
       "      <td>0</td>\n",
       "      <td>2</td>\n",
       "      <td>1</td>\n",
       "      <td>0</td>\n",
       "      <td>3.5</td>\n",
       "      <td>4.4472</td>\n",
       "      <td>0.67</td>\n",
       "      <td>2.3377</td>\n",
       "      <td>-0.59</td>\n",
       "    </tr>\n",
       "    <tr>\n",
       "      <th>1</th>\n",
       "      <td>NEW PARIS</td>\n",
       "      <td>IN</td>\n",
       "      <td>46526</td>\n",
       "      <td>1997</td>\n",
       "      <td>60</td>\n",
       "      <td>2</td>\n",
       "      <td>2</td>\n",
       "      <td>0</td>\n",
       "      <td>0</td>\n",
       "      <td>0</td>\n",
       "      <td>...</td>\n",
       "      <td>72</td>\n",
       "      <td>0</td>\n",
       "      <td>2</td>\n",
       "      <td>1</td>\n",
       "      <td>0</td>\n",
       "      <td>3.5</td>\n",
       "      <td>4.4472</td>\n",
       "      <td>0.67</td>\n",
       "      <td>2.3377</td>\n",
       "      <td>-0.59</td>\n",
       "    </tr>\n",
       "    <tr>\n",
       "      <th>2</th>\n",
       "      <td>BLOOMINGTON</td>\n",
       "      <td>IN</td>\n",
       "      <td>47401</td>\n",
       "      <td>1997</td>\n",
       "      <td>180</td>\n",
       "      <td>7</td>\n",
       "      <td>1</td>\n",
       "      <td>0</td>\n",
       "      <td>0</td>\n",
       "      <td>0</td>\n",
       "      <td>...</td>\n",
       "      <td>62</td>\n",
       "      <td>0</td>\n",
       "      <td>2</td>\n",
       "      <td>2</td>\n",
       "      <td>0</td>\n",
       "      <td>3.5</td>\n",
       "      <td>4.4472</td>\n",
       "      <td>0.67</td>\n",
       "      <td>2.3377</td>\n",
       "      <td>-0.59</td>\n",
       "    </tr>\n",
       "    <tr>\n",
       "      <th>3</th>\n",
       "      <td>BROKEN ARROW</td>\n",
       "      <td>OK</td>\n",
       "      <td>74012</td>\n",
       "      <td>1997</td>\n",
       "      <td>60</td>\n",
       "      <td>2</td>\n",
       "      <td>1</td>\n",
       "      <td>0</td>\n",
       "      <td>0</td>\n",
       "      <td>0</td>\n",
       "      <td>...</td>\n",
       "      <td>0</td>\n",
       "      <td>0</td>\n",
       "      <td>2</td>\n",
       "      <td>1</td>\n",
       "      <td>0</td>\n",
       "      <td>4.1</td>\n",
       "      <td>4.4472</td>\n",
       "      <td>0.67</td>\n",
       "      <td>2.3377</td>\n",
       "      <td>-0.59</td>\n",
       "    </tr>\n",
       "    <tr>\n",
       "      <th>4</th>\n",
       "      <td>ORLANDO</td>\n",
       "      <td>FL</td>\n",
       "      <td>32801</td>\n",
       "      <td>1997</td>\n",
       "      <td>240</td>\n",
       "      <td>14</td>\n",
       "      <td>1</td>\n",
       "      <td>7</td>\n",
       "      <td>7</td>\n",
       "      <td>0</td>\n",
       "      <td>...</td>\n",
       "      <td>0</td>\n",
       "      <td>0</td>\n",
       "      <td>2</td>\n",
       "      <td>2</td>\n",
       "      <td>0</td>\n",
       "      <td>4.8</td>\n",
       "      <td>4.4472</td>\n",
       "      <td>0.67</td>\n",
       "      <td>2.3377</td>\n",
       "      <td>-0.59</td>\n",
       "    </tr>\n",
       "  </tbody>\n",
       "</table>\n",
       "<p>5 rows × 25 columns</p>\n",
       "</div>"
      ],
      "text/plain": [
       "           City State    Zip  ApprovalFY  Term  NoEmp  NewExist  CreateJob  \\\n",
       "0    EVANSVILLE    IN  47711        1997    84      4         2          0   \n",
       "1     NEW PARIS    IN  46526        1997    60      2         2          0   \n",
       "2   BLOOMINGTON    IN  47401        1997   180      7         1          0   \n",
       "3  BROKEN ARROW    OK  74012        1997    60      2         1          0   \n",
       "4       ORLANDO    FL  32801        1997   240     14         1          7   \n",
       "\n",
       "   RetainedJob  UrbanRural  ...  NAICS_sectors  isFranchise  RevLineCr_v2  \\\n",
       "0            0           0  ...             45            0             2   \n",
       "1            0           0  ...             72            0             2   \n",
       "2            0           0  ...             62            0             2   \n",
       "3            0           0  ...              0            0             2   \n",
       "4            7           0  ...              0            0             2   \n",
       "\n",
       "   LowDoc_v2  MIS_Status_v2  unemployment_rate  gdp_growth  gdp_annual_change  \\\n",
       "0          1              0                3.5      4.4472               0.67   \n",
       "1          1              0                3.5      4.4472               0.67   \n",
       "2          2              0                3.5      4.4472               0.67   \n",
       "3          1              0                4.1      4.4472               0.67   \n",
       "4          2              0                4.8      4.4472               0.67   \n",
       "\n",
       "   inflation_rate  inf_rate_annual_chg  \n",
       "0          2.3377                -0.59  \n",
       "1          2.3377                -0.59  \n",
       "2          2.3377                -0.59  \n",
       "3          2.3377                -0.59  \n",
       "4          2.3377                -0.59  \n",
       "\n",
       "[5 rows x 25 columns]"
      ]
     },
     "execution_count": 97,
     "metadata": {},
     "output_type": "execute_result"
    }
   ],
   "source": [
    "loan_eda_v1.head()"
   ]
  },
  {
   "cell_type": "code",
   "execution_count": 6,
   "id": "41b9bcfd",
   "metadata": {},
   "outputs": [],
   "source": [
    "## target feature to be used throughout all of the analysis\n",
    "target = 'MIS_Status_v2'"
   ]
  },
  {
   "cell_type": "code",
   "execution_count": 12,
   "id": "396c9a1c",
   "metadata": {},
   "outputs": [],
   "source": [
    "def producePercentBarChart(df, x, hue):\n",
    "    \"\"\"\n",
    "    Produce Bar Chart for normalized categorical to categorical comparisons\n",
    "    \"\"\"\n",
    "    sns.catplot(kind='bar',\n",
    "                x=x,\n",
    "                y='percent',\n",
    "                hue=hue,\n",
    "                data=df\n",
    "               )\n",
    "    plt.show()\n",
    "\n",
    "\n",
    "def produceStripPlot(df, x, y):\n",
    "    \"\"\"\n",
    "    Produce strip plot for categorical to numerical comparisons\n",
    "    \"\"\"\n",
    "    sns.catplot(kind='strip',\n",
    "                x=x,\n",
    "                y=y,\n",
    "                data=df\n",
    "               )\n",
    "    plt.show()"
   ]
  },
  {
   "cell_type": "code",
   "execution_count": 7,
   "id": "f5830c42",
   "metadata": {},
   "outputs": [],
   "source": [
    "def cat2catComparison(df, target, col):\n",
    "    observedFrequencies = groupbyCounts(df, target, col)\n",
    "    contingencyTable = buildContingencyTable(df, target, col)\n",
    "    chisq_test_stat, chisq_crit_value, chisq_p_val = computeChiSquareStatistics(contingencyTable)\n",
    "    return observedFrequencies, chisq_test_stat, chisq_crit_value, chisq_p_val"
   ]
  },
  {
   "cell_type": "code",
   "execution_count": 8,
   "id": "f51604ab",
   "metadata": {},
   "outputs": [],
   "source": [
    "def cat2contComparison(df, target, col):\n",
    "    summaryStats = groupbySummary(df, target, col)\n",
    "    pb_corr, pb_p_val = computePointBiserialR(df, target, col)\n",
    "    return summaryStats, pb_corr, pb_p_val"
   ]
  },
  {
   "cell_type": "markdown",
   "id": "b68ed6a9",
   "metadata": {},
   "source": [
    "# Exploratory Data Analysis \n",
    "\n",
    "## Categorical Analysis to MIS_Status_V2"
   ]
  },
  {
   "cell_type": "markdown",
   "id": "3a1a0b35",
   "metadata": {},
   "source": [
    "### NewExist"
   ]
  },
  {
   "cell_type": "code",
   "execution_count": 18,
   "id": "aad97376",
   "metadata": {},
   "outputs": [],
   "source": [
    "ne_observations, ne_test_stat, ne_crit_val, ne_p_val = cat2catComparison(loan_eda_v1, target, 'NewExist')"
   ]
  },
  {
   "cell_type": "code",
   "execution_count": 19,
   "id": "654b2b09",
   "metadata": {},
   "outputs": [
    {
     "data": {
      "text/html": [
       "<div>\n",
       "<style scoped>\n",
       "    .dataframe tbody tr th:only-of-type {\n",
       "        vertical-align: middle;\n",
       "    }\n",
       "\n",
       "    .dataframe tbody tr th {\n",
       "        vertical-align: top;\n",
       "    }\n",
       "\n",
       "    .dataframe thead th {\n",
       "        text-align: right;\n",
       "    }\n",
       "</style>\n",
       "<table border=\"1\" class=\"dataframe\">\n",
       "  <thead>\n",
       "    <tr style=\"text-align: right;\">\n",
       "      <th></th>\n",
       "      <th>NewExist</th>\n",
       "      <th>MIS_Status_v2</th>\n",
       "      <th>percent</th>\n",
       "    </tr>\n",
       "  </thead>\n",
       "  <tbody>\n",
       "    <tr>\n",
       "      <th>0</th>\n",
       "      <td>0</td>\n",
       "      <td>0</td>\n",
       "      <td>93.674177</td>\n",
       "    </tr>\n",
       "    <tr>\n",
       "      <th>1</th>\n",
       "      <td>0</td>\n",
       "      <td>1</td>\n",
       "      <td>6.325823</td>\n",
       "    </tr>\n",
       "    <tr>\n",
       "      <th>2</th>\n",
       "      <td>1</td>\n",
       "      <td>0</td>\n",
       "      <td>82.939923</td>\n",
       "    </tr>\n",
       "    <tr>\n",
       "      <th>3</th>\n",
       "      <td>1</td>\n",
       "      <td>1</td>\n",
       "      <td>17.060077</td>\n",
       "    </tr>\n",
       "    <tr>\n",
       "      <th>4</th>\n",
       "      <td>2</td>\n",
       "      <td>0</td>\n",
       "      <td>81.287243</td>\n",
       "    </tr>\n",
       "    <tr>\n",
       "      <th>5</th>\n",
       "      <td>2</td>\n",
       "      <td>1</td>\n",
       "      <td>18.712757</td>\n",
       "    </tr>\n",
       "  </tbody>\n",
       "</table>\n",
       "</div>"
      ],
      "text/plain": [
       "   NewExist  MIS_Status_v2    percent\n",
       "0         0              0  93.674177\n",
       "1         0              1   6.325823\n",
       "2         1              0  82.939923\n",
       "3         1              1  17.060077\n",
       "4         2              0  81.287243\n",
       "5         2              1  18.712757"
      ]
     },
     "metadata": {},
     "output_type": "display_data"
    }
   ],
   "source": [
    "## NewExist 0 = undefined, 1 = existing business, 2 = new business\n",
    "\n",
    "display(ne_observations)"
   ]
  },
  {
   "cell_type": "code",
   "execution_count": 20,
   "id": "e34913e6",
   "metadata": {},
   "outputs": [
    {
     "data": {
      "image/png": "[encoded data removed]",
      "text/plain": [
       "<Figure size 439.75x360 with 1 Axes>"
      ]
     },
     "metadata": {
      "needs_background": "light"
     },
     "output_type": "display_data"
    }
   ],
   "source": [
    "producePercentBarChart(ne_observations, 'NewExist', target)"
   ]
  },
  {
   "cell_type": "code",
   "execution_count": 21,
   "id": "c2c2abf8",
   "metadata": {},
   "outputs": [
    {
     "name": "stdout",
     "output_type": "stream",
     "text": [
      "0.07498872249066284 1.386294361119891 0.9631998489531541\n"
     ]
    }
   ],
   "source": [
    "print(ne_test_stat, ne_crit_val, ne_p_val)"
   ]
  },
  {
   "cell_type": "markdown",
   "id": "bc781f27",
   "metadata": {},
   "source": [
    "### UrbanRural"
   ]
  },
  {
   "cell_type": "code",
   "execution_count": 22,
   "id": "48e82ea7",
   "metadata": {},
   "outputs": [],
   "source": [
    "ur_observations, ur_test_stat, ur_crit_val, ur_p_val = cat2catComparison(loan_eda_v1, target, 'UrbanRural')"
   ]
  },
  {
   "cell_type": "code",
   "execution_count": 23,
   "id": "9b3a8b7c",
   "metadata": {},
   "outputs": [
    {
     "data": {
      "text/html": [
       "<div>\n",
       "<style scoped>\n",
       "    .dataframe tbody tr th:only-of-type {\n",
       "        vertical-align: middle;\n",
       "    }\n",
       "\n",
       "    .dataframe tbody tr th {\n",
       "        vertical-align: top;\n",
       "    }\n",
       "\n",
       "    .dataframe thead th {\n",
       "        text-align: right;\n",
       "    }\n",
       "</style>\n",
       "<table border=\"1\" class=\"dataframe\">\n",
       "  <thead>\n",
       "    <tr style=\"text-align: right;\">\n",
       "      <th></th>\n",
       "      <th>UrbanRural</th>\n",
       "      <th>MIS_Status_v2</th>\n",
       "      <th>percent</th>\n",
       "    </tr>\n",
       "  </thead>\n",
       "  <tbody>\n",
       "    <tr>\n",
       "      <th>0</th>\n",
       "      <td>0</td>\n",
       "      <td>0</td>\n",
       "      <td>93.137558</td>\n",
       "    </tr>\n",
       "    <tr>\n",
       "      <th>1</th>\n",
       "      <td>0</td>\n",
       "      <td>1</td>\n",
       "      <td>6.862442</td>\n",
       "    </tr>\n",
       "    <tr>\n",
       "      <th>2</th>\n",
       "      <td>1</td>\n",
       "      <td>0</td>\n",
       "      <td>75.510692</td>\n",
       "    </tr>\n",
       "    <tr>\n",
       "      <th>3</th>\n",
       "      <td>1</td>\n",
       "      <td>1</td>\n",
       "      <td>24.489308</td>\n",
       "    </tr>\n",
       "    <tr>\n",
       "      <th>4</th>\n",
       "      <td>2</td>\n",
       "      <td>0</td>\n",
       "      <td>81.155764</td>\n",
       "    </tr>\n",
       "    <tr>\n",
       "      <th>5</th>\n",
       "      <td>2</td>\n",
       "      <td>1</td>\n",
       "      <td>18.844236</td>\n",
       "    </tr>\n",
       "  </tbody>\n",
       "</table>\n",
       "</div>"
      ],
      "text/plain": [
       "   UrbanRural  MIS_Status_v2    percent\n",
       "0           0              0  93.137558\n",
       "1           0              1   6.862442\n",
       "2           1              0  75.510692\n",
       "3           1              1  24.489308\n",
       "4           2              0  81.155764\n",
       "5           2              1  18.844236"
      ]
     },
     "metadata": {},
     "output_type": "display_data"
    }
   ],
   "source": [
    "## UrbanRural: 1 = Urban, 2 = Rural, 0 = Undefined\n",
    "\n",
    "display(ur_observations)"
   ]
  },
  {
   "cell_type": "code",
   "execution_count": 24,
   "id": "881d8d45",
   "metadata": {},
   "outputs": [
    {
     "data": {
      "image/png": "[encoded data removed]",
      "text/plain": [
       "<Figure size 439.75x360 with 1 Axes>"
      ]
     },
     "metadata": {
      "needs_background": "light"
     },
     "output_type": "display_data"
    }
   ],
   "source": [
    "producePercentBarChart(ur_observations, 'UrbanRural', target)"
   ]
  },
  {
   "cell_type": "code",
   "execution_count": 25,
   "id": "f28767de",
   "metadata": {},
   "outputs": [
    {
     "name": "stdout",
     "output_type": "stream",
     "text": [
      "0.11630843383315549 1.386294361119891 0.9435044318723453\n"
     ]
    }
   ],
   "source": [
    "print(ur_test_stat, ur_crit_val, ur_p_val)"
   ]
  },
  {
   "cell_type": "markdown",
   "id": "7987fe23",
   "metadata": {},
   "source": [
    "### NAICS_Sectors"
   ]
  },
  {
   "cell_type": "code",
   "execution_count": 26,
   "id": "6c9e7224",
   "metadata": {},
   "outputs": [],
   "source": [
    "na_observations, na_test_stat, na_crit_val, na_p_val = cat2catComparison(loan_eda_v1, target, 'NAICS_sectors')"
   ]
  },
  {
   "cell_type": "code",
   "execution_count": 27,
   "id": "85fb4f1f",
   "metadata": {},
   "outputs": [
    {
     "data": {
      "text/html": [
       "<div>\n",
       "<style scoped>\n",
       "    .dataframe tbody tr th:only-of-type {\n",
       "        vertical-align: middle;\n",
       "    }\n",
       "\n",
       "    .dataframe tbody tr th {\n",
       "        vertical-align: top;\n",
       "    }\n",
       "\n",
       "    .dataframe thead th {\n",
       "        text-align: right;\n",
       "    }\n",
       "</style>\n",
       "<table border=\"1\" class=\"dataframe\">\n",
       "  <thead>\n",
       "    <tr style=\"text-align: right;\">\n",
       "      <th></th>\n",
       "      <th>NAICS_sectors</th>\n",
       "      <th>MIS_Status_v2</th>\n",
       "      <th>percent</th>\n",
       "    </tr>\n",
       "  </thead>\n",
       "  <tbody>\n",
       "    <tr>\n",
       "      <th>0</th>\n",
       "      <td>0</td>\n",
       "      <td>0</td>\n",
       "      <td>92.087202</td>\n",
       "    </tr>\n",
       "    <tr>\n",
       "      <th>1</th>\n",
       "      <td>0</td>\n",
       "      <td>1</td>\n",
       "      <td>7.912798</td>\n",
       "    </tr>\n",
       "    <tr>\n",
       "      <th>2</th>\n",
       "      <td>11</td>\n",
       "      <td>0</td>\n",
       "      <td>90.967958</td>\n",
       "    </tr>\n",
       "    <tr>\n",
       "      <th>3</th>\n",
       "      <td>11</td>\n",
       "      <td>1</td>\n",
       "      <td>9.032042</td>\n",
       "    </tr>\n",
       "    <tr>\n",
       "      <th>4</th>\n",
       "      <td>21</td>\n",
       "      <td>0</td>\n",
       "      <td>91.235060</td>\n",
       "    </tr>\n",
       "    <tr>\n",
       "      <th>5</th>\n",
       "      <td>21</td>\n",
       "      <td>1</td>\n",
       "      <td>8.764940</td>\n",
       "    </tr>\n",
       "    <tr>\n",
       "      <th>6</th>\n",
       "      <td>22</td>\n",
       "      <td>0</td>\n",
       "      <td>85.604900</td>\n",
       "    </tr>\n",
       "    <tr>\n",
       "      <th>7</th>\n",
       "      <td>22</td>\n",
       "      <td>1</td>\n",
       "      <td>14.395100</td>\n",
       "    </tr>\n",
       "    <tr>\n",
       "      <th>8</th>\n",
       "      <td>23</td>\n",
       "      <td>0</td>\n",
       "      <td>76.703645</td>\n",
       "    </tr>\n",
       "    <tr>\n",
       "      <th>9</th>\n",
       "      <td>23</td>\n",
       "      <td>1</td>\n",
       "      <td>23.296355</td>\n",
       "    </tr>\n",
       "    <tr>\n",
       "      <th>10</th>\n",
       "      <td>31</td>\n",
       "      <td>0</td>\n",
       "      <td>80.508547</td>\n",
       "    </tr>\n",
       "    <tr>\n",
       "      <th>11</th>\n",
       "      <td>31</td>\n",
       "      <td>1</td>\n",
       "      <td>19.491453</td>\n",
       "    </tr>\n",
       "    <tr>\n",
       "      <th>12</th>\n",
       "      <td>32</td>\n",
       "      <td>0</td>\n",
       "      <td>83.597203</td>\n",
       "    </tr>\n",
       "    <tr>\n",
       "      <th>13</th>\n",
       "      <td>32</td>\n",
       "      <td>1</td>\n",
       "      <td>16.402797</td>\n",
       "    </tr>\n",
       "    <tr>\n",
       "      <th>14</th>\n",
       "      <td>33</td>\n",
       "      <td>0</td>\n",
       "      <td>86.339300</td>\n",
       "    </tr>\n",
       "    <tr>\n",
       "      <th>15</th>\n",
       "      <td>33</td>\n",
       "      <td>1</td>\n",
       "      <td>13.660700</td>\n",
       "    </tr>\n",
       "    <tr>\n",
       "      <th>16</th>\n",
       "      <td>42</td>\n",
       "      <td>0</td>\n",
       "      <td>80.508928</td>\n",
       "    </tr>\n",
       "    <tr>\n",
       "      <th>17</th>\n",
       "      <td>42</td>\n",
       "      <td>1</td>\n",
       "      <td>19.491072</td>\n",
       "    </tr>\n",
       "    <tr>\n",
       "      <th>18</th>\n",
       "      <td>44</td>\n",
       "      <td>0</td>\n",
       "      <td>77.566968</td>\n",
       "    </tr>\n",
       "    <tr>\n",
       "      <th>19</th>\n",
       "      <td>44</td>\n",
       "      <td>1</td>\n",
       "      <td>22.433032</td>\n",
       "    </tr>\n",
       "    <tr>\n",
       "      <th>20</th>\n",
       "      <td>45</td>\n",
       "      <td>0</td>\n",
       "      <td>76.525155</td>\n",
       "    </tr>\n",
       "    <tr>\n",
       "      <th>21</th>\n",
       "      <td>45</td>\n",
       "      <td>1</td>\n",
       "      <td>23.474845</td>\n",
       "    </tr>\n",
       "    <tr>\n",
       "      <th>22</th>\n",
       "      <td>48</td>\n",
       "      <td>0</td>\n",
       "      <td>73.058024</td>\n",
       "    </tr>\n",
       "    <tr>\n",
       "      <th>23</th>\n",
       "      <td>48</td>\n",
       "      <td>1</td>\n",
       "      <td>26.941976</td>\n",
       "    </tr>\n",
       "    <tr>\n",
       "      <th>24</th>\n",
       "      <td>49</td>\n",
       "      <td>0</td>\n",
       "      <td>77.010450</td>\n",
       "    </tr>\n",
       "    <tr>\n",
       "      <th>25</th>\n",
       "      <td>49</td>\n",
       "      <td>1</td>\n",
       "      <td>22.989550</td>\n",
       "    </tr>\n",
       "    <tr>\n",
       "      <th>26</th>\n",
       "      <td>51</td>\n",
       "      <td>0</td>\n",
       "      <td>75.123457</td>\n",
       "    </tr>\n",
       "    <tr>\n",
       "      <th>27</th>\n",
       "      <td>51</td>\n",
       "      <td>1</td>\n",
       "      <td>24.876543</td>\n",
       "    </tr>\n",
       "    <tr>\n",
       "      <th>28</th>\n",
       "      <td>52</td>\n",
       "      <td>0</td>\n",
       "      <td>71.555368</td>\n",
       "    </tr>\n",
       "    <tr>\n",
       "      <th>29</th>\n",
       "      <td>52</td>\n",
       "      <td>1</td>\n",
       "      <td>28.444632</td>\n",
       "    </tr>\n",
       "    <tr>\n",
       "      <th>30</th>\n",
       "      <td>53</td>\n",
       "      <td>0</td>\n",
       "      <td>71.243179</td>\n",
       "    </tr>\n",
       "    <tr>\n",
       "      <th>31</th>\n",
       "      <td>53</td>\n",
       "      <td>1</td>\n",
       "      <td>28.756821</td>\n",
       "    </tr>\n",
       "    <tr>\n",
       "      <th>32</th>\n",
       "      <td>54</td>\n",
       "      <td>0</td>\n",
       "      <td>80.901958</td>\n",
       "    </tr>\n",
       "    <tr>\n",
       "      <th>33</th>\n",
       "      <td>54</td>\n",
       "      <td>1</td>\n",
       "      <td>19.098042</td>\n",
       "    </tr>\n",
       "    <tr>\n",
       "      <th>34</th>\n",
       "      <td>55</td>\n",
       "      <td>0</td>\n",
       "      <td>89.843750</td>\n",
       "    </tr>\n",
       "    <tr>\n",
       "      <th>35</th>\n",
       "      <td>55</td>\n",
       "      <td>1</td>\n",
       "      <td>10.156250</td>\n",
       "    </tr>\n",
       "    <tr>\n",
       "      <th>36</th>\n",
       "      <td>56</td>\n",
       "      <td>0</td>\n",
       "      <td>76.419133</td>\n",
       "    </tr>\n",
       "    <tr>\n",
       "      <th>37</th>\n",
       "      <td>56</td>\n",
       "      <td>1</td>\n",
       "      <td>23.580867</td>\n",
       "    </tr>\n",
       "    <tr>\n",
       "      <th>38</th>\n",
       "      <td>61</td>\n",
       "      <td>0</td>\n",
       "      <td>75.742420</td>\n",
       "    </tr>\n",
       "    <tr>\n",
       "      <th>39</th>\n",
       "      <td>61</td>\n",
       "      <td>1</td>\n",
       "      <td>24.257580</td>\n",
       "    </tr>\n",
       "    <tr>\n",
       "      <th>40</th>\n",
       "      <td>62</td>\n",
       "      <td>0</td>\n",
       "      <td>89.598868</td>\n",
       "    </tr>\n",
       "    <tr>\n",
       "      <th>41</th>\n",
       "      <td>62</td>\n",
       "      <td>1</td>\n",
       "      <td>10.401132</td>\n",
       "    </tr>\n",
       "    <tr>\n",
       "      <th>42</th>\n",
       "      <td>71</td>\n",
       "      <td>0</td>\n",
       "      <td>79.339694</td>\n",
       "    </tr>\n",
       "    <tr>\n",
       "      <th>43</th>\n",
       "      <td>71</td>\n",
       "      <td>1</td>\n",
       "      <td>20.660306</td>\n",
       "    </tr>\n",
       "    <tr>\n",
       "      <th>44</th>\n",
       "      <td>72</td>\n",
       "      <td>0</td>\n",
       "      <td>77.914958</td>\n",
       "    </tr>\n",
       "    <tr>\n",
       "      <th>45</th>\n",
       "      <td>72</td>\n",
       "      <td>1</td>\n",
       "      <td>22.085042</td>\n",
       "    </tr>\n",
       "    <tr>\n",
       "      <th>46</th>\n",
       "      <td>81</td>\n",
       "      <td>0</td>\n",
       "      <td>80.291020</td>\n",
       "    </tr>\n",
       "    <tr>\n",
       "      <th>47</th>\n",
       "      <td>81</td>\n",
       "      <td>1</td>\n",
       "      <td>19.708980</td>\n",
       "    </tr>\n",
       "    <tr>\n",
       "      <th>48</th>\n",
       "      <td>92</td>\n",
       "      <td>0</td>\n",
       "      <td>84.581498</td>\n",
       "    </tr>\n",
       "    <tr>\n",
       "      <th>49</th>\n",
       "      <td>92</td>\n",
       "      <td>1</td>\n",
       "      <td>15.418502</td>\n",
       "    </tr>\n",
       "  </tbody>\n",
       "</table>\n",
       "</div>"
      ],
      "text/plain": [
       "    NAICS_sectors  MIS_Status_v2    percent\n",
       "0               0              0  92.087202\n",
       "1               0              1   7.912798\n",
       "2              11              0  90.967958\n",
       "3              11              1   9.032042\n",
       "4              21              0  91.235060\n",
       "5              21              1   8.764940\n",
       "6              22              0  85.604900\n",
       "7              22              1  14.395100\n",
       "8              23              0  76.703645\n",
       "9              23              1  23.296355\n",
       "10             31              0  80.508547\n",
       "11             31              1  19.491453\n",
       "12             32              0  83.597203\n",
       "13             32              1  16.402797\n",
       "14             33              0  86.339300\n",
       "15             33              1  13.660700\n",
       "16             42              0  80.508928\n",
       "17             42              1  19.491072\n",
       "18             44              0  77.566968\n",
       "19             44              1  22.433032\n",
       "20             45              0  76.525155\n",
       "21             45              1  23.474845\n",
       "22             48              0  73.058024\n",
       "23             48              1  26.941976\n",
       "24             49              0  77.010450\n",
       "25             49              1  22.989550\n",
       "26             51              0  75.123457\n",
       "27             51              1  24.876543\n",
       "28             52              0  71.555368\n",
       "29             52              1  28.444632\n",
       "30             53              0  71.243179\n",
       "31             53              1  28.756821\n",
       "32             54              0  80.901958\n",
       "33             54              1  19.098042\n",
       "34             55              0  89.843750\n",
       "35             55              1  10.156250\n",
       "36             56              0  76.419133\n",
       "37             56              1  23.580867\n",
       "38             61              0  75.742420\n",
       "39             61              1  24.257580\n",
       "40             62              0  89.598868\n",
       "41             62              1  10.401132\n",
       "42             71              0  79.339694\n",
       "43             71              1  20.660306\n",
       "44             72              0  77.914958\n",
       "45             72              1  22.085042\n",
       "46             81              0  80.291020\n",
       "47             81              1  19.708980\n",
       "48             92              0  84.581498\n",
       "49             92              1  15.418502"
      ]
     },
     "metadata": {},
     "output_type": "display_data"
    }
   ],
   "source": [
    "display(na_observations)"
   ]
  },
  {
   "cell_type": "code",
   "execution_count": 28,
   "id": "5a6c625b",
   "metadata": {},
   "outputs": [
    {
     "data": {
      "image/png": "[encoded data removed]",
      "text/plain": [
       "<Figure size 439.75x360 with 1 Axes>"
      ]
     },
     "metadata": {
      "needs_background": "light"
     },
     "output_type": "display_data"
    }
   ],
   "source": [
    "producePercentBarChart(na_observations, 'NAICS_sectors', target)"
   ]
  },
  {
   "cell_type": "code",
   "execution_count": 29,
   "id": "72440ee1",
   "metadata": {},
   "outputs": [
    {
     "name": "stdout",
     "output_type": "stream",
     "text": [
      "0.6221038177759768 23.336726306089535 0.9999999999999987\n"
     ]
    }
   ],
   "source": [
    "print(na_test_stat, na_crit_val, na_p_val)"
   ]
  },
  {
   "cell_type": "markdown",
   "id": "b24f9d01",
   "metadata": {},
   "source": [
    "### isFranchise"
   ]
  },
  {
   "cell_type": "code",
   "execution_count": 32,
   "id": "e144fc92",
   "metadata": {},
   "outputs": [],
   "source": [
    "fr_observations, fr_test_stat, fr_crit_val, fr_p_val = cat2catComparison(loan_eda_v1, target, 'isFranchise')"
   ]
  },
  {
   "cell_type": "code",
   "execution_count": 33,
   "id": "bdc71ec2",
   "metadata": {},
   "outputs": [
    {
     "data": {
      "text/html": [
       "<div>\n",
       "<style scoped>\n",
       "    .dataframe tbody tr th:only-of-type {\n",
       "        vertical-align: middle;\n",
       "    }\n",
       "\n",
       "    .dataframe tbody tr th {\n",
       "        vertical-align: top;\n",
       "    }\n",
       "\n",
       "    .dataframe thead th {\n",
       "        text-align: right;\n",
       "    }\n",
       "</style>\n",
       "<table border=\"1\" class=\"dataframe\">\n",
       "  <thead>\n",
       "    <tr style=\"text-align: right;\">\n",
       "      <th></th>\n",
       "      <th>isFranchise</th>\n",
       "      <th>MIS_Status_v2</th>\n",
       "      <th>percent</th>\n",
       "    </tr>\n",
       "  </thead>\n",
       "  <tbody>\n",
       "    <tr>\n",
       "      <th>0</th>\n",
       "      <td>0</td>\n",
       "      <td>0</td>\n",
       "      <td>82.346150</td>\n",
       "    </tr>\n",
       "    <tr>\n",
       "      <th>1</th>\n",
       "      <td>0</td>\n",
       "      <td>1</td>\n",
       "      <td>17.653850</td>\n",
       "    </tr>\n",
       "    <tr>\n",
       "      <th>2</th>\n",
       "      <td>1</td>\n",
       "      <td>0</td>\n",
       "      <td>84.820405</td>\n",
       "    </tr>\n",
       "    <tr>\n",
       "      <th>3</th>\n",
       "      <td>1</td>\n",
       "      <td>1</td>\n",
       "      <td>15.179595</td>\n",
       "    </tr>\n",
       "  </tbody>\n",
       "</table>\n",
       "</div>"
      ],
      "text/plain": [
       "   isFranchise  MIS_Status_v2    percent\n",
       "0            0              0  82.346150\n",
       "1            0              1  17.653850\n",
       "2            1              0  84.820405\n",
       "3            1              1  15.179595"
      ]
     },
     "metadata": {},
     "output_type": "display_data"
    }
   ],
   "source": [
    "display(fr_observations)"
   ]
  },
  {
   "cell_type": "code",
   "execution_count": 34,
   "id": "3a72e034",
   "metadata": {},
   "outputs": [
    {
     "data": {
      "image/png": "[encoded data removed]",
      "text/plain": [
       "<Figure size 439.75x360 with 1 Axes>"
      ]
     },
     "metadata": {
      "needs_background": "light"
     },
     "output_type": "display_data"
    }
   ],
   "source": [
    "producePercentBarChart(fr_observations, 'isFranchise', target)"
   ]
  },
  {
   "cell_type": "code",
   "execution_count": 35,
   "id": "17a82260",
   "metadata": {},
   "outputs": [
    {
     "name": "stdout",
     "output_type": "stream",
     "text": [
      "0.0 0.454936423119572 1.0\n"
     ]
    }
   ],
   "source": [
    "print(fr_test_stat, fr_crit_val, fr_p_val)"
   ]
  },
  {
   "cell_type": "markdown",
   "id": "d5db6127",
   "metadata": {},
   "source": [
    "### RevLineCr_v2"
   ]
  },
  {
   "cell_type": "code",
   "execution_count": 36,
   "id": "abed870c",
   "metadata": {},
   "outputs": [],
   "source": [
    "rl_observations, rl_test_stat, rl_crit_val, rl_p_val = cat2catComparison(loan_eda_v1, target, 'RevLineCr_v2')"
   ]
  },
  {
   "cell_type": "code",
   "execution_count": 37,
   "id": "4d348291",
   "metadata": {},
   "outputs": [
    {
     "data": {
      "text/html": [
       "<div>\n",
       "<style scoped>\n",
       "    .dataframe tbody tr th:only-of-type {\n",
       "        vertical-align: middle;\n",
       "    }\n",
       "\n",
       "    .dataframe tbody tr th {\n",
       "        vertical-align: top;\n",
       "    }\n",
       "\n",
       "    .dataframe thead th {\n",
       "        text-align: right;\n",
       "    }\n",
       "</style>\n",
       "<table border=\"1\" class=\"dataframe\">\n",
       "  <thead>\n",
       "    <tr style=\"text-align: right;\">\n",
       "      <th></th>\n",
       "      <th>RevLineCr_v2</th>\n",
       "      <th>MIS_Status_v2</th>\n",
       "      <th>percent</th>\n",
       "    </tr>\n",
       "  </thead>\n",
       "  <tbody>\n",
       "    <tr>\n",
       "      <th>0</th>\n",
       "      <td>0</td>\n",
       "      <td>0</td>\n",
       "      <td>83.688600</td>\n",
       "    </tr>\n",
       "    <tr>\n",
       "      <th>1</th>\n",
       "      <td>0</td>\n",
       "      <td>1</td>\n",
       "      <td>16.311400</td>\n",
       "    </tr>\n",
       "    <tr>\n",
       "      <th>2</th>\n",
       "      <td>1</td>\n",
       "      <td>0</td>\n",
       "      <td>74.573810</td>\n",
       "    </tr>\n",
       "    <tr>\n",
       "      <th>3</th>\n",
       "      <td>1</td>\n",
       "      <td>1</td>\n",
       "      <td>25.426190</td>\n",
       "    </tr>\n",
       "    <tr>\n",
       "      <th>4</th>\n",
       "      <td>2</td>\n",
       "      <td>0</td>\n",
       "      <td>85.501855</td>\n",
       "    </tr>\n",
       "    <tr>\n",
       "      <th>5</th>\n",
       "      <td>2</td>\n",
       "      <td>1</td>\n",
       "      <td>14.498145</td>\n",
       "    </tr>\n",
       "  </tbody>\n",
       "</table>\n",
       "</div>"
      ],
      "text/plain": [
       "   RevLineCr_v2  MIS_Status_v2    percent\n",
       "0             0              0  83.688600\n",
       "1             0              1  16.311400\n",
       "2             1              0  74.573810\n",
       "3             1              1  25.426190\n",
       "4             2              0  85.501855\n",
       "5             2              1  14.498145"
      ]
     },
     "metadata": {},
     "output_type": "display_data"
    }
   ],
   "source": [
    "### 0 = undefined, 1 = yes, 2 = no\n",
    "\n",
    "display(rl_observations)"
   ]
  },
  {
   "cell_type": "code",
   "execution_count": 38,
   "id": "37041e74",
   "metadata": {},
   "outputs": [
    {
     "data": {
      "image/png": "[encoded data removed]",
      "text/plain": [
       "<Figure size 439.75x360 with 1 Axes>"
      ]
     },
     "metadata": {
      "needs_background": "light"
     },
     "output_type": "display_data"
    }
   ],
   "source": [
    "producePercentBarChart(rl_observations, 'RevLineCr_v2', target)"
   ]
  },
  {
   "cell_type": "code",
   "execution_count": 39,
   "id": "70770e5d",
   "metadata": {},
   "outputs": [
    {
     "name": "stdout",
     "output_type": "stream",
     "text": [
      "0.04503621977437652 1.386294361119891 0.9777335303890672\n"
     ]
    }
   ],
   "source": [
    "print(rl_test_stat, rl_crit_val, rl_p_val)"
   ]
  },
  {
   "cell_type": "markdown",
   "id": "ade7bcce",
   "metadata": {},
   "source": [
    "To explore this variable **without** the undefined values..."
   ]
  },
  {
   "cell_type": "code",
   "execution_count": 41,
   "id": "5424e48e",
   "metadata": {},
   "outputs": [],
   "source": [
    "loan_eda_v2 = loan_eda_v1[loan_eda_v1['RevLineCr_v2'] != 0]"
   ]
  },
  {
   "cell_type": "code",
   "execution_count": 42,
   "id": "8d18b96a",
   "metadata": {},
   "outputs": [],
   "source": [
    "rl2_observations, rl2_test_stat, rl2_crit_val, rl2_p_val = cat2catComparison(loan_eda_v2, target, 'RevLineCr_v2')"
   ]
  },
  {
   "cell_type": "code",
   "execution_count": 43,
   "id": "97dd78e8",
   "metadata": {},
   "outputs": [
    {
     "data": {
      "text/html": [
       "<div>\n",
       "<style scoped>\n",
       "    .dataframe tbody tr th:only-of-type {\n",
       "        vertical-align: middle;\n",
       "    }\n",
       "\n",
       "    .dataframe tbody tr th {\n",
       "        vertical-align: top;\n",
       "    }\n",
       "\n",
       "    .dataframe thead th {\n",
       "        text-align: right;\n",
       "    }\n",
       "</style>\n",
       "<table border=\"1\" class=\"dataframe\">\n",
       "  <thead>\n",
       "    <tr style=\"text-align: right;\">\n",
       "      <th></th>\n",
       "      <th>RevLineCr_v2</th>\n",
       "      <th>MIS_Status_v2</th>\n",
       "      <th>percent</th>\n",
       "    </tr>\n",
       "  </thead>\n",
       "  <tbody>\n",
       "    <tr>\n",
       "      <th>0</th>\n",
       "      <td>1</td>\n",
       "      <td>0</td>\n",
       "      <td>74.573810</td>\n",
       "    </tr>\n",
       "    <tr>\n",
       "      <th>1</th>\n",
       "      <td>1</td>\n",
       "      <td>1</td>\n",
       "      <td>25.426190</td>\n",
       "    </tr>\n",
       "    <tr>\n",
       "      <th>2</th>\n",
       "      <td>2</td>\n",
       "      <td>0</td>\n",
       "      <td>85.501855</td>\n",
       "    </tr>\n",
       "    <tr>\n",
       "      <th>3</th>\n",
       "      <td>2</td>\n",
       "      <td>1</td>\n",
       "      <td>14.498145</td>\n",
       "    </tr>\n",
       "  </tbody>\n",
       "</table>\n",
       "</div>"
      ],
      "text/plain": [
       "   RevLineCr_v2  MIS_Status_v2    percent\n",
       "0             1              0  74.573810\n",
       "1             1              1  25.426190\n",
       "2             2              0  85.501855\n",
       "3             2              1  14.498145"
      ]
     },
     "metadata": {},
     "output_type": "display_data"
    }
   ],
   "source": [
    "display(rl2_observations)"
   ]
  },
  {
   "cell_type": "code",
   "execution_count": 44,
   "id": "01378ade",
   "metadata": {},
   "outputs": [
    {
     "name": "stdout",
     "output_type": "stream",
     "text": [
      "0.0 0.454936423119572 1.0\n"
     ]
    }
   ],
   "source": [
    "print(rl2_test_stat, rl2_crit_val, rl2_p_val)"
   ]
  },
  {
   "cell_type": "markdown",
   "id": "d5547aa0",
   "metadata": {},
   "source": [
    "### LowDoc_v2"
   ]
  },
  {
   "cell_type": "code",
   "execution_count": 45,
   "id": "134eaf27",
   "metadata": {},
   "outputs": [],
   "source": [
    "ld_observations, ld_test_stat, ld_crit_val, ld_p_val = cat2catComparison(loan_eda_v1, target, 'LowDoc_v2')"
   ]
  },
  {
   "cell_type": "code",
   "execution_count": 46,
   "id": "59bbe5ee",
   "metadata": {},
   "outputs": [
    {
     "data": {
      "text/html": [
       "<div>\n",
       "<style scoped>\n",
       "    .dataframe tbody tr th:only-of-type {\n",
       "        vertical-align: middle;\n",
       "    }\n",
       "\n",
       "    .dataframe tbody tr th {\n",
       "        vertical-align: top;\n",
       "    }\n",
       "\n",
       "    .dataframe thead th {\n",
       "        text-align: right;\n",
       "    }\n",
       "</style>\n",
       "<table border=\"1\" class=\"dataframe\">\n",
       "  <thead>\n",
       "    <tr style=\"text-align: right;\">\n",
       "      <th></th>\n",
       "      <th>LowDoc_v2</th>\n",
       "      <th>MIS_Status_v2</th>\n",
       "      <th>percent</th>\n",
       "    </tr>\n",
       "  </thead>\n",
       "  <tbody>\n",
       "    <tr>\n",
       "      <th>0</th>\n",
       "      <td>0</td>\n",
       "      <td>0</td>\n",
       "      <td>73.725556</td>\n",
       "    </tr>\n",
       "    <tr>\n",
       "      <th>1</th>\n",
       "      <td>0</td>\n",
       "      <td>1</td>\n",
       "      <td>26.274444</td>\n",
       "    </tr>\n",
       "    <tr>\n",
       "      <th>2</th>\n",
       "      <td>1</td>\n",
       "      <td>0</td>\n",
       "      <td>90.980729</td>\n",
       "    </tr>\n",
       "    <tr>\n",
       "      <th>3</th>\n",
       "      <td>1</td>\n",
       "      <td>1</td>\n",
       "      <td>9.019271</td>\n",
       "    </tr>\n",
       "    <tr>\n",
       "      <th>4</th>\n",
       "      <td>2</td>\n",
       "      <td>0</td>\n",
       "      <td>81.362093</td>\n",
       "    </tr>\n",
       "    <tr>\n",
       "      <th>5</th>\n",
       "      <td>2</td>\n",
       "      <td>1</td>\n",
       "      <td>18.637907</td>\n",
       "    </tr>\n",
       "  </tbody>\n",
       "</table>\n",
       "</div>"
      ],
      "text/plain": [
       "   LowDoc_v2  MIS_Status_v2    percent\n",
       "0          0              0  73.725556\n",
       "1          0              1  26.274444\n",
       "2          1              0  90.980729\n",
       "3          1              1   9.019271\n",
       "4          2              0  81.362093\n",
       "5          2              1  18.637907"
      ]
     },
     "metadata": {},
     "output_type": "display_data"
    }
   ],
   "source": [
    "### 0 = undefined, 1 = yes, 2 = no\n",
    "\n",
    "display(ld_observations)"
   ]
  },
  {
   "cell_type": "code",
   "execution_count": 47,
   "id": "d22506c5",
   "metadata": {},
   "outputs": [
    {
     "data": {
      "image/png": "[encoded data removed]",
      "text/plain": [
       "<Figure size 439.75x360 with 1 Axes>"
      ]
     },
     "metadata": {
      "needs_background": "light"
     },
     "output_type": "display_data"
    }
   ],
   "source": [
    "producePercentBarChart(ld_observations, 'LowDoc_v2', target)"
   ]
  },
  {
   "cell_type": "code",
   "execution_count": 48,
   "id": "09d15757",
   "metadata": {},
   "outputs": [
    {
     "name": "stdout",
     "output_type": "stream",
     "text": [
      "0.1014046513739877 1.386294361119891 0.9505615861891149\n"
     ]
    }
   ],
   "source": [
    "print(ld_test_stat, ld_crit_val, ld_p_val)"
   ]
  },
  {
   "cell_type": "markdown",
   "id": "349c5b44",
   "metadata": {},
   "source": [
    "## Numberical Analysis to MIS_Status_v2"
   ]
  },
  {
   "cell_type": "markdown",
   "id": "11f8baf9",
   "metadata": {},
   "source": [
    "### ApprovalFY"
   ]
  },
  {
   "cell_type": "code",
   "execution_count": 49,
   "id": "f50e0d23",
   "metadata": {},
   "outputs": [],
   "source": [
    "yr_summary, yr_corr, yr_p_val = cat2contComparison(loan_eda_v1, target, 'ApprovalFY')"
   ]
  },
  {
   "cell_type": "code",
   "execution_count": 50,
   "id": "9c6a2de1",
   "metadata": {},
   "outputs": [
    {
     "data": {
      "text/html": [
       "<div>\n",
       "<style scoped>\n",
       "    .dataframe tbody tr th:only-of-type {\n",
       "        vertical-align: middle;\n",
       "    }\n",
       "\n",
       "    .dataframe tbody tr th {\n",
       "        vertical-align: top;\n",
       "    }\n",
       "\n",
       "    .dataframe thead th {\n",
       "        text-align: right;\n",
       "    }\n",
       "</style>\n",
       "<table border=\"1\" class=\"dataframe\">\n",
       "  <thead>\n",
       "    <tr style=\"text-align: right;\">\n",
       "      <th></th>\n",
       "      <th>amax</th>\n",
       "      <th>amin</th>\n",
       "      <th>mean</th>\n",
       "      <th>std</th>\n",
       "      <th>q25</th>\n",
       "      <th>q75</th>\n",
       "      <th>q95</th>\n",
       "      <th>q99</th>\n",
       "    </tr>\n",
       "    <tr>\n",
       "      <th>MIS_Status_v2</th>\n",
       "      <th></th>\n",
       "      <th></th>\n",
       "      <th></th>\n",
       "      <th></th>\n",
       "      <th></th>\n",
       "      <th></th>\n",
       "      <th></th>\n",
       "      <th></th>\n",
       "    </tr>\n",
       "  </thead>\n",
       "  <tbody>\n",
       "    <tr>\n",
       "      <th>0</th>\n",
       "      <td>2014</td>\n",
       "      <td>1980</td>\n",
       "      <td>2000.588662</td>\n",
       "      <td>5.807987</td>\n",
       "      <td>1996.0</td>\n",
       "      <td>2005.0</td>\n",
       "      <td>2009.0</td>\n",
       "      <td>2012.0</td>\n",
       "    </tr>\n",
       "    <tr>\n",
       "      <th>1</th>\n",
       "      <td>2014</td>\n",
       "      <td>1980</td>\n",
       "      <td>2003.924954</td>\n",
       "      <td>5.295124</td>\n",
       "      <td>2003.0</td>\n",
       "      <td>2007.0</td>\n",
       "      <td>2008.0</td>\n",
       "      <td>2010.0</td>\n",
       "    </tr>\n",
       "  </tbody>\n",
       "</table>\n",
       "</div>"
      ],
      "text/plain": [
       "               amax  amin         mean       std     q25     q75     q95  \\\n",
       "MIS_Status_v2                                                              \n",
       "0              2014  1980  2000.588662  5.807987  1996.0  2005.0  2009.0   \n",
       "1              2014  1980  2003.924954  5.295124  2003.0  2007.0  2008.0   \n",
       "\n",
       "                  q99  \n",
       "MIS_Status_v2          \n",
       "0              2012.0  \n",
       "1              2010.0  "
      ]
     },
     "metadata": {},
     "output_type": "display_data"
    }
   ],
   "source": [
    "display(yr_summary)"
   ]
  },
  {
   "cell_type": "code",
   "execution_count": 51,
   "id": "84d46d53",
   "metadata": {},
   "outputs": [
    {
     "name": "stdout",
     "output_type": "stream",
     "text": [
      "0.21637101927213698 0.0\n"
     ]
    }
   ],
   "source": [
    "print(yr_corr, yr_p_val)"
   ]
  },
  {
   "cell_type": "code",
   "execution_count": 53,
   "id": "cc30029a",
   "metadata": {},
   "outputs": [
    {
     "data": {
      "text/plain": [
       "<AxesSubplot:xlabel='ApprovalFY', ylabel='Count'>"
      ]
     },
     "execution_count": 53,
     "metadata": {},
     "output_type": "execute_result"
    },
    {
     "data": {
      "image/png": "[encoded data removed]",
      "text/plain": [
       "<Figure size 432x288 with 1 Axes>"
      ]
     },
     "metadata": {
      "needs_background": "light"
     },
     "output_type": "display_data"
    }
   ],
   "source": [
    "sns.histplot(x='ApprovalFY',\n",
    "             hue='MIS_Status_v2',\n",
    "             data=loan_eda_v1,\n",
    "             bins=35)"
   ]
  },
  {
   "cell_type": "markdown",
   "id": "0698ac19",
   "metadata": {},
   "source": [
    "## Come back to this section -- Could be something interesting here to investigate revolving the Great Recession"
   ]
  },
  {
   "cell_type": "markdown",
   "id": "948636a5",
   "metadata": {},
   "source": [
    "### Term"
   ]
  },
  {
   "cell_type": "code",
   "execution_count": 54,
   "id": "82a7df93",
   "metadata": {},
   "outputs": [],
   "source": [
    "term_summary, term_corr, term_p_val = cat2contComparison(loan_eda_v1, target, 'Term')"
   ]
  },
  {
   "cell_type": "code",
   "execution_count": 55,
   "id": "082dc143",
   "metadata": {},
   "outputs": [
    {
     "data": {
      "text/html": [
       "<div>\n",
       "<style scoped>\n",
       "    .dataframe tbody tr th:only-of-type {\n",
       "        vertical-align: middle;\n",
       "    }\n",
       "\n",
       "    .dataframe tbody tr th {\n",
       "        vertical-align: top;\n",
       "    }\n",
       "\n",
       "    .dataframe thead th {\n",
       "        text-align: right;\n",
       "    }\n",
       "</style>\n",
       "<table border=\"1\" class=\"dataframe\">\n",
       "  <thead>\n",
       "    <tr style=\"text-align: right;\">\n",
       "      <th></th>\n",
       "      <th>amax</th>\n",
       "      <th>amin</th>\n",
       "      <th>mean</th>\n",
       "      <th>std</th>\n",
       "      <th>q25</th>\n",
       "      <th>q75</th>\n",
       "      <th>q95</th>\n",
       "      <th>q99</th>\n",
       "    </tr>\n",
       "    <tr>\n",
       "      <th>MIS_Status_v2</th>\n",
       "      <th></th>\n",
       "      <th></th>\n",
       "      <th></th>\n",
       "      <th></th>\n",
       "      <th></th>\n",
       "      <th></th>\n",
       "      <th></th>\n",
       "      <th></th>\n",
       "    </tr>\n",
       "  </thead>\n",
       "  <tbody>\n",
       "    <tr>\n",
       "      <th>0</th>\n",
       "      <td>569</td>\n",
       "      <td>0</td>\n",
       "      <td>122.299617</td>\n",
       "      <td>79.681249</td>\n",
       "      <td>77.0</td>\n",
       "      <td>180.0</td>\n",
       "      <td>300.0</td>\n",
       "      <td>300.0</td>\n",
       "    </tr>\n",
       "    <tr>\n",
       "      <th>1</th>\n",
       "      <td>461</td>\n",
       "      <td>0</td>\n",
       "      <td>56.673306</td>\n",
       "      <td>45.895888</td>\n",
       "      <td>29.0</td>\n",
       "      <td>68.0</td>\n",
       "      <td>142.0</td>\n",
       "      <td>255.0</td>\n",
       "    </tr>\n",
       "  </tbody>\n",
       "</table>\n",
       "</div>"
      ],
      "text/plain": [
       "               amax  amin        mean        std   q25    q75    q95    q99\n",
       "MIS_Status_v2                                                              \n",
       "0               569     0  122.299617  79.681249  77.0  180.0  300.0  300.0\n",
       "1               461     0   56.673306  45.895888  29.0   68.0  142.0  255.0"
      ]
     },
     "metadata": {},
     "output_type": "display_data"
    }
   ],
   "source": [
    "display(term_summary)"
   ]
  },
  {
   "cell_type": "code",
   "execution_count": 56,
   "id": "cab7b60c",
   "metadata": {},
   "outputs": [
    {
     "name": "stdout",
     "output_type": "stream",
     "text": [
      "-0.31604643417483114 0.0\n"
     ]
    }
   ],
   "source": [
    "print(term_corr, term_p_val)"
   ]
  },
  {
   "cell_type": "code",
   "execution_count": 57,
   "id": "f5e490d9",
   "metadata": {},
   "outputs": [
    {
     "data": {
      "image/png": "[encoded data removed]",
      "text/plain": [
       "<Figure size 360x360 with 1 Axes>"
      ]
     },
     "metadata": {
      "needs_background": "light"
     },
     "output_type": "display_data"
    }
   ],
   "source": [
    "produceStripPlot(loan_eda_v1, target, 'Term')"
   ]
  },
  {
   "cell_type": "markdown",
   "id": "ea8696c5",
   "metadata": {},
   "source": [
    "### NoEmp"
   ]
  },
  {
   "cell_type": "code",
   "execution_count": 58,
   "id": "800b9cdb",
   "metadata": {},
   "outputs": [],
   "source": [
    "noe_summary, noe_corr, noe_p_val = cat2contComparison(loan_eda_v1, target, 'NoEmp')"
   ]
  },
  {
   "cell_type": "code",
   "execution_count": 59,
   "id": "c15be194",
   "metadata": {},
   "outputs": [
    {
     "data": {
      "text/html": [
       "<div>\n",
       "<style scoped>\n",
       "    .dataframe tbody tr th:only-of-type {\n",
       "        vertical-align: middle;\n",
       "    }\n",
       "\n",
       "    .dataframe tbody tr th {\n",
       "        vertical-align: top;\n",
       "    }\n",
       "\n",
       "    .dataframe thead th {\n",
       "        text-align: right;\n",
       "    }\n",
       "</style>\n",
       "<table border=\"1\" class=\"dataframe\">\n",
       "  <thead>\n",
       "    <tr style=\"text-align: right;\">\n",
       "      <th></th>\n",
       "      <th>amax</th>\n",
       "      <th>amin</th>\n",
       "      <th>mean</th>\n",
       "      <th>std</th>\n",
       "      <th>q25</th>\n",
       "      <th>q75</th>\n",
       "      <th>q95</th>\n",
       "      <th>q99</th>\n",
       "    </tr>\n",
       "    <tr>\n",
       "      <th>MIS_Status_v2</th>\n",
       "      <th></th>\n",
       "      <th></th>\n",
       "      <th></th>\n",
       "      <th></th>\n",
       "      <th></th>\n",
       "      <th></th>\n",
       "      <th></th>\n",
       "      <th></th>\n",
       "    </tr>\n",
       "  </thead>\n",
       "  <tbody>\n",
       "    <tr>\n",
       "      <th>0</th>\n",
       "      <td>9999</td>\n",
       "      <td>0</td>\n",
       "      <td>12.312510</td>\n",
       "      <td>76.200925</td>\n",
       "      <td>2.0</td>\n",
       "      <td>11.0</td>\n",
       "      <td>42.0</td>\n",
       "      <td>100.0</td>\n",
       "    </tr>\n",
       "    <tr>\n",
       "      <th>1</th>\n",
       "      <td>9999</td>\n",
       "      <td>0</td>\n",
       "      <td>7.164871</td>\n",
       "      <td>61.689509</td>\n",
       "      <td>2.0</td>\n",
       "      <td>7.0</td>\n",
       "      <td>23.0</td>\n",
       "      <td>54.0</td>\n",
       "    </tr>\n",
       "  </tbody>\n",
       "</table>\n",
       "</div>"
      ],
      "text/plain": [
       "               amax  amin       mean        std  q25   q75   q95    q99\n",
       "MIS_Status_v2                                                          \n",
       "0              9999     0  12.312510  76.200925  2.0  11.0  42.0  100.0\n",
       "1              9999     0   7.164871  61.689509  2.0   7.0  23.0   54.0"
      ]
     },
     "metadata": {},
     "output_type": "display_data"
    }
   ],
   "source": [
    "display(noe_summary)"
   ]
  },
  {
   "cell_type": "code",
   "execution_count": 60,
   "id": "aae60674",
   "metadata": {},
   "outputs": [
    {
     "name": "stdout",
     "output_type": "stream",
     "text": [
      "-0.026476951219330646 2.910325800223219e-138\n"
     ]
    }
   ],
   "source": [
    "print(noe_corr, noe_p_val)"
   ]
  },
  {
   "cell_type": "code",
   "execution_count": 61,
   "id": "2d7422a2",
   "metadata": {},
   "outputs": [
    {
     "data": {
      "image/png": "[encoded data removed]",
      "text/plain": [
       "<Figure size 360x360 with 1 Axes>"
      ]
     },
     "metadata": {
      "needs_background": "light"
     },
     "output_type": "display_data"
    }
   ],
   "source": [
    "produceStripPlot(loan_eda_v1, target, 'NoEmp')"
   ]
  },
  {
   "cell_type": "markdown",
   "id": "8a049398",
   "metadata": {},
   "source": [
    "### CreateJob"
   ]
  },
  {
   "cell_type": "code",
   "execution_count": 62,
   "id": "fd0af572",
   "metadata": {},
   "outputs": [],
   "source": [
    "cj_summary, cj_corr, cj_p_val = cat2contComparison(loan_eda_v1, target, 'CreateJob')"
   ]
  },
  {
   "cell_type": "code",
   "execution_count": 63,
   "id": "b782a464",
   "metadata": {},
   "outputs": [
    {
     "data": {
      "text/html": [
       "<div>\n",
       "<style scoped>\n",
       "    .dataframe tbody tr th:only-of-type {\n",
       "        vertical-align: middle;\n",
       "    }\n",
       "\n",
       "    .dataframe tbody tr th {\n",
       "        vertical-align: top;\n",
       "    }\n",
       "\n",
       "    .dataframe thead th {\n",
       "        text-align: right;\n",
       "    }\n",
       "</style>\n",
       "<table border=\"1\" class=\"dataframe\">\n",
       "  <thead>\n",
       "    <tr style=\"text-align: right;\">\n",
       "      <th></th>\n",
       "      <th>amax</th>\n",
       "      <th>amin</th>\n",
       "      <th>mean</th>\n",
       "      <th>std</th>\n",
       "      <th>q25</th>\n",
       "      <th>q75</th>\n",
       "      <th>q95</th>\n",
       "      <th>q99</th>\n",
       "    </tr>\n",
       "    <tr>\n",
       "      <th>MIS_Status_v2</th>\n",
       "      <th></th>\n",
       "      <th></th>\n",
       "      <th></th>\n",
       "      <th></th>\n",
       "      <th></th>\n",
       "      <th></th>\n",
       "      <th></th>\n",
       "      <th></th>\n",
       "    </tr>\n",
       "  </thead>\n",
       "  <tbody>\n",
       "    <tr>\n",
       "      <th>0</th>\n",
       "      <td>8800</td>\n",
       "      <td>0</td>\n",
       "      <td>7.164793</td>\n",
       "      <td>210.464322</td>\n",
       "      <td>0.0</td>\n",
       "      <td>1.0</td>\n",
       "      <td>10.0</td>\n",
       "      <td>30.0</td>\n",
       "    </tr>\n",
       "    <tr>\n",
       "      <th>1</th>\n",
       "      <td>8800</td>\n",
       "      <td>0</td>\n",
       "      <td>14.657121</td>\n",
       "      <td>336.584929</td>\n",
       "      <td>0.0</td>\n",
       "      <td>2.0</td>\n",
       "      <td>7.0</td>\n",
       "      <td>23.0</td>\n",
       "    </tr>\n",
       "  </tbody>\n",
       "</table>\n",
       "</div>"
      ],
      "text/plain": [
       "               amax  amin       mean         std  q25  q75   q95   q99\n",
       "MIS_Status_v2                                                         \n",
       "0              8800     0   7.164793  210.464322  0.0  1.0  10.0  30.0\n",
       "1              8800     0  14.657121  336.584929  0.0  2.0   7.0  23.0"
      ]
     },
     "metadata": {},
     "output_type": "display_data"
    }
   ],
   "source": [
    "display(cj_summary)"
   ]
  },
  {
   "cell_type": "code",
   "execution_count": 64,
   "id": "84d983aa",
   "metadata": {},
   "outputs": [
    {
     "name": "stdout",
     "output_type": "stream",
     "text": [
      "0.011991995976922404 8.814297696915753e-30\n"
     ]
    }
   ],
   "source": [
    "print(cj_corr, cj_p_val)"
   ]
  },
  {
   "cell_type": "code",
   "execution_count": 65,
   "id": "7e77fbcc",
   "metadata": {},
   "outputs": [
    {
     "data": {
      "image/png": "[encoded data removed]",
      "text/plain": [
       "<Figure size 360x360 with 1 Axes>"
      ]
     },
     "metadata": {
      "needs_background": "light"
     },
     "output_type": "display_data"
    }
   ],
   "source": [
    "produceStripPlot(loan_eda_v1, target, 'CreateJob')"
   ]
  },
  {
   "cell_type": "markdown",
   "id": "8d6dae78",
   "metadata": {},
   "source": [
    "### RetainedJob"
   ]
  },
  {
   "cell_type": "code",
   "execution_count": 66,
   "id": "51a869ef",
   "metadata": {},
   "outputs": [],
   "source": [
    "rj_summary, rj_corr, rj_p_val = cat2contComparison(loan_eda_v1, target, 'RetainedJob')"
   ]
  },
  {
   "cell_type": "code",
   "execution_count": 67,
   "id": "f9ad23d2",
   "metadata": {},
   "outputs": [
    {
     "data": {
      "text/html": [
       "<div>\n",
       "<style scoped>\n",
       "    .dataframe tbody tr th:only-of-type {\n",
       "        vertical-align: middle;\n",
       "    }\n",
       "\n",
       "    .dataframe tbody tr th {\n",
       "        vertical-align: top;\n",
       "    }\n",
       "\n",
       "    .dataframe thead th {\n",
       "        text-align: right;\n",
       "    }\n",
       "</style>\n",
       "<table border=\"1\" class=\"dataframe\">\n",
       "  <thead>\n",
       "    <tr style=\"text-align: right;\">\n",
       "      <th></th>\n",
       "      <th>amax</th>\n",
       "      <th>amin</th>\n",
       "      <th>mean</th>\n",
       "      <th>std</th>\n",
       "      <th>q25</th>\n",
       "      <th>q75</th>\n",
       "      <th>q95</th>\n",
       "      <th>q99</th>\n",
       "    </tr>\n",
       "    <tr>\n",
       "      <th>MIS_Status_v2</th>\n",
       "      <th></th>\n",
       "      <th></th>\n",
       "      <th></th>\n",
       "      <th></th>\n",
       "      <th></th>\n",
       "      <th></th>\n",
       "      <th></th>\n",
       "      <th></th>\n",
       "    </tr>\n",
       "  </thead>\n",
       "  <tbody>\n",
       "    <tr>\n",
       "      <th>0</th>\n",
       "      <td>9500</td>\n",
       "      <td>0</td>\n",
       "      <td>9.480229</td>\n",
       "      <td>210.953678</td>\n",
       "      <td>0.0</td>\n",
       "      <td>4.0</td>\n",
       "      <td>20.0</td>\n",
       "      <td>60.0</td>\n",
       "    </tr>\n",
       "    <tr>\n",
       "      <th>1</th>\n",
       "      <td>8800</td>\n",
       "      <td>0</td>\n",
       "      <td>17.280867</td>\n",
       "      <td>336.878006</td>\n",
       "      <td>0.0</td>\n",
       "      <td>5.0</td>\n",
       "      <td>16.0</td>\n",
       "      <td>41.0</td>\n",
       "    </tr>\n",
       "  </tbody>\n",
       "</table>\n",
       "</div>"
      ],
      "text/plain": [
       "               amax  amin       mean         std  q25  q75   q95   q99\n",
       "MIS_Status_v2                                                         \n",
       "0              9500     0   9.480229  210.953678  0.0  4.0  20.0  60.0\n",
       "1              8800     0  17.280867  336.878006  0.0  5.0  16.0  41.0"
      ]
     },
     "metadata": {},
     "output_type": "display_data"
    }
   ],
   "source": [
    "display(rj_summary)"
   ]
  },
  {
   "cell_type": "code",
   "execution_count": 69,
   "id": "aa2798e8",
   "metadata": {},
   "outputs": [
    {
     "name": "stdout",
     "output_type": "stream",
     "text": [
      "0.012462793776100198 4.953774542298493e-32\n"
     ]
    }
   ],
   "source": [
    "print(rj_corr, rj_p_val)"
   ]
  },
  {
   "cell_type": "code",
   "execution_count": 70,
   "id": "9e26f3d7",
   "metadata": {},
   "outputs": [
    {
     "data": {
      "image/png": "[encoded data removed]",
      "text/plain": [
       "<Figure size 360x360 with 1 Axes>"
      ]
     },
     "metadata": {
      "needs_background": "light"
     },
     "output_type": "display_data"
    }
   ],
   "source": [
    "produceStripPlot(loan_eda_v1, target, 'RetainedJob')"
   ]
  },
  {
   "cell_type": "markdown",
   "id": "caaa3a5c",
   "metadata": {},
   "source": [
    "### GrAppv"
   ]
  },
  {
   "cell_type": "code",
   "execution_count": 71,
   "id": "0471e006",
   "metadata": {},
   "outputs": [],
   "source": [
    "ga_summary, ga_corr, ga_p_val = cat2contComparison(loan_eda_v1, target, 'GrAppv')"
   ]
  },
  {
   "cell_type": "code",
   "execution_count": 72,
   "id": "f6bdea87",
   "metadata": {},
   "outputs": [
    {
     "data": {
      "text/html": [
       "<div>\n",
       "<style scoped>\n",
       "    .dataframe tbody tr th:only-of-type {\n",
       "        vertical-align: middle;\n",
       "    }\n",
       "\n",
       "    .dataframe tbody tr th {\n",
       "        vertical-align: top;\n",
       "    }\n",
       "\n",
       "    .dataframe thead th {\n",
       "        text-align: right;\n",
       "    }\n",
       "</style>\n",
       "<table border=\"1\" class=\"dataframe\">\n",
       "  <thead>\n",
       "    <tr style=\"text-align: right;\">\n",
       "      <th></th>\n",
       "      <th>amax</th>\n",
       "      <th>amin</th>\n",
       "      <th>mean</th>\n",
       "      <th>std</th>\n",
       "      <th>q25</th>\n",
       "      <th>q75</th>\n",
       "      <th>q95</th>\n",
       "      <th>q99</th>\n",
       "    </tr>\n",
       "    <tr>\n",
       "      <th>MIS_Status_v2</th>\n",
       "      <th></th>\n",
       "      <th></th>\n",
       "      <th></th>\n",
       "      <th></th>\n",
       "      <th></th>\n",
       "      <th></th>\n",
       "      <th></th>\n",
       "      <th></th>\n",
       "    </tr>\n",
       "  </thead>\n",
       "  <tbody>\n",
       "    <tr>\n",
       "      <th>0</th>\n",
       "      <td>5472000.0</td>\n",
       "      <td>1000.0</td>\n",
       "      <td>208948.176737</td>\n",
       "      <td>294275.673103</td>\n",
       "      <td>40000.0</td>\n",
       "      <td>250000.0</td>\n",
       "      <td>800000.0</td>\n",
       "      <td>1400000.0</td>\n",
       "    </tr>\n",
       "    <tr>\n",
       "      <th>1</th>\n",
       "      <td>3500000.0</td>\n",
       "      <td>1000.0</td>\n",
       "      <td>118672.805589</td>\n",
       "      <td>212187.839581</td>\n",
       "      <td>25000.0</td>\n",
       "      <td>100000.0</td>\n",
       "      <td>500000.0</td>\n",
       "      <td>1119784.0</td>\n",
       "    </tr>\n",
       "  </tbody>\n",
       "</table>\n",
       "</div>"
      ],
      "text/plain": [
       "                    amax    amin           mean            std      q25  \\\n",
       "MIS_Status_v2                                                             \n",
       "0              5472000.0  1000.0  208948.176737  294275.673103  40000.0   \n",
       "1              3500000.0  1000.0  118672.805589  212187.839581  25000.0   \n",
       "\n",
       "                    q75       q95        q99  \n",
       "MIS_Status_v2                                 \n",
       "0              250000.0  800000.0  1400000.0  \n",
       "1              100000.0  500000.0  1119784.0  "
      ]
     },
     "metadata": {},
     "output_type": "display_data"
    }
   ],
   "source": [
    "display(ga_summary)"
   ]
  },
  {
   "cell_type": "code",
   "execution_count": 73,
   "id": "3af878af",
   "metadata": {},
   "outputs": [
    {
     "name": "stdout",
     "output_type": "stream",
     "text": [
      "-0.12093194358972224 0.0\n"
     ]
    }
   ],
   "source": [
    "print(ga_corr, ga_p_val)"
   ]
  },
  {
   "cell_type": "code",
   "execution_count": 74,
   "id": "ab0bd15d",
   "metadata": {},
   "outputs": [
    {
     "data": {
      "image/png": "[encoded data removed]",
      "text/plain": [
       "<Figure size 360x360 with 1 Axes>"
      ]
     },
     "metadata": {
      "needs_background": "light"
     },
     "output_type": "display_data"
    }
   ],
   "source": [
    "produceStripPlot(loan_eda_v1, target, 'GrAppv')"
   ]
  },
  {
   "cell_type": "markdown",
   "id": "cfda472c",
   "metadata": {},
   "source": [
    "### SBA_Appv"
   ]
  },
  {
   "cell_type": "code",
   "execution_count": 75,
   "id": "b5cead17",
   "metadata": {},
   "outputs": [],
   "source": [
    "sa_summary, sa_corr, sa_p_val = cat2contComparison(loan_eda_v1, target, 'SBA_Appv')"
   ]
  },
  {
   "cell_type": "code",
   "execution_count": 76,
   "id": "e99b4429",
   "metadata": {},
   "outputs": [
    {
     "data": {
      "text/html": [
       "<div>\n",
       "<style scoped>\n",
       "    .dataframe tbody tr th:only-of-type {\n",
       "        vertical-align: middle;\n",
       "    }\n",
       "\n",
       "    .dataframe tbody tr th {\n",
       "        vertical-align: top;\n",
       "    }\n",
       "\n",
       "    .dataframe thead th {\n",
       "        text-align: right;\n",
       "    }\n",
       "</style>\n",
       "<table border=\"1\" class=\"dataframe\">\n",
       "  <thead>\n",
       "    <tr style=\"text-align: right;\">\n",
       "      <th></th>\n",
       "      <th>amax</th>\n",
       "      <th>amin</th>\n",
       "      <th>mean</th>\n",
       "      <th>std</th>\n",
       "      <th>q25</th>\n",
       "      <th>q75</th>\n",
       "      <th>q95</th>\n",
       "      <th>q99</th>\n",
       "    </tr>\n",
       "    <tr>\n",
       "      <th>MIS_Status_v2</th>\n",
       "      <th></th>\n",
       "      <th></th>\n",
       "      <th></th>\n",
       "      <th></th>\n",
       "      <th></th>\n",
       "      <th></th>\n",
       "      <th></th>\n",
       "      <th></th>\n",
       "    </tr>\n",
       "  </thead>\n",
       "  <tbody>\n",
       "    <tr>\n",
       "      <th>0</th>\n",
       "      <td>5472000.0</td>\n",
       "      <td>500.0</td>\n",
       "      <td>163819.550819</td>\n",
       "      <td>239024.725153</td>\n",
       "      <td>25000.0</td>\n",
       "      <td>195000.0</td>\n",
       "      <td>672669.6</td>\n",
       "      <td>1050000.0</td>\n",
       "    </tr>\n",
       "    <tr>\n",
       "      <th>1</th>\n",
       "      <td>3411950.0</td>\n",
       "      <td>500.0</td>\n",
       "      <td>83798.458255</td>\n",
       "      <td>156305.896818</td>\n",
       "      <td>12500.0</td>\n",
       "      <td>80000.0</td>\n",
       "      <td>375000.0</td>\n",
       "      <td>750000.0</td>\n",
       "    </tr>\n",
       "  </tbody>\n",
       "</table>\n",
       "</div>"
      ],
      "text/plain": [
       "                    amax   amin           mean            std      q25  \\\n",
       "MIS_Status_v2                                                            \n",
       "0              5472000.0  500.0  163819.550819  239024.725153  25000.0   \n",
       "1              3411950.0  500.0   83798.458255  156305.896818  12500.0   \n",
       "\n",
       "                    q75       q95        q99  \n",
       "MIS_Status_v2                                 \n",
       "0              195000.0  672669.6  1050000.0  \n",
       "1               80000.0  375000.0   750000.0  "
      ]
     },
     "metadata": {},
     "output_type": "display_data"
    }
   ],
   "source": [
    "display(sa_summary)"
   ]
  },
  {
   "cell_type": "code",
   "execution_count": 77,
   "id": "13a31cd4",
   "metadata": {},
   "outputs": [
    {
     "name": "stdout",
     "output_type": "stream",
     "text": [
      "-0.13294745855562548 0.0\n"
     ]
    }
   ],
   "source": [
    "print(sa_corr, sa_p_val)"
   ]
  },
  {
   "cell_type": "code",
   "execution_count": 78,
   "id": "705efb15",
   "metadata": {},
   "outputs": [
    {
     "data": {
      "image/png": "[encoded data removed]",
      "text/plain": [
       "<Figure size 360x360 with 1 Axes>"
      ]
     },
     "metadata": {
      "needs_background": "light"
     },
     "output_type": "display_data"
    }
   ],
   "source": [
    "produceStripPlot(loan_eda_v1, target, 'SBA_Appv')"
   ]
  },
  {
   "cell_type": "markdown",
   "id": "de346b03",
   "metadata": {},
   "source": [
    "### Unemployment Rate"
   ]
  },
  {
   "cell_type": "code",
   "execution_count": 79,
   "id": "db1a48c6",
   "metadata": {},
   "outputs": [],
   "source": [
    "ur_summary, ur_corr, ur_p_val = cat2contComparison(loan_eda_v1, target, 'unemployment_rate')"
   ]
  },
  {
   "cell_type": "code",
   "execution_count": 80,
   "id": "16f02554",
   "metadata": {},
   "outputs": [
    {
     "data": {
      "text/html": [
       "<div>\n",
       "<style scoped>\n",
       "    .dataframe tbody tr th:only-of-type {\n",
       "        vertical-align: middle;\n",
       "    }\n",
       "\n",
       "    .dataframe tbody tr th {\n",
       "        vertical-align: top;\n",
       "    }\n",
       "\n",
       "    .dataframe thead th {\n",
       "        text-align: right;\n",
       "    }\n",
       "</style>\n",
       "<table border=\"1\" class=\"dataframe\">\n",
       "  <thead>\n",
       "    <tr style=\"text-align: right;\">\n",
       "      <th></th>\n",
       "      <th>amax</th>\n",
       "      <th>amin</th>\n",
       "      <th>mean</th>\n",
       "      <th>std</th>\n",
       "      <th>q25</th>\n",
       "      <th>q75</th>\n",
       "      <th>q95</th>\n",
       "      <th>q99</th>\n",
       "    </tr>\n",
       "    <tr>\n",
       "      <th>MIS_Status_v2</th>\n",
       "      <th></th>\n",
       "      <th></th>\n",
       "      <th></th>\n",
       "      <th></th>\n",
       "      <th></th>\n",
       "      <th></th>\n",
       "      <th></th>\n",
       "      <th></th>\n",
       "    </tr>\n",
       "  </thead>\n",
       "  <tbody>\n",
       "    <tr>\n",
       "      <th>0</th>\n",
       "      <td>17.8</td>\n",
       "      <td>2.3</td>\n",
       "      <td>5.527656</td>\n",
       "      <td>1.591057</td>\n",
       "      <td>4.5</td>\n",
       "      <td>6.3</td>\n",
       "      <td>8.6</td>\n",
       "      <td>10.9</td>\n",
       "    </tr>\n",
       "    <tr>\n",
       "      <th>1</th>\n",
       "      <td>17.8</td>\n",
       "      <td>2.3</td>\n",
       "      <td>5.343825</td>\n",
       "      <td>1.501284</td>\n",
       "      <td>4.5</td>\n",
       "      <td>5.9</td>\n",
       "      <td>8.0</td>\n",
       "      <td>11.2</td>\n",
       "    </tr>\n",
       "  </tbody>\n",
       "</table>\n",
       "</div>"
      ],
      "text/plain": [
       "               amax  amin      mean       std  q25  q75  q95   q99\n",
       "MIS_Status_v2                                                     \n",
       "0              17.8   2.3  5.527656  1.591057  4.5  6.3  8.6  10.9\n",
       "1              17.8   2.3  5.343825  1.501284  4.5  5.9  8.0  11.2"
      ]
     },
     "metadata": {},
     "output_type": "display_data"
    }
   ],
   "source": [
    "display(ur_summary)"
   ]
  },
  {
   "cell_type": "code",
   "execution_count": 81,
   "id": "f8ac47e3",
   "metadata": {},
   "outputs": [
    {
     "name": "stdout",
     "output_type": "stream",
     "text": [
      "-0.04429685064487561 0.0\n"
     ]
    }
   ],
   "source": [
    "print(ur_corr, ur_p_val)"
   ]
  },
  {
   "cell_type": "code",
   "execution_count": 82,
   "id": "3190ae7a",
   "metadata": {},
   "outputs": [
    {
     "data": {
      "image/png": "[encoded data removed]",
      "text/plain": [
       "<Figure size 360x360 with 1 Axes>"
      ]
     },
     "metadata": {
      "needs_background": "light"
     },
     "output_type": "display_data"
    }
   ],
   "source": [
    "produceStripPlot(loan_eda_v1, target, 'unemployment_rate')"
   ]
  },
  {
   "cell_type": "markdown",
   "id": "a911606e",
   "metadata": {},
   "source": [
    "### GDP_Growth"
   ]
  },
  {
   "cell_type": "code",
   "execution_count": 84,
   "id": "bc3f8a14",
   "metadata": {},
   "outputs": [],
   "source": [
    "gg_summary, gg_corr, gg_p_val = cat2contComparison(loan_eda_v1, target, 'gdp_growth')"
   ]
  },
  {
   "cell_type": "code",
   "execution_count": 85,
   "id": "08ee0c14",
   "metadata": {},
   "outputs": [
    {
     "data": {
      "text/html": [
       "<div>\n",
       "<style scoped>\n",
       "    .dataframe tbody tr th:only-of-type {\n",
       "        vertical-align: middle;\n",
       "    }\n",
       "\n",
       "    .dataframe tbody tr th {\n",
       "        vertical-align: top;\n",
       "    }\n",
       "\n",
       "    .dataframe thead th {\n",
       "        text-align: right;\n",
       "    }\n",
       "</style>\n",
       "<table border=\"1\" class=\"dataframe\">\n",
       "  <thead>\n",
       "    <tr style=\"text-align: right;\">\n",
       "      <th></th>\n",
       "      <th>amax</th>\n",
       "      <th>amin</th>\n",
       "      <th>mean</th>\n",
       "      <th>std</th>\n",
       "      <th>q25</th>\n",
       "      <th>q75</th>\n",
       "      <th>q95</th>\n",
       "      <th>q99</th>\n",
       "    </tr>\n",
       "    <tr>\n",
       "      <th>MIS_Status_v2</th>\n",
       "      <th></th>\n",
       "      <th></th>\n",
       "      <th></th>\n",
       "      <th></th>\n",
       "      <th></th>\n",
       "      <th></th>\n",
       "      <th></th>\n",
       "      <th></th>\n",
       "    </tr>\n",
       "  </thead>\n",
       "  <tbody>\n",
       "    <tr>\n",
       "      <th>0</th>\n",
       "      <td>7.2366</td>\n",
       "      <td>-2.5368</td>\n",
       "      <td>2.885069</td>\n",
       "      <td>1.462928</td>\n",
       "      <td>1.8860</td>\n",
       "      <td>3.7989</td>\n",
       "      <td>4.4814</td>\n",
       "      <td>4.7532</td>\n",
       "    </tr>\n",
       "    <tr>\n",
       "      <th>1</th>\n",
       "      <td>7.2366</td>\n",
       "      <td>-2.5368</td>\n",
       "      <td>2.438241</td>\n",
       "      <td>1.553246</td>\n",
       "      <td>1.8762</td>\n",
       "      <td>3.5132</td>\n",
       "      <td>4.4814</td>\n",
       "      <td>4.7532</td>\n",
       "    </tr>\n",
       "  </tbody>\n",
       "</table>\n",
       "</div>"
      ],
      "text/plain": [
       "                 amax    amin      mean       std     q25     q75     q95  \\\n",
       "MIS_Status_v2                                                               \n",
       "0              7.2366 -2.5368  2.885069  1.462928  1.8860  3.7989  4.4814   \n",
       "1              7.2366 -2.5368  2.438241  1.553246  1.8762  3.5132  4.4814   \n",
       "\n",
       "                  q99  \n",
       "MIS_Status_v2          \n",
       "0              4.7532  \n",
       "1              4.7532  "
      ]
     },
     "metadata": {},
     "output_type": "display_data"
    }
   ],
   "source": [
    "display(gg_summary)"
   ]
  },
  {
   "cell_type": "code",
   "execution_count": 88,
   "id": "c960e421",
   "metadata": {},
   "outputs": [
    {
     "name": "stdout",
     "output_type": "stream",
     "text": [
      "-0.11406257152311292 0.0\n"
     ]
    }
   ],
   "source": [
    "print(gg_corr, gg_p_val)"
   ]
  },
  {
   "cell_type": "code",
   "execution_count": 86,
   "id": "603067a1",
   "metadata": {},
   "outputs": [
    {
     "data": {
      "image/png": "[encoded data removed]",
      "text/plain": [
       "<Figure size 360x360 with 1 Axes>"
      ]
     },
     "metadata": {
      "needs_background": "light"
     },
     "output_type": "display_data"
    }
   ],
   "source": [
    "produceStripPlot(loan_eda_v1, target, 'gdp_growth')"
   ]
  },
  {
   "cell_type": "markdown",
   "id": "45009322",
   "metadata": {},
   "source": [
    "### GDP Annual Change"
   ]
  },
  {
   "cell_type": "code",
   "execution_count": 87,
   "id": "3740de99",
   "metadata": {},
   "outputs": [],
   "source": [
    "gac_summary, gac_corr, gac_p_val = cat2contComparison(loan_eda_v1, target, 'gdp_annual_change')"
   ]
  },
  {
   "cell_type": "code",
   "execution_count": 89,
   "id": "b81f39fa",
   "metadata": {},
   "outputs": [
    {
     "data": {
      "text/html": [
       "<div>\n",
       "<style scoped>\n",
       "    .dataframe tbody tr th:only-of-type {\n",
       "        vertical-align: middle;\n",
       "    }\n",
       "\n",
       "    .dataframe tbody tr th {\n",
       "        vertical-align: top;\n",
       "    }\n",
       "\n",
       "    .dataframe thead th {\n",
       "        text-align: right;\n",
       "    }\n",
       "</style>\n",
       "<table border=\"1\" class=\"dataframe\">\n",
       "  <thead>\n",
       "    <tr style=\"text-align: right;\">\n",
       "      <th></th>\n",
       "      <th>amax</th>\n",
       "      <th>amin</th>\n",
       "      <th>mean</th>\n",
       "      <th>std</th>\n",
       "      <th>q25</th>\n",
       "      <th>q75</th>\n",
       "      <th>q95</th>\n",
       "      <th>q99</th>\n",
       "    </tr>\n",
       "    <tr>\n",
       "      <th>MIS_Status_v2</th>\n",
       "      <th></th>\n",
       "      <th></th>\n",
       "      <th></th>\n",
       "      <th></th>\n",
       "      <th></th>\n",
       "      <th></th>\n",
       "      <th></th>\n",
       "      <th></th>\n",
       "    </tr>\n",
       "  </thead>\n",
       "  <tbody>\n",
       "    <tr>\n",
       "      <th>0</th>\n",
       "      <td>6.39</td>\n",
       "      <td>-4.34</td>\n",
       "      <td>-0.050776</td>\n",
       "      <td>1.546194</td>\n",
       "      <td>-0.98</td>\n",
       "      <td>0.94</td>\n",
       "      <td>2.65</td>\n",
       "      <td>5.1</td>\n",
       "    </tr>\n",
       "    <tr>\n",
       "      <th>1</th>\n",
       "      <td>6.39</td>\n",
       "      <td>-4.34</td>\n",
       "      <td>-0.462585</td>\n",
       "      <td>1.371570</td>\n",
       "      <td>-0.98</td>\n",
       "      <td>0.27</td>\n",
       "      <td>1.12</td>\n",
       "      <td>5.1</td>\n",
       "    </tr>\n",
       "  </tbody>\n",
       "</table>\n",
       "</div>"
      ],
      "text/plain": [
       "               amax  amin      mean       std   q25   q75   q95  q99\n",
       "MIS_Status_v2                                                       \n",
       "0              6.39 -4.34 -0.050776  1.546194 -0.98  0.94  2.65  5.1\n",
       "1              6.39 -4.34 -0.462585  1.371570 -0.98  0.27  1.12  5.1"
      ]
     },
     "metadata": {},
     "output_type": "display_data"
    }
   ],
   "source": [
    "display(gac_summary)"
   ]
  },
  {
   "cell_type": "code",
   "execution_count": 90,
   "id": "1ce7573e",
   "metadata": {},
   "outputs": [
    {
     "name": "stdout",
     "output_type": "stream",
     "text": [
      "-0.10262375190584609 0.0\n"
     ]
    }
   ],
   "source": [
    "print(gac_corr, gac_p_val)"
   ]
  },
  {
   "cell_type": "code",
   "execution_count": 93,
   "id": "8afc5245",
   "metadata": {},
   "outputs": [
    {
     "data": {
      "image/png": "[encoded data removed]",
      "text/plain": [
       "<Figure size 360x360 with 1 Axes>"
      ]
     },
     "metadata": {
      "needs_background": "light"
     },
     "output_type": "display_data"
    }
   ],
   "source": [
    "produceStripPlot(loan_eda_v1, target, 'gdp_annual_change')"
   ]
  },
  {
   "cell_type": "markdown",
   "id": "0f2b5289",
   "metadata": {},
   "source": [
    "### Inflation Rate"
   ]
  },
  {
   "cell_type": "code",
   "execution_count": 91,
   "id": "2b72c201",
   "metadata": {},
   "outputs": [],
   "source": [
    "ir_summary, ir_corr, ir_p_val = cat2contComparison(loan_eda_v1, target, 'inflation_rate')"
   ]
  },
  {
   "cell_type": "code",
   "execution_count": 92,
   "id": "a0eb6289",
   "metadata": {},
   "outputs": [
    {
     "data": {
      "text/html": [
       "<div>\n",
       "<style scoped>\n",
       "    .dataframe tbody tr th:only-of-type {\n",
       "        vertical-align: middle;\n",
       "    }\n",
       "\n",
       "    .dataframe tbody tr th {\n",
       "        vertical-align: top;\n",
       "    }\n",
       "\n",
       "    .dataframe thead th {\n",
       "        text-align: right;\n",
       "    }\n",
       "</style>\n",
       "<table border=\"1\" class=\"dataframe\">\n",
       "  <thead>\n",
       "    <tr style=\"text-align: right;\">\n",
       "      <th></th>\n",
       "      <th>amax</th>\n",
       "      <th>amin</th>\n",
       "      <th>mean</th>\n",
       "      <th>std</th>\n",
       "      <th>q25</th>\n",
       "      <th>q75</th>\n",
       "      <th>q95</th>\n",
       "      <th>q99</th>\n",
       "    </tr>\n",
       "    <tr>\n",
       "      <th>MIS_Status_v2</th>\n",
       "      <th></th>\n",
       "      <th></th>\n",
       "      <th></th>\n",
       "      <th></th>\n",
       "      <th></th>\n",
       "      <th></th>\n",
       "      <th></th>\n",
       "      <th></th>\n",
       "    </tr>\n",
       "  </thead>\n",
       "  <tbody>\n",
       "    <tr>\n",
       "      <th>0</th>\n",
       "      <td>13.5492</td>\n",
       "      <td>-0.3555</td>\n",
       "      <td>2.763421</td>\n",
       "      <td>0.895293</td>\n",
       "      <td>2.2701</td>\n",
       "      <td>3.2259</td>\n",
       "      <td>4.2350</td>\n",
       "      <td>5.398</td>\n",
       "    </tr>\n",
       "    <tr>\n",
       "      <th>1</th>\n",
       "      <td>13.5492</td>\n",
       "      <td>-0.3555</td>\n",
       "      <td>2.965495</td>\n",
       "      <td>1.066277</td>\n",
       "      <td>2.6772</td>\n",
       "      <td>3.3927</td>\n",
       "      <td>3.8391</td>\n",
       "      <td>5.398</td>\n",
       "    </tr>\n",
       "  </tbody>\n",
       "</table>\n",
       "</div>"
      ],
      "text/plain": [
       "                  amax    amin      mean       std     q25     q75     q95  \\\n",
       "MIS_Status_v2                                                                \n",
       "0              13.5492 -0.3555  2.763421  0.895293  2.2701  3.2259  4.2350   \n",
       "1              13.5492 -0.3555  2.965495  1.066277  2.6772  3.3927  3.8391   \n",
       "\n",
       "                 q99  \n",
       "MIS_Status_v2         \n",
       "0              5.398  \n",
       "1              5.398  "
      ]
     },
     "metadata": {},
     "output_type": "display_data"
    }
   ],
   "source": [
    "display(ir_summary)"
   ]
  },
  {
   "cell_type": "code",
   "execution_count": 94,
   "id": "479de353",
   "metadata": {},
   "outputs": [
    {
     "name": "stdout",
     "output_type": "stream",
     "text": [
      "0.08252083042704018 0.0\n"
     ]
    }
   ],
   "source": [
    "print(ir_corr, ir_p_val)"
   ]
  },
  {
   "cell_type": "code",
   "execution_count": 95,
   "id": "4eae2074",
   "metadata": {},
   "outputs": [
    {
     "data": {
      "image/png": "[encoded data removed]",
      "text/plain": [
       "<Figure size 360x360 with 1 Axes>"
      ]
     },
     "metadata": {
      "needs_background": "light"
     },
     "output_type": "display_data"
    }
   ],
   "source": [
    "produceStripPlot(loan_eda_v1, target, 'inflation_rate')"
   ]
  },
  {
   "cell_type": "markdown",
   "id": "3824a794",
   "metadata": {},
   "source": [
    "### Inflation Rate Annual Change"
   ]
  },
  {
   "cell_type": "code",
   "execution_count": 96,
   "id": "9d6f4ad6",
   "metadata": {},
   "outputs": [
    {
     "ename": "KeyError",
     "evalue": "'Column not found: inf_rate_annual_change'",
     "output_type": "error",
     "traceback": [
      "\u001b[0;31m---------------------------------------------------------------------------\u001b[0m",
      "\u001b[0;31mKeyError\u001b[0m                                  Traceback (most recent call last)",
      "\u001b[0;32m/var/folders/lh/2pt476ks5r5_ln7lg89jxxbh0000gn/T/ipykernel_56705/16326457.py\u001b[0m in \u001b[0;36m<module>\u001b[0;34m\u001b[0m\n\u001b[0;32m----> 1\u001b[0;31m \u001b[0mirac_summary\u001b[0m\u001b[0;34m,\u001b[0m \u001b[0mirac_corr\u001b[0m\u001b[0;34m,\u001b[0m \u001b[0mirac_p_val\u001b[0m \u001b[0;34m=\u001b[0m \u001b[0mcat2contComparison\u001b[0m\u001b[0;34m(\u001b[0m\u001b[0mloan_eda_v1\u001b[0m\u001b[0;34m,\u001b[0m \u001b[0mtarget\u001b[0m\u001b[0;34m,\u001b[0m \u001b[0;34m'inf_rate_annual_change'\u001b[0m\u001b[0;34m)\u001b[0m\u001b[0;34m\u001b[0m\u001b[0;34m\u001b[0m\u001b[0m\n\u001b[0m",
      "\u001b[0;32m/var/folders/lh/2pt476ks5r5_ln7lg89jxxbh0000gn/T/ipykernel_56705/3372898088.py\u001b[0m in \u001b[0;36mcat2contComparison\u001b[0;34m(df, target, col)\u001b[0m\n\u001b[1;32m      1\u001b[0m \u001b[0;32mdef\u001b[0m \u001b[0mcat2contComparison\u001b[0m\u001b[0;34m(\u001b[0m\u001b[0mdf\u001b[0m\u001b[0;34m,\u001b[0m \u001b[0mtarget\u001b[0m\u001b[0;34m,\u001b[0m \u001b[0mcol\u001b[0m\u001b[0;34m)\u001b[0m\u001b[0;34m:\u001b[0m\u001b[0;34m\u001b[0m\u001b[0;34m\u001b[0m\u001b[0m\n\u001b[0;32m----> 2\u001b[0;31m     \u001b[0msummaryStats\u001b[0m \u001b[0;34m=\u001b[0m \u001b[0mgroupbySummary\u001b[0m\u001b[0;34m(\u001b[0m\u001b[0mdf\u001b[0m\u001b[0;34m,\u001b[0m \u001b[0mtarget\u001b[0m\u001b[0;34m,\u001b[0m \u001b[0mcol\u001b[0m\u001b[0;34m)\u001b[0m\u001b[0;34m\u001b[0m\u001b[0;34m\u001b[0m\u001b[0m\n\u001b[0m\u001b[1;32m      3\u001b[0m     \u001b[0mpb_corr\u001b[0m\u001b[0;34m,\u001b[0m \u001b[0mpb_p_val\u001b[0m \u001b[0;34m=\u001b[0m \u001b[0mcomputePointBiserialR\u001b[0m\u001b[0;34m(\u001b[0m\u001b[0mdf\u001b[0m\u001b[0;34m,\u001b[0m \u001b[0mtarget\u001b[0m\u001b[0;34m,\u001b[0m \u001b[0mcol\u001b[0m\u001b[0;34m)\u001b[0m\u001b[0;34m\u001b[0m\u001b[0;34m\u001b[0m\u001b[0m\n\u001b[1;32m      4\u001b[0m     \u001b[0;32mreturn\u001b[0m \u001b[0msummaryStats\u001b[0m\u001b[0;34m,\u001b[0m \u001b[0mpb_corr\u001b[0m\u001b[0;34m,\u001b[0m \u001b[0mpb_p_val\u001b[0m\u001b[0;34m\u001b[0m\u001b[0;34m\u001b[0m\u001b[0m\n",
      "\u001b[0;32m~/springboard/capstones/sba-hra-analysis/notebooks/library/functions.py\u001b[0m in \u001b[0;36mgroupbySummary\u001b[0;34m(df, target, col)\u001b[0m\n\u001b[1;32m     20\u001b[0m   \u001b[0mTakes\u001b[0m \u001b[0mdf\u001b[0m \u001b[0;32mand\u001b[0m \u001b[0mgroups\u001b[0m \u001b[0mby\u001b[0m \u001b[0mtarget\u001b[0m \u001b[0mcategorical\u001b[0m \u001b[0mvariable\u001b[0m \u001b[0;32mand\u001b[0m \u001b[0mdisplays\u001b[0m \u001b[0mthe\u001b[0m \u001b[0mfollowing\u001b[0m \u001b[0msummary\u001b[0m \u001b[0mstatistics\u001b[0m \u001b[0;32mfor\u001b[0m \u001b[0mthe\u001b[0m \u001b[0mcol\u001b[0m \u001b[0mcontinuous\u001b[0m \u001b[0mvariable\u001b[0m\u001b[0;34m:\u001b[0m \u001b[0mmax\u001b[0m\u001b[0;34m,\u001b[0m \u001b[0mmin\u001b[0m\u001b[0;34m,\u001b[0m \u001b[0mmedian\u001b[0m\u001b[0;34m,\u001b[0m \u001b[0mmean\u001b[0m\u001b[0;34m,\u001b[0m \u001b[0mstd\u001b[0m\u001b[0;34m,\u001b[0m \u001b[0;36m25\u001b[0m\u001b[0mth\u001b[0m \u001b[0mquantile\u001b[0m\u001b[0;34m,\u001b[0m \u001b[0;36m75\u001b[0m\u001b[0mth\u001b[0m \u001b[0mquantile\u001b[0m\u001b[0;34m,\u001b[0m \u001b[0;36m95\u001b[0m\u001b[0mth\u001b[0m \u001b[0mquantile\u001b[0m\u001b[0;34m,\u001b[0m \u001b[0;32mand\u001b[0m \u001b[0mthe\u001b[0m \u001b[0;36m99\u001b[0m\u001b[0mth\u001b[0m \u001b[0mquantile\u001b[0m\u001b[0;34m.\u001b[0m\u001b[0;34m\u001b[0m\u001b[0;34m\u001b[0m\u001b[0m\n\u001b[1;32m     21\u001b[0m   \"\"\"\n\u001b[0;32m---> 22\u001b[0;31m   \u001b[0;32mreturn\u001b[0m \u001b[0mdf\u001b[0m\u001b[0;34m.\u001b[0m\u001b[0mgroupby\u001b[0m\u001b[0;34m(\u001b[0m\u001b[0mtarget\u001b[0m\u001b[0;34m)\u001b[0m\u001b[0;34m[\u001b[0m\u001b[0mcol\u001b[0m\u001b[0;34m]\u001b[0m\u001b[0;34m.\u001b[0m\u001b[0magg\u001b[0m\u001b[0;34m(\u001b[0m\u001b[0;34m[\u001b[0m\u001b[0mnp\u001b[0m\u001b[0;34m.\u001b[0m\u001b[0mmax\u001b[0m\u001b[0;34m,\u001b[0m \u001b[0mnp\u001b[0m\u001b[0;34m.\u001b[0m\u001b[0mmin\u001b[0m\u001b[0;34m,\u001b[0m \u001b[0mnp\u001b[0m\u001b[0;34m.\u001b[0m\u001b[0mmean\u001b[0m\u001b[0;34m,\u001b[0m \u001b[0mnp\u001b[0m\u001b[0;34m.\u001b[0m\u001b[0mstd\u001b[0m\u001b[0;34m,\u001b[0m \u001b[0mq25\u001b[0m\u001b[0;34m,\u001b[0m \u001b[0mq75\u001b[0m\u001b[0;34m,\u001b[0m \u001b[0mq95\u001b[0m\u001b[0;34m,\u001b[0m \u001b[0mq99\u001b[0m\u001b[0;34m]\u001b[0m\u001b[0;34m)\u001b[0m\u001b[0;34m\u001b[0m\u001b[0;34m\u001b[0m\u001b[0m\n\u001b[0m\u001b[1;32m     23\u001b[0m \u001b[0;34m\u001b[0m\u001b[0m\n\u001b[1;32m     24\u001b[0m \u001b[0;32mdef\u001b[0m \u001b[0mgroupbyCounts\u001b[0m\u001b[0;34m(\u001b[0m\u001b[0mdf\u001b[0m\u001b[0;34m,\u001b[0m \u001b[0mtarget\u001b[0m\u001b[0;34m,\u001b[0m \u001b[0mcol\u001b[0m\u001b[0;34m)\u001b[0m\u001b[0;34m:\u001b[0m\u001b[0;34m\u001b[0m\u001b[0;34m\u001b[0m\u001b[0m\n",
      "\u001b[0;32m~/opt/anaconda3/lib/python3.9/site-packages/pandas/core/groupby/generic.py\u001b[0m in \u001b[0;36m__getitem__\u001b[0;34m(self, key)\u001b[0m\n\u001b[1;32m   1536\u001b[0m                 \u001b[0mstacklevel\u001b[0m\u001b[0;34m=\u001b[0m\u001b[0;36m2\u001b[0m\u001b[0;34m,\u001b[0m\u001b[0;34m\u001b[0m\u001b[0;34m\u001b[0m\u001b[0m\n\u001b[1;32m   1537\u001b[0m             )\n\u001b[0;32m-> 1538\u001b[0;31m         \u001b[0;32mreturn\u001b[0m \u001b[0msuper\u001b[0m\u001b[0;34m(\u001b[0m\u001b[0;34m)\u001b[0m\u001b[0;34m.\u001b[0m\u001b[0m__getitem__\u001b[0m\u001b[0;34m(\u001b[0m\u001b[0mkey\u001b[0m\u001b[0;34m)\u001b[0m\u001b[0;34m\u001b[0m\u001b[0;34m\u001b[0m\u001b[0m\n\u001b[0m\u001b[1;32m   1539\u001b[0m \u001b[0;34m\u001b[0m\u001b[0m\n\u001b[1;32m   1540\u001b[0m     \u001b[0;32mdef\u001b[0m \u001b[0m_gotitem\u001b[0m\u001b[0;34m(\u001b[0m\u001b[0mself\u001b[0m\u001b[0;34m,\u001b[0m \u001b[0mkey\u001b[0m\u001b[0;34m,\u001b[0m \u001b[0mndim\u001b[0m\u001b[0;34m:\u001b[0m \u001b[0mint\u001b[0m\u001b[0;34m,\u001b[0m \u001b[0msubset\u001b[0m\u001b[0;34m=\u001b[0m\u001b[0;32mNone\u001b[0m\u001b[0;34m)\u001b[0m\u001b[0;34m:\u001b[0m\u001b[0;34m\u001b[0m\u001b[0;34m\u001b[0m\u001b[0m\n",
      "\u001b[0;32m~/opt/anaconda3/lib/python3.9/site-packages/pandas/core/base.py\u001b[0m in \u001b[0;36m__getitem__\u001b[0;34m(self, key)\u001b[0m\n\u001b[1;32m    230\u001b[0m         \u001b[0;32melse\u001b[0m\u001b[0;34m:\u001b[0m\u001b[0;34m\u001b[0m\u001b[0;34m\u001b[0m\u001b[0m\n\u001b[1;32m    231\u001b[0m             \u001b[0;32mif\u001b[0m \u001b[0mkey\u001b[0m \u001b[0;32mnot\u001b[0m \u001b[0;32min\u001b[0m \u001b[0mself\u001b[0m\u001b[0;34m.\u001b[0m\u001b[0mobj\u001b[0m\u001b[0;34m:\u001b[0m\u001b[0;34m\u001b[0m\u001b[0;34m\u001b[0m\u001b[0m\n\u001b[0;32m--> 232\u001b[0;31m                 \u001b[0;32mraise\u001b[0m \u001b[0mKeyError\u001b[0m\u001b[0;34m(\u001b[0m\u001b[0;34mf\"Column not found: {key}\"\u001b[0m\u001b[0;34m)\u001b[0m\u001b[0;34m\u001b[0m\u001b[0;34m\u001b[0m\u001b[0m\n\u001b[0m\u001b[1;32m    233\u001b[0m             \u001b[0msubset\u001b[0m \u001b[0;34m=\u001b[0m \u001b[0mself\u001b[0m\u001b[0;34m.\u001b[0m\u001b[0mobj\u001b[0m\u001b[0;34m[\u001b[0m\u001b[0mkey\u001b[0m\u001b[0;34m]\u001b[0m\u001b[0;34m\u001b[0m\u001b[0;34m\u001b[0m\u001b[0m\n\u001b[1;32m    234\u001b[0m             \u001b[0mndim\u001b[0m \u001b[0;34m=\u001b[0m \u001b[0msubset\u001b[0m\u001b[0;34m.\u001b[0m\u001b[0mndim\u001b[0m\u001b[0;34m\u001b[0m\u001b[0;34m\u001b[0m\u001b[0m\n",
      "\u001b[0;31mKeyError\u001b[0m: 'Column not found: inf_rate_annual_change'"
     ]
    }
   ],
   "source": [
    "irac_summary, irac_corr, irac_p_val = cat2contComparison(loan_eda_v1, target, 'inf_rate_annual_change')"
   ]
  },
  {
   "cell_type": "code",
   "execution_count": null,
   "id": "e2456725",
   "metadata": {},
   "outputs": [],
   "source": []
  }
 ],
 "metadata": {
  "kernelspec": {
   "display_name": "Python 3 (ipykernel)",
   "language": "python",
   "name": "python3"
  },
  "language_info": {
   "codemirror_mode": {
    "name": "ipython",
    "version": 3
   },
   "file_extension": ".py",
   "mimetype": "text/x-python",
   "name": "python",
   "nbconvert_exporter": "python",
   "pygments_lexer": "ipython3",
   "version": "3.9.7"
  }
 },
 "nbformat": 4,
 "nbformat_minor": 5
}
