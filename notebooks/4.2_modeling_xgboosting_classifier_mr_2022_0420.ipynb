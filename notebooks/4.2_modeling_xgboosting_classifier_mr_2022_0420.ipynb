{
 "cells": [
  {
   "cell_type": "markdown",
   "id": "e949ffbf",
   "metadata": {},
   "source": [
    "# SBA National Loan Analysis\n",
    "\n",
    "# Modeling - Part 3 - XGBoosting Classifier"
   ]
  },
  {
   "cell_type": "markdown",
   "id": "b35d010c",
   "metadata": {},
   "source": [
    "## 1. Imports"
   ]
  },
  {
   "cell_type": "code",
   "execution_count": 1,
   "id": "4c741bc7",
   "metadata": {},
   "outputs": [],
   "source": [
    "import warnings\n",
    "warnings.filterwarnings('ignore')\n",
    "\n",
    "import numpy as np\n",
    "import pandas as pd\n",
    "import matplotlib.pyplot as plt\n",
    "import seaborn as sns\n",
    "\n",
    "from xgboost import XGBClassifier\n",
    "from sklearn.model_selection import GridSearchCV\n",
    "from sklearn.metrics import classification_report, accuracy_score, f1_score, matthews_corrcoef, confusion_matrix\n",
    "\n",
    "from library.preprocessing import processing_pipeline\n",
    "from library.modeling import (createModel, createClassificationMetrics,\n",
    "                             runGridSearchAnalysis, createConfusionMatrix, createFeatureImportanceChart)"
   ]
  },
  {
   "cell_type": "markdown",
   "id": "95b8d164",
   "metadata": {},
   "source": [
    "## 2. Previewing Data"
   ]
  },
  {
   "cell_type": "code",
   "execution_count": 2,
   "id": "9b4c8de6",
   "metadata": {},
   "outputs": [],
   "source": [
    "sba_loans = pd.read_csv('./../data/processed/sba_national_processed_final.csv')\n",
    "\n",
    "pd.set_option('display.max_columns', None)"
   ]
  },
  {
   "cell_type": "code",
   "execution_count": 3,
   "id": "81c30f57",
   "metadata": {},
   "outputs": [
    {
     "data": {
      "text/html": [
       "<div>\n",
       "<style scoped>\n",
       "    .dataframe tbody tr th:only-of-type {\n",
       "        vertical-align: middle;\n",
       "    }\n",
       "\n",
       "    .dataframe tbody tr th {\n",
       "        vertical-align: top;\n",
       "    }\n",
       "\n",
       "    .dataframe thead th {\n",
       "        text-align: right;\n",
       "    }\n",
       "</style>\n",
       "<table border=\"1\" class=\"dataframe\">\n",
       "  <thead>\n",
       "    <tr style=\"text-align: right;\">\n",
       "      <th></th>\n",
       "      <th>Term</th>\n",
       "      <th>NoEmp</th>\n",
       "      <th>CreateJob</th>\n",
       "      <th>RetainedJob</th>\n",
       "      <th>DisbursementGross</th>\n",
       "      <th>GrAppv</th>\n",
       "      <th>SBA_Appv</th>\n",
       "      <th>NAICS_sectors</th>\n",
       "      <th>unemployment_rate</th>\n",
       "      <th>gdp_growth</th>\n",
       "      <th>gdp_annual_change</th>\n",
       "      <th>inflation_rate</th>\n",
       "      <th>inf_rate_annual_chg</th>\n",
       "      <th>NewExist_existing_business</th>\n",
       "      <th>NewExist_new_business</th>\n",
       "      <th>UrbanRural_rural</th>\n",
       "      <th>UrbanRural_urban</th>\n",
       "      <th>isFranchise_not_franchise</th>\n",
       "      <th>RevLineCr_v2_N</th>\n",
       "      <th>RevLineCr_v2_Y</th>\n",
       "      <th>LowDoc_v2_N</th>\n",
       "      <th>LowDoc_v2_Y</th>\n",
       "      <th>MIS_Status_v2_default</th>\n",
       "      <th>state_top10</th>\n",
       "    </tr>\n",
       "  </thead>\n",
       "  <tbody>\n",
       "    <tr>\n",
       "      <th>0</th>\n",
       "      <td>84</td>\n",
       "      <td>4</td>\n",
       "      <td>0</td>\n",
       "      <td>0</td>\n",
       "      <td>60000.0</td>\n",
       "      <td>60000.0</td>\n",
       "      <td>48000.0</td>\n",
       "      <td>45</td>\n",
       "      <td>3.5</td>\n",
       "      <td>4.4472</td>\n",
       "      <td>0.67</td>\n",
       "      <td>2.3377</td>\n",
       "      <td>-0.59</td>\n",
       "      <td>0</td>\n",
       "      <td>1</td>\n",
       "      <td>0</td>\n",
       "      <td>0</td>\n",
       "      <td>1</td>\n",
       "      <td>1</td>\n",
       "      <td>0</td>\n",
       "      <td>0</td>\n",
       "      <td>1</td>\n",
       "      <td>0</td>\n",
       "      <td>0</td>\n",
       "    </tr>\n",
       "    <tr>\n",
       "      <th>1</th>\n",
       "      <td>60</td>\n",
       "      <td>2</td>\n",
       "      <td>0</td>\n",
       "      <td>0</td>\n",
       "      <td>40000.0</td>\n",
       "      <td>40000.0</td>\n",
       "      <td>32000.0</td>\n",
       "      <td>72</td>\n",
       "      <td>3.5</td>\n",
       "      <td>4.4472</td>\n",
       "      <td>0.67</td>\n",
       "      <td>2.3377</td>\n",
       "      <td>-0.59</td>\n",
       "      <td>0</td>\n",
       "      <td>1</td>\n",
       "      <td>0</td>\n",
       "      <td>0</td>\n",
       "      <td>1</td>\n",
       "      <td>1</td>\n",
       "      <td>0</td>\n",
       "      <td>0</td>\n",
       "      <td>1</td>\n",
       "      <td>0</td>\n",
       "      <td>0</td>\n",
       "    </tr>\n",
       "    <tr>\n",
       "      <th>2</th>\n",
       "      <td>180</td>\n",
       "      <td>7</td>\n",
       "      <td>0</td>\n",
       "      <td>0</td>\n",
       "      <td>287000.0</td>\n",
       "      <td>287000.0</td>\n",
       "      <td>215250.0</td>\n",
       "      <td>62</td>\n",
       "      <td>3.5</td>\n",
       "      <td>4.4472</td>\n",
       "      <td>0.67</td>\n",
       "      <td>2.3377</td>\n",
       "      <td>-0.59</td>\n",
       "      <td>1</td>\n",
       "      <td>0</td>\n",
       "      <td>0</td>\n",
       "      <td>0</td>\n",
       "      <td>1</td>\n",
       "      <td>1</td>\n",
       "      <td>0</td>\n",
       "      <td>1</td>\n",
       "      <td>0</td>\n",
       "      <td>0</td>\n",
       "      <td>0</td>\n",
       "    </tr>\n",
       "    <tr>\n",
       "      <th>3</th>\n",
       "      <td>60</td>\n",
       "      <td>2</td>\n",
       "      <td>0</td>\n",
       "      <td>0</td>\n",
       "      <td>35000.0</td>\n",
       "      <td>35000.0</td>\n",
       "      <td>28000.0</td>\n",
       "      <td>0</td>\n",
       "      <td>4.1</td>\n",
       "      <td>4.4472</td>\n",
       "      <td>0.67</td>\n",
       "      <td>2.3377</td>\n",
       "      <td>-0.59</td>\n",
       "      <td>1</td>\n",
       "      <td>0</td>\n",
       "      <td>0</td>\n",
       "      <td>0</td>\n",
       "      <td>1</td>\n",
       "      <td>1</td>\n",
       "      <td>0</td>\n",
       "      <td>0</td>\n",
       "      <td>1</td>\n",
       "      <td>0</td>\n",
       "      <td>0</td>\n",
       "    </tr>\n",
       "    <tr>\n",
       "      <th>4</th>\n",
       "      <td>240</td>\n",
       "      <td>14</td>\n",
       "      <td>7</td>\n",
       "      <td>7</td>\n",
       "      <td>229000.0</td>\n",
       "      <td>229000.0</td>\n",
       "      <td>229000.0</td>\n",
       "      <td>0</td>\n",
       "      <td>4.8</td>\n",
       "      <td>4.4472</td>\n",
       "      <td>0.67</td>\n",
       "      <td>2.3377</td>\n",
       "      <td>-0.59</td>\n",
       "      <td>1</td>\n",
       "      <td>0</td>\n",
       "      <td>0</td>\n",
       "      <td>0</td>\n",
       "      <td>1</td>\n",
       "      <td>1</td>\n",
       "      <td>0</td>\n",
       "      <td>1</td>\n",
       "      <td>0</td>\n",
       "      <td>0</td>\n",
       "      <td>1</td>\n",
       "    </tr>\n",
       "  </tbody>\n",
       "</table>\n",
       "</div>"
      ],
      "text/plain": [
       "   Term  NoEmp  CreateJob  RetainedJob  DisbursementGross    GrAppv  SBA_Appv  \\\n",
       "0    84      4          0            0            60000.0   60000.0   48000.0   \n",
       "1    60      2          0            0            40000.0   40000.0   32000.0   \n",
       "2   180      7          0            0           287000.0  287000.0  215250.0   \n",
       "3    60      2          0            0            35000.0   35000.0   28000.0   \n",
       "4   240     14          7            7           229000.0  229000.0  229000.0   \n",
       "\n",
       "   NAICS_sectors  unemployment_rate  gdp_growth  gdp_annual_change  \\\n",
       "0             45                3.5      4.4472               0.67   \n",
       "1             72                3.5      4.4472               0.67   \n",
       "2             62                3.5      4.4472               0.67   \n",
       "3              0                4.1      4.4472               0.67   \n",
       "4              0                4.8      4.4472               0.67   \n",
       "\n",
       "   inflation_rate  inf_rate_annual_chg  NewExist_existing_business  \\\n",
       "0          2.3377                -0.59                           0   \n",
       "1          2.3377                -0.59                           0   \n",
       "2          2.3377                -0.59                           1   \n",
       "3          2.3377                -0.59                           1   \n",
       "4          2.3377                -0.59                           1   \n",
       "\n",
       "   NewExist_new_business  UrbanRural_rural  UrbanRural_urban  \\\n",
       "0                      1                 0                 0   \n",
       "1                      1                 0                 0   \n",
       "2                      0                 0                 0   \n",
       "3                      0                 0                 0   \n",
       "4                      0                 0                 0   \n",
       "\n",
       "   isFranchise_not_franchise  RevLineCr_v2_N  RevLineCr_v2_Y  LowDoc_v2_N  \\\n",
       "0                          1               1               0            0   \n",
       "1                          1               1               0            0   \n",
       "2                          1               1               0            1   \n",
       "3                          1               1               0            0   \n",
       "4                          1               1               0            1   \n",
       "\n",
       "   LowDoc_v2_Y  MIS_Status_v2_default  state_top10  \n",
       "0            1                      0            0  \n",
       "1            1                      0            0  \n",
       "2            0                      0            0  \n",
       "3            1                      0            0  \n",
       "4            0                      0            1  "
      ]
     },
     "execution_count": 3,
     "metadata": {},
     "output_type": "execute_result"
    }
   ],
   "source": [
    "sba_loans.head()"
   ]
  },
  {
   "cell_type": "code",
   "execution_count": 4,
   "id": "1c705a1f",
   "metadata": {},
   "outputs": [],
   "source": [
    "target = 'MIS_Status_v2_default'\n",
    "features = sba_loans.drop(columns='MIS_Status_v2_default', axis=1).columns"
   ]
  },
  {
   "cell_type": "markdown",
   "id": "172c949a",
   "metadata": {},
   "source": [
    "## 3. XGBoosting Classifier with Standard Scalar"
   ]
  },
  {
   "cell_type": "code",
   "execution_count": 5,
   "id": "e02d7685",
   "metadata": {},
   "outputs": [],
   "source": [
    "X_train_ss, X_test_ss, y_train_ss, y_test_ss = processing_pipeline(sba_loans, target)"
   ]
  },
  {
   "cell_type": "markdown",
   "id": "01e73368",
   "metadata": {},
   "source": [
    "### A. Simple  XGBoosting Model"
   ]
  },
  {
   "cell_type": "code",
   "execution_count": null,
   "id": "46f2e89d",
   "metadata": {},
   "outputs": [],
   "source": [
    "xgb_ss_mod1 = XGBClassifier(random_state=42, verbosity=0)\n",
    "y_pred = createModel(xgb_ss_mod1, X_train_ss, y_train_ss, X_test_ss)"
   ]
  },
  {
   "cell_type": "markdown",
   "id": "d9a0fc39",
   "metadata": {},
   "source": [
    "### B. Evaluation Metrics"
   ]
  },
  {
   "cell_type": "code",
   "execution_count": null,
   "id": "6286013f",
   "metadata": {},
   "outputs": [],
   "source": [
    "acc_score, cr, f1, mcc = createClassificationMetrics(y_pred, y_test_ss)"
   ]
  },
  {
   "cell_type": "markdown",
   "id": "fe3f836b",
   "metadata": {},
   "source": [
    "**Accuracy Score**"
   ]
  },
  {
   "cell_type": "code",
   "execution_count": null,
   "id": "abd6f9d0",
   "metadata": {},
   "outputs": [],
   "source": [
    "print(acc_score)"
   ]
  },
  {
   "cell_type": "markdown",
   "id": "25624737",
   "metadata": {},
   "source": [
    "**Classification Report**"
   ]
  },
  {
   "cell_type": "code",
   "execution_count": null,
   "id": "5a426a4c",
   "metadata": {},
   "outputs": [],
   "source": [
    "print(cr)"
   ]
  },
  {
   "cell_type": "markdown",
   "id": "6c188dd9",
   "metadata": {},
   "source": [
    "**F1 Score**"
   ]
  },
  {
   "cell_type": "code",
   "execution_count": null,
   "id": "53b95e44",
   "metadata": {},
   "outputs": [],
   "source": [
    "print(f1)"
   ]
  },
  {
   "cell_type": "markdown",
   "id": "0b16c274",
   "metadata": {},
   "source": [
    "**Matthew's Correlation Coefficient**"
   ]
  },
  {
   "cell_type": "code",
   "execution_count": null,
   "id": "4f72ee52",
   "metadata": {},
   "outputs": [],
   "source": [
    "print(mcc)"
   ]
  },
  {
   "cell_type": "markdown",
   "id": "2ca987de",
   "metadata": {},
   "source": [
    "### C. Finding Best  XGBoosting Model with Standard Scaler"
   ]
  },
  {
   "cell_type": "code",
   "execution_count": null,
   "id": "c1b4490b",
   "metadata": {},
   "outputs": [],
   "source": [
    "param_grid = {\n",
    "    'learning_rate': [0.1, 1],\n",
    "    'n_estimators': [50, 100,\n",
    "    'max_depth': [3, 10]\n",
    "}"
   ]
  },
  {
   "cell_type": "code",
   "execution_count": null,
   "id": "15c9c097",
   "metadata": {},
   "outputs": [],
   "source": [
    "xgbc = XGBClassifier(random_state=42, verbosity=0)\n",
    "xgbc_ss_best_params, y_pred = runGridSearchAnalysis(xgbc, param_grid, X_train_ss, y_train_ss, X_test_ss)"
   ]
  },
  {
   "cell_type": "code",
   "execution_count": null,
   "id": "56bbb5d3",
   "metadata": {},
   "outputs": [],
   "source": [
    "print(xgbc_ss_best_params)"
   ]
  },
  {
   "cell_type": "code",
   "execution_count": null,
   "id": "f87f6bd5",
   "metadata": {},
   "outputs": [],
   "source": [
    "acc_score, cr, f1, mcc = createClassificationMetrics(y_pred, y_test_ss)\n",
    "print('Accuracy Score: {}'.format(acc_score))\n",
    "print('Matthew\\'s Correlation Coefficient: {}'.format(mcc))\n",
    "print('F1 Score: {}'.format(f1))\n",
    "print('Classification Report: \\n{}'.format(cr))"
   ]
  },
  {
   "cell_type": "markdown",
   "id": "6c5b4ca7",
   "metadata": {},
   "source": [
    "### D. Confusion Matrix"
   ]
  },
  {
   "cell_type": "code",
   "execution_count": null,
   "id": "4c4f69e3",
   "metadata": {},
   "outputs": [],
   "source": [
    "xgbc_ss_fp = createConfusionMatrix(y_test_ss, y_pred)"
   ]
  },
  {
   "cell_type": "markdown",
   "id": "78b339b3",
   "metadata": {},
   "source": [
    "### E. Feature Importance with Best Params"
   ]
  },
  {
   "cell_type": "code",
   "execution_count": null,
   "id": "8a448b7c",
   "metadata": {},
   "outputs": [],
   "source": [
    "createFeatureImportanceChart(XGBClassifier, xgbc_ss_best_params, features, X_train_ss, y_train_ss)"
   ]
  },
  {
   "cell_type": "markdown",
   "id": "d44d064c",
   "metadata": {},
   "source": [
    "## 4. XGBoosting Classification with Robust Scaler"
   ]
  },
  {
   "cell_type": "code",
   "execution_count": null,
   "id": "8108fb3e",
   "metadata": {},
   "outputs": [],
   "source": [
    "X_train_rs, X_test_rs, y_train_rs, y_test_rs = processing_pipeline(sba_loans, target, scaler='Robust')"
   ]
  },
  {
   "cell_type": "markdown",
   "id": "a34b5929",
   "metadata": {},
   "source": [
    "### A. Simple Gradient Boosting Model"
   ]
  },
  {
   "cell_type": "code",
   "execution_count": null,
   "id": "7e311bdd",
   "metadata": {},
   "outputs": [],
   "source": [
    "xgbc_rs_mod1 = XGBClassifier(random_state=42, verbosity=0)\n",
    "y_pred = createModel(xgbc_rs_mod1, X_train_rs, y_train_rs, X_test_rs)"
   ]
  },
  {
   "cell_type": "markdown",
   "id": "e0868cd8",
   "metadata": {},
   "source": [
    "### B. Evaluation Metrics"
   ]
  },
  {
   "cell_type": "code",
   "execution_count": null,
   "id": "4e26e068",
   "metadata": {},
   "outputs": [],
   "source": [
    "acc_score, cr, f1, mcc = createClassificationMetrics(y_pred, y_test_rs)"
   ]
  },
  {
   "cell_type": "markdown",
   "id": "49dbb1b8",
   "metadata": {},
   "source": [
    "**Accuracy Score**"
   ]
  },
  {
   "cell_type": "code",
   "execution_count": null,
   "id": "c325c7aa",
   "metadata": {},
   "outputs": [],
   "source": [
    "print(acc_score)"
   ]
  },
  {
   "cell_type": "markdown",
   "id": "ca99cdc0",
   "metadata": {},
   "source": [
    "**Classification Report**"
   ]
  },
  {
   "cell_type": "code",
   "execution_count": null,
   "id": "62dcc181",
   "metadata": {},
   "outputs": [],
   "source": [
    "print(cr)"
   ]
  },
  {
   "cell_type": "markdown",
   "id": "e2ea451e",
   "metadata": {},
   "source": [
    "**F1 Score**"
   ]
  },
  {
   "cell_type": "code",
   "execution_count": null,
   "id": "e6b19a28",
   "metadata": {},
   "outputs": [],
   "source": [
    "print(f1)"
   ]
  },
  {
   "cell_type": "markdown",
   "id": "0c7627c1",
   "metadata": {},
   "source": [
    "**Matthew's Correlation Coefficient**"
   ]
  },
  {
   "cell_type": "code",
   "execution_count": null,
   "id": "ac5fbb4d",
   "metadata": {},
   "outputs": [],
   "source": [
    "print(mcc)"
   ]
  },
  {
   "cell_type": "markdown",
   "id": "3d19e8be",
   "metadata": {},
   "source": [
    "### C. Finding Best Gradient Boosting Model with Robust Scaler"
   ]
  },
  {
   "cell_type": "code",
   "execution_count": null,
   "id": "8918adeb",
   "metadata": {},
   "outputs": [],
   "source": [
    "param_grid = {\n",
    "    'learning_rate': [0.1, 1],\n",
    "    'n_estimators': [50, 100,\n",
    "    'max_depth': [3, 10]\n",
    "}"
   ]
  },
  {
   "cell_type": "code",
   "execution_count": null,
   "id": "dee81623",
   "metadata": {},
   "outputs": [],
   "source": [
    "xgbc = XGBClassifier(random_state=42)\n",
    "xgbc_rs_best_params, y_pred = runGridSearchAnalysis(xgbc, param_grid, X_train_rs, y_train_rs, X_test_rs)"
   ]
  },
  {
   "cell_type": "code",
   "execution_count": null,
   "id": "1a25fda6",
   "metadata": {},
   "outputs": [],
   "source": [
    "print(xgbc_rs_best_params)"
   ]
  },
  {
   "cell_type": "code",
   "execution_count": null,
   "id": "dbd38aa4",
   "metadata": {},
   "outputs": [],
   "source": [
    "acc_score, cr, f1, mcc = createClassificationMetrics(y_pred, y_test_rs)\n",
    "print('Accuracy Score: {}'.format(acc_score))\n",
    "print('Matthew\\'s Correlation Coefficient: {}'.format(mcc))\n",
    "print('F1 Score: {}'.format(f1))\n",
    "print('Classification Report: \\n{}'.format(cr))"
   ]
  },
  {
   "cell_type": "markdown",
   "id": "25a1c8a6",
   "metadata": {},
   "source": [
    "### D. Confusion Matrix"
   ]
  },
  {
   "cell_type": "code",
   "execution_count": null,
   "id": "7972742a",
   "metadata": {},
   "outputs": [],
   "source": [
    "xgbc_rs_fp = createConfusionMatrix(y_test_rs, y_pred)"
   ]
  },
  {
   "cell_type": "markdown",
   "id": "2f59b544",
   "metadata": {},
   "source": [
    "### E. Feature Importance with Best Params"
   ]
  },
  {
   "cell_type": "code",
   "execution_count": null,
   "id": "5712fd2e",
   "metadata": {},
   "outputs": [],
   "source": [
    "createFeatureImportanceChart(XGBClassifier, xgbc_rs_best_params, features, X_train_rs, y_train_rs)"
   ]
  },
  {
   "cell_type": "markdown",
   "id": "6a1ff917",
   "metadata": {},
   "source": [
    "## 5. Best Gradient Boosting Model"
   ]
  },
  {
   "cell_type": "code",
   "execution_count": null,
   "id": "3704b789",
   "metadata": {},
   "outputs": [],
   "source": [
    "if xgbc_ss_fp > xgbc_rs_fp:\n",
    "    print('Best Logistic Regression Model Params: {}'.format(xgbc_rs_best_params))\n",
    "    print('Best Scaler: Robust Scaler')\n",
    "else:\n",
    "    print('Best Logistic Regression Model Params: {}'.format(xgbc_ss_best_params))\n",
    "    print('Best Scaler: Standard Scaler')"
   ]
  }
 ],
 "metadata": {
  "kernelspec": {
   "display_name": "Python 3 (ipykernel)",
   "language": "python",
   "name": "python3"
  },
  "language_info": {
   "codemirror_mode": {
    "name": "ipython",
    "version": 3
   },
   "file_extension": ".py",
   "mimetype": "text/x-python",
   "name": "python",
   "nbconvert_exporter": "python",
   "pygments_lexer": "ipython3",
   "version": "3.9.10"
  }
 },
 "nbformat": 4,
 "nbformat_minor": 5
}
