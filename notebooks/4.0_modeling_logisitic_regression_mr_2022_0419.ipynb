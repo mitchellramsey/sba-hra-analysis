{
 "cells": [
  {
   "cell_type": "markdown",
   "id": "f5a4dac1",
   "metadata": {},
   "source": [
    "# SBA National Loan Analysis\n",
    "\n",
    "# Modeling - Part 1 - Logistic Regression"
   ]
  },
  {
   "cell_type": "markdown",
   "id": "28a46b4f",
   "metadata": {},
   "source": [
    "## 1. Imports"
   ]
  },
  {
   "cell_type": "code",
   "execution_count": 1,
   "id": "0c8bf4c8",
   "metadata": {},
   "outputs": [],
   "source": [
    "import numpy as np\n",
    "import pandas as pd\n",
    "import matplotlib.pyplot as plt\n",
    "import seaborn as sns\n",
    "\n",
    "from sklearn.linear_model import LogisticRegression\n",
    "from sklearn.model_selection import GridSearchCV\n",
    "from sklearn.metrics import classification_report, accuracy_score, f1_score, matthews_corrcoef, confusion_matrix\n",
    "\n",
    "from library.preprocessing import processing_pipeline\n",
    "from library.modeling import createModel, createClassificationMetrics, runGridSearchAnalysis, createConfusionMatrix"
   ]
  },
  {
   "cell_type": "code",
   "execution_count": 2,
   "id": "88f483d2",
   "metadata": {},
   "outputs": [],
   "source": [
    "import warnings\n",
    "warnings.filterwarnings('ignore')\n",
    "\n",
    "pd.set_option('display.max_columns', None)"
   ]
  },
  {
   "cell_type": "markdown",
   "id": "540a6b7a",
   "metadata": {},
   "source": [
    "## 2. Previewing Data"
   ]
  },
  {
   "cell_type": "code",
   "execution_count": 3,
   "id": "a5eebf71",
   "metadata": {},
   "outputs": [],
   "source": [
    "sba_loans = pd.read_csv('./../data/processed/sba_national_processed_final.csv')"
   ]
  },
  {
   "cell_type": "code",
   "execution_count": 4,
   "id": "2e8f3ae6",
   "metadata": {},
   "outputs": [
    {
     "data": {
      "text/html": [
       "<div>\n",
       "<style scoped>\n",
       "    .dataframe tbody tr th:only-of-type {\n",
       "        vertical-align: middle;\n",
       "    }\n",
       "\n",
       "    .dataframe tbody tr th {\n",
       "        vertical-align: top;\n",
       "    }\n",
       "\n",
       "    .dataframe thead th {\n",
       "        text-align: right;\n",
       "    }\n",
       "</style>\n",
       "<table border=\"1\" class=\"dataframe\">\n",
       "  <thead>\n",
       "    <tr style=\"text-align: right;\">\n",
       "      <th></th>\n",
       "      <th>Term</th>\n",
       "      <th>NoEmp</th>\n",
       "      <th>CreateJob</th>\n",
       "      <th>RetainedJob</th>\n",
       "      <th>DisbursementGross</th>\n",
       "      <th>GrAppv</th>\n",
       "      <th>SBA_Appv</th>\n",
       "      <th>NAICS_sectors</th>\n",
       "      <th>unemployment_rate</th>\n",
       "      <th>gdp_growth</th>\n",
       "      <th>gdp_annual_change</th>\n",
       "      <th>inflation_rate</th>\n",
       "      <th>inf_rate_annual_chg</th>\n",
       "      <th>NewExist_existing_business</th>\n",
       "      <th>NewExist_new_business</th>\n",
       "      <th>UrbanRural_rural</th>\n",
       "      <th>UrbanRural_urban</th>\n",
       "      <th>isFranchise_not_franchise</th>\n",
       "      <th>RevLineCr_v2_N</th>\n",
       "      <th>RevLineCr_v2_Y</th>\n",
       "      <th>LowDoc_v2_N</th>\n",
       "      <th>LowDoc_v2_Y</th>\n",
       "      <th>MIS_Status_v2_default</th>\n",
       "      <th>state_top10</th>\n",
       "    </tr>\n",
       "  </thead>\n",
       "  <tbody>\n",
       "    <tr>\n",
       "      <th>0</th>\n",
       "      <td>84</td>\n",
       "      <td>4</td>\n",
       "      <td>0</td>\n",
       "      <td>0</td>\n",
       "      <td>60000.0</td>\n",
       "      <td>60000.0</td>\n",
       "      <td>48000.0</td>\n",
       "      <td>45</td>\n",
       "      <td>3.5</td>\n",
       "      <td>4.4472</td>\n",
       "      <td>0.67</td>\n",
       "      <td>2.3377</td>\n",
       "      <td>-0.59</td>\n",
       "      <td>0</td>\n",
       "      <td>1</td>\n",
       "      <td>0</td>\n",
       "      <td>0</td>\n",
       "      <td>1</td>\n",
       "      <td>1</td>\n",
       "      <td>0</td>\n",
       "      <td>0</td>\n",
       "      <td>1</td>\n",
       "      <td>0</td>\n",
       "      <td>0</td>\n",
       "    </tr>\n",
       "    <tr>\n",
       "      <th>1</th>\n",
       "      <td>60</td>\n",
       "      <td>2</td>\n",
       "      <td>0</td>\n",
       "      <td>0</td>\n",
       "      <td>40000.0</td>\n",
       "      <td>40000.0</td>\n",
       "      <td>32000.0</td>\n",
       "      <td>72</td>\n",
       "      <td>3.5</td>\n",
       "      <td>4.4472</td>\n",
       "      <td>0.67</td>\n",
       "      <td>2.3377</td>\n",
       "      <td>-0.59</td>\n",
       "      <td>0</td>\n",
       "      <td>1</td>\n",
       "      <td>0</td>\n",
       "      <td>0</td>\n",
       "      <td>1</td>\n",
       "      <td>1</td>\n",
       "      <td>0</td>\n",
       "      <td>0</td>\n",
       "      <td>1</td>\n",
       "      <td>0</td>\n",
       "      <td>0</td>\n",
       "    </tr>\n",
       "    <tr>\n",
       "      <th>2</th>\n",
       "      <td>180</td>\n",
       "      <td>7</td>\n",
       "      <td>0</td>\n",
       "      <td>0</td>\n",
       "      <td>287000.0</td>\n",
       "      <td>287000.0</td>\n",
       "      <td>215250.0</td>\n",
       "      <td>62</td>\n",
       "      <td>3.5</td>\n",
       "      <td>4.4472</td>\n",
       "      <td>0.67</td>\n",
       "      <td>2.3377</td>\n",
       "      <td>-0.59</td>\n",
       "      <td>1</td>\n",
       "      <td>0</td>\n",
       "      <td>0</td>\n",
       "      <td>0</td>\n",
       "      <td>1</td>\n",
       "      <td>1</td>\n",
       "      <td>0</td>\n",
       "      <td>1</td>\n",
       "      <td>0</td>\n",
       "      <td>0</td>\n",
       "      <td>0</td>\n",
       "    </tr>\n",
       "    <tr>\n",
       "      <th>3</th>\n",
       "      <td>60</td>\n",
       "      <td>2</td>\n",
       "      <td>0</td>\n",
       "      <td>0</td>\n",
       "      <td>35000.0</td>\n",
       "      <td>35000.0</td>\n",
       "      <td>28000.0</td>\n",
       "      <td>0</td>\n",
       "      <td>4.1</td>\n",
       "      <td>4.4472</td>\n",
       "      <td>0.67</td>\n",
       "      <td>2.3377</td>\n",
       "      <td>-0.59</td>\n",
       "      <td>1</td>\n",
       "      <td>0</td>\n",
       "      <td>0</td>\n",
       "      <td>0</td>\n",
       "      <td>1</td>\n",
       "      <td>1</td>\n",
       "      <td>0</td>\n",
       "      <td>0</td>\n",
       "      <td>1</td>\n",
       "      <td>0</td>\n",
       "      <td>0</td>\n",
       "    </tr>\n",
       "    <tr>\n",
       "      <th>4</th>\n",
       "      <td>240</td>\n",
       "      <td>14</td>\n",
       "      <td>7</td>\n",
       "      <td>7</td>\n",
       "      <td>229000.0</td>\n",
       "      <td>229000.0</td>\n",
       "      <td>229000.0</td>\n",
       "      <td>0</td>\n",
       "      <td>4.8</td>\n",
       "      <td>4.4472</td>\n",
       "      <td>0.67</td>\n",
       "      <td>2.3377</td>\n",
       "      <td>-0.59</td>\n",
       "      <td>1</td>\n",
       "      <td>0</td>\n",
       "      <td>0</td>\n",
       "      <td>0</td>\n",
       "      <td>1</td>\n",
       "      <td>1</td>\n",
       "      <td>0</td>\n",
       "      <td>1</td>\n",
       "      <td>0</td>\n",
       "      <td>0</td>\n",
       "      <td>1</td>\n",
       "    </tr>\n",
       "  </tbody>\n",
       "</table>\n",
       "</div>"
      ],
      "text/plain": [
       "   Term  NoEmp  CreateJob  RetainedJob  DisbursementGross    GrAppv  SBA_Appv  \\\n",
       "0    84      4          0            0            60000.0   60000.0   48000.0   \n",
       "1    60      2          0            0            40000.0   40000.0   32000.0   \n",
       "2   180      7          0            0           287000.0  287000.0  215250.0   \n",
       "3    60      2          0            0            35000.0   35000.0   28000.0   \n",
       "4   240     14          7            7           229000.0  229000.0  229000.0   \n",
       "\n",
       "   NAICS_sectors  unemployment_rate  gdp_growth  gdp_annual_change  \\\n",
       "0             45                3.5      4.4472               0.67   \n",
       "1             72                3.5      4.4472               0.67   \n",
       "2             62                3.5      4.4472               0.67   \n",
       "3              0                4.1      4.4472               0.67   \n",
       "4              0                4.8      4.4472               0.67   \n",
       "\n",
       "   inflation_rate  inf_rate_annual_chg  NewExist_existing_business  \\\n",
       "0          2.3377                -0.59                           0   \n",
       "1          2.3377                -0.59                           0   \n",
       "2          2.3377                -0.59                           1   \n",
       "3          2.3377                -0.59                           1   \n",
       "4          2.3377                -0.59                           1   \n",
       "\n",
       "   NewExist_new_business  UrbanRural_rural  UrbanRural_urban  \\\n",
       "0                      1                 0                 0   \n",
       "1                      1                 0                 0   \n",
       "2                      0                 0                 0   \n",
       "3                      0                 0                 0   \n",
       "4                      0                 0                 0   \n",
       "\n",
       "   isFranchise_not_franchise  RevLineCr_v2_N  RevLineCr_v2_Y  LowDoc_v2_N  \\\n",
       "0                          1               1               0            0   \n",
       "1                          1               1               0            0   \n",
       "2                          1               1               0            1   \n",
       "3                          1               1               0            0   \n",
       "4                          1               1               0            1   \n",
       "\n",
       "   LowDoc_v2_Y  MIS_Status_v2_default  state_top10  \n",
       "0            1                      0            0  \n",
       "1            1                      0            0  \n",
       "2            0                      0            0  \n",
       "3            1                      0            0  \n",
       "4            0                      0            1  "
      ]
     },
     "execution_count": 4,
     "metadata": {},
     "output_type": "execute_result"
    }
   ],
   "source": [
    "sba_loans.head()"
   ]
  },
  {
   "cell_type": "markdown",
   "id": "12d56135",
   "metadata": {},
   "source": [
    "## 3. Logistic Regression with Standard Scaler"
   ]
  },
  {
   "cell_type": "code",
   "execution_count": 5,
   "id": "77eafeca",
   "metadata": {},
   "outputs": [],
   "source": [
    "target = 'MIS_Status_v2_default'\n",
    "X_train_ss, X_test_ss, y_train_ss, y_test_ss = processing_pipeline(sba_loans, target)"
   ]
  },
  {
   "cell_type": "markdown",
   "id": "ee7270d5",
   "metadata": {},
   "source": [
    "### A. Simple Logistic Regression Model"
   ]
  },
  {
   "cell_type": "code",
   "execution_count": 6,
   "id": "7c9876c7",
   "metadata": {},
   "outputs": [],
   "source": [
    "logreg_mod1 = LogisticRegression(random_state = 42)\n",
    "y_pred = createModel(logreg_mod1, X_train_ss, y_train_ss, X_test_ss)"
   ]
  },
  {
   "cell_type": "markdown",
   "id": "034dc675",
   "metadata": {},
   "source": [
    "### B. Evaluation Metrics"
   ]
  },
  {
   "cell_type": "code",
   "execution_count": 7,
   "id": "12699390",
   "metadata": {},
   "outputs": [],
   "source": [
    "acc_score, cr, f1, mcc = createClassificationMetrics(y_pred, y_test_ss)"
   ]
  },
  {
   "cell_type": "markdown",
   "id": "17db8ff0",
   "metadata": {},
   "source": [
    "**Accuracy Score** "
   ]
  },
  {
   "cell_type": "code",
   "execution_count": 8,
   "id": "25725faa",
   "metadata": {},
   "outputs": [
    {
     "name": "stdout",
     "output_type": "stream",
     "text": [
      "0.8488473297775001\n"
     ]
    }
   ],
   "source": [
    "print(acc_score)"
   ]
  },
  {
   "cell_type": "markdown",
   "id": "b894f96f",
   "metadata": {},
   "source": [
    "**Classification Report**"
   ]
  },
  {
   "cell_type": "code",
   "execution_count": 9,
   "id": "11b7e106",
   "metadata": {},
   "outputs": [
    {
     "name": "stdout",
     "output_type": "stream",
     "text": [
      "              precision    recall  f1-score   support\n",
      "\n",
      "        paid       0.97      0.86      0.91    251315\n",
      "     default       0.25      0.68      0.37     17539\n",
      "\n",
      "    accuracy                           0.85    268854\n",
      "   macro avg       0.61      0.77      0.64    268854\n",
      "weighted avg       0.93      0.85      0.88    268854\n",
      "\n"
     ]
    }
   ],
   "source": [
    "print(cr)"
   ]
  },
  {
   "cell_type": "markdown",
   "id": "789c2666",
   "metadata": {},
   "source": [
    "**F1 Score**"
   ]
  },
  {
   "cell_type": "code",
   "execution_count": 10,
   "id": "e20a5442",
   "metadata": {},
   "outputs": [
    {
     "name": "stdout",
     "output_type": "stream",
     "text": [
      "0.3703634842428186\n"
     ]
    }
   ],
   "source": [
    "print(f1)"
   ]
  },
  {
   "cell_type": "markdown",
   "id": "f478957e",
   "metadata": {},
   "source": [
    "**Matthew's Correlation Coefficient**"
   ]
  },
  {
   "cell_type": "code",
   "execution_count": 11,
   "id": "6bb71ead",
   "metadata": {},
   "outputs": [
    {
     "name": "stdout",
     "output_type": "stream",
     "text": [
      "0.3523735486503212\n"
     ]
    }
   ],
   "source": [
    "print(mcc)"
   ]
  },
  {
   "cell_type": "markdown",
   "id": "171a5f6f",
   "metadata": {},
   "source": [
    "### C. Finding Best Logistic Regression Model with Standard Scaler"
   ]
  },
  {
   "cell_type": "code",
   "execution_count": 12,
   "id": "7bfc508c",
   "metadata": {},
   "outputs": [
    {
     "name": "stdout",
     "output_type": "stream",
     "text": [
      "{'C': 0.001, 'penalty': 'none'}\n"
     ]
    }
   ],
   "source": [
    "param_grid = {\n",
    "    'C': [0.001, 0.1, 1, 10, 100],\n",
    "    'penalty': ['none', 'l1', 'l2', 'elasticnet']\n",
    "}\n",
    "\n",
    "lgr = LogisticRegression(random_state=42)\n",
    "lgr_ss_best_params, y_pred = runGridSearchAnalysis(lgr, param_grid, X_train_ss, y_train_ss, X_test_ss)\n",
    "\n",
    "print(lgr_ss_best_params)"
   ]
  },
  {
   "cell_type": "code",
   "execution_count": 13,
   "id": "5b193d77",
   "metadata": {},
   "outputs": [
    {
     "name": "stdout",
     "output_type": "stream",
     "text": [
      "Accuracy Score: 0.8488398907957478\n",
      "Matthew's Correlation Coefficient: 0.3523552057765143\n",
      "F1 Score: 0.3703910268327446\n",
      "Classification Report: \n",
      "              precision    recall  f1-score   support\n",
      "\n",
      "        paid       0.97      0.86      0.91    251309\n",
      "     default       0.25      0.68      0.37     17545\n",
      "\n",
      "    accuracy                           0.85    268854\n",
      "   macro avg       0.61      0.77      0.64    268854\n",
      "weighted avg       0.93      0.85      0.88    268854\n",
      "\n"
     ]
    }
   ],
   "source": [
    "acc_score, cr, f1, mcc = createClassificationMetrics(y_pred, y_test_ss)\n",
    "print('Accuracy Score: {}'.format(acc_score))\n",
    "print('Matthew\\'s Correlation Coefficient: {}'.format(mcc))\n",
    "print('F1 Score: {}'.format(f1))\n",
    "print('Classification Report: \\n{}'.format(cr))"
   ]
  },
  {
   "cell_type": "markdown",
   "id": "e146f8d8",
   "metadata": {},
   "source": [
    "### D. Confusion Matrix"
   ]
  },
  {
   "cell_type": "code",
   "execution_count": 14,
   "id": "2d2d8c40",
   "metadata": {},
   "outputs": [
    {
     "data": {
      "image/png": "[encoded data removed]",
      "text/plain": [
       "<Figure size 432x288 with 2 Axes>"
      ]
     },
     "metadata": {
      "needs_background": "light"
     },
     "output_type": "display_data"
    }
   ],
   "source": [
    "logreg_ss_fp = createConfusionMatrix(y_test_ss, y_pred)"
   ]
  },
  {
   "cell_type": "markdown",
   "id": "814273a3",
   "metadata": {},
   "source": [
    "## 4. Logistic Regression with Robust Scaler"
   ]
  },
  {
   "cell_type": "code",
   "execution_count": 15,
   "id": "029b2e99",
   "metadata": {},
   "outputs": [],
   "source": [
    "target = 'MIS_Status_v2_default'\n",
    "X_train_rs, X_test_rs, y_train_rs, y_test_rs = processing_pipeline(sba_loans, target, scaler='Robust')"
   ]
  },
  {
   "cell_type": "markdown",
   "id": "e8443458",
   "metadata": {},
   "source": [
    "### A. Simple Logistic Regression Model"
   ]
  },
  {
   "cell_type": "code",
   "execution_count": 16,
   "id": "c0b1eb71",
   "metadata": {},
   "outputs": [],
   "source": [
    "logreg_rs_mod1 = LogisticRegression(random_state = 42)\n",
    "y_pred = createModel(logreg_rs_mod1, X_train_rs, y_train_rs, X_test_rs)"
   ]
  },
  {
   "cell_type": "markdown",
   "id": "64a3e19a",
   "metadata": {},
   "source": [
    "### B. Evaluation Metrics"
   ]
  },
  {
   "cell_type": "code",
   "execution_count": 17,
   "id": "7f0f4456",
   "metadata": {},
   "outputs": [],
   "source": [
    "acc_score, cr, f1, mcc = createClassificationMetrics(y_pred, y_test_rs)"
   ]
  },
  {
   "cell_type": "markdown",
   "id": "7ea1ec52",
   "metadata": {},
   "source": [
    "**Accuracy Score**"
   ]
  },
  {
   "cell_type": "code",
   "execution_count": 18,
   "id": "ef658c42",
   "metadata": {},
   "outputs": [
    {
     "name": "stdout",
     "output_type": "stream",
     "text": [
      "0.8457155184598332\n"
     ]
    }
   ],
   "source": [
    "print(acc_score)"
   ]
  },
  {
   "cell_type": "markdown",
   "id": "d2e3e308",
   "metadata": {},
   "source": [
    "**Classification Report**"
   ]
  },
  {
   "cell_type": "code",
   "execution_count": 19,
   "id": "f886942c",
   "metadata": {},
   "outputs": [
    {
     "name": "stdout",
     "output_type": "stream",
     "text": [
      "              precision    recall  f1-score   support\n",
      "\n",
      "        paid       0.98      0.86      0.91    252905\n",
      "     default       0.23      0.67      0.34     15949\n",
      "\n",
      "    accuracy                           0.85    268854\n",
      "   macro avg       0.60      0.76      0.63    268854\n",
      "weighted avg       0.93      0.85      0.88    268854\n",
      "\n"
     ]
    }
   ],
   "source": [
    "print(cr)"
   ]
  },
  {
   "cell_type": "markdown",
   "id": "f4740bf9",
   "metadata": {},
   "source": [
    "**F1 Score**"
   ]
  },
  {
   "cell_type": "code",
   "execution_count": 20,
   "id": "1e3c3ac6",
   "metadata": {},
   "outputs": [
    {
     "name": "stdout",
     "output_type": "stream",
     "text": [
      "0.34108527131782945\n"
     ]
    }
   ],
   "source": [
    "print(f1)"
   ]
  },
  {
   "cell_type": "markdown",
   "id": "9e5221b0",
   "metadata": {},
   "source": [
    "**Matthew's Correlation Coefficient**"
   ]
  },
  {
   "cell_type": "code",
   "execution_count": 21,
   "id": "8b9ceb38",
   "metadata": {},
   "outputs": [
    {
     "name": "stdout",
     "output_type": "stream",
     "text": [
      "0.3294715977010211\n"
     ]
    }
   ],
   "source": [
    "print(mcc)"
   ]
  },
  {
   "cell_type": "markdown",
   "id": "a115f233",
   "metadata": {},
   "source": [
    "### C. Finding Best Logistic Regression Model with Robust Scaler"
   ]
  },
  {
   "cell_type": "code",
   "execution_count": 22,
   "id": "38ce202f",
   "metadata": {},
   "outputs": [
    {
     "name": "stdout",
     "output_type": "stream",
     "text": [
      "{'C': 0.001, 'penalty': 'none'}\n"
     ]
    }
   ],
   "source": [
    "param_grid = {\n",
    "    'C': [0.001, 0.1, 1, 10, 100],\n",
    "    'penalty': ['none', 'l1', 'l2', 'elasticnet']\n",
    "}\n",
    "\n",
    "lgr = LogisticRegression(random_state=42)\n",
    "lgr_rs_best_params, y_pred = runGridSearchAnalysis(lgr, param_grid, X_train_rs, y_train_rs, X_test_rs)\n",
    "\n",
    "print(lgr_rs_best_params)"
   ]
  },
  {
   "cell_type": "code",
   "execution_count": 23,
   "id": "0d3faa34",
   "metadata": {},
   "outputs": [
    {
     "name": "stdout",
     "output_type": "stream",
     "text": [
      "Accuracy Score: 0.847761238441682\n",
      "Matthew's Correlation Coefficient: 0.3436053573123628\n",
      "F1 Score: 0.35771898440197086\n",
      "Classification Report: \n",
      "              precision    recall  f1-score   support\n",
      "\n",
      "        paid       0.98      0.86      0.91    252131\n",
      "     default       0.24      0.68      0.36     16723\n",
      "\n",
      "    accuracy                           0.85    268854\n",
      "   macro avg       0.61      0.77      0.64    268854\n",
      "weighted avg       0.93      0.85      0.88    268854\n",
      "\n"
     ]
    }
   ],
   "source": [
    "acc_score, cr, f1, mcc = createClassificationMetrics(y_pred, y_test_rs)\n",
    "print('Accuracy Score: {}'.format(acc_score))\n",
    "print('Matthew\\'s Correlation Coefficient: {}'.format(mcc))\n",
    "print('F1 Score: {}'.format(f1))\n",
    "print('Classification Report: \\n{}'.format(cr))"
   ]
  },
  {
   "cell_type": "markdown",
   "id": "c494f0c7",
   "metadata": {},
   "source": [
    "### D. Confusion Matrix"
   ]
  },
  {
   "cell_type": "code",
   "execution_count": 24,
   "id": "6f4163ee",
   "metadata": {},
   "outputs": [
    {
     "data": {
      "image/png": "[encoded data removed]",
      "text/plain": [
       "<Figure size 432x288 with 2 Axes>"
      ]
     },
     "metadata": {
      "needs_background": "light"
     },
     "output_type": "display_data"
    }
   ],
   "source": [
    "logreg_rs_fp = createConfusionMatrix(y_test_rs, y_pred)"
   ]
  },
  {
   "cell_type": "markdown",
   "id": "5bb4ab15",
   "metadata": {},
   "source": [
    "## 5. Best Logistic Regression Model"
   ]
  },
  {
   "cell_type": "code",
   "execution_count": 25,
   "id": "0bf33198",
   "metadata": {},
   "outputs": [
    {
     "name": "stdout",
     "output_type": "stream",
     "text": [
      "Best Logistic Regression Model Params: {'C': 0.001, 'penalty': 'none'}\n",
      "Best Scaler: Standard Scaler\n"
     ]
    }
   ],
   "source": [
    "if logreg_ss_fp > logreg_rs_fp:\n",
    "    print('Best Logistic Regression Model Params: {}'.format(lgr_rs_best_params))\n",
    "    print('Best Scaler: Robust Scaler')\n",
    "else:\n",
    "    print('Best Logistic Regression Model Params: {}'.format(lgr_ss_best_params))\n",
    "    print('Best Scaler: Standard Scaler') "
   ]
  }
 ],
 "metadata": {
  "kernelspec": {
   "display_name": "Python 3 (ipykernel)",
   "language": "python",
   "name": "python3"
  },
  "language_info": {
   "codemirror_mode": {
    "name": "ipython",
    "version": 3
   },
   "file_extension": ".py",
   "mimetype": "text/x-python",
   "name": "python",
   "nbconvert_exporter": "python",
   "pygments_lexer": "ipython3",
   "version": "3.9.10"
  }
 },
 "nbformat": 4,
 "nbformat_minor": 5
}
